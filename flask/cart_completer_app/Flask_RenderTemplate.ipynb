{
 "cells": [
  {
   "cell_type": "code",
   "execution_count": 1,
   "metadata": {
    "collapsed": true
   },
   "outputs": [],
   "source": [
    "def mypredict(l):\n",
    "    return [{'name':'owns','prob':0.75},{'name':'debt','prob':0.5}]"
   ]
  },
  {
   "cell_type": "code",
   "execution_count": null,
   "metadata": {
    "collapsed": false
   },
   "outputs": [
    {
     "name": "stderr",
     "output_type": "stream",
     "text": [
      " * Running on http://127.0.0.1:5000/ (Press CTRL+C to quit)\n",
      "127.0.0.1 - - [24/Oct/2019 12:46:04] \"GET / HTTP/1.1\" 200 -\n",
      "127.0.0.1 - - [24/Oct/2019 12:46:14] \"GET /predict?age=30&income=80000&city=New+York HTTP/1.1\" 200 -\n"
     ]
    },
    {
     "name": "stdout",
     "output_type": "stream",
     "text": [
      "ImmutableMultiDict([('city', u'New York'), ('age', u'30'), ('income', u'80000')])\n",
      "----------------------------------------\n",
      "Exception happened during processing of request from ('127.0.0.1', 62291)\n",
      "----------------------------------------\n"
     ]
    },
    {
     "name": "stderr",
     "output_type": "stream",
     "text": [
      "Traceback (most recent call last):\n",
      "  File \"/Users/vinnysengutturan/anaconda/lib/python2.7/SocketServer.py\", line 290, in _handle_request_noblock\n",
      "    self.process_request(request, client_address)\n",
      "  File \"/Users/vinnysengutturan/anaconda/lib/python2.7/SocketServer.py\", line 318, in process_request\n",
      "    self.finish_request(request, client_address)\n",
      "  File \"/Users/vinnysengutturan/anaconda/lib/python2.7/SocketServer.py\", line 331, in finish_request\n",
      "    self.RequestHandlerClass(request, client_address, self)\n",
      "  File \"/Users/vinnysengutturan/anaconda/lib/python2.7/SocketServer.py\", line 652, in __init__\n",
      "    self.handle()\n",
      "  File \"/Users/vinnysengutturan/anaconda/lib/python2.7/site-packages/werkzeug/serving.py\", line 228, in handle\n",
      "    rv = BaseHTTPRequestHandler.handle(self)\n",
      "  File \"/Users/vinnysengutturan/anaconda/lib/python2.7/BaseHTTPServer.py\", line 340, in handle\n",
      "    self.handle_one_request()\n",
      "  File \"/Users/vinnysengutturan/anaconda/lib/python2.7/site-packages/werkzeug/serving.py\", line 259, in handle_one_request\n",
      "    self.raw_requestline = self.rfile.readline()\n",
      "  File \"/Users/vinnysengutturan/anaconda/lib/python2.7/socket.py\", line 451, in readline\n",
      "    data = self._sock.recv(self._rbufsize)\n",
      "KeyboardInterrupt\n"
     ]
    }
   ],
   "source": [
    "# minimal example from:\n",
    "# http://flask.pocoo.org/docs/quickstart/\n",
    "\n",
    "import flask\n",
    "\n",
    "app = flask.Flask(__name__)  # create instance of Flask class\n",
    "\n",
    "@app.route('/')  # the site to route to, index/main in this case\n",
    "def hello_world():\n",
    "    return flask.render_template('predictor.html',features=['age','income','city'])\n",
    "\n",
    "@app.route(\"/predict\")\n",
    "def predict():\n",
    "    print flask.request.args\n",
    "    p = mypredict(flask.request.args)\n",
    "    return flask.render_template('predictor.html',features=['age','income','city'],prediction=p)\n",
    "\n",
    "if __name__ == '__main__':\n",
    "    app.run()"
   ]
  },
  {
   "cell_type": "code",
   "execution_count": null,
   "metadata": {
    "collapsed": true
   },
   "outputs": [],
   "source": []
  }
 ],
 "metadata": {
  "kernelspec": {
   "display_name": "Python 2",
   "language": "python",
   "name": "python2"
  },
  "language_info": {
   "codemirror_mode": {
    "name": "ipython",
    "version": 2
   },
   "file_extension": ".py",
   "mimetype": "text/x-python",
   "name": "python",
   "nbconvert_exporter": "python",
   "pygments_lexer": "ipython2",
   "version": "2.7.13"
  }
 },
 "nbformat": 4,
 "nbformat_minor": 2
}
