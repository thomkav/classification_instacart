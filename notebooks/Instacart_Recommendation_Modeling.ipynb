{
 "cells": [
  {
   "cell_type": "markdown",
   "metadata": {},
   "source": [
    "# Initialize Notebook"
   ]
  },
  {
   "cell_type": "markdown",
   "metadata": {
    "heading_collapsed": true
   },
   "source": [
    "## Imports"
   ]
  },
  {
   "cell_type": "code",
   "execution_count": 208,
   "metadata": {
    "ExecuteTime": {
     "end_time": "2019-10-17T21:16:57.514112Z",
     "start_time": "2019-10-17T21:16:57.438940Z"
    },
    "hidden": true
   },
   "outputs": [],
   "source": [
    "import math\n",
    "import random\n",
    "import pandas as pd\n",
    "import numpy as np\n",
    "import itertools as IT\n",
    "\n",
    "import os\n",
    "import sys\n",
    "\n",
    "from sklearn.linear_model import LogisticRegression\n",
    "from sklearn.metrics import f1_score, roc_auc_score\n",
    "\n",
    "import matplotlib.pyplot as plt\n",
    "import seaborn as sns\n",
    "sns.set()"
   ]
  },
  {
   "cell_type": "code",
   "execution_count": 79,
   "metadata": {
    "ExecuteTime": {
     "end_time": "2019-10-17T20:15:03.033308Z",
     "start_time": "2019-10-17T20:15:03.028228Z"
    },
    "hidden": true
   },
   "outputs": [],
   "source": [
    "# # Class to suppress printing in specific functions.\n",
    "# # Usage: add supress=True as an argument to a function.\n",
    "# # Wrap print statements inside the following:\n",
    "# #      with SuppressPrints():\n",
    "# #           {statements to control}\n",
    "# class SuppressPrints:\n",
    "#     # https://stackoverflow.com/questions/8391411/suppress-calls-to-print-python\n",
    "#     def __init__(self, suppress=True):\n",
    "#         self.suppress = suppress\n",
    "\n",
    "#     def __enter__(self):\n",
    "#         if self.suppress:\n",
    "#             self._original_stdout = sys.stdout\n",
    "#             sys.stdout = open(os.devnull, 'w')\n",
    "\n",
    "#     def __exit__(self, exc_type, exc_val, exc_tb):\n",
    "#         if self.suppress:\n",
    "#             sys.stdout.close()\n",
    "#             sys.stdout = self._original_stdout"
   ]
  },
  {
   "cell_type": "markdown",
   "metadata": {
    "heading_collapsed": true
   },
   "source": [
    "## Load Subset of Data into Pandas Dataframe"
   ]
  },
  {
   "cell_type": "code",
   "execution_count": 5,
   "metadata": {
    "ExecuteTime": {
     "end_time": "2019-10-17T19:35:39.971948Z",
     "start_time": "2019-10-17T19:35:39.907545Z"
    },
    "hidden": true
   },
   "outputs": [
    {
     "name": "stdout",
     "output_type": "stream",
     "text": [
      "(134, 2)\n",
      "(21, 2)\n",
      "(49688, 4)\n"
     ]
    }
   ],
   "source": [
    "df_aisle_index = pd.read_csv('../data/instacart-market-basket-analysis/aisles.csv')\n",
    "print(df_aisle_index.shape)\n",
    "df_dept_index = pd.read_csv('../data/instacart-market-basket-analysis/departments.csv')\n",
    "print(df_dept_index.shape)\n",
    "df_prod_index = pd.read_csv('../data/instacart-market-basket-analysis/products.csv')\n",
    "print(df_prod_index.shape)"
   ]
  },
  {
   "cell_type": "markdown",
   "metadata": {},
   "source": [
    "## Load Order Log, and Order Products"
   ]
  },
  {
   "cell_type": "code",
   "execution_count": 6,
   "metadata": {
    "ExecuteTime": {
     "end_time": "2019-10-17T19:35:42.727113Z",
     "start_time": "2019-10-17T19:35:42.723616Z"
    }
   },
   "outputs": [
    {
     "name": "stdout",
     "output_type": "stream",
     "text": [
      "generated user subset of size:  500\n"
     ]
    }
   ],
   "source": [
    "# define subset of data\n",
    "# Take a sample of the 10,000 users represented in the data\n",
    "\n",
    "# randomized version\n",
    "# np.random.seed(4444)\n",
    "# user_sample_list = np.random.choice(a=range(1,10000,1), size=300, replace=False)\n",
    "\n",
    "user_subset = range(1,501, 1)\n",
    "\n",
    "print('generated user subset of size: ', len(user_subset))"
   ]
  },
  {
   "cell_type": "code",
   "execution_count": 7,
   "metadata": {
    "ExecuteTime": {
     "end_time": "2019-10-17T19:35:43.420126Z",
     "start_time": "2019-10-17T19:35:43.412118Z"
    },
    "code_folding": []
   },
   "outputs": [],
   "source": [
    "# Create a generalized mask that filters rows\n",
    "# which are not applicable to the sampled users.\n",
    "#\n",
    "# masked_df = pd.DataFrame(\n",
    "#     columns=['user_id']\n",
    "# )\n",
    "#\n",
    "# user_mask = ([\n",
    "#     (masked_df.user_id.isin(user_sample_list))\n",
    "# ])\n",
    "\n",
    "df_orders_log = pd.DataFrame(\n",
    "    columns=['order_id','user_id','eval_set','order_number',\n",
    "             'order_dow','order_hour_of_day','days_since_prior_order']\n",
    ")\n",
    "\n",
    "# import the orders csv in chunks\n",
    "# filter out rows that aren't from the user sample\n",
    "# concatenate to the prior/train dataset\n",
    "\n",
    "\n",
    "def valid_user(chunks):\n",
    "    for chunk in chunks:\n",
    "        mask = chunk.user_id.isin(user_subset)\n",
    "        yield chunk.loc[mask]"
   ]
  },
  {
   "cell_type": "code",
   "execution_count": 8,
   "metadata": {
    "ExecuteTime": {
     "end_time": "2019-10-17T19:35:48.229283Z",
     "start_time": "2019-10-17T19:35:44.259604Z"
    }
   },
   "outputs": [],
   "source": [
    "# read in orders\n",
    "filename = '../data/instacart-market-basket-analysis/orders.csv'\n",
    "chunksize = 10 ** 4\n",
    "chunks = pd.read_csv(filename, chunksize=chunksize)\n",
    "df_orders_log = pd.concat(valid_user(chunks))"
   ]
  },
  {
   "cell_type": "code",
   "execution_count": 9,
   "metadata": {
    "ExecuteTime": {
     "end_time": "2019-10-17T19:35:48.311949Z",
     "start_time": "2019-10-17T19:35:48.297150Z"
    }
   },
   "outputs": [
    {
     "name": "stdout",
     "output_type": "stream",
     "text": [
      "0.960604 MB vs  108 MB\n"
     ]
    }
   ],
   "source": [
    "print(sys.getsizeof(df_orders_log)/1000000,'MB vs ',\n",
    "      os.stat('../data/instacart-market-basket-analysis/orders.csv').st_size//1000000,'MB')"
   ]
  },
  {
   "cell_type": "code",
   "execution_count": 10,
   "metadata": {
    "ExecuteTime": {
     "end_time": "2019-10-17T19:35:48.369797Z",
     "start_time": "2019-10-17T19:35:48.363369Z"
    }
   },
   "outputs": [
    {
     "name": "stdout",
     "output_type": "stream",
     "text": [
      "(8142,)\n"
     ]
    }
   ],
   "source": [
    "# compile a list of unique orders that originate from our user sample\n",
    "\n",
    "orders_subset = df_orders_log.order_id.unique()\n",
    "print(orders_subset.shape)\n",
    "\n",
    "def valid_order(chunks):\n",
    "    for chunk in chunks:\n",
    "        mask = chunk.order_id.isin(orders_subset)\n",
    "        yield chunk.loc[mask]"
   ]
  },
  {
   "cell_type": "code",
   "execution_count": 11,
   "metadata": {
    "ExecuteTime": {
     "end_time": "2019-10-17T19:36:13.358137Z",
     "start_time": "2019-10-17T19:35:48.818314Z"
    }
   },
   "outputs": [],
   "source": [
    "df_order_prods__prior = pd.DataFrame(\n",
    "    columns=['order_id','product_id','add_to_cart_order','reordered']\n",
    ")\n",
    "\n",
    "# import the prior/train_products csv in chunks\n",
    "# filter out rows that aren't from the user sample\n",
    "# concatenate to the prior/train dataset\n",
    "\n",
    "\n",
    "\n",
    "# read in order_prods_prior\n",
    "filename = '../data/instacart-market-basket-analysis/order_products__prior.csv'\n",
    "chunksize = 10 ** 4\n",
    "chunks = pd.read_csv(filename, chunksize=chunksize)\n",
    "df_order_prods__prior = pd.concat(valid_order(chunks))"
   ]
  },
  {
   "cell_type": "code",
   "execution_count": 12,
   "metadata": {
    "ExecuteTime": {
     "end_time": "2019-10-17T19:36:13.428157Z",
     "start_time": "2019-10-17T19:36:13.421365Z"
    },
    "scrolled": true
   },
   "outputs": [
    {
     "name": "stdout",
     "output_type": "stream",
     "text": [
      "3.097032 MB vs  577 MB\n",
      "(77425, 4)\n"
     ]
    }
   ],
   "source": [
    "print(sys.getsizeof(df_order_prods__prior)/1000000,'MB vs ',\n",
    "      os.stat('../data/instacart-market-basket-analysis/order_products__prior.csv').st_size//1000000,'MB')\n",
    "print(df_order_prods__prior.shape)"
   ]
  },
  {
   "cell_type": "code",
   "execution_count": 13,
   "metadata": {
    "ExecuteTime": {
     "end_time": "2019-10-17T19:36:14.557154Z",
     "start_time": "2019-10-17T19:36:13.492413Z"
    }
   },
   "outputs": [],
   "source": [
    "df_order_prods__train = pd.DataFrame(\n",
    "    columns=['order_id','product_id','add_to_cart_order']\n",
    ")\n",
    "\n",
    "# import the prior/train_products csv in chunks\n",
    "# filter out rows that aren't from the user sample\n",
    "# concatenate to the prior/train dataset\n",
    "\n",
    "# read in order_prods_prior\n",
    "filename = '../data/instacart-market-basket-analysis/order_products__train.csv'\n",
    "chunksize = 10 ** 4\n",
    "chunks = pd.read_csv(filename, chunksize=chunksize)\n",
    "df_order_prods__train = pd.concat(valid_order(chunks))"
   ]
  },
  {
   "cell_type": "code",
   "execution_count": 14,
   "metadata": {
    "ExecuteTime": {
     "end_time": "2019-10-17T19:36:14.643868Z",
     "start_time": "2019-10-17T19:36:14.638033Z"
    },
    "scrolled": true
   },
   "outputs": [
    {
     "name": "stdout",
     "output_type": "stream",
     "text": [
      "0.135472 MB vs  24 MB\n"
     ]
    }
   ],
   "source": [
    "print(sys.getsizeof(df_order_prods__train)/1000000,'MB vs ',\n",
    "      os.stat('../data/instacart-market-basket-analysis/order_products__train.csv').st_size//1000000,'MB')"
   ]
  },
  {
   "cell_type": "markdown",
   "metadata": {},
   "source": [
    "# Proposal: Dynamic, In-Browser Product Recommendation"
   ]
  },
  {
   "cell_type": "markdown",
   "metadata": {},
   "source": [
    "This model proposes a dynamic recommendation system for deployment in the Instacart shopping interface.\n",
    "\n",
    "The recommendation panel in this instance offers a limited set of recommendations (~5) in a visible panel."
   ]
  },
  {
   "cell_type": "markdown",
   "metadata": {},
   "source": [
    "## Approach: Switch Model Type According to Information Level\n",
    "\n",
    "The mode"
   ]
  },
  {
   "cell_type": "markdown",
   "metadata": {},
   "source": [
    "# Model Evaluation Schema"
   ]
  },
  {
   "cell_type": "markdown",
   "metadata": {},
   "source": [
    "When recommending products to the user, \n",
    "\n",
    "Both precision and recall are \n",
    "\n",
    "To offer meaningful recommendations, we want to find a balance between precision and recall. We can begin with the F-1 Score, and tune ${\\beta}$ to optimize the metrics according to \n",
    "\n",
    "F-Beta."
   ]
  },
  {
   "cell_type": "markdown",
   "metadata": {},
   "source": [
    "### Baseline Algorithm: Recommend Products By Global Popularity"
   ]
  },
  {
   "cell_type": "markdown",
   "metadata": {},
   "source": [
    "As a baseline, let's create a simple algorithm that simply returns a random 5 products from the top 50 most popular products. We hope to do better than this algorithm by engineering all kinds of user- and product-specific features."
   ]
  },
  {
   "cell_type": "code",
   "execution_count": 226,
   "metadata": {
    "ExecuteTime": {
     "end_time": "2019-10-17T21:24:11.569717Z",
     "start_time": "2019-10-17T21:24:11.563904Z"
    },
    "code_folding": [
     7
    ]
   },
   "outputs": [],
   "source": [
    "## NAIVE MODEL - Product Popularity Focused ##\n",
    "\n",
    "# code to return top 50 products\n",
    "# df_order_prods__prior.groupby('product_id').agg(\n",
    "#     {'order_id':'nunique'}\n",
    "# ).sort_values('order_id',ascending=False).index.values[:50]\n",
    "\n",
    "class NaiveTopProducts(object):\n",
    "    '''\n",
    "    \n",
    "    A naive product recommendation algorithm,\n",
    "    based on overal product popularity.\n",
    "    \n",
    "    '''\n",
    "    \n",
    "    def __init__(self):\n",
    "    \n",
    "        self.type = 'naive'\n",
    "    \n",
    "    def fit(self, order_train):\n",
    "        '''\n",
    "        \n",
    "        Pull top 50 products from dataframe.\n",
    "        \n",
    "        '''\n",
    "        \n",
    "        self.top100 = set(order_train.groupby('product_id').agg(\n",
    "            {'order_id':'nunique'}\n",
    "        ).sort_values('order_id',ascending=False).index.values[:100])\n",
    "        \n",
    "    def predict(self, n=5):\n",
    "        \n",
    "        return random.sample(self.top100, n)"
   ]
  },
  {
   "cell_type": "code",
   "execution_count": 228,
   "metadata": {
    "ExecuteTime": {
     "end_time": "2019-10-17T21:24:23.685091Z",
     "start_time": "2019-10-17T21:24:23.668003Z"
    },
    "scrolled": false
   },
   "outputs": [
    {
     "data": {
      "text/plain": [
       "[47626, 16759, 5876, 44359, 42265]"
      ]
     },
     "execution_count": 228,
     "metadata": {},
     "output_type": "execute_result"
    }
   ],
   "source": [
    "naive_model = NaiveTopProducts()\n",
    "naive_model.fit(df_order_prods__prior)\n",
    "preds = naive_model.predict()"
   ]
  },
  {
   "cell_type": "markdown",
   "metadata": {},
   "source": [
    "### Simulate Dynamic Product Recommendation"
   ]
  },
  {
   "cell_type": "code",
   "execution_count": 258,
   "metadata": {
    "ExecuteTime": {
     "end_time": "2019-10-17T23:44:12.261236Z",
     "start_time": "2019-10-17T23:44:12.253328Z"
    },
    "code_folding": []
   },
   "outputs": [],
   "source": [
    "def SimulateDynamicRec(order_rows, model, verbose=False):\n",
    "    \n",
    "    assert type(order_rows) == type(pd.DataFrame())\n",
    "    cart = set([])\n",
    "    \n",
    "    order_rows = order_rows.sort_values('add_to_cart_order')\n",
    "    \n",
    "    if verbose:\n",
    "        print('testing the following order:\\n', order_rows)\n",
    "    \n",
    "    total = 0\n",
    "    guessed = 0\n",
    "    \n",
    "    # progress through order one at a time\n",
    "    for index, row in order_rows.iterrows():\n",
    "        \n",
    "        ### Recommend 5 New Products ###\n",
    "        \n",
    "        try:\n",
    "            #### NAIVE MODEL #####\n",
    "            assert model.type == 'naive'\n",
    "            recommendations = model.top100\n",
    "            \n",
    "            # Exclude items already in cart.\n",
    "            rec5 = random.sample((recommendations - cart), 5)\n",
    "            \n",
    "        except:\n",
    "            #### OTHER MODELS #####\n",
    "            pass\n",
    "        \n",
    "        \n",
    "        total += 1\n",
    "        success = False\n",
    "        \n",
    "        actual_next = row['product_id']\n",
    "        \n",
    "        if actual_next in rec5:\n",
    "            success = True\n",
    "            guessed += 1\n",
    "        \n",
    "        # debug output\n",
    "        if verbose:\n",
    "#             print(f'Cart is {cart}.\\nRecommending {rec5}.')\n",
    "            if success:\n",
    "                print(f'Guessed {actual_next}!\\n')\n",
    "                continue\n",
    "            else:\n",
    "#                 print(f'Oops, {actual_next} wasn\\'t in recommendation list.')\n",
    "                continue\n",
    "        \n",
    "        cart.add(actual_next)\n",
    "    \n",
    "    # rel_pct = % of trials where recommendations were relevant to next purchase.\n",
    "    rel_pct = guessed/total\n",
    "    \n",
    "    if verbose:\n",
    "        print(f'Got {rel_pct}% right of {total}.')\n",
    "    \n",
    "    return rel_pct"
   ]
  },
  {
   "cell_type": "code",
   "execution_count": 259,
   "metadata": {
    "ExecuteTime": {
     "end_time": "2019-10-17T23:44:12.818336Z",
     "start_time": "2019-10-17T23:44:12.813206Z"
    },
    "scrolled": false
   },
   "outputs": [],
   "source": [
    "def DynamicRecScore(model, trials = 100):\n",
    "\n",
    "    relevancies = []\n",
    "    \n",
    "    unique_train_orders = set(df_order_prods__train.order_id.unique())\n",
    "#     print(len(unique_train_orders))\n",
    "    \n",
    "    # If there aren't enough training datapoints.\n",
    "    if trials > len(unique_train_orders):\n",
    "        trials = len(unique_train_orders)\n",
    "    \n",
    "    for order_id in random.sample(unique_train_orders, trials):\n",
    "        \n",
    "#         test_order = df_order_prods__train.sample().order_id.values[0]\n",
    "\n",
    "        test_order_rows = df_order_prods__train[df_order_prods__train.order_id == order_id]\n",
    "        rel_pct = SimulateDynamicRec(test_order_rows, model,verbose=False)\n",
    "        relevancies += [rel_pct]\n",
    "        \n",
    "    return np.mean(relevancies)"
   ]
  },
  {
   "cell_type": "markdown",
   "metadata": {},
   "source": [
    "## Score Naive Top Products Model"
   ]
  },
  {
   "cell_type": "markdown",
   "metadata": {},
   "source": [
    "Run simulation of user interactive with Naive Top Products as recommender."
   ]
  },
  {
   "cell_type": "code",
   "execution_count": 263,
   "metadata": {
    "ExecuteTime": {
     "end_time": "2019-10-17T23:45:02.756742Z",
     "start_time": "2019-10-17T23:44:58.939128Z"
    },
    "scrolled": false
   },
   "outputs": [
    {
     "name": "stdout",
     "output_type": "stream",
     "text": [
      "Mean dynamic suggestion relevancy score, Naive Algorithm, n=300:\n",
      "0.010579618785003037\n"
     ]
    }
   ],
   "source": [
    "# Simple cross validation of naive algorithm:\n",
    "\n",
    "n_trials = 300\n",
    "relevancies = []\n",
    "for i in range(5):\n",
    "    relevancies += [DynamicRecScore(model=naive_model, trials=n_trials)]\n",
    "    \n",
    "print(f'Mean dynamic suggestion relevancy score, Naive Algorithm, n={n_trials}:')\n",
    "print(np.mean(relevancies))"
   ]
  },
  {
   "cell_type": "markdown",
   "metadata": {},
   "source": [
    "# Single Dataframe EDA"
   ]
  },
  {
   "cell_type": "markdown",
   "metadata": {},
   "source": [
    "## EDA – Products"
   ]
  },
  {
   "cell_type": "code",
   "execution_count": 269,
   "metadata": {
    "ExecuteTime": {
     "end_time": "2019-10-17T23:46:06.184520Z",
     "start_time": "2019-10-17T23:46:06.177049Z"
    }
   },
   "outputs": [
    {
     "data": {
      "text/html": [
       "<div>\n",
       "<style scoped>\n",
       "    .dataframe tbody tr th:only-of-type {\n",
       "        vertical-align: middle;\n",
       "    }\n",
       "\n",
       "    .dataframe tbody tr th {\n",
       "        vertical-align: top;\n",
       "    }\n",
       "\n",
       "    .dataframe thead th {\n",
       "        text-align: right;\n",
       "    }\n",
       "</style>\n",
       "<table border=\"1\" class=\"dataframe\">\n",
       "  <thead>\n",
       "    <tr style=\"text-align: right;\">\n",
       "      <th></th>\n",
       "      <th>product_id</th>\n",
       "      <th>product_name</th>\n",
       "      <th>aisle_id</th>\n",
       "      <th>department_id</th>\n",
       "    </tr>\n",
       "  </thead>\n",
       "  <tbody>\n",
       "    <tr>\n",
       "      <td>0</td>\n",
       "      <td>1</td>\n",
       "      <td>Chocolate Sandwich Cookies</td>\n",
       "      <td>61</td>\n",
       "      <td>19</td>\n",
       "    </tr>\n",
       "    <tr>\n",
       "      <td>1</td>\n",
       "      <td>2</td>\n",
       "      <td>All-Seasons Salt</td>\n",
       "      <td>104</td>\n",
       "      <td>13</td>\n",
       "    </tr>\n",
       "    <tr>\n",
       "      <td>2</td>\n",
       "      <td>3</td>\n",
       "      <td>Robust Golden Unsweetened Oolong Tea</td>\n",
       "      <td>94</td>\n",
       "      <td>7</td>\n",
       "    </tr>\n",
       "  </tbody>\n",
       "</table>\n",
       "</div>"
      ],
      "text/plain": [
       "   product_id                          product_name  aisle_id  department_id\n",
       "0           1            Chocolate Sandwich Cookies        61             19\n",
       "1           2                      All-Seasons Salt       104             13\n",
       "2           3  Robust Golden Unsweetened Oolong Tea        94              7"
      ]
     },
     "execution_count": 269,
     "metadata": {},
     "output_type": "execute_result"
    }
   ],
   "source": [
    "df_prod_index.head(3)"
   ]
  },
  {
   "cell_type": "markdown",
   "metadata": {},
   "source": [
    "## EDA – Aisles"
   ]
  },
  {
   "cell_type": "code",
   "execution_count": 14,
   "metadata": {
    "ExecuteTime": {
     "end_time": "2019-10-17T15:47:34.878645Z",
     "start_time": "2019-10-17T15:47:34.867533Z"
    }
   },
   "outputs": [
    {
     "data": {
      "text/html": [
       "<div>\n",
       "<style scoped>\n",
       "    .dataframe tbody tr th:only-of-type {\n",
       "        vertical-align: middle;\n",
       "    }\n",
       "\n",
       "    .dataframe tbody tr th {\n",
       "        vertical-align: top;\n",
       "    }\n",
       "\n",
       "    .dataframe thead th {\n",
       "        text-align: right;\n",
       "    }\n",
       "</style>\n",
       "<table border=\"1\" class=\"dataframe\">\n",
       "  <thead>\n",
       "    <tr style=\"text-align: right;\">\n",
       "      <th></th>\n",
       "      <th>aisle_id</th>\n",
       "      <th>aisle</th>\n",
       "    </tr>\n",
       "  </thead>\n",
       "  <tbody>\n",
       "    <tr>\n",
       "      <td>0</td>\n",
       "      <td>1</td>\n",
       "      <td>prepared soups salads</td>\n",
       "    </tr>\n",
       "    <tr>\n",
       "      <td>1</td>\n",
       "      <td>2</td>\n",
       "      <td>specialty cheeses</td>\n",
       "    </tr>\n",
       "    <tr>\n",
       "      <td>2</td>\n",
       "      <td>3</td>\n",
       "      <td>energy granola bars</td>\n",
       "    </tr>\n",
       "  </tbody>\n",
       "</table>\n",
       "</div>"
      ],
      "text/plain": [
       "   aisle_id                  aisle\n",
       "0         1  prepared soups salads\n",
       "1         2      specialty cheeses\n",
       "2         3    energy granola bars"
      ]
     },
     "execution_count": 14,
     "metadata": {},
     "output_type": "execute_result"
    }
   ],
   "source": [
    "df_aisle_index.head(3)"
   ]
  },
  {
   "cell_type": "markdown",
   "metadata": {},
   "source": [
    "## EDA – Depts"
   ]
  },
  {
   "cell_type": "code",
   "execution_count": 15,
   "metadata": {
    "ExecuteTime": {
     "end_time": "2019-10-17T15:47:40.086810Z",
     "start_time": "2019-10-17T15:47:40.080259Z"
    }
   },
   "outputs": [
    {
     "data": {
      "text/html": [
       "<div>\n",
       "<style scoped>\n",
       "    .dataframe tbody tr th:only-of-type {\n",
       "        vertical-align: middle;\n",
       "    }\n",
       "\n",
       "    .dataframe tbody tr th {\n",
       "        vertical-align: top;\n",
       "    }\n",
       "\n",
       "    .dataframe thead th {\n",
       "        text-align: right;\n",
       "    }\n",
       "</style>\n",
       "<table border=\"1\" class=\"dataframe\">\n",
       "  <thead>\n",
       "    <tr style=\"text-align: right;\">\n",
       "      <th></th>\n",
       "      <th>department_id</th>\n",
       "      <th>department</th>\n",
       "    </tr>\n",
       "  </thead>\n",
       "  <tbody>\n",
       "    <tr>\n",
       "      <td>0</td>\n",
       "      <td>1</td>\n",
       "      <td>frozen</td>\n",
       "    </tr>\n",
       "    <tr>\n",
       "      <td>1</td>\n",
       "      <td>2</td>\n",
       "      <td>other</td>\n",
       "    </tr>\n",
       "    <tr>\n",
       "      <td>2</td>\n",
       "      <td>3</td>\n",
       "      <td>bakery</td>\n",
       "    </tr>\n",
       "  </tbody>\n",
       "</table>\n",
       "</div>"
      ],
      "text/plain": [
       "   department_id department\n",
       "0              1     frozen\n",
       "1              2      other\n",
       "2              3     bakery"
      ]
     },
     "execution_count": 15,
     "metadata": {},
     "output_type": "execute_result"
    }
   ],
   "source": [
    "df_dept_index.head(3)"
   ]
  },
  {
   "cell_type": "markdown",
   "metadata": {},
   "source": [
    "## EDA – Orders"
   ]
  },
  {
   "cell_type": "code",
   "execution_count": 268,
   "metadata": {
    "ExecuteTime": {
     "end_time": "2019-10-17T23:46:01.674946Z",
     "start_time": "2019-10-17T23:46:01.665690Z"
    }
   },
   "outputs": [
    {
     "data": {
      "text/html": [
       "<div>\n",
       "<style scoped>\n",
       "    .dataframe tbody tr th:only-of-type {\n",
       "        vertical-align: middle;\n",
       "    }\n",
       "\n",
       "    .dataframe tbody tr th {\n",
       "        vertical-align: top;\n",
       "    }\n",
       "\n",
       "    .dataframe thead th {\n",
       "        text-align: right;\n",
       "    }\n",
       "</style>\n",
       "<table border=\"1\" class=\"dataframe\">\n",
       "  <thead>\n",
       "    <tr style=\"text-align: right;\">\n",
       "      <th></th>\n",
       "      <th>order_id</th>\n",
       "      <th>user_id</th>\n",
       "      <th>eval_set</th>\n",
       "      <th>order_number</th>\n",
       "      <th>order_dow</th>\n",
       "      <th>order_hour_of_day</th>\n",
       "      <th>days_since_prior_order</th>\n",
       "    </tr>\n",
       "  </thead>\n",
       "  <tbody>\n",
       "    <tr>\n",
       "      <td>0</td>\n",
       "      <td>2539329</td>\n",
       "      <td>1</td>\n",
       "      <td>prior</td>\n",
       "      <td>1</td>\n",
       "      <td>2</td>\n",
       "      <td>8</td>\n",
       "      <td>NaN</td>\n",
       "    </tr>\n",
       "    <tr>\n",
       "      <td>1</td>\n",
       "      <td>2398795</td>\n",
       "      <td>1</td>\n",
       "      <td>prior</td>\n",
       "      <td>2</td>\n",
       "      <td>3</td>\n",
       "      <td>7</td>\n",
       "      <td>15.0</td>\n",
       "    </tr>\n",
       "    <tr>\n",
       "      <td>2</td>\n",
       "      <td>473747</td>\n",
       "      <td>1</td>\n",
       "      <td>prior</td>\n",
       "      <td>3</td>\n",
       "      <td>3</td>\n",
       "      <td>12</td>\n",
       "      <td>21.0</td>\n",
       "    </tr>\n",
       "  </tbody>\n",
       "</table>\n",
       "</div>"
      ],
      "text/plain": [
       "   order_id  user_id eval_set  order_number  order_dow  order_hour_of_day  \\\n",
       "0   2539329        1    prior             1          2                  8   \n",
       "1   2398795        1    prior             2          3                  7   \n",
       "2    473747        1    prior             3          3                 12   \n",
       "\n",
       "   days_since_prior_order  \n",
       "0                     NaN  \n",
       "1                    15.0  \n",
       "2                    21.0  "
      ]
     },
     "execution_count": 268,
     "metadata": {},
     "output_type": "execute_result"
    }
   ],
   "source": [
    "df_orders_log.head(3)"
   ]
  },
  {
   "cell_type": "markdown",
   "metadata": {},
   "source": [
    "## EDA - Order Products"
   ]
  },
  {
   "cell_type": "markdown",
   "metadata": {},
   "source": [
    "### Prior"
   ]
  },
  {
   "cell_type": "code",
   "execution_count": 265,
   "metadata": {
    "ExecuteTime": {
     "end_time": "2019-10-17T23:45:39.651457Z",
     "start_time": "2019-10-17T23:45:39.643527Z"
    },
    "scrolled": true
   },
   "outputs": [
    {
     "name": "stdout",
     "output_type": "stream",
     "text": [
      "(77425, 4)\n"
     ]
    },
    {
     "data": {
      "text/html": [
       "<div>\n",
       "<style scoped>\n",
       "    .dataframe tbody tr th:only-of-type {\n",
       "        vertical-align: middle;\n",
       "    }\n",
       "\n",
       "    .dataframe tbody tr th {\n",
       "        vertical-align: top;\n",
       "    }\n",
       "\n",
       "    .dataframe thead th {\n",
       "        text-align: right;\n",
       "    }\n",
       "</style>\n",
       "<table border=\"1\" class=\"dataframe\">\n",
       "  <thead>\n",
       "    <tr style=\"text-align: right;\">\n",
       "      <th></th>\n",
       "      <th>order_id</th>\n",
       "      <th>product_id</th>\n",
       "      <th>add_to_cart_order</th>\n",
       "      <th>reordered</th>\n",
       "    </tr>\n",
       "  </thead>\n",
       "  <tbody>\n",
       "    <tr>\n",
       "      <td>333</td>\n",
       "      <td>40</td>\n",
       "      <td>10070</td>\n",
       "      <td>1</td>\n",
       "      <td>1</td>\n",
       "    </tr>\n",
       "    <tr>\n",
       "      <td>334</td>\n",
       "      <td>40</td>\n",
       "      <td>42450</td>\n",
       "      <td>2</td>\n",
       "      <td>1</td>\n",
       "    </tr>\n",
       "    <tr>\n",
       "      <td>335</td>\n",
       "      <td>40</td>\n",
       "      <td>33198</td>\n",
       "      <td>3</td>\n",
       "      <td>1</td>\n",
       "    </tr>\n",
       "  </tbody>\n",
       "</table>\n",
       "</div>"
      ],
      "text/plain": [
       "     order_id  product_id  add_to_cart_order  reordered\n",
       "333        40       10070                  1          1\n",
       "334        40       42450                  2          1\n",
       "335        40       33198                  3          1"
      ]
     },
     "execution_count": 265,
     "metadata": {},
     "output_type": "execute_result"
    }
   ],
   "source": [
    "print(df_order_prods__prior.shape)\n",
    "df_order_prods__prior.head(3)"
   ]
  },
  {
   "cell_type": "code",
   "execution_count": 264,
   "metadata": {
    "ExecuteTime": {
     "end_time": "2019-10-17T23:45:34.413279Z",
     "start_time": "2019-10-17T23:45:34.404623Z"
    },
    "scrolled": false
   },
   "outputs": [
    {
     "data": {
      "text/html": [
       "<div>\n",
       "<style scoped>\n",
       "    .dataframe tbody tr th:only-of-type {\n",
       "        vertical-align: middle;\n",
       "    }\n",
       "\n",
       "    .dataframe tbody tr th {\n",
       "        vertical-align: top;\n",
       "    }\n",
       "\n",
       "    .dataframe thead th {\n",
       "        text-align: right;\n",
       "    }\n",
       "</style>\n",
       "<table border=\"1\" class=\"dataframe\">\n",
       "  <thead>\n",
       "    <tr style=\"text-align: right;\">\n",
       "      <th></th>\n",
       "      <th>order_id</th>\n",
       "      <th>product_id</th>\n",
       "      <th>add_to_cart_order</th>\n",
       "      <th>reordered</th>\n",
       "    </tr>\n",
       "  </thead>\n",
       "  <tbody>\n",
       "    <tr>\n",
       "      <td>14111</td>\n",
       "      <td>1483</td>\n",
       "      <td>32818</td>\n",
       "      <td>1</td>\n",
       "      <td>1</td>\n",
       "    </tr>\n",
       "    <tr>\n",
       "      <td>14112</td>\n",
       "      <td>1483</td>\n",
       "      <td>27582</td>\n",
       "      <td>2</td>\n",
       "      <td>1</td>\n",
       "    </tr>\n",
       "    <tr>\n",
       "      <td>14113</td>\n",
       "      <td>1483</td>\n",
       "      <td>12302</td>\n",
       "      <td>3</td>\n",
       "      <td>1</td>\n",
       "    </tr>\n",
       "  </tbody>\n",
       "</table>\n",
       "</div>"
      ],
      "text/plain": [
       "       order_id  product_id  add_to_cart_order  reordered\n",
       "14111      1483       32818                  1          1\n",
       "14112      1483       27582                  2          1\n",
       "14113      1483       12302                  3          1"
      ]
     },
     "execution_count": 264,
     "metadata": {},
     "output_type": "execute_result"
    }
   ],
   "source": [
    "# inspect an individual order from prior\n",
    "df_order_prods__prior[df_order_prods__prior.order_id == 1483].head(3)"
   ]
  },
  {
   "cell_type": "markdown",
   "metadata": {},
   "source": [
    "### Train"
   ]
  },
  {
   "cell_type": "code",
   "execution_count": 266,
   "metadata": {
    "ExecuteTime": {
     "end_time": "2019-10-17T23:45:47.577869Z",
     "start_time": "2019-10-17T23:45:47.569760Z"
    },
    "scrolled": false
   },
   "outputs": [
    {
     "name": "stdout",
     "output_type": "stream",
     "text": [
      "(3386, 4)\n"
     ]
    },
    {
     "data": {
      "text/html": [
       "<div>\n",
       "<style scoped>\n",
       "    .dataframe tbody tr th:only-of-type {\n",
       "        vertical-align: middle;\n",
       "    }\n",
       "\n",
       "    .dataframe tbody tr th {\n",
       "        vertical-align: top;\n",
       "    }\n",
       "\n",
       "    .dataframe thead th {\n",
       "        text-align: right;\n",
       "    }\n",
       "</style>\n",
       "<table border=\"1\" class=\"dataframe\">\n",
       "  <thead>\n",
       "    <tr style=\"text-align: right;\">\n",
       "      <th></th>\n",
       "      <th>order_id</th>\n",
       "      <th>product_id</th>\n",
       "      <th>add_to_cart_order</th>\n",
       "      <th>reordered</th>\n",
       "    </tr>\n",
       "  </thead>\n",
       "  <tbody>\n",
       "    <tr>\n",
       "      <td>239</td>\n",
       "      <td>988</td>\n",
       "      <td>45061</td>\n",
       "      <td>1</td>\n",
       "      <td>0</td>\n",
       "    </tr>\n",
       "  </tbody>\n",
       "</table>\n",
       "</div>"
      ],
      "text/plain": [
       "     order_id  product_id  add_to_cart_order  reordered\n",
       "239       988       45061                  1          0"
      ]
     },
     "execution_count": 266,
     "metadata": {},
     "output_type": "execute_result"
    }
   ],
   "source": [
    "print(df_order_prods__train.shape)\n",
    "df_order_prods__train.head(1)"
   ]
  },
  {
   "cell_type": "code",
   "execution_count": 21,
   "metadata": {
    "ExecuteTime": {
     "end_time": "2019-10-17T15:48:17.288880Z",
     "start_time": "2019-10-17T15:48:17.281264Z"
    }
   },
   "outputs": [
    {
     "data": {
      "text/html": [
       "<div>\n",
       "<style scoped>\n",
       "    .dataframe tbody tr th:only-of-type {\n",
       "        vertical-align: middle;\n",
       "    }\n",
       "\n",
       "    .dataframe tbody tr th {\n",
       "        vertical-align: top;\n",
       "    }\n",
       "\n",
       "    .dataframe thead th {\n",
       "        text-align: right;\n",
       "    }\n",
       "</style>\n",
       "<table border=\"1\" class=\"dataframe\">\n",
       "  <thead>\n",
       "    <tr style=\"text-align: right;\">\n",
       "      <th></th>\n",
       "      <th>order_id</th>\n",
       "      <th>product_id</th>\n",
       "      <th>add_to_cart_order</th>\n",
       "      <th>reordered</th>\n",
       "    </tr>\n",
       "  </thead>\n",
       "  <tbody>\n",
       "    <tr>\n",
       "      <td>239</td>\n",
       "      <td>988</td>\n",
       "      <td>45061</td>\n",
       "      <td>1</td>\n",
       "      <td>0</td>\n",
       "    </tr>\n",
       "    <tr>\n",
       "      <td>240</td>\n",
       "      <td>988</td>\n",
       "      <td>28464</td>\n",
       "      <td>2</td>\n",
       "      <td>0</td>\n",
       "    </tr>\n",
       "    <tr>\n",
       "      <td>241</td>\n",
       "      <td>988</td>\n",
       "      <td>12626</td>\n",
       "      <td>3</td>\n",
       "      <td>0</td>\n",
       "    </tr>\n",
       "    <tr>\n",
       "      <td>242</td>\n",
       "      <td>988</td>\n",
       "      <td>4818</td>\n",
       "      <td>4</td>\n",
       "      <td>1</td>\n",
       "    </tr>\n",
       "  </tbody>\n",
       "</table>\n",
       "</div>"
      ],
      "text/plain": [
       "     order_id  product_id  add_to_cart_order  reordered\n",
       "239       988       45061                  1          0\n",
       "240       988       28464                  2          0\n",
       "241       988       12626                  3          0\n",
       "242       988        4818                  4          1"
      ]
     },
     "execution_count": 21,
     "metadata": {},
     "output_type": "execute_result"
    }
   ],
   "source": [
    "# inspect an individual order from train\n",
    "df_order_prods__train[df_order_prods__train.order_id == 988]"
   ]
  },
  {
   "cell_type": "markdown",
   "metadata": {},
   "source": [
    "## Merge Prior and Train Orders"
   ]
  },
  {
   "cell_type": "code",
   "execution_count": 270,
   "metadata": {
    "ExecuteTime": {
     "end_time": "2019-10-17T23:46:11.621721Z",
     "start_time": "2019-10-17T23:46:11.608711Z"
    },
    "scrolled": true
   },
   "outputs": [
    {
     "name": "stdout",
     "output_type": "stream",
     "text": [
      "(80811, 4)\n"
     ]
    },
    {
     "data": {
      "text/html": [
       "<div>\n",
       "<style scoped>\n",
       "    .dataframe tbody tr th:only-of-type {\n",
       "        vertical-align: middle;\n",
       "    }\n",
       "\n",
       "    .dataframe tbody tr th {\n",
       "        vertical-align: top;\n",
       "    }\n",
       "\n",
       "    .dataframe thead th {\n",
       "        text-align: right;\n",
       "    }\n",
       "</style>\n",
       "<table border=\"1\" class=\"dataframe\">\n",
       "  <thead>\n",
       "    <tr style=\"text-align: right;\">\n",
       "      <th></th>\n",
       "      <th>order_id</th>\n",
       "      <th>product_id</th>\n",
       "      <th>add_to_cart_order</th>\n",
       "      <th>reordered</th>\n",
       "    </tr>\n",
       "  </thead>\n",
       "  <tbody>\n",
       "    <tr>\n",
       "      <td>333</td>\n",
       "      <td>40</td>\n",
       "      <td>10070</td>\n",
       "      <td>1</td>\n",
       "      <td>1</td>\n",
       "    </tr>\n",
       "    <tr>\n",
       "      <td>334</td>\n",
       "      <td>40</td>\n",
       "      <td>42450</td>\n",
       "      <td>2</td>\n",
       "      <td>1</td>\n",
       "    </tr>\n",
       "    <tr>\n",
       "      <td>335</td>\n",
       "      <td>40</td>\n",
       "      <td>33198</td>\n",
       "      <td>3</td>\n",
       "      <td>1</td>\n",
       "    </tr>\n",
       "  </tbody>\n",
       "</table>\n",
       "</div>"
      ],
      "text/plain": [
       "     order_id  product_id  add_to_cart_order  reordered\n",
       "333        40       10070                  1          1\n",
       "334        40       42450                  2          1\n",
       "335        40       33198                  3          1"
      ]
     },
     "execution_count": 270,
     "metadata": {},
     "output_type": "execute_result"
    }
   ],
   "source": [
    "df_order_prods = pd.concat([df_order_prods__prior, df_order_prods__train])\n",
    "print(df_order_prods.shape)\n",
    "df_order_prods.head(3)"
   ]
  },
  {
   "cell_type": "markdown",
   "metadata": {},
   "source": [
    "# User Profiles"
   ]
  },
  {
   "cell_type": "markdown",
   "metadata": {},
   "source": [
    "## Initialize User Dataframe"
   ]
  },
  {
   "cell_type": "code",
   "execution_count": 279,
   "metadata": {
    "ExecuteTime": {
     "end_time": "2019-10-18T00:10:03.707314Z",
     "start_time": "2019-10-18T00:10:03.699084Z"
    },
    "code_folding": []
   },
   "outputs": [
    {
     "data": {
      "text/html": [
       "<div>\n",
       "<style scoped>\n",
       "    .dataframe tbody tr th:only-of-type {\n",
       "        vertical-align: middle;\n",
       "    }\n",
       "\n",
       "    .dataframe tbody tr th {\n",
       "        vertical-align: top;\n",
       "    }\n",
       "\n",
       "    .dataframe thead th {\n",
       "        text-align: right;\n",
       "    }\n",
       "</style>\n",
       "<table border=\"1\" class=\"dataframe\">\n",
       "  <thead>\n",
       "    <tr style=\"text-align: right;\">\n",
       "      <th></th>\n",
       "      <th>user_id</th>\n",
       "    </tr>\n",
       "  </thead>\n",
       "  <tbody>\n",
       "    <tr>\n",
       "      <td>0</td>\n",
       "      <td>1</td>\n",
       "    </tr>\n",
       "    <tr>\n",
       "      <td>1</td>\n",
       "      <td>2</td>\n",
       "    </tr>\n",
       "    <tr>\n",
       "      <td>2</td>\n",
       "      <td>3</td>\n",
       "    </tr>\n",
       "  </tbody>\n",
       "</table>\n",
       "</div>"
      ],
      "text/plain": [
       "   user_id\n",
       "0        1\n",
       "1        2\n",
       "2        3"
      ]
     },
     "execution_count": 279,
     "metadata": {},
     "output_type": "execute_result"
    }
   ],
   "source": [
    "# Create a users database with some historical information for each user\n",
    "\n",
    "df_user_profs = pd.DataFrame()\n",
    "df_user_profs['user_id'] = user_subset\n",
    "# df_user_profs.set_index('user_id', inplace=True)\n",
    "df_user_profs.head(3)"
   ]
  },
  {
   "cell_type": "markdown",
   "metadata": {
    "heading_collapsed": true
   },
   "source": [
    "## Generate High-level User Features"
   ]
  },
  {
   "cell_type": "markdown",
   "metadata": {
    "heading_collapsed": true,
    "hidden": true
   },
   "source": [
    "### User Order History : `order_id_history` (User)"
   ]
  },
  {
   "cell_type": "code",
   "execution_count": 343,
   "metadata": {
    "ExecuteTime": {
     "end_time": "2019-10-18T00:37:37.045657Z",
     "start_time": "2019-10-18T00:37:37.042171Z"
    },
    "hidden": true
   },
   "outputs": [],
   "source": [
    "def query_user_order_history(user_id, df_orders_log):\n",
    "    '''\n",
    "    \n",
    "    Return an ordered list of tuples,\n",
    "    e.g. [(1, order_id_1), ... , (latest_order_number, latest_order_id)]\n",
    "    \n",
    "    '''\n",
    "#     print(user_id)\n",
    "    \n",
    "    user_orders = df_orders_log[df_orders_log.user_id == user_id]\n",
    "    \n",
    "#     print(user_orders)\n",
    "    \n",
    "#     print(user_orders[['order_number', 'order_id']])\n",
    "    \n",
    "    return (user_orders[['order_number', 'order_id']]).to_numpy()\n",
    " "
   ]
  },
  {
   "cell_type": "code",
   "execution_count": 344,
   "metadata": {
    "ExecuteTime": {
     "end_time": "2019-10-18T00:37:37.991185Z",
     "start_time": "2019-10-18T00:37:37.302951Z"
    },
    "hidden": true
   },
   "outputs": [],
   "source": [
    "df_user_profs['order_id_history'] = df_user_profs.user_id.apply(\n",
    "    query_user_order_history, df_orders_log=df_orders_log\n",
    ")"
   ]
  },
  {
   "cell_type": "code",
   "execution_count": 345,
   "metadata": {
    "ExecuteTime": {
     "end_time": "2019-10-18T00:37:38.126918Z",
     "start_time": "2019-10-18T00:37:38.116506Z"
    },
    "hidden": true
   },
   "outputs": [
    {
     "data": {
      "text/html": [
       "<div>\n",
       "<style scoped>\n",
       "    .dataframe tbody tr th:only-of-type {\n",
       "        vertical-align: middle;\n",
       "    }\n",
       "\n",
       "    .dataframe tbody tr th {\n",
       "        vertical-align: top;\n",
       "    }\n",
       "\n",
       "    .dataframe thead th {\n",
       "        text-align: right;\n",
       "    }\n",
       "</style>\n",
       "<table border=\"1\" class=\"dataframe\">\n",
       "  <thead>\n",
       "    <tr style=\"text-align: right;\">\n",
       "      <th></th>\n",
       "      <th>user_id</th>\n",
       "      <th>order_id_history</th>\n",
       "      <th>num_orders</th>\n",
       "    </tr>\n",
       "  </thead>\n",
       "  <tbody>\n",
       "    <tr>\n",
       "      <td>0</td>\n",
       "      <td>1</td>\n",
       "      <td>[[1, 2539329], [2, 2398795], [3, 473747], [4, ...</td>\n",
       "      <td>11</td>\n",
       "    </tr>\n",
       "  </tbody>\n",
       "</table>\n",
       "</div>"
      ],
      "text/plain": [
       "   user_id                                   order_id_history  num_orders\n",
       "0        1  [[1, 2539329], [2, 2398795], [3, 473747], [4, ...          11"
      ]
     },
     "execution_count": 345,
     "metadata": {},
     "output_type": "execute_result"
    }
   ],
   "source": [
    "df_user_profs.head(1)"
   ]
  },
  {
   "cell_type": "markdown",
   "metadata": {
    "hidden": true
   },
   "source": [
    "### Unique Order Count (User)"
   ]
  },
  {
   "cell_type": "code",
   "execution_count": 346,
   "metadata": {
    "ExecuteTime": {
     "end_time": "2019-10-18T00:37:47.526768Z",
     "start_time": "2019-10-18T00:37:47.512011Z"
    },
    "hidden": true,
    "scrolled": false
   },
   "outputs": [
    {
     "data": {
      "text/html": [
       "<div>\n",
       "<style scoped>\n",
       "    .dataframe tbody tr th:only-of-type {\n",
       "        vertical-align: middle;\n",
       "    }\n",
       "\n",
       "    .dataframe tbody tr th {\n",
       "        vertical-align: top;\n",
       "    }\n",
       "\n",
       "    .dataframe thead th {\n",
       "        text-align: right;\n",
       "    }\n",
       "</style>\n",
       "<table border=\"1\" class=\"dataframe\">\n",
       "  <thead>\n",
       "    <tr style=\"text-align: right;\">\n",
       "      <th></th>\n",
       "      <th>user_id</th>\n",
       "      <th>order_id_history</th>\n",
       "      <th>num_orders</th>\n",
       "    </tr>\n",
       "  </thead>\n",
       "  <tbody>\n",
       "    <tr>\n",
       "      <td>0</td>\n",
       "      <td>1</td>\n",
       "      <td>[[1, 2539329], [2, 2398795], [3, 473747], [4, ...</td>\n",
       "      <td>11</td>\n",
       "    </tr>\n",
       "    <tr>\n",
       "      <td>1</td>\n",
       "      <td>2</td>\n",
       "      <td>[[1, 2168274], [2, 1501582], [3, 1901567], [4,...</td>\n",
       "      <td>15</td>\n",
       "    </tr>\n",
       "  </tbody>\n",
       "</table>\n",
       "</div>"
      ],
      "text/plain": [
       "   user_id                                   order_id_history  num_orders\n",
       "0        1  [[1, 2539329], [2, 2398795], [3, 473747], [4, ...          11\n",
       "1        2  [[1, 2168274], [2, 1501582], [3, 1901567], [4,...          15"
      ]
     },
     "execution_count": 346,
     "metadata": {},
     "output_type": "execute_result"
    }
   ],
   "source": [
    "df_user_profs['num_orders'] = df_user_profs.order_id_history.apply(lambda x: len(x))\n",
    "df_user_profs.head(2)"
   ]
  },
  {
   "cell_type": "code",
   "execution_count": 350,
   "metadata": {
    "ExecuteTime": {
     "end_time": "2019-10-18T00:39:19.404748Z",
     "start_time": "2019-10-18T00:39:19.365924Z"
    },
    "hidden": true
   },
   "outputs": [
    {
     "data": {
      "text/html": [
       "<div>\n",
       "<style scoped>\n",
       "    .dataframe tbody tr th:only-of-type {\n",
       "        vertical-align: middle;\n",
       "    }\n",
       "\n",
       "    .dataframe tbody tr th {\n",
       "        vertical-align: top;\n",
       "    }\n",
       "\n",
       "    .dataframe thead th {\n",
       "        text-align: right;\n",
       "    }\n",
       "</style>\n",
       "<table border=\"1\" class=\"dataframe\">\n",
       "  <thead>\n",
       "    <tr style=\"text-align: right;\">\n",
       "      <th></th>\n",
       "      <th>order_id</th>\n",
       "      <th>product_id</th>\n",
       "      <th>add_to_cart_order</th>\n",
       "      <th>reordered</th>\n",
       "    </tr>\n",
       "    <tr>\n",
       "      <th>order_id</th>\n",
       "      <th></th>\n",
       "      <th></th>\n",
       "      <th></th>\n",
       "      <th></th>\n",
       "    </tr>\n",
       "  </thead>\n",
       "  <tbody>\n",
       "    <tr>\n",
       "      <td>40</td>\n",
       "      <td>1</td>\n",
       "      <td>4</td>\n",
       "      <td>4</td>\n",
       "      <td>1</td>\n",
       "    </tr>\n",
       "    <tr>\n",
       "      <td>988</td>\n",
       "      <td>1</td>\n",
       "      <td>4</td>\n",
       "      <td>4</td>\n",
       "      <td>2</td>\n",
       "    </tr>\n",
       "    <tr>\n",
       "      <td>1483</td>\n",
       "      <td>1</td>\n",
       "      <td>12</td>\n",
       "      <td>12</td>\n",
       "      <td>2</td>\n",
       "    </tr>\n",
       "    <tr>\n",
       "      <td>2199</td>\n",
       "      <td>1</td>\n",
       "      <td>15</td>\n",
       "      <td>15</td>\n",
       "      <td>2</td>\n",
       "    </tr>\n",
       "    <tr>\n",
       "      <td>2593</td>\n",
       "      <td>1</td>\n",
       "      <td>5</td>\n",
       "      <td>5</td>\n",
       "      <td>2</td>\n",
       "    </tr>\n",
       "    <tr>\n",
       "      <td>...</td>\n",
       "      <td>...</td>\n",
       "      <td>...</td>\n",
       "      <td>...</td>\n",
       "      <td>...</td>\n",
       "    </tr>\n",
       "    <tr>\n",
       "      <td>3417487</td>\n",
       "      <td>1</td>\n",
       "      <td>3</td>\n",
       "      <td>3</td>\n",
       "      <td>2</td>\n",
       "    </tr>\n",
       "    <tr>\n",
       "      <td>3417792</td>\n",
       "      <td>1</td>\n",
       "      <td>2</td>\n",
       "      <td>2</td>\n",
       "      <td>1</td>\n",
       "    </tr>\n",
       "    <tr>\n",
       "      <td>3418806</td>\n",
       "      <td>1</td>\n",
       "      <td>14</td>\n",
       "      <td>14</td>\n",
       "      <td>2</td>\n",
       "    </tr>\n",
       "    <tr>\n",
       "      <td>3419231</td>\n",
       "      <td>1</td>\n",
       "      <td>8</td>\n",
       "      <td>8</td>\n",
       "      <td>2</td>\n",
       "    </tr>\n",
       "    <tr>\n",
       "      <td>3420572</td>\n",
       "      <td>1</td>\n",
       "      <td>15</td>\n",
       "      <td>15</td>\n",
       "      <td>2</td>\n",
       "    </tr>\n",
       "  </tbody>\n",
       "</table>\n",
       "<p>7958 rows × 4 columns</p>\n",
       "</div>"
      ],
      "text/plain": [
       "          order_id  product_id  add_to_cart_order  reordered\n",
       "order_id                                                    \n",
       "40               1           4                  4          1\n",
       "988              1           4                  4          2\n",
       "1483             1          12                 12          2\n",
       "2199             1          15                 15          2\n",
       "2593             1           5                  5          2\n",
       "...            ...         ...                ...        ...\n",
       "3417487          1           3                  3          2\n",
       "3417792          1           2                  2          1\n",
       "3418806          1          14                 14          2\n",
       "3419231          1           8                  8          2\n",
       "3420572          1          15                 15          2\n",
       "\n",
       "[7958 rows x 4 columns]"
      ]
     },
     "execution_count": 350,
     "metadata": {},
     "output_type": "execute_result"
    }
   ],
   "source": [
    "\n",
    "df_order_prods[].groupby('order_id').agg('nunique')"
   ]
  },
  {
   "cell_type": "markdown",
   "metadata": {
    "hidden": true
   },
   "source": [
    "### Order Sizes (User)"
   ]
  },
  {
   "cell_type": "code",
   "execution_count": 309,
   "metadata": {
    "ExecuteTime": {
     "end_time": "2019-10-18T00:29:16.923647Z",
     "start_time": "2019-10-18T00:29:16.912756Z"
    },
    "hidden": true
   },
   "outputs": [
    {
     "data": {
      "text/html": [
       "<div>\n",
       "<style scoped>\n",
       "    .dataframe tbody tr th:only-of-type {\n",
       "        vertical-align: middle;\n",
       "    }\n",
       "\n",
       "    .dataframe tbody tr th {\n",
       "        vertical-align: top;\n",
       "    }\n",
       "\n",
       "    .dataframe thead th {\n",
       "        text-align: right;\n",
       "    }\n",
       "</style>\n",
       "<table border=\"1\" class=\"dataframe\">\n",
       "  <thead>\n",
       "    <tr style=\"text-align: right;\">\n",
       "      <th></th>\n",
       "      <th>order_id</th>\n",
       "      <th>product_id</th>\n",
       "      <th>add_to_cart_order</th>\n",
       "      <th>reordered</th>\n",
       "    </tr>\n",
       "    <tr>\n",
       "      <th>order_id</th>\n",
       "      <th></th>\n",
       "      <th></th>\n",
       "      <th></th>\n",
       "      <th></th>\n",
       "    </tr>\n",
       "  </thead>\n",
       "  <tbody>\n",
       "    <tr>\n",
       "      <td>2539329</td>\n",
       "      <td>1</td>\n",
       "      <td>5</td>\n",
       "      <td>5</td>\n",
       "      <td>1</td>\n",
       "    </tr>\n",
       "  </tbody>\n",
       "</table>\n",
       "</div>"
      ],
      "text/plain": [
       "          order_id  product_id  add_to_cart_order  reordered\n",
       "order_id                                                    \n",
       "2539329          1           5                  5          1"
      ]
     },
     "execution_count": 309,
     "metadata": {},
     "output_type": "execute_result"
    }
   ],
   "source": [
    "(df_order_prods[df_order_prods.order_id == 2539329]\n",
    "                              .groupby('order_id')\n",
    ").agg('nunique')['product_id']"
   ]
  },
  {
   "cell_type": "code",
   "execution_count": 366,
   "metadata": {
    "ExecuteTime": {
     "end_time": "2019-10-18T00:47:15.371535Z",
     "start_time": "2019-10-18T00:47:13.639217Z"
    },
    "hidden": true,
    "scrolled": true
   },
   "outputs": [
    {
     "data": {
      "text/html": [
       "<div>\n",
       "<style scoped>\n",
       "    .dataframe tbody tr th:only-of-type {\n",
       "        vertical-align: middle;\n",
       "    }\n",
       "\n",
       "    .dataframe tbody tr th {\n",
       "        vertical-align: top;\n",
       "    }\n",
       "\n",
       "    .dataframe thead th {\n",
       "        text-align: right;\n",
       "    }\n",
       "</style>\n",
       "<table border=\"1\" class=\"dataframe\">\n",
       "  <thead>\n",
       "    <tr style=\"text-align: right;\">\n",
       "      <th></th>\n",
       "      <th>user_id</th>\n",
       "      <th>order_id_history</th>\n",
       "      <th>num_orders</th>\n",
       "      <th>avg_order_sizes</th>\n",
       "    </tr>\n",
       "  </thead>\n",
       "  <tbody>\n",
       "    <tr>\n",
       "      <td>0</td>\n",
       "      <td>1</td>\n",
       "      <td>[[1, 2539329], [2, 2398795], [3, 473747], [4, ...</td>\n",
       "      <td>11</td>\n",
       "      <td>6.363636</td>\n",
       "    </tr>\n",
       "    <tr>\n",
       "      <td>1</td>\n",
       "      <td>2</td>\n",
       "      <td>[[1, 2168274], [2, 1501582], [3, 1901567], [4,...</td>\n",
       "      <td>15</td>\n",
       "      <td>15.066667</td>\n",
       "    </tr>\n",
       "    <tr>\n",
       "      <td>2</td>\n",
       "      <td>3</td>\n",
       "      <td>[[1, 1374495], [2, 444309], [3, 3002854], [4, ...</td>\n",
       "      <td>13</td>\n",
       "      <td>7.333333</td>\n",
       "    </tr>\n",
       "    <tr>\n",
       "      <td>3</td>\n",
       "      <td>4</td>\n",
       "      <td>[[1, 3343014], [2, 2030307], [3, 691089], [4, ...</td>\n",
       "      <td>6</td>\n",
       "      <td>3.600000</td>\n",
       "    </tr>\n",
       "    <tr>\n",
       "      <td>4</td>\n",
       "      <td>5</td>\n",
       "      <td>[[1, 2717275], [2, 1909121], [3, 2267326], [4,...</td>\n",
       "      <td>5</td>\n",
       "      <td>9.200000</td>\n",
       "    </tr>\n",
       "  </tbody>\n",
       "</table>\n",
       "</div>"
      ],
      "text/plain": [
       "   user_id                                   order_id_history  num_orders  \\\n",
       "0        1  [[1, 2539329], [2, 2398795], [3, 473747], [4, ...          11   \n",
       "1        2  [[1, 2168274], [2, 1501582], [3, 1901567], [4,...          15   \n",
       "2        3  [[1, 1374495], [2, 444309], [3, 3002854], [4, ...          13   \n",
       "3        4  [[1, 3343014], [2, 2030307], [3, 691089], [4, ...           6   \n",
       "4        5  [[1, 2717275], [2, 1909121], [3, 2267326], [4,...           5   \n",
       "\n",
       "   avg_order_sizes  \n",
       "0         6.363636  \n",
       "1        15.066667  \n",
       "2         7.333333  \n",
       "3         3.600000  \n",
       "4         9.200000  "
      ]
     },
     "execution_count": 366,
     "metadata": {},
     "output_type": "execute_result"
    }
   ],
   "source": [
    "run_limit = 5\n",
    "run_count = 0\n",
    "\n",
    "def avg_user_order_sizes(order_id_history, df_order_prods):\n",
    "    \n",
    "#     global run_count\n",
    "#     global run_limit\n",
    "    \n",
    "#     run_count += 1\n",
    "#     if run_count > run_limit:\n",
    "#         return 0\n",
    "\n",
    "    \n",
    "#     print(order_id_history)\n",
    "    order_id_list = order_id_history[:,1]\n",
    "#     print(order_id_list)\n",
    "#     print(type(order_id_list))\n",
    "\n",
    "    avg_order_size = (\n",
    "        df_order_prods[df_order_prods.order_id.isin(order_id_list)]              \n",
    "        .groupby('order_id')\n",
    "        .agg('nunique')\n",
    "    ).mean()['product_id']\n",
    "\n",
    "#     print(avg_order_size)\n",
    "    return avg_order_size\n",
    "\n",
    "df_user_profs['avg_order_sizes'] = (df_user_profs.order_id_history\n",
    "                                    .apply(avg_user_order_sizes, df_order_prods=df_order_prods)\n",
    "                                   )\n",
    "\n",
    "df_user_profs.head()"
   ]
  },
  {
   "cell_type": "code",
   "execution_count": null,
   "metadata": {
    "hidden": true
   },
   "outputs": [],
   "source": []
  },
  {
   "cell_type": "code",
   "execution_count": 133,
   "metadata": {
    "ExecuteTime": {
     "end_time": "2019-10-16T21:14:43.943689Z",
     "start_time": "2019-10-16T21:14:43.930491Z"
    },
    "hidden": true
   },
   "outputs": [
    {
     "data": {
      "text/plain": [
       "count              499\n",
       "unique             499\n",
       "top       [2, 1, 2, 2]\n",
       "freq                 1\n",
       "Name: prior_order_sizes, dtype: object"
      ]
     },
     "execution_count": 133,
     "metadata": {},
     "output_type": "execute_result"
    }
   ],
   "source": [
    "user_hist.prior_order_sizes.describe()"
   ]
  },
  {
   "cell_type": "markdown",
   "metadata": {
    "hidden": true
   },
   "source": [
    "### Average Products / Order (User)"
   ]
  },
  {
   "cell_type": "code",
   "execution_count": 135,
   "metadata": {
    "ExecuteTime": {
     "end_time": "2019-10-16T21:16:48.368618Z",
     "start_time": "2019-10-16T21:16:48.350731Z"
    },
    "hidden": true,
    "scrolled": true
   },
   "outputs": [
    {
     "data": {
      "text/html": [
       "<div>\n",
       "<style scoped>\n",
       "    .dataframe tbody tr th:only-of-type {\n",
       "        vertical-align: middle;\n",
       "    }\n",
       "\n",
       "    .dataframe tbody tr th {\n",
       "        vertical-align: top;\n",
       "    }\n",
       "\n",
       "    .dataframe thead th {\n",
       "        text-align: right;\n",
       "    }\n",
       "</style>\n",
       "<table border=\"1\" class=\"dataframe\">\n",
       "  <thead>\n",
       "    <tr style=\"text-align: right;\">\n",
       "      <th></th>\n",
       "      <th>order_count</th>\n",
       "      <th>prior_order_sizes</th>\n",
       "      <th>avg_ppo</th>\n",
       "    </tr>\n",
       "    <tr>\n",
       "      <th>user_id</th>\n",
       "      <th></th>\n",
       "      <th></th>\n",
       "      <th></th>\n",
       "    </tr>\n",
       "  </thead>\n",
       "  <tbody>\n",
       "    <tr>\n",
       "      <td>1</td>\n",
       "      <td>15.0</td>\n",
       "      <td>[13, 6, 5, 13, 13, 21, 14, 16, 26, 9, 15, 19, ...</td>\n",
       "      <td>13.928571</td>\n",
       "    </tr>\n",
       "    <tr>\n",
       "      <td>2</td>\n",
       "      <td>13.0</td>\n",
       "      <td>[10, 9, 6, 5, 11, 8, 9, 8, 5, 6, 5, 6]</td>\n",
       "      <td>7.333333</td>\n",
       "    </tr>\n",
       "    <tr>\n",
       "      <td>3</td>\n",
       "      <td>6.0</td>\n",
       "      <td>[4, 2, 7, 2, 3]</td>\n",
       "      <td>3.600000</td>\n",
       "    </tr>\n",
       "    <tr>\n",
       "      <td>4</td>\n",
       "      <td>5.0</td>\n",
       "      <td>[11, 9, 5, 12]</td>\n",
       "      <td>9.250000</td>\n",
       "    </tr>\n",
       "    <tr>\n",
       "      <td>5</td>\n",
       "      <td>4.0</td>\n",
       "      <td>[4, 7, 3]</td>\n",
       "      <td>4.666667</td>\n",
       "    </tr>\n",
       "  </tbody>\n",
       "</table>\n",
       "</div>"
      ],
      "text/plain": [
       "         order_count                                  prior_order_sizes  \\\n",
       "user_id                                                                   \n",
       "1               15.0  [13, 6, 5, 13, 13, 21, 14, 16, 26, 9, 15, 19, ...   \n",
       "2               13.0             [10, 9, 6, 5, 11, 8, 9, 8, 5, 6, 5, 6]   \n",
       "3                6.0                                    [4, 2, 7, 2, 3]   \n",
       "4                5.0                                     [11, 9, 5, 12]   \n",
       "5                4.0                                          [4, 7, 3]   \n",
       "\n",
       "           avg_ppo  \n",
       "user_id             \n",
       "1        13.928571  \n",
       "2         7.333333  \n",
       "3         3.600000  \n",
       "4         9.250000  \n",
       "5         4.666667  "
      ]
     },
     "execution_count": 135,
     "metadata": {},
     "output_type": "execute_result"
    }
   ],
   "source": [
    "user_hist['avg_ppo'] = user_hist.prior_order_sizes.apply(np.mean)\n",
    "user_hist.head()"
   ]
  },
  {
   "cell_type": "code",
   "execution_count": null,
   "metadata": {
    "hidden": true
   },
   "outputs": [],
   "source": [
    "d"
   ]
  },
  {
   "cell_type": "markdown",
   "metadata": {
    "hidden": true
   },
   "source": [
    "### Departmental Unique Check-ins Dictionary (User)"
   ]
  },
  {
   "cell_type": "code",
   "execution_count": null,
   "metadata": {
    "hidden": true
   },
   "outputs": [],
   "source": [
    "# Create a dictionary with department IDs as keys\n",
    "# each value is the number of unique department check-ins.\n",
    "# i.e. An order with two products from the same department\n",
    "# should count as 1 unique check-in.\n",
    "\n",
    "user_hist['dept_dict'] = dict(zip(depts.department_id.values,0*depts.department_id.values))\n",
    "\n",
    "def unique_dept_checkins(user_id, orders, order_prods, subset='prior'):\n",
    "    \n",
    "    user_orders = orders[(orders.user_id == user_id) & (orders.eval_set == subset)]\n",
    "    \n",
    "    gb_order = user_orders.groupby('order_id')\n",
    "    \n",
    "    \n",
    "    \n",
    "    for group in gb_order:\n",
    "        \n",
    "        \n",
    "    \n",
    "    \n",
    "    return order_sizes\n",
    "\n",
    "\n",
    "user_hist['prior_order_sizes'] = pd.Series(user_hist.index.values).apply(\n",
    "    order_sizes,\n",
    "    orders=orders,\n",
    "    order_prods=all_order_prods\n",
    ")"
   ]
  },
  {
   "cell_type": "markdown",
   "metadata": {
    "hidden": true
   },
   "source": [
    "### Total Orders to Date (User)"
   ]
  },
  {
   "cell_type": "markdown",
   "metadata": {
    "hidden": true
   },
   "source": [
    "### Unique Orders (User)"
   ]
  },
  {
   "cell_type": "code",
   "execution_count": 80,
   "metadata": {
    "ExecuteTime": {
     "end_time": "2019-10-16T20:21:45.904703Z",
     "start_time": "2019-10-16T20:21:45.901724Z"
    },
    "hidden": true
   },
   "outputs": [],
   "source": [
    "# add a column which counts total unique orders\n",
    "# "
   ]
  },
  {
   "cell_type": "code",
   "execution_count": 1,
   "metadata": {
    "ExecuteTime": {
     "end_time": "2019-10-16T01:21:41.126016Z",
     "start_time": "2019-10-16T01:21:40.527648Z"
    },
    "hidden": true
   },
   "outputs": [],
   "source": [
    "import pandas as pd\n",
    "\n",
    "aisles_df = pd.read_csv('../data/instacart-market-basket-analysis/aisles.csv')\n",
    "# aisles_df = pd.read_csv('../data/instacart-market-basket-analysis/aisles.csv')\n"
   ]
  },
  {
   "cell_type": "markdown",
   "metadata": {},
   "source": [
    "# Department Profiles"
   ]
  },
  {
   "cell_type": "code",
   "execution_count": null,
   "metadata": {},
   "outputs": [],
   "source": [
    "# Create a department dataframe\n",
    "\n",
    "df_user_profs = pd.DataFrame()\n",
    "df_user_profs['user_id'] = user_subset\n",
    "# df_user_profs.set_index('user_id', inplace=True)\n",
    "df_user_profs.head(3)"
   ]
  },
  {
   "cell_type": "markdown",
   "metadata": {},
   "source": [
    "# Aisle Profiles"
   ]
  },
  {
   "cell_type": "markdown",
   "metadata": {},
   "source": [
    "# Product Profiles"
   ]
  },
  {
   "cell_type": "markdown",
   "metadata": {},
   "source": [
    "# Product Profiles"
   ]
  },
  {
   "cell_type": "markdown",
   "metadata": {
    "heading_collapsed": true
   },
   "source": [
    "# AWS / SQL Stuff"
   ]
  },
  {
   "cell_type": "code",
   "execution_count": null,
   "metadata": {
    "hidden": true
   },
   "outputs": [],
   "source": [
    "from psycopg2 import connect\n",
    "from psycopg2.extensions import ISOLATION_LEVEL_AUTOCOMMIT\n",
    "\n",
    "params = {\n",
    "    'host': '18.220.115.81',\n",
    "    'user': 'ubuntu',\n",
    "    'port': 5432\n",
    "    \n",
    "# Connect and create database, disconnect, and reconnect to the right database\n",
    "connection = connect(**params, dbname='ubuntu')\n",
    "connection.set_isolation_level(ISOLATION_LEVEL_AUTOCOMMIT)\n",
    "connection.cursor().execute('CREATE DATABASE store;')\n",
    "connection.close()"
   ]
  }
 ],
 "metadata": {
  "kernelspec": {
   "display_name": "Python 3",
   "language": "python",
   "name": "python3"
  },
  "language_info": {
   "codemirror_mode": {
    "name": "ipython",
    "version": 3
   },
   "file_extension": ".py",
   "mimetype": "text/x-python",
   "name": "python",
   "nbconvert_exporter": "python",
   "pygments_lexer": "ipython3",
   "version": "3.7.4"
  },
  "notify_time": "5",
  "toc": {
   "base_numbering": 1,
   "nav_menu": {
    "height": "480px",
    "width": "542.986px"
   },
   "number_sections": false,
   "sideBar": true,
   "skip_h1_title": false,
   "title_cell": "Table of Contents",
   "title_sidebar": "Contents",
   "toc_cell": false,
   "toc_position": {
    "height": "616.667px",
    "left": "1280px",
    "top": "109.723px",
    "width": "290.764px"
   },
   "toc_section_display": true,
   "toc_window_display": true
  },
  "varInspector": {
   "cols": {
    "lenName": 16,
    "lenType": 16,
    "lenVar": 40
   },
   "kernels_config": {
    "python": {
     "delete_cmd_postfix": "",
     "delete_cmd_prefix": "del ",
     "library": "var_list.py",
     "varRefreshCmd": "print(var_dic_list())"
    },
    "r": {
     "delete_cmd_postfix": ") ",
     "delete_cmd_prefix": "rm(",
     "library": "var_list.r",
     "varRefreshCmd": "cat(var_dic_list()) "
    }
   },
   "position": {
    "height": "415.99px",
    "left": "762.455px",
    "right": "20px",
    "top": "121.997px",
    "width": "670.538px"
   },
   "types_to_exclude": [
    "module",
    "function",
    "builtin_function_or_method",
    "instance",
    "_Feature"
   ],
   "window_display": false
  }
 },
 "nbformat": 4,
 "nbformat_minor": 2
}
