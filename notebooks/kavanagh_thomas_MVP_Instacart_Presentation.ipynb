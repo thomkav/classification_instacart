{
 "cells": [
  {
   "cell_type": "code",
   "execution_count": 4,
   "metadata": {
    "ExecuteTime": {
     "end_time": "2019-10-24T14:43:27.815233Z",
     "start_time": "2019-10-24T14:43:27.810225Z"
    }
   },
   "outputs": [],
   "source": [
    "import pandas as pd\n",
    "\n",
    "import seaborn as sns\n",
    "import matplotlib.pyplot as plt\n",
    "\n",
    "sns.set()\n",
    "\n",
    "%matplotlib inline"
   ]
  },
  {
   "cell_type": "markdown",
   "metadata": {},
   "source": [
    "The problem statement proposed by the Kaggle dataset is to predict whether previously ordered elements will be reordered in the user's latest cart.\n",
    "\n",
    "My ambition is to create a dynamic shopping cart recommendation system for deployment in the Instacart shopping interface.\n",
    "\n",
    "The cart-\"completer\" panel in this system would offer a limited set of recommendations (~5) in a visible panel. Those recommendations would ideally be updated as the user fills out their cart.\n",
    "\n",
    "At the moment, __I'm trying to optimize precision__. I want the highest percentage of products I recommend to be ones that are actually ordered by the user.\n",
    "\n",
    "Down the line, I hope to rank the probabilities of products, adjust the recommendation threshold, and display a window with 5-10 of the most likely products."
   ]
  },
  {
   "cell_type": "markdown",
   "metadata": {},
   "source": [
    "### features\n",
    "\n",
    "Currently I've included the following features into my model. I've passed these features to KNN, \n",
    "\n",
    "target = 'reordered'\n",
    "\n",
    "features:\n",
    "\n",
    "`'user_id',` # Maybe the user_id is still useful to the classifier? In case there are outlier users?\n",
    "\n",
    "`'product_id', 'aisle_id', 'department_id',` ### IDs specific to the product we're predicting\n",
    "\n",
    "`'prev_order_ct', 'dept_visits', 'aisle_visits', 'avg_order_size',` ### User Metrics\n",
    "\n",
    "`'prod_hod_mean', 'prod_hod_var',` ### Average Time of Day for specific user-product\n",
    "\n",
    "`'order_number', 'order_dow', 'order_hour_of_day',` ### Order information (\"When is the user logging in?\")\n",
    "\n",
    "`'days_since_prior_order'`, ### User Information\n",
    "\n",
    "`'prod_hod_delta', 'prod_hod_delta_w'` ### Interaction of Log in time and Average product order time"
   ]
  },
  {
   "cell_type": "markdown",
   "metadata": {},
   "source": [
    "# Model Performance, Baseline, Random Forest, and XGB\n",
    "\n",
    "Parameters for these specific models have not been optimized.\n",
    "\n",
    "The Baseline model predicts `reordered = 0` for every record.\n"
   ]
  },
  {
   "cell_type": "code",
   "execution_count": 44,
   "metadata": {
    "ExecuteTime": {
     "end_time": "2019-10-24T15:01:53.505432Z",
     "start_time": "2019-10-24T15:01:53.497984Z"
    }
   },
   "outputs": [],
   "source": [
    "scores = (\n",
    "    [\n",
    "    ['model', 'train_precision', 'train_f1', 'val_precision', 'val_f1_score'],\n",
    "    ['Baseline, predict 0', 0.06463622731268422, 0.12142406139200546, 0.06421591437878083, 0.12068211630957586],\n",
    "    ['RF, 1000 est, depth 8', 1.0, 0.0392156862745098, 0.5, 0.009569377990430622],\n",
    "    ['XGB, 1000 est, depth 4', 0.9663865546218487, 0.5330243337195828, 0.5096153846153846, 0.20463320463320467],\n",
    "    ['XGB, 1000 est, depth 6', 0.9990049751243781, 0.8904656319290466, 0.4453125, 0.21033210332103322]\n",
    "]\n",
    ")\n",
    "\n",
    "scores_df = pd.DataFrame(scores[1:],columns = scores[0]).set_index('model')\n",
    "# data = pd.DataFrame(scores[1:],columns = scores[0])\n",
    "scores_df;"
   ]
  },
  {
   "cell_type": "code",
   "execution_count": 45,
   "metadata": {
    "ExecuteTime": {
     "end_time": "2019-10-24T15:01:54.117343Z",
     "start_time": "2019-10-24T15:01:53.856647Z"
    }
   },
   "outputs": [
    {
     "data": {
      "image/png": "[encoded data removed]",
      "text/plain": [
       "<Figure size 1080x360 with 1 Axes>"
      ]
     },
     "metadata": {
      "needs_background": "light"
     },
     "output_type": "display_data"
    }
   ],
   "source": [
    "fig, ax = plt.subplots(figsize=(15,5))\n",
    "\n",
    "data.plot(kind='bar', ax=ax)\n",
    "\n",
    "plt.xticks(rotation=0);"
   ]
  }
 ],
 "metadata": {
  "kernelspec": {
   "display_name": "Python 3",
   "language": "python",
   "name": "python3"
  },
  "language_info": {
   "codemirror_mode": {
    "name": "ipython",
    "version": 3
   },
   "file_extension": ".py",
   "mimetype": "text/x-python",
   "name": "python",
   "nbconvert_exporter": "python",
   "pygments_lexer": "ipython3",
   "version": "3.7.4"
  },
  "toc": {
   "base_numbering": 1,
   "nav_menu": {},
   "number_sections": false,
   "sideBar": true,
   "skip_h1_title": false,
   "title_cell": "Table of Contents",
   "title_sidebar": "Contents",
   "toc_cell": false,
   "toc_position": {},
   "toc_section_display": true,
   "toc_window_display": true
  },
  "varInspector": {
   "cols": {
    "lenName": 16,
    "lenType": 16,
    "lenVar": 40
   },
   "kernels_config": {
    "python": {
     "delete_cmd_postfix": "",
     "delete_cmd_prefix": "del ",
     "library": "var_list.py",
     "varRefreshCmd": "print(var_dic_list())"
    },
    "r": {
     "delete_cmd_postfix": ") ",
     "delete_cmd_prefix": "rm(",
     "library": "var_list.r",
     "varRefreshCmd": "cat(var_dic_list()) "
    }
   },
   "types_to_exclude": [
    "module",
    "function",
    "builtin_function_or_method",
    "instance",
    "_Feature"
   ],
   "window_display": false
  }
 },
 "nbformat": 4,
 "nbformat_minor": 2
}
