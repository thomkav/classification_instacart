{
 "cells": [
  {
   "cell_type": "markdown",
   "metadata": {},
   "source": [
    "Spinoff new notebooks from this one."
   ]
  },
  {
   "cell_type": "markdown",
   "metadata": {},
   "source": [
    "# Initialize Notebook"
   ]
  },
  {
   "cell_type": "markdown",
   "metadata": {},
   "source": [
    "## Imports"
   ]
  },
  {
   "cell_type": "code",
   "execution_count": 1,
   "metadata": {
    "ExecuteTime": {
     "end_time": "2019-10-22T12:35:21.908925Z",
     "start_time": "2019-10-22T12:35:20.875605Z"
    }
   },
   "outputs": [],
   "source": [
    "import math\n",
    "import random\n",
    "import pandas as pd\n",
    "import numpy as np\n",
    "import itertools as IT\n",
    "\n",
    "import os\n",
    "import sys\n",
    "\n",
    "from sklearn.linear_model import LogisticRegression\n",
    "from sklearn.metrics import f1_score, roc_auc_score\n",
    "\n",
    "import matplotlib.pyplot as plt\n",
    "import seaborn as sns\n",
    "sns.set()\n",
    "\n",
    "%config InlineBackend.figure_formats = ['retina']\n"
   ]
  },
  {
   "cell_type": "code",
   "execution_count": 2,
   "metadata": {
    "ExecuteTime": {
     "end_time": "2019-10-22T12:35:21.923232Z",
     "start_time": "2019-10-22T12:35:21.920724Z"
    }
   },
   "outputs": [],
   "source": [
    "# # Class to suppress printing in specific functions.\n",
    "# # Usage: add supress=True as an argument to a function.\n",
    "# # Wrap print statements inside the following:\n",
    "# #      with SuppressPrints():\n",
    "# #           {statements to control}\n",
    "# class SuppressPrints:\n",
    "#     # https://stackoverflow.com/questions/8391411/suppress-calls-to-print-python\n",
    "#     def __init__(self, suppress=True):\n",
    "#         self.suppress = suppress\n",
    "\n",
    "#     def __enter__(self):\n",
    "#         if self.suppress:\n",
    "#             self._original_stdout = sys.stdout\n",
    "#             sys.stdout = open(os.devnull, 'w')\n",
    "\n",
    "#     def __exit__(self, exc_type, exc_val, exc_tb):\n",
    "#         if self.suppress:\n",
    "#             sys.stdout.close()\n",
    "#             sys.stdout = self._original_stdout"
   ]
  },
  {
   "cell_type": "markdown",
   "metadata": {},
   "source": [
    "## Load Subset of Data into Pandas Dataframe"
   ]
  },
  {
   "cell_type": "code",
   "execution_count": 3,
   "metadata": {
    "ExecuteTime": {
     "end_time": "2019-10-22T12:35:21.989032Z",
     "start_time": "2019-10-22T12:35:21.934549Z"
    }
   },
   "outputs": [
    {
     "name": "stdout",
     "output_type": "stream",
     "text": [
      "(134, 2)\n",
      "(21, 2)\n",
      "(49688, 4)\n"
     ]
    }
   ],
   "source": [
    "df_aisle_index = pd.read_csv('../data/instacart-market-basket-analysis/aisles.csv')\n",
    "print(df_aisle_index.shape)\n",
    "df_dept_index = pd.read_csv('../data/instacart-market-basket-analysis/departments.csv')\n",
    "print(df_dept_index.shape)\n",
    "df_prod_index = pd.read_csv('../data/instacart-market-basket-analysis/products.csv')\n",
    "print(df_prod_index.shape)"
   ]
  },
  {
   "cell_type": "code",
   "execution_count": null,
   "metadata": {
    "ExecuteTime": {
     "end_time": "2019-10-18T01:22:42.189285Z",
     "start_time": "2019-10-18T01:22:42.181779Z"
    }
   },
   "outputs": [],
   "source": []
  },
  {
   "cell_type": "markdown",
   "metadata": {},
   "source": [
    "## Load Order Log, and Order Products"
   ]
  },
  {
   "cell_type": "code",
   "execution_count": 4,
   "metadata": {
    "ExecuteTime": {
     "end_time": "2019-10-22T12:35:22.338570Z",
     "start_time": "2019-10-22T12:35:22.334276Z"
    }
   },
   "outputs": [
    {
     "name": "stdout",
     "output_type": "stream",
     "text": [
      "generated user subset of size:  500\n"
     ]
    }
   ],
   "source": [
    "# define subset of data\n",
    "# Take a sample of the 10,000 users represented in the data\n",
    "\n",
    "# randomized version\n",
    "# np.random.seed(4444)\n",
    "# user_sample_list = np.random.choice(a=range(1,10000,1), size=300, replace=False)\n",
    "\n",
    "user_subset = range(1,501, 1)\n",
    "\n",
    "print('generated user subset of size: ', len(user_subset))"
   ]
  },
  {
   "cell_type": "code",
   "execution_count": 5,
   "metadata": {
    "ExecuteTime": {
     "end_time": "2019-10-22T12:35:22.643843Z",
     "start_time": "2019-10-22T12:35:22.636132Z"
    },
    "code_folding": []
   },
   "outputs": [],
   "source": [
    "# Create a generalized mask that filters rows\n",
    "# which are not applicable to the sampled users.\n",
    "#\n",
    "# masked_df = pd.DataFrame(\n",
    "#     columns=['user_id']\n",
    "# )\n",
    "#\n",
    "# user_mask = ([\n",
    "#     (masked_df.user_id.isin(user_sample_list))\n",
    "# ])\n",
    "\n",
    "df_orders_log = pd.DataFrame(\n",
    "    columns=['order_id','user_id','eval_set','order_number',\n",
    "             'order_dow','order_hour_of_day','days_since_prior_order']\n",
    ")\n",
    "\n",
    "# import the orders csv in chunks\n",
    "# filter out rows that aren't from the user sample\n",
    "# concatenate to the prior/train dataset\n",
    "\n",
    "\n",
    "def valid_user(chunks):\n",
    "    for chunk in chunks:\n",
    "        mask = chunk.user_id.isin(user_subset)\n",
    "        yield chunk.loc[mask]"
   ]
  },
  {
   "cell_type": "code",
   "execution_count": 6,
   "metadata": {
    "ExecuteTime": {
     "end_time": "2019-10-22T12:35:26.495412Z",
     "start_time": "2019-10-22T12:35:22.947560Z"
    }
   },
   "outputs": [],
   "source": [
    "# read in orders\n",
    "filename = '../data/instacart-market-basket-analysis/orders.csv'\n",
    "chunksize = 10 ** 4\n",
    "chunks = pd.read_csv(filename, chunksize=chunksize)\n",
    "df_orders_log = pd.concat(valid_user(chunks))"
   ]
  },
  {
   "cell_type": "code",
   "execution_count": 7,
   "metadata": {
    "ExecuteTime": {
     "end_time": "2019-10-22T12:35:26.559333Z",
     "start_time": "2019-10-22T12:35:26.549288Z"
    }
   },
   "outputs": [
    {
     "name": "stdout",
     "output_type": "stream",
     "text": [
      "0.960604 MB vs  108 MB\n"
     ]
    }
   ],
   "source": [
    "print(sys.getsizeof(df_orders_log)/1000000,'MB vs ',\n",
    "      os.stat('../data/instacart-market-basket-analysis/orders.csv').st_size//1000000,'MB')"
   ]
  },
  {
   "cell_type": "code",
   "execution_count": 8,
   "metadata": {
    "ExecuteTime": {
     "end_time": "2019-10-22T12:35:26.605387Z",
     "start_time": "2019-10-22T12:35:26.600356Z"
    }
   },
   "outputs": [
    {
     "name": "stdout",
     "output_type": "stream",
     "text": [
      "(8142,)\n"
     ]
    }
   ],
   "source": [
    "# compile a list of unique orders that originate from our user sample\n",
    "\n",
    "orders_subset = df_orders_log.order_id.unique()\n",
    "print(orders_subset.shape)\n",
    "\n",
    "def valid_order(chunks):\n",
    "    for chunk in chunks:\n",
    "        mask = chunk.order_id.isin(orders_subset)\n",
    "        yield chunk.loc[mask]"
   ]
  },
  {
   "cell_type": "code",
   "execution_count": 9,
   "metadata": {
    "ExecuteTime": {
     "end_time": "2019-10-22T12:35:48.501837Z",
     "start_time": "2019-10-22T12:35:26.651836Z"
    }
   },
   "outputs": [],
   "source": [
    "df_order_prods__prior = pd.DataFrame(\n",
    "    columns=['order_id','product_id','add_to_cart_order','reordered']\n",
    ")\n",
    "\n",
    "# import the prior/train_products csv in chunks\n",
    "# filter out rows that aren't from the user sample\n",
    "# concatenate to the prior/train dataset\n",
    "\n",
    "\n",
    "\n",
    "# read in order_prods_prior\n",
    "filename = '../data/instacart-market-basket-analysis/order_products__prior.csv'\n",
    "chunksize = 10 ** 4\n",
    "chunks = pd.read_csv(filename, chunksize=chunksize)\n",
    "df_order_prods__prior = pd.concat(valid_order(chunks))"
   ]
  },
  {
   "cell_type": "code",
   "execution_count": 10,
   "metadata": {
    "ExecuteTime": {
     "end_time": "2019-10-22T12:35:48.564938Z",
     "start_time": "2019-10-22T12:35:48.557575Z"
    },
    "scrolled": true
   },
   "outputs": [
    {
     "name": "stdout",
     "output_type": "stream",
     "text": [
      "3.097032 MB vs  577 MB\n",
      "(77425, 4)\n"
     ]
    }
   ],
   "source": [
    "print(sys.getsizeof(df_order_prods__prior)/1000000,'MB vs ',\n",
    "      os.stat('../data/instacart-market-basket-analysis/order_products__prior.csv').st_size//1000000,'MB')\n",
    "print(df_order_prods__prior.shape)"
   ]
  },
  {
   "cell_type": "code",
   "execution_count": 11,
   "metadata": {
    "ExecuteTime": {
     "end_time": "2019-10-22T12:35:49.580979Z",
     "start_time": "2019-10-22T12:35:48.622682Z"
    }
   },
   "outputs": [],
   "source": [
    "df_order_prods__train = pd.DataFrame(\n",
    "    columns=['order_id','product_id','add_to_cart_order']\n",
    ")\n",
    "\n",
    "# import the prior/train_products csv in chunks\n",
    "# filter out rows that aren't from the user sample\n",
    "# concatenate to the prior/train dataset\n",
    "\n",
    "# read in order_prods_prior\n",
    "filename = '../data/instacart-market-basket-analysis/order_products__train.csv'\n",
    "chunksize = 10 ** 4\n",
    "chunks = pd.read_csv(filename, chunksize=chunksize)\n",
    "df_order_prods__train = pd.concat(valid_order(chunks))"
   ]
  },
  {
   "cell_type": "code",
   "execution_count": 12,
   "metadata": {
    "ExecuteTime": {
     "end_time": "2019-10-22T12:35:49.642682Z",
     "start_time": "2019-10-22T12:35:49.637062Z"
    },
    "scrolled": true
   },
   "outputs": [
    {
     "name": "stdout",
     "output_type": "stream",
     "text": [
      "0.135472 MB vs  24 MB\n"
     ]
    }
   ],
   "source": [
    "print(sys.getsizeof(df_order_prods__train)/1000000,'MB vs ',\n",
    "      os.stat('../data/instacart-market-basket-analysis/order_products__train.csv').st_size//1000000,'MB')"
   ]
  },
  {
   "cell_type": "markdown",
   "metadata": {},
   "source": [
    "# Dynamic Cart Completions, Beginning Day 1, Batch Training"
   ]
  },
  {
   "cell_type": "markdown",
   "metadata": {},
   "source": [
    "This model proposes a dynamic shopping cart \"completer\" system for deployment in the Instacart shopping interface. Users with pre-determined shopping intent should receive quality of life improvement when the cart-completer displays the next\n",
    "\n",
    "The cart-completer panel in this instance offers a limited set of recommendations (~5) in a visible panel."
   ]
  },
  {
   "cell_type": "markdown",
   "metadata": {},
   "source": [
    "The model should be...\n",
    "\n",
    "### 1: Agnostic to the Amount of Data\n",
    "\n",
    "The model should be able to operate from day one, with limited observations.\n",
    "\n",
    "### 2: Evolve Strategy as Data Quality Increases\n",
    "\n",
    "The model will re-train at regular intervals across a stream of orders. Batches of orders represent days, at which point time-intensive re-train can take place."
   ]
  },
  {
   "cell_type": "markdown",
   "metadata": {},
   "source": [
    "# Model Evaluation Schema"
   ]
  },
  {
   "cell_type": "markdown",
   "metadata": {},
   "source": [
    "A custom evaluation metric has been calculated for this purpose. The cart-completer only needs one of it's 5-10 alloted recommendation slots to contain the next item."
   ]
  },
  {
   "cell_type": "markdown",
   "metadata": {},
   "source": [
    "### Baseline Algorithm: Recommend Products By Global Popularity"
   ]
  },
  {
   "cell_type": "markdown",
   "metadata": {},
   "source": [
    "As a baseline, let's create a simple algorithm that simply returns a random 5 products from the top 50 most popular products. We hope to do better than this algorithm by engineering all kinds of user- and product-specific features."
   ]
  },
  {
   "cell_type": "code",
   "execution_count": 13,
   "metadata": {
    "ExecuteTime": {
     "end_time": "2019-10-22T12:35:49.704291Z",
     "start_time": "2019-10-22T12:35:49.697562Z"
    },
    "code_folding": []
   },
   "outputs": [],
   "source": [
    "## NAIVE MODEL - Product Popularity Focused ##\n",
    "\n",
    "# code to return top 50 products\n",
    "# df_order_prods__prior.groupby('product_id').agg(\n",
    "#     {'order_id':'nunique'}\n",
    "# ).sort_values('order_id',ascending=False).index.values[:50]\n",
    "\n",
    "class NaiveTopProducts(object):\n",
    "    '''\n",
    "    \n",
    "    A naive product recommendation algorithm,\n",
    "    based on overal product popularity.\n",
    "    \n",
    "    '''\n",
    "    \n",
    "    def __init__(self):\n",
    "    \n",
    "        self.type = 'naive'\n",
    "    \n",
    "    def fit(self, order_train):\n",
    "        '''\n",
    "        \n",
    "        Pull top 50 products from dataframe.\n",
    "        \n",
    "        '''\n",
    "        \n",
    "        self.top100 = set(order_train.groupby('product_id').agg(\n",
    "            {'order_id':'nunique'}\n",
    "        ).sort_values('order_id',ascending=False).index.values[:100])\n",
    "        \n",
    "    def predict(self, n=5):\n",
    "        \n",
    "        return random.sample(self.top100, n)"
   ]
  },
  {
   "cell_type": "code",
   "execution_count": 14,
   "metadata": {
    "ExecuteTime": {
     "end_time": "2019-10-22T12:35:49.779161Z",
     "start_time": "2019-10-22T12:35:49.762093Z"
    },
    "scrolled": false
   },
   "outputs": [],
   "source": [
    "naive_model = NaiveTopProducts()\n",
    "naive_model.fit(df_order_prods__prior)\n",
    "preds = naive_model.predict()"
   ]
  },
  {
   "cell_type": "markdown",
   "metadata": {},
   "source": [
    "### Simulate Dynamic Product Recommendation"
   ]
  },
  {
   "cell_type": "code",
   "execution_count": 15,
   "metadata": {
    "ExecuteTime": {
     "end_time": "2019-10-22T12:35:49.841590Z",
     "start_time": "2019-10-22T12:35:49.833203Z"
    },
    "code_folding": []
   },
   "outputs": [],
   "source": [
    "def SimulateDynamicRec(order_rows, model, verbose=False):\n",
    "    \n",
    "    assert type(order_rows) == type(pd.DataFrame())\n",
    "    cart = set([])\n",
    "    \n",
    "    order_rows = order_rows.sort_values('add_to_cart_order')\n",
    "    \n",
    "    if verbose:\n",
    "        print('testing the following order:\\n', order_rows)\n",
    "    \n",
    "    total = 0\n",
    "    guessed = 0\n",
    "    \n",
    "    # progress through order one at a time\n",
    "    for index, row in order_rows.iterrows():\n",
    "        \n",
    "        ### Recommend 5 New Products ###\n",
    "        \n",
    "        try:\n",
    "            #### CHECK MODEL TYPE #####\n",
    "            model_type = model.type\n",
    "#             print('model type is: ', model_type)\n",
    "            if model_type in ['naive','reordered']:\n",
    "                recommendations = model.top100\n",
    "            \n",
    "            \n",
    "            # Exclude items already in cart.\n",
    "            rec5 = random.sample((recommendations - cart), 5)\n",
    "            \n",
    "        except:\n",
    "            #### OTHER MODELS #####\n",
    "            pass\n",
    "        \n",
    "        \n",
    "        total += 1\n",
    "        success = False\n",
    "        \n",
    "        actual_next = row['product_id']\n",
    "        \n",
    "        if actual_next in rec5:\n",
    "            success = True\n",
    "            guessed += 1\n",
    "        \n",
    "        # debug output\n",
    "        if verbose:\n",
    "#             print(f'Cart is {cart}.\\nRecommending {rec5}.')\n",
    "            if success:\n",
    "                print(f'Guessed {actual_next}!\\n')\n",
    "                continue\n",
    "            else:\n",
    "#                 print(f'Oops, {actual_next} wasn\\'t in recommendation list.')\n",
    "                continue\n",
    "        \n",
    "        cart.add(actual_next)\n",
    "    \n",
    "    # rel_pct = % of trials where recommendations were relevant to next purchase.\n",
    "    rel_pct = guessed/total\n",
    "    \n",
    "    if verbose:\n",
    "        print(f'Got {rel_pct}% right of {total}.')\n",
    "    \n",
    "    return rel_pct"
   ]
  },
  {
   "cell_type": "code",
   "execution_count": 16,
   "metadata": {
    "ExecuteTime": {
     "end_time": "2019-10-22T12:35:49.899078Z",
     "start_time": "2019-10-22T12:35:49.894387Z"
    },
    "scrolled": false
   },
   "outputs": [],
   "source": [
    "def DynamicRecScore(model, trials = 100):\n",
    "\n",
    "    relevancies = []\n",
    "    \n",
    "    unique_train_orders = set(df_order_prods__train.order_id.unique())\n",
    "#     print(len(unique_train_orders))\n",
    "    \n",
    "    # If there aren't enough training datapoints.\n",
    "    if trials > len(unique_train_orders):\n",
    "        trials = len(unique_train_orders)\n",
    "    \n",
    "    for order_id in random.sample(unique_train_orders, trials):\n",
    "        \n",
    "#         test_order = df_order_prods__train.sample().order_id.values[0]\n",
    "\n",
    "        test_order_rows = df_order_prods__train[df_order_prods__train.order_id == order_id]\n",
    "        rel_pct = SimulateDynamicRec(test_order_rows, model,verbose=False)\n",
    "        relevancies += [rel_pct]\n",
    "        \n",
    "    return np.mean(relevancies)"
   ]
  },
  {
   "cell_type": "markdown",
   "metadata": {},
   "source": [
    "## Score Naive Top Products Model"
   ]
  },
  {
   "cell_type": "markdown",
   "metadata": {},
   "source": [
    "Run simulation of user interactive with Naive Top Products as recommender."
   ]
  },
  {
   "cell_type": "code",
   "execution_count": 17,
   "metadata": {
    "ExecuteTime": {
     "end_time": "2019-10-22T12:35:53.517492Z",
     "start_time": "2019-10-22T12:35:49.955047Z"
    },
    "scrolled": false
   },
   "outputs": [
    {
     "name": "stdout",
     "output_type": "stream",
     "text": [
      "Mean dynamic suggestion relevancy score, Naive Algorithm, n=300:\n",
      "0.00937538738659981\n"
     ]
    }
   ],
   "source": [
    "# Simple cross validation of naive algorithm:\n",
    "\n",
    "n_trials = 300\n",
    "relevancies = []\n",
    "for i in range(5):\n",
    "    relevancies += [DynamicRecScore(model=naive_model, trials=n_trials)]\n",
    "    \n",
    "print(f'Mean dynamic suggestion relevancy score, Naive Algorithm, n={n_trials}:')\n",
    "print(np.mean(relevancies))"
   ]
  },
  {
   "cell_type": "markdown",
   "metadata": {},
   "source": [
    "## Merge all orders in log (for EDA)"
   ]
  },
  {
   "cell_type": "code",
   "execution_count": 45,
   "metadata": {
    "ExecuteTime": {
     "end_time": "2019-10-22T12:50:56.449775Z",
     "start_time": "2019-10-22T12:50:56.440145Z"
    }
   },
   "outputs": [
    {
     "data": {
      "text/html": [
       "<div>\n",
       "<style scoped>\n",
       "    .dataframe tbody tr th:only-of-type {\n",
       "        vertical-align: middle;\n",
       "    }\n",
       "\n",
       "    .dataframe tbody tr th {\n",
       "        vertical-align: top;\n",
       "    }\n",
       "\n",
       "    .dataframe thead th {\n",
       "        text-align: right;\n",
       "    }\n",
       "</style>\n",
       "<table border=\"1\" class=\"dataframe\">\n",
       "  <thead>\n",
       "    <tr style=\"text-align: right;\">\n",
       "      <th></th>\n",
       "      <th>order_id</th>\n",
       "      <th>user_id</th>\n",
       "      <th>eval_set</th>\n",
       "      <th>order_number</th>\n",
       "      <th>order_dow</th>\n",
       "      <th>order_hour_of_day</th>\n",
       "      <th>days_since_prior_order</th>\n",
       "    </tr>\n",
       "  </thead>\n",
       "  <tbody>\n",
       "    <tr>\n",
       "      <td>0</td>\n",
       "      <td>2539329</td>\n",
       "      <td>1</td>\n",
       "      <td>prior</td>\n",
       "      <td>1</td>\n",
       "      <td>2</td>\n",
       "      <td>8</td>\n",
       "      <td>NaN</td>\n",
       "    </tr>\n",
       "    <tr>\n",
       "      <td>1</td>\n",
       "      <td>2398795</td>\n",
       "      <td>1</td>\n",
       "      <td>prior</td>\n",
       "      <td>2</td>\n",
       "      <td>3</td>\n",
       "      <td>7</td>\n",
       "      <td>15.0</td>\n",
       "    </tr>\n",
       "    <tr>\n",
       "      <td>2</td>\n",
       "      <td>473747</td>\n",
       "      <td>1</td>\n",
       "      <td>prior</td>\n",
       "      <td>3</td>\n",
       "      <td>3</td>\n",
       "      <td>12</td>\n",
       "      <td>21.0</td>\n",
       "    </tr>\n",
       "    <tr>\n",
       "      <td>3</td>\n",
       "      <td>2254736</td>\n",
       "      <td>1</td>\n",
       "      <td>prior</td>\n",
       "      <td>4</td>\n",
       "      <td>4</td>\n",
       "      <td>7</td>\n",
       "      <td>29.0</td>\n",
       "    </tr>\n",
       "    <tr>\n",
       "      <td>4</td>\n",
       "      <td>431534</td>\n",
       "      <td>1</td>\n",
       "      <td>prior</td>\n",
       "      <td>5</td>\n",
       "      <td>4</td>\n",
       "      <td>15</td>\n",
       "      <td>28.0</td>\n",
       "    </tr>\n",
       "  </tbody>\n",
       "</table>\n",
       "</div>"
      ],
      "text/plain": [
       "   order_id  user_id eval_set  order_number  order_dow  order_hour_of_day  \\\n",
       "0   2539329        1    prior             1          2                  8   \n",
       "1   2398795        1    prior             2          3                  7   \n",
       "2    473747        1    prior             3          3                 12   \n",
       "3   2254736        1    prior             4          4                  7   \n",
       "4    431534        1    prior             5          4                 15   \n",
       "\n",
       "   days_since_prior_order  \n",
       "0                     NaN  \n",
       "1                    15.0  \n",
       "2                    21.0  \n",
       "3                    29.0  \n",
       "4                    28.0  "
      ]
     },
     "execution_count": 45,
     "metadata": {},
     "output_type": "execute_result"
    }
   ],
   "source": [
    "df_orders_log.head()"
   ]
  },
  {
   "cell_type": "code",
   "execution_count": 46,
   "metadata": {
    "ExecuteTime": {
     "end_time": "2019-10-22T12:51:20.629678Z",
     "start_time": "2019-10-22T12:51:20.621668Z"
    },
    "scrolled": true
   },
   "outputs": [
    {
     "data": {
      "text/html": [
       "<div>\n",
       "<style scoped>\n",
       "    .dataframe tbody tr th:only-of-type {\n",
       "        vertical-align: middle;\n",
       "    }\n",
       "\n",
       "    .dataframe tbody tr th {\n",
       "        vertical-align: top;\n",
       "    }\n",
       "\n",
       "    .dataframe thead th {\n",
       "        text-align: right;\n",
       "    }\n",
       "</style>\n",
       "<table border=\"1\" class=\"dataframe\">\n",
       "  <thead>\n",
       "    <tr style=\"text-align: right;\">\n",
       "      <th></th>\n",
       "      <th>order_id</th>\n",
       "      <th>product_id</th>\n",
       "      <th>add_to_cart_order</th>\n",
       "      <th>reordered</th>\n",
       "    </tr>\n",
       "  </thead>\n",
       "  <tbody>\n",
       "    <tr>\n",
       "      <td>0</td>\n",
       "      <td>40</td>\n",
       "      <td>10070</td>\n",
       "      <td>1</td>\n",
       "      <td>1</td>\n",
       "    </tr>\n",
       "    <tr>\n",
       "      <td>1</td>\n",
       "      <td>116744</td>\n",
       "      <td>10070</td>\n",
       "      <td>3</td>\n",
       "      <td>1</td>\n",
       "    </tr>\n",
       "    <tr>\n",
       "      <td>2</td>\n",
       "      <td>120295</td>\n",
       "      <td>10070</td>\n",
       "      <td>2</td>\n",
       "      <td>1</td>\n",
       "    </tr>\n",
       "    <tr>\n",
       "      <td>3</td>\n",
       "      <td>247775</td>\n",
       "      <td>10070</td>\n",
       "      <td>2</td>\n",
       "      <td>1</td>\n",
       "    </tr>\n",
       "    <tr>\n",
       "      <td>4</td>\n",
       "      <td>405284</td>\n",
       "      <td>10070</td>\n",
       "      <td>1</td>\n",
       "      <td>1</td>\n",
       "    </tr>\n",
       "  </tbody>\n",
       "</table>\n",
       "</div>"
      ],
      "text/plain": [
       "   order_id  product_id  add_to_cart_order  reordered\n",
       "0        40       10070                  1          1\n",
       "1    116744       10070                  3          1\n",
       "2    120295       10070                  2          1\n",
       "3    247775       10070                  2          1\n",
       "4    405284       10070                  1          1"
      ]
     },
     "execution_count": 46,
     "metadata": {},
     "output_type": "execute_result"
    }
   ],
   "source": [
    "df_order_prods__prior.head()"
   ]
  },
  {
   "cell_type": "markdown",
   "metadata": {},
   "source": [
    "# EDA"
   ]
  },
  {
   "cell_type": "markdown",
   "metadata": {},
   "source": [
    "Distributions of departments / aisles / products."
   ]
  },
  {
   "cell_type": "code",
   "execution_count": 55,
   "metadata": {
    "ExecuteTime": {
     "end_time": "2019-10-22T12:57:40.246305Z",
     "start_time": "2019-10-22T12:57:40.241707Z"
    },
    "scrolled": false
   },
   "outputs": [
    {
     "name": "stdout",
     "output_type": "stream",
     "text": [
      "number of products =  49688\n",
      "number of aisles =  134\n",
      "number of depts =  21\n"
     ]
    }
   ],
   "source": [
    "print('number of products = ', df_prod_index.shape[0])\n",
    "print('number of aisles = ', df_aisle_index.shape[0])\n",
    "print('number of depts = ', df_dept_index.shape[0])"
   ]
  },
  {
   "cell_type": "code",
   "execution_count": 30,
   "metadata": {
    "ExecuteTime": {
     "end_time": "2019-10-22T12:42:40.874076Z",
     "start_time": "2019-10-22T12:42:40.842610Z"
    },
    "scrolled": false
   },
   "outputs": [
    {
     "data": {
      "text/html": [
       "<div>\n",
       "<style scoped>\n",
       "    .dataframe tbody tr th:only-of-type {\n",
       "        vertical-align: middle;\n",
       "    }\n",
       "\n",
       "    .dataframe tbody tr th {\n",
       "        vertical-align: top;\n",
       "    }\n",
       "\n",
       "    .dataframe thead th {\n",
       "        text-align: right;\n",
       "    }\n",
       "</style>\n",
       "<table border=\"1\" class=\"dataframe\">\n",
       "  <thead>\n",
       "    <tr style=\"text-align: right;\">\n",
       "      <th></th>\n",
       "      <th>product_id</th>\n",
       "      <th>product_name</th>\n",
       "      <th>aisle_id</th>\n",
       "      <th>department_id</th>\n",
       "      <th>department</th>\n",
       "      <th>aisle</th>\n",
       "    </tr>\n",
       "  </thead>\n",
       "  <tbody>\n",
       "    <tr>\n",
       "      <td>0</td>\n",
       "      <td>1</td>\n",
       "      <td>Chocolate Sandwich Cookies</td>\n",
       "      <td>61</td>\n",
       "      <td>19</td>\n",
       "      <td>snacks</td>\n",
       "      <td>cookies cakes</td>\n",
       "    </tr>\n",
       "    <tr>\n",
       "      <td>1</td>\n",
       "      <td>78</td>\n",
       "      <td>Nutter Butter Cookie Bites Go-Pak</td>\n",
       "      <td>61</td>\n",
       "      <td>19</td>\n",
       "      <td>snacks</td>\n",
       "      <td>cookies cakes</td>\n",
       "    </tr>\n",
       "    <tr>\n",
       "      <td>2</td>\n",
       "      <td>102</td>\n",
       "      <td>Danish Butter Cookies</td>\n",
       "      <td>61</td>\n",
       "      <td>19</td>\n",
       "      <td>snacks</td>\n",
       "      <td>cookies cakes</td>\n",
       "    </tr>\n",
       "    <tr>\n",
       "      <td>3</td>\n",
       "      <td>172</td>\n",
       "      <td>Gluten Free All Natural Chocolate Chip Cookies</td>\n",
       "      <td>61</td>\n",
       "      <td>19</td>\n",
       "      <td>snacks</td>\n",
       "      <td>cookies cakes</td>\n",
       "    </tr>\n",
       "    <tr>\n",
       "      <td>4</td>\n",
       "      <td>285</td>\n",
       "      <td>Mini Nilla Wafers Munch Pack</td>\n",
       "      <td>61</td>\n",
       "      <td>19</td>\n",
       "      <td>snacks</td>\n",
       "      <td>cookies cakes</td>\n",
       "    </tr>\n",
       "  </tbody>\n",
       "</table>\n",
       "</div>"
      ],
      "text/plain": [
       "   product_id                                    product_name  aisle_id  \\\n",
       "0           1                      Chocolate Sandwich Cookies        61   \n",
       "1          78               Nutter Butter Cookie Bites Go-Pak        61   \n",
       "2         102                           Danish Butter Cookies        61   \n",
       "3         172  Gluten Free All Natural Chocolate Chip Cookies        61   \n",
       "4         285                    Mini Nilla Wafers Munch Pack        61   \n",
       "\n",
       "   department_id department          aisle  \n",
       "0             19     snacks  cookies cakes  \n",
       "1             19     snacks  cookies cakes  \n",
       "2             19     snacks  cookies cakes  \n",
       "3             19     snacks  cookies cakes  \n",
       "4             19     snacks  cookies cakes  "
      ]
     },
     "execution_count": 30,
     "metadata": {},
     "output_type": "execute_result"
    }
   ],
   "source": [
    "df_prod_dir = pd.merge(df_prod_index, df_dept_index, on='department_id')\n",
    "df_prod_dir = pd.merge(df_prod_dir, df_aisle_index, on='aisle_id')"
   ]
  },
  {
   "cell_type": "code",
   "execution_count": 53,
   "metadata": {
    "ExecuteTime": {
     "end_time": "2019-10-22T12:56:14.821250Z",
     "start_time": "2019-10-22T12:56:14.763841Z"
    },
    "scrolled": true
   },
   "outputs": [
    {
     "data": {
      "text/plain": [
       "Index(['order_id', 'product_id', 'add_to_cart_order', 'reordered',\n",
       "       'product_name', 'aisle_id', 'department_id', 'department', 'aisle',\n",
       "       'user_id', 'eval_set', 'order_number', 'order_dow', 'order_hour_of_day',\n",
       "       'days_since_prior_order'],\n",
       "      dtype='object')"
      ]
     },
     "execution_count": 53,
     "metadata": {},
     "output_type": "execute_result"
    }
   ],
   "source": [
    "# Make a order-product list with all possible information:\n",
    "df_all_order_prods = pd.concat([df_order_prods__prior, df_order_prods__train])\n",
    "df_all_order_prods = pd.merge(df_all_order_prods, df_prod_dir, on='product_id')\n",
    "df_all_order_prods = pd.merge(df_all_order_prods, df_orders_log, on='order_id')\n",
    "df_all_order_prods.columns"
   ]
  },
  {
   "cell_type": "markdown",
   "metadata": {},
   "source": [
    "#### How many products _offered_ in each department?"
   ]
  },
  {
   "cell_type": "code",
   "execution_count": 58,
   "metadata": {
    "ExecuteTime": {
     "end_time": "2019-10-22T12:58:37.904798Z",
     "start_time": "2019-10-22T12:58:37.463084Z"
    }
   },
   "outputs": [
    {
     "data": {
      "image/png": "[encoded data removed]",
      "text/plain": [
       "<Figure size 864x360 with 1 Axes>"
      ]
     },
     "metadata": {
      "needs_background": "light"
     },
     "output_type": "display_data"
    }
   ],
   "source": [
    "# Use the complete product directory for this:\n",
    "data = df_prod_dir.groupby('department').product_name.nunique().sort_values()\n",
    "fig = plt.figure(figsize=(12,5))\n",
    "plt.barh(y=data.index, width=data.values)\n",
    "plt.title(\"Unique Products in each department\");"
   ]
  },
  {
   "cell_type": "markdown",
   "metadata": {},
   "source": [
    "#### Unique Products Offered vs. Unique Products Purchased?"
   ]
  },
  {
   "cell_type": "code",
   "execution_count": 68,
   "metadata": {
    "ExecuteTime": {
     "end_time": "2019-10-22T13:06:34.041317Z",
     "start_time": "2019-10-22T13:06:33.851846Z"
    },
    "scrolled": true
   },
   "outputs": [
    {
     "data": {
      "image/png": "[encoded data removed]",
      "text/plain": [
       "<Figure size 432x288 with 1 Axes>"
      ]
     },
     "metadata": {
      "needs_background": "light"
     },
     "output_type": "display_data"
    }
   ],
   "source": [
    "unique_prods_offered = df_prod_dir.product_name.nunique()\n",
    "unique_prods_purchased = df_all_order_prods.product_name.nunique()\n",
    "\n",
    "data = ({'Unique Products Offered':df_prod_dir.product_name.nunique(),\n",
    "         'Unique Products Purchased': df_all_order_prods.product_name.nunique()})\n",
    "plt.bar(data.keys(), list(data.values()));"
   ]
  },
  {
   "cell_type": "markdown",
   "metadata": {},
   "source": [
    "#### How many Unique Products / User vs Products / User?\n"
   ]
  },
  {
   "cell_type": "code",
   "execution_count": 141,
   "metadata": {
    "ExecuteTime": {
     "end_time": "2019-10-22T16:03:08.297286Z",
     "start_time": "2019-10-22T16:03:07.764075Z"
    },
    "scrolled": false
   },
   "outputs": [
    {
     "data": {
      "image/png": "[encoded data removed]",
      "text/plain": [
       "<Figure size 576x360 with 1 Axes>"
      ]
     },
     "metadata": {
      "image/png": {
       "height": 320,
       "width": 482
      },
      "needs_background": "light"
     },
     "output_type": "display_data"
    }
   ],
   "source": [
    "user_prods_nunique = df_all_order_prods.groupby(by='user_id').product_name.nunique()\n",
    "user_order_prods_counts = df_all_order_prods.groupby(by=['user_id']).count()['product_id']\n",
    "user_prod_reorder_pct = user_prods_nunique / user_order_prods_counts\n",
    "data = np.digitize(user_prod_reorder_pct, np.linspace(0, 1, 10))\n",
    "\n",
    "fig, ax = plt.subplots(figsize=(8,5))\n",
    "\n",
    "plt.title('Unique Products Ordered / Total Products Ordered, as %')\n",
    "plt.hist(user_prod_reorder_pct, bins=np.linspace(0, 1, 40));\n"
   ]
  },
  {
   "cell_type": "markdown",
   "metadata": {},
   "source": [
    "#### For any given user-product combination, what percentage of future orders include re-orders of that product?"
   ]
  },
  {
   "cell_type": "code",
   "execution_count": 311,
   "metadata": {
    "ExecuteTime": {
     "end_time": "2019-10-22T18:27:08.434044Z",
     "start_time": "2019-10-22T18:27:07.459191Z"
    },
    "scrolled": true
   },
   "outputs": [
    {
     "data": {
      "image/png": "[encoded data removed]",
      "text/plain": [
       "<Figure size 1296x720 with 3 Axes>"
      ]
     },
     "metadata": {
      "image/png": {
       "height": 295,
       "width": 1000
      },
      "needs_background": "light"
     },
     "output_type": "display_data"
    }
   ],
   "source": [
    "reorder_rates = (df_all_order_prods.groupby(['user_id','product_id'])['reordered'].sum()\n",
    "                 / df_all_order_prods.groupby(['user_id','product_id'])['order_id'].nunique())\n",
    "\n",
    "fig, axes = plt.subplots(figsize=(18,10))\n",
    "\n",
    "ax = plt.subplot(2,3,1)\n",
    "not_reordered_ct = len(reorder_rates[reorder_rates.values == 0])\n",
    "plt.pie(x=[not_reordered_ct, len(reorder_rates)], labels=['reordered', 'not_reordered'], labeldistance=0.3)\n",
    "\n",
    "plt.title(\"Percentage of Total Products that are Reordered\");\n",
    "\n",
    "ax = plt.subplot(2,3,2)\n",
    "plt.title(\"Reorder Rate For Products that All Reordered Products, all Users\")\n",
    "\n",
    "sns.violinplot(reorder_rates[reorder_rates.values > 0]);\n",
    "\n",
    "ax = plt.subplot(2,3,3)\n",
    "\n",
    "plt.title(\"Reorder Rate For All Products, Users w/ Order Ct > 5\")\n",
    "reorder_rates_multi_order_users = (\n",
    "    df_all_order_prods[df_all_order_prods.user_id.isin(multi_order_users)]\n",
    "    .groupby(['user_id','product_id']).agg({'reordered':'sum'})['reordered'].values\n",
    "    / df_all_order_prods[df_all_order_prods.user_id.isin(multi_order_users)]\n",
    "    .groupby(['user_id','product_id'])['order_id'].nunique().values\n",
    ")\n",
    "\n",
    "sns.violinplot(reorder_rates_multi_order_users);\n",
    "\n",
    "# ax = plt.subplot(2,3,4)"
   ]
  },
  {
   "cell_type": "markdown",
   "metadata": {},
   "source": [
    "#### Product Popularity"
   ]
  },
  {
   "cell_type": "code",
   "execution_count": 333,
   "metadata": {
    "ExecuteTime": {
     "end_time": "2019-10-22T18:52:32.756387Z",
     "start_time": "2019-10-22T18:52:32.723148Z"
    }
   },
   "outputs": [
    {
     "data": {
      "text/html": [
       "<div>\n",
       "<style scoped>\n",
       "    .dataframe tbody tr th:only-of-type {\n",
       "        vertical-align: middle;\n",
       "    }\n",
       "\n",
       "    .dataframe tbody tr th {\n",
       "        vertical-align: top;\n",
       "    }\n",
       "\n",
       "    .dataframe thead th {\n",
       "        text-align: right;\n",
       "    }\n",
       "</style>\n",
       "<table border=\"1\" class=\"dataframe\">\n",
       "  <thead>\n",
       "    <tr style=\"text-align: right;\">\n",
       "      <th></th>\n",
       "      <th></th>\n",
       "      <th>order_id</th>\n",
       "    </tr>\n",
       "    <tr>\n",
       "      <th>department</th>\n",
       "      <th>product_id</th>\n",
       "      <th></th>\n",
       "    </tr>\n",
       "  </thead>\n",
       "  <tbody>\n",
       "    <tr>\n",
       "      <td rowspan=\"5\" valign=\"top\">alcohol</td>\n",
       "      <td>350</td>\n",
       "      <td>1</td>\n",
       "    </tr>\n",
       "    <tr>\n",
       "      <td>470</td>\n",
       "      <td>14</td>\n",
       "    </tr>\n",
       "    <tr>\n",
       "      <td>1160</td>\n",
       "      <td>23</td>\n",
       "    </tr>\n",
       "    <tr>\n",
       "      <td>1808</td>\n",
       "      <td>1</td>\n",
       "    </tr>\n",
       "    <tr>\n",
       "      <td>2120</td>\n",
       "      <td>7</td>\n",
       "    </tr>\n",
       "    <tr>\n",
       "      <td>...</td>\n",
       "      <td>...</td>\n",
       "      <td>...</td>\n",
       "    </tr>\n",
       "    <tr>\n",
       "      <td rowspan=\"5\" valign=\"top\">snacks</td>\n",
       "      <td>49414</td>\n",
       "      <td>1</td>\n",
       "    </tr>\n",
       "    <tr>\n",
       "      <td>49496</td>\n",
       "      <td>3</td>\n",
       "    </tr>\n",
       "    <tr>\n",
       "      <td>49566</td>\n",
       "      <td>1</td>\n",
       "    </tr>\n",
       "    <tr>\n",
       "      <td>49620</td>\n",
       "      <td>2</td>\n",
       "    </tr>\n",
       "    <tr>\n",
       "      <td>49662</td>\n",
       "      <td>1</td>\n",
       "    </tr>\n",
       "  </tbody>\n",
       "</table>\n",
       "<p>11092 rows × 1 columns</p>\n",
       "</div>"
      ],
      "text/plain": [
       "                       order_id\n",
       "department product_id          \n",
       "alcohol    350                1\n",
       "           470               14\n",
       "           1160              23\n",
       "           1808               1\n",
       "           2120               7\n",
       "...                         ...\n",
       "snacks     49414              1\n",
       "           49496              3\n",
       "           49566              1\n",
       "           49620              2\n",
       "           49662              1\n",
       "\n",
       "[11092 rows x 1 columns]"
      ]
     },
     "execution_count": 333,
     "metadata": {},
     "output_type": "execute_result"
    }
   ],
   "source": [
    "df_all_order_prods.groupby(by=['department','product_id']).agg({'order_id':'nunique'})"
   ]
  },
  {
   "cell_type": "code",
   "execution_count": 328,
   "metadata": {
    "ExecuteTime": {
     "end_time": "2019-10-22T18:50:58.868041Z",
     "start_time": "2019-10-22T18:50:58.200612Z"
    },
    "scrolled": false
   },
   "outputs": [
    {
     "data": {
      "image/png": "[encoded data removed]",
      "text/plain": [
       "<Figure size 1080x504 with 1 Axes>"
      ]
     },
     "metadata": {
      "image/png": {
       "height": 444,
       "width": 900
      },
      "needs_background": "light"
     },
     "output_type": "display_data"
    }
   ],
   "source": [
    "data = {'prod_unique_orders': df_all_order_prods.groupby(by='product_id').agg({'order_id':'nunique'}).values}\n",
    "\n",
    "fig, ax = plt.subplots(figsize=(15,7))\n",
    "\n",
    "plt.hist(x='prod_unique_orders',bins=np.linspace(0,30,30), data=data, log=False)\n",
    "\n",
    "plt.xlabel(\"N = Number of Times Reordered\")\n",
    "plt.ylabel(\"Number of Products with N Reorders\")\n",
    "\n",
    "plt.title(\"Distribution of Reorder Counts for Unique Products\");"
   ]
  },
  {
   "cell_type": "markdown",
   "metadata": {},
   "source": [
    "#### Product Reorders by Department"
   ]
  },
  {
   "cell_type": "code",
   "execution_count": 383,
   "metadata": {
    "ExecuteTime": {
     "end_time": "2019-10-22T20:11:26.557585Z",
     "start_time": "2019-10-22T20:11:26.529809Z"
    }
   },
   "outputs": [],
   "source": [
    "data = df_all_order_prods.groupby(by=['department','product_id']).agg({'order_id':'nunique'}).reset_index()"
   ]
  },
  {
   "cell_type": "code",
   "execution_count": 399,
   "metadata": {
    "ExecuteTime": {
     "end_time": "2019-10-22T20:21:15.995067Z",
     "start_time": "2019-10-22T20:21:15.986562Z"
    },
    "scrolled": true
   },
   "outputs": [
    {
     "data": {
      "text/html": [
       "<div>\n",
       "<style scoped>\n",
       "    .dataframe tbody tr th:only-of-type {\n",
       "        vertical-align: middle;\n",
       "    }\n",
       "\n",
       "    .dataframe tbody tr th {\n",
       "        vertical-align: top;\n",
       "    }\n",
       "\n",
       "    .dataframe thead th {\n",
       "        text-align: right;\n",
       "    }\n",
       "</style>\n",
       "<table border=\"1\" class=\"dataframe\">\n",
       "  <thead>\n",
       "    <tr style=\"text-align: right;\">\n",
       "      <th></th>\n",
       "      <th>department</th>\n",
       "      <th>product_id</th>\n",
       "      <th>order_id</th>\n",
       "    </tr>\n",
       "  </thead>\n",
       "  <tbody>\n",
       "    <tr>\n",
       "      <td>9106</td>\n",
       "      <td>produce</td>\n",
       "      <td>13176</td>\n",
       "      <td>953</td>\n",
       "    </tr>\n",
       "    <tr>\n",
       "      <td>9225</td>\n",
       "      <td>produce</td>\n",
       "      <td>21137</td>\n",
       "      <td>689</td>\n",
       "    </tr>\n",
       "    <tr>\n",
       "      <td>9240</td>\n",
       "      <td>produce</td>\n",
       "      <td>21903</td>\n",
       "      <td>604</td>\n",
       "    </tr>\n",
       "    <tr>\n",
       "      <td>9273</td>\n",
       "      <td>produce</td>\n",
       "      <td>24852</td>\n",
       "      <td>952</td>\n",
       "    </tr>\n",
       "    <tr>\n",
       "      <td>9623</td>\n",
       "      <td>produce</td>\n",
       "      <td>47209</td>\n",
       "      <td>655</td>\n",
       "    </tr>\n",
       "  </tbody>\n",
       "</table>\n",
       "</div>"
      ],
      "text/plain": [
       "     department  product_id  order_id\n",
       "9106    produce       13176       953\n",
       "9225    produce       21137       689\n",
       "9240    produce       21903       604\n",
       "9273    produce       24852       952\n",
       "9623    produce       47209       655"
      ]
     },
     "execution_count": 399,
     "metadata": {},
     "output_type": "execute_result"
    }
   ],
   "source": [
    "data[data.order_id > 500]"
   ]
  },
  {
   "cell_type": "code",
   "execution_count": 406,
   "metadata": {
    "ExecuteTime": {
     "end_time": "2019-10-22T20:24:56.682378Z",
     "start_time": "2019-10-22T20:24:55.603620Z"
    },
    "scrolled": false
   },
   "outputs": [
    {
     "data": {
      "image/png": "[encoded data removed]",
      "text/plain": [
       "<Figure size 1080x720 with 1 Axes>"
      ]
     },
     "metadata": {
      "image/png": {
       "height": 607,
       "width": 966
      },
      "needs_background": "light"
     },
     "output_type": "display_data"
    }
   ],
   "source": [
    "x_cat = data.department\n",
    "y_val = data.order_id\n",
    "\n",
    "fig, ax = plt.subplots(figsize=(15,10))\n",
    "\n",
    "\n",
    "\n",
    "sns.boxplot(y=x_cat, x=y_val, orient='h', )\n",
    "plt.title(\"Order Counts by Product in Each Department\")\n",
    "plt.xlabel('number of times ordered');"
   ]
  },
  {
   "cell_type": "code",
   "execution_count": null,
   "metadata": {},
   "outputs": [],
   "source": [
    "for dept in df_dept_index.values:\n",
    "    \n",
    "    data.loc[dept]\n",
    "\n",
    "    prod_orders = data.values\n",
    "    \n",
    "    fig, ax = plt.subplots(figsize=(15,10))\n",
    "\n",
    "    plt.(x=prod_orders, linestyle=)\n",
    "    plt.title(\"Order Counts by Product in Each Department\")\n",
    "    plt.xlabel('number of times ordered');"
   ]
  },
  {
   "cell_type": "markdown",
   "metadata": {},
   "source": [
    "## EDA – Orders"
   ]
  },
  {
   "cell_type": "code",
   "execution_count": 268,
   "metadata": {
    "ExecuteTime": {
     "end_time": "2019-10-17T23:46:01.674946Z",
     "start_time": "2019-10-17T23:46:01.665690Z"
    }
   },
   "outputs": [
    {
     "data": {
      "text/html": [
       "<div>\n",
       "<style scoped>\n",
       "    .dataframe tbody tr th:only-of-type {\n",
       "        vertical-align: middle;\n",
       "    }\n",
       "\n",
       "    .dataframe tbody tr th {\n",
       "        vertical-align: top;\n",
       "    }\n",
       "\n",
       "    .dataframe thead th {\n",
       "        text-align: right;\n",
       "    }\n",
       "</style>\n",
       "<table border=\"1\" class=\"dataframe\">\n",
       "  <thead>\n",
       "    <tr style=\"text-align: right;\">\n",
       "      <th></th>\n",
       "      <th>order_id</th>\n",
       "      <th>user_id</th>\n",
       "      <th>eval_set</th>\n",
       "      <th>order_number</th>\n",
       "      <th>order_dow</th>\n",
       "      <th>order_hour_of_day</th>\n",
       "      <th>days_since_prior_order</th>\n",
       "    </tr>\n",
       "  </thead>\n",
       "  <tbody>\n",
       "    <tr>\n",
       "      <td>0</td>\n",
       "      <td>2539329</td>\n",
       "      <td>1</td>\n",
       "      <td>prior</td>\n",
       "      <td>1</td>\n",
       "      <td>2</td>\n",
       "      <td>8</td>\n",
       "      <td>NaN</td>\n",
       "    </tr>\n",
       "    <tr>\n",
       "      <td>1</td>\n",
       "      <td>2398795</td>\n",
       "      <td>1</td>\n",
       "      <td>prior</td>\n",
       "      <td>2</td>\n",
       "      <td>3</td>\n",
       "      <td>7</td>\n",
       "      <td>15.0</td>\n",
       "    </tr>\n",
       "    <tr>\n",
       "      <td>2</td>\n",
       "      <td>473747</td>\n",
       "      <td>1</td>\n",
       "      <td>prior</td>\n",
       "      <td>3</td>\n",
       "      <td>3</td>\n",
       "      <td>12</td>\n",
       "      <td>21.0</td>\n",
       "    </tr>\n",
       "  </tbody>\n",
       "</table>\n",
       "</div>"
      ],
      "text/plain": [
       "   order_id  user_id eval_set  order_number  order_dow  order_hour_of_day  \\\n",
       "0   2539329        1    prior             1          2                  8   \n",
       "1   2398795        1    prior             2          3                  7   \n",
       "2    473747        1    prior             3          3                 12   \n",
       "\n",
       "   days_since_prior_order  \n",
       "0                     NaN  \n",
       "1                    15.0  \n",
       "2                    21.0  "
      ]
     },
     "execution_count": 268,
     "metadata": {},
     "output_type": "execute_result"
    }
   ],
   "source": [
    "df_orders_log.head(3)"
   ]
  },
  {
   "cell_type": "markdown",
   "metadata": {},
   "source": [
    "## EDA - Order Products"
   ]
  },
  {
   "cell_type": "markdown",
   "metadata": {},
   "source": [
    "### Prior"
   ]
  },
  {
   "cell_type": "code",
   "execution_count": 265,
   "metadata": {
    "ExecuteTime": {
     "end_time": "2019-10-17T23:45:39.651457Z",
     "start_time": "2019-10-17T23:45:39.643527Z"
    },
    "scrolled": true
   },
   "outputs": [
    {
     "name": "stdout",
     "output_type": "stream",
     "text": [
      "(77425, 4)\n"
     ]
    },
    {
     "data": {
      "text/html": [
       "<div>\n",
       "<style scoped>\n",
       "    .dataframe tbody tr th:only-of-type {\n",
       "        vertical-align: middle;\n",
       "    }\n",
       "\n",
       "    .dataframe tbody tr th {\n",
       "        vertical-align: top;\n",
       "    }\n",
       "\n",
       "    .dataframe thead th {\n",
       "        text-align: right;\n",
       "    }\n",
       "</style>\n",
       "<table border=\"1\" class=\"dataframe\">\n",
       "  <thead>\n",
       "    <tr style=\"text-align: right;\">\n",
       "      <th></th>\n",
       "      <th>order_id</th>\n",
       "      <th>product_id</th>\n",
       "      <th>add_to_cart_order</th>\n",
       "      <th>reordered</th>\n",
       "    </tr>\n",
       "  </thead>\n",
       "  <tbody>\n",
       "    <tr>\n",
       "      <td>333</td>\n",
       "      <td>40</td>\n",
       "      <td>10070</td>\n",
       "      <td>1</td>\n",
       "      <td>1</td>\n",
       "    </tr>\n",
       "    <tr>\n",
       "      <td>334</td>\n",
       "      <td>40</td>\n",
       "      <td>42450</td>\n",
       "      <td>2</td>\n",
       "      <td>1</td>\n",
       "    </tr>\n",
       "    <tr>\n",
       "      <td>335</td>\n",
       "      <td>40</td>\n",
       "      <td>33198</td>\n",
       "      <td>3</td>\n",
       "      <td>1</td>\n",
       "    </tr>\n",
       "  </tbody>\n",
       "</table>\n",
       "</div>"
      ],
      "text/plain": [
       "     order_id  product_id  add_to_cart_order  reordered\n",
       "333        40       10070                  1          1\n",
       "334        40       42450                  2          1\n",
       "335        40       33198                  3          1"
      ]
     },
     "execution_count": 265,
     "metadata": {},
     "output_type": "execute_result"
    }
   ],
   "source": [
    "print(df_order_prods__prior.shape)\n",
    "df_order_prods__prior.head(3)"
   ]
  },
  {
   "cell_type": "code",
   "execution_count": 264,
   "metadata": {
    "ExecuteTime": {
     "end_time": "2019-10-17T23:45:34.413279Z",
     "start_time": "2019-10-17T23:45:34.404623Z"
    },
    "scrolled": false
   },
   "outputs": [
    {
     "data": {
      "text/html": [
       "<div>\n",
       "<style scoped>\n",
       "    .dataframe tbody tr th:only-of-type {\n",
       "        vertical-align: middle;\n",
       "    }\n",
       "\n",
       "    .dataframe tbody tr th {\n",
       "        vertical-align: top;\n",
       "    }\n",
       "\n",
       "    .dataframe thead th {\n",
       "        text-align: right;\n",
       "    }\n",
       "</style>\n",
       "<table border=\"1\" class=\"dataframe\">\n",
       "  <thead>\n",
       "    <tr style=\"text-align: right;\">\n",
       "      <th></th>\n",
       "      <th>order_id</th>\n",
       "      <th>product_id</th>\n",
       "      <th>add_to_cart_order</th>\n",
       "      <th>reordered</th>\n",
       "    </tr>\n",
       "  </thead>\n",
       "  <tbody>\n",
       "    <tr>\n",
       "      <td>14111</td>\n",
       "      <td>1483</td>\n",
       "      <td>32818</td>\n",
       "      <td>1</td>\n",
       "      <td>1</td>\n",
       "    </tr>\n",
       "    <tr>\n",
       "      <td>14112</td>\n",
       "      <td>1483</td>\n",
       "      <td>27582</td>\n",
       "      <td>2</td>\n",
       "      <td>1</td>\n",
       "    </tr>\n",
       "    <tr>\n",
       "      <td>14113</td>\n",
       "      <td>1483</td>\n",
       "      <td>12302</td>\n",
       "      <td>3</td>\n",
       "      <td>1</td>\n",
       "    </tr>\n",
       "  </tbody>\n",
       "</table>\n",
       "</div>"
      ],
      "text/plain": [
       "       order_id  product_id  add_to_cart_order  reordered\n",
       "14111      1483       32818                  1          1\n",
       "14112      1483       27582                  2          1\n",
       "14113      1483       12302                  3          1"
      ]
     },
     "execution_count": 264,
     "metadata": {},
     "output_type": "execute_result"
    }
   ],
   "source": [
    "# inspect an individual order from prior\n",
    "df_order_prods__prior[df_order_prods__prior.order_id == 1483].head(3)"
   ]
  },
  {
   "cell_type": "markdown",
   "metadata": {},
   "source": [
    "### Train"
   ]
  },
  {
   "cell_type": "code",
   "execution_count": 387,
   "metadata": {
    "ExecuteTime": {
     "end_time": "2019-10-18T01:45:11.144423Z",
     "start_time": "2019-10-18T01:45:11.136788Z"
    },
    "scrolled": false
   },
   "outputs": [
    {
     "name": "stdout",
     "output_type": "stream",
     "text": [
      "(3386, 4)\n"
     ]
    },
    {
     "data": {
      "text/html": [
       "<div>\n",
       "<style scoped>\n",
       "    .dataframe tbody tr th:only-of-type {\n",
       "        vertical-align: middle;\n",
       "    }\n",
       "\n",
       "    .dataframe tbody tr th {\n",
       "        vertical-align: top;\n",
       "    }\n",
       "\n",
       "    .dataframe thead th {\n",
       "        text-align: right;\n",
       "    }\n",
       "</style>\n",
       "<table border=\"1\" class=\"dataframe\">\n",
       "  <thead>\n",
       "    <tr style=\"text-align: right;\">\n",
       "      <th></th>\n",
       "      <th>order_id</th>\n",
       "      <th>product_id</th>\n",
       "      <th>add_to_cart_order</th>\n",
       "      <th>reordered</th>\n",
       "    </tr>\n",
       "  </thead>\n",
       "  <tbody>\n",
       "    <tr>\n",
       "      <td>239</td>\n",
       "      <td>988</td>\n",
       "      <td>45061</td>\n",
       "      <td>1</td>\n",
       "      <td>0</td>\n",
       "    </tr>\n",
       "  </tbody>\n",
       "</table>\n",
       "</div>"
      ],
      "text/plain": [
       "     order_id  product_id  add_to_cart_order  reordered\n",
       "239       988       45061                  1          0"
      ]
     },
     "execution_count": 387,
     "metadata": {},
     "output_type": "execute_result"
    }
   ],
   "source": [
    "print(df_order_prods__train.shape)\n",
    "df_order_prods__train.head(1)"
   ]
  },
  {
   "cell_type": "code",
   "execution_count": 388,
   "metadata": {
    "ExecuteTime": {
     "end_time": "2019-10-18T01:45:11.994157Z",
     "start_time": "2019-10-18T01:45:11.986496Z"
    },
    "scrolled": true
   },
   "outputs": [
    {
     "data": {
      "text/html": [
       "<div>\n",
       "<style scoped>\n",
       "    .dataframe tbody tr th:only-of-type {\n",
       "        vertical-align: middle;\n",
       "    }\n",
       "\n",
       "    .dataframe tbody tr th {\n",
       "        vertical-align: top;\n",
       "    }\n",
       "\n",
       "    .dataframe thead th {\n",
       "        text-align: right;\n",
       "    }\n",
       "</style>\n",
       "<table border=\"1\" class=\"dataframe\">\n",
       "  <thead>\n",
       "    <tr style=\"text-align: right;\">\n",
       "      <th></th>\n",
       "      <th>order_id</th>\n",
       "      <th>product_id</th>\n",
       "      <th>add_to_cart_order</th>\n",
       "      <th>reordered</th>\n",
       "    </tr>\n",
       "  </thead>\n",
       "  <tbody>\n",
       "    <tr>\n",
       "      <td>239</td>\n",
       "      <td>988</td>\n",
       "      <td>45061</td>\n",
       "      <td>1</td>\n",
       "      <td>0</td>\n",
       "    </tr>\n",
       "    <tr>\n",
       "      <td>240</td>\n",
       "      <td>988</td>\n",
       "      <td>28464</td>\n",
       "      <td>2</td>\n",
       "      <td>0</td>\n",
       "    </tr>\n",
       "    <tr>\n",
       "      <td>241</td>\n",
       "      <td>988</td>\n",
       "      <td>12626</td>\n",
       "      <td>3</td>\n",
       "      <td>0</td>\n",
       "    </tr>\n",
       "    <tr>\n",
       "      <td>242</td>\n",
       "      <td>988</td>\n",
       "      <td>4818</td>\n",
       "      <td>4</td>\n",
       "      <td>1</td>\n",
       "    </tr>\n",
       "  </tbody>\n",
       "</table>\n",
       "</div>"
      ],
      "text/plain": [
       "     order_id  product_id  add_to_cart_order  reordered\n",
       "239       988       45061                  1          0\n",
       "240       988       28464                  2          0\n",
       "241       988       12626                  3          0\n",
       "242       988        4818                  4          1"
      ]
     },
     "execution_count": 388,
     "metadata": {},
     "output_type": "execute_result"
    }
   ],
   "source": [
    "# inspect an individual order from train\n",
    "df_order_prods__train[df_order_prods__train.order_id == 988]"
   ]
  },
  {
   "cell_type": "markdown",
   "metadata": {},
   "source": [
    "# Merge, Append Aisle/Department Columns to Order Log"
   ]
  },
  {
   "cell_type": "code",
   "execution_count": 44,
   "metadata": {
    "ExecuteTime": {
     "end_time": "2019-10-22T12:49:36.634263Z",
     "start_time": "2019-10-22T12:49:36.587550Z"
    },
    "scrolled": true
   },
   "outputs": [
    {
     "data": {
      "text/html": [
       "<div>\n",
       "<style scoped>\n",
       "    .dataframe tbody tr th:only-of-type {\n",
       "        vertical-align: middle;\n",
       "    }\n",
       "\n",
       "    .dataframe tbody tr th {\n",
       "        vertical-align: top;\n",
       "    }\n",
       "\n",
       "    .dataframe thead th {\n",
       "        text-align: right;\n",
       "    }\n",
       "</style>\n",
       "<table border=\"1\" class=\"dataframe\">\n",
       "  <thead>\n",
       "    <tr style=\"text-align: right;\">\n",
       "      <th></th>\n",
       "      <th>order_id</th>\n",
       "      <th>product_id</th>\n",
       "      <th>add_to_cart_order</th>\n",
       "      <th>reordered</th>\n",
       "    </tr>\n",
       "  </thead>\n",
       "  <tbody>\n",
       "    <tr>\n",
       "      <td>0</td>\n",
       "      <td>40</td>\n",
       "      <td>10070</td>\n",
       "      <td>1</td>\n",
       "      <td>1</td>\n",
       "    </tr>\n",
       "    <tr>\n",
       "      <td>1</td>\n",
       "      <td>116744</td>\n",
       "      <td>10070</td>\n",
       "      <td>3</td>\n",
       "      <td>1</td>\n",
       "    </tr>\n",
       "    <tr>\n",
       "      <td>2</td>\n",
       "      <td>120295</td>\n",
       "      <td>10070</td>\n",
       "      <td>2</td>\n",
       "      <td>1</td>\n",
       "    </tr>\n",
       "    <tr>\n",
       "      <td>3</td>\n",
       "      <td>247775</td>\n",
       "      <td>10070</td>\n",
       "      <td>2</td>\n",
       "      <td>1</td>\n",
       "    </tr>\n",
       "    <tr>\n",
       "      <td>4</td>\n",
       "      <td>405284</td>\n",
       "      <td>10070</td>\n",
       "      <td>1</td>\n",
       "      <td>1</td>\n",
       "    </tr>\n",
       "  </tbody>\n",
       "</table>\n",
       "</div>"
      ],
      "text/plain": [
       "   order_id  product_id  add_to_cart_order  reordered\n",
       "0        40       10070                  1          1\n",
       "1    116744       10070                  3          1\n",
       "2    120295       10070                  2          1\n",
       "3    247775       10070                  2          1\n",
       "4    405284       10070                  1          1"
      ]
     },
     "execution_count": 44,
     "metadata": {},
     "output_type": "execute_result"
    }
   ],
   "source": [
    "df_order_prods__prior = pd.merge(\n",
    "    df_order_prods__prior,\n",
    "    df_prod_index.drop(labels='product_name',axis=1), on='product_id')\n",
    "\n",
    "# Confirm we haven't merged in duplicate columns from re-running this script.\n",
    "df_order_prods__prior = df_order_prods__prior[['order_id','product_id','add_to_cart_order','reordered']]\n",
    "\n",
    "df_order_prods__train = pd.merge(\n",
    "    df_order_prods__train,\n",
    "    df_prod_index.drop(labels='product_name',axis=1), on='product_id')\n",
    "\n",
    "# Confirm we haven't merged in duplicate columns from re-running this script.\n",
    "df_order_prods__train = df_order_prods__train[['order_id','product_id','add_to_cart_order','reordered']]\n",
    "\n",
    "\n",
    "df_order_prods__prior.head()"
   ]
  },
  {
   "cell_type": "code",
   "execution_count": null,
   "metadata": {},
   "outputs": [],
   "source": []
  },
  {
   "cell_type": "markdown",
   "metadata": {},
   "source": [
    "# User Profiles"
   ]
  },
  {
   "cell_type": "markdown",
   "metadata": {},
   "source": [
    "## Initialize User Dataframe"
   ]
  },
  {
   "cell_type": "code",
   "execution_count": 279,
   "metadata": {
    "ExecuteTime": {
     "end_time": "2019-10-18T00:10:03.707314Z",
     "start_time": "2019-10-18T00:10:03.699084Z"
    },
    "code_folding": []
   },
   "outputs": [
    {
     "data": {
      "text/html": [
       "<div>\n",
       "<style scoped>\n",
       "    .dataframe tbody tr th:only-of-type {\n",
       "        vertical-align: middle;\n",
       "    }\n",
       "\n",
       "    .dataframe tbody tr th {\n",
       "        vertical-align: top;\n",
       "    }\n",
       "\n",
       "    .dataframe thead th {\n",
       "        text-align: right;\n",
       "    }\n",
       "</style>\n",
       "<table border=\"1\" class=\"dataframe\">\n",
       "  <thead>\n",
       "    <tr style=\"text-align: right;\">\n",
       "      <th></th>\n",
       "      <th>user_id</th>\n",
       "    </tr>\n",
       "  </thead>\n",
       "  <tbody>\n",
       "    <tr>\n",
       "      <td>0</td>\n",
       "      <td>1</td>\n",
       "    </tr>\n",
       "    <tr>\n",
       "      <td>1</td>\n",
       "      <td>2</td>\n",
       "    </tr>\n",
       "    <tr>\n",
       "      <td>2</td>\n",
       "      <td>3</td>\n",
       "    </tr>\n",
       "  </tbody>\n",
       "</table>\n",
       "</div>"
      ],
      "text/plain": [
       "   user_id\n",
       "0        1\n",
       "1        2\n",
       "2        3"
      ]
     },
     "execution_count": 279,
     "metadata": {},
     "output_type": "execute_result"
    }
   ],
   "source": [
    "# Create a users database with some historical information for each user\n",
    "\n",
    "df_user_profs = pd.DataFrame()\n",
    "df_user_profs['user_id'] = user_subset\n",
    "# df_user_profs.set_index('user_id', inplace=True)\n",
    "df_user_profs.head(3)"
   ]
  },
  {
   "cell_type": "markdown",
   "metadata": {},
   "source": [
    "## Generate High-level User Features"
   ]
  },
  {
   "cell_type": "markdown",
   "metadata": {},
   "source": [
    "### User Order History : `order_id_history` (User)"
   ]
  },
  {
   "cell_type": "code",
   "execution_count": 343,
   "metadata": {
    "ExecuteTime": {
     "end_time": "2019-10-18T00:37:37.045657Z",
     "start_time": "2019-10-18T00:37:37.042171Z"
    }
   },
   "outputs": [],
   "source": [
    "def query_user_order_history(user_id, df_orders_log):\n",
    "    '''\n",
    "    \n",
    "    Return an ordered list of tuples,\n",
    "    e.g. [(1, order_id_1), ... , (latest_order_number, latest_order_id)]\n",
    "    \n",
    "    '''\n",
    "    \n",
    "    user_orders = df_orders_log[df_orders_log.user_id == user_id]\n",
    "    \n",
    "    return (user_orders[['order_number', 'order_id']]).to_numpy()\n",
    " "
   ]
  },
  {
   "cell_type": "code",
   "execution_count": 344,
   "metadata": {
    "ExecuteTime": {
     "end_time": "2019-10-18T00:37:37.991185Z",
     "start_time": "2019-10-18T00:37:37.302951Z"
    }
   },
   "outputs": [],
   "source": [
    "df_user_profs['order_id_history'] = df_user_profs.user_id.apply(\n",
    "    query_user_order_history, df_orders_log=df_orders_log\n",
    ")"
   ]
  },
  {
   "cell_type": "code",
   "execution_count": 345,
   "metadata": {
    "ExecuteTime": {
     "end_time": "2019-10-18T00:37:38.126918Z",
     "start_time": "2019-10-18T00:37:38.116506Z"
    }
   },
   "outputs": [
    {
     "data": {
      "text/html": [
       "<div>\n",
       "<style scoped>\n",
       "    .dataframe tbody tr th:only-of-type {\n",
       "        vertical-align: middle;\n",
       "    }\n",
       "\n",
       "    .dataframe tbody tr th {\n",
       "        vertical-align: top;\n",
       "    }\n",
       "\n",
       "    .dataframe thead th {\n",
       "        text-align: right;\n",
       "    }\n",
       "</style>\n",
       "<table border=\"1\" class=\"dataframe\">\n",
       "  <thead>\n",
       "    <tr style=\"text-align: right;\">\n",
       "      <th></th>\n",
       "      <th>user_id</th>\n",
       "      <th>order_id_history</th>\n",
       "      <th>num_orders</th>\n",
       "    </tr>\n",
       "  </thead>\n",
       "  <tbody>\n",
       "    <tr>\n",
       "      <td>0</td>\n",
       "      <td>1</td>\n",
       "      <td>[[1, 2539329], [2, 2398795], [3, 473747], [4, ...</td>\n",
       "      <td>11</td>\n",
       "    </tr>\n",
       "  </tbody>\n",
       "</table>\n",
       "</div>"
      ],
      "text/plain": [
       "   user_id                                   order_id_history  num_orders\n",
       "0        1  [[1, 2539329], [2, 2398795], [3, 473747], [4, ...          11"
      ]
     },
     "execution_count": 345,
     "metadata": {},
     "output_type": "execute_result"
    }
   ],
   "source": [
    "df_user_profs.head(1)"
   ]
  },
  {
   "cell_type": "markdown",
   "metadata": {},
   "source": [
    "### Unique Order Count (User)"
   ]
  },
  {
   "cell_type": "code",
   "execution_count": 346,
   "metadata": {
    "ExecuteTime": {
     "end_time": "2019-10-18T00:37:47.526768Z",
     "start_time": "2019-10-18T00:37:47.512011Z"
    },
    "scrolled": false
   },
   "outputs": [
    {
     "data": {
      "text/html": [
       "<div>\n",
       "<style scoped>\n",
       "    .dataframe tbody tr th:only-of-type {\n",
       "        vertical-align: middle;\n",
       "    }\n",
       "\n",
       "    .dataframe tbody tr th {\n",
       "        vertical-align: top;\n",
       "    }\n",
       "\n",
       "    .dataframe thead th {\n",
       "        text-align: right;\n",
       "    }\n",
       "</style>\n",
       "<table border=\"1\" class=\"dataframe\">\n",
       "  <thead>\n",
       "    <tr style=\"text-align: right;\">\n",
       "      <th></th>\n",
       "      <th>user_id</th>\n",
       "      <th>order_id_history</th>\n",
       "      <th>num_orders</th>\n",
       "    </tr>\n",
       "  </thead>\n",
       "  <tbody>\n",
       "    <tr>\n",
       "      <td>0</td>\n",
       "      <td>1</td>\n",
       "      <td>[[1, 2539329], [2, 2398795], [3, 473747], [4, ...</td>\n",
       "      <td>11</td>\n",
       "    </tr>\n",
       "    <tr>\n",
       "      <td>1</td>\n",
       "      <td>2</td>\n",
       "      <td>[[1, 2168274], [2, 1501582], [3, 1901567], [4,...</td>\n",
       "      <td>15</td>\n",
       "    </tr>\n",
       "  </tbody>\n",
       "</table>\n",
       "</div>"
      ],
      "text/plain": [
       "   user_id                                   order_id_history  num_orders\n",
       "0        1  [[1, 2539329], [2, 2398795], [3, 473747], [4, ...          11\n",
       "1        2  [[1, 2168274], [2, 1501582], [3, 1901567], [4,...          15"
      ]
     },
     "execution_count": 346,
     "metadata": {},
     "output_type": "execute_result"
    }
   ],
   "source": [
    "df_user_profs['num_orders'] = df_user_profs.order_id_history.apply(lambda x: len(x))\n",
    "df_user_profs.head(2)"
   ]
  },
  {
   "cell_type": "markdown",
   "metadata": {},
   "source": [
    "### Order Sizes (User)"
   ]
  },
  {
   "cell_type": "code",
   "execution_count": 309,
   "metadata": {
    "ExecuteTime": {
     "end_time": "2019-10-18T00:29:16.923647Z",
     "start_time": "2019-10-18T00:29:16.912756Z"
    }
   },
   "outputs": [
    {
     "data": {
      "text/html": [
       "<div>\n",
       "<style scoped>\n",
       "    .dataframe tbody tr th:only-of-type {\n",
       "        vertical-align: middle;\n",
       "    }\n",
       "\n",
       "    .dataframe tbody tr th {\n",
       "        vertical-align: top;\n",
       "    }\n",
       "\n",
       "    .dataframe thead th {\n",
       "        text-align: right;\n",
       "    }\n",
       "</style>\n",
       "<table border=\"1\" class=\"dataframe\">\n",
       "  <thead>\n",
       "    <tr style=\"text-align: right;\">\n",
       "      <th></th>\n",
       "      <th>order_id</th>\n",
       "      <th>product_id</th>\n",
       "      <th>add_to_cart_order</th>\n",
       "      <th>reordered</th>\n",
       "    </tr>\n",
       "    <tr>\n",
       "      <th>order_id</th>\n",
       "      <th></th>\n",
       "      <th></th>\n",
       "      <th></th>\n",
       "      <th></th>\n",
       "    </tr>\n",
       "  </thead>\n",
       "  <tbody>\n",
       "    <tr>\n",
       "      <td>2539329</td>\n",
       "      <td>1</td>\n",
       "      <td>5</td>\n",
       "      <td>5</td>\n",
       "      <td>1</td>\n",
       "    </tr>\n",
       "  </tbody>\n",
       "</table>\n",
       "</div>"
      ],
      "text/plain": [
       "          order_id  product_id  add_to_cart_order  reordered\n",
       "order_id                                                    \n",
       "2539329          1           5                  5          1"
      ]
     },
     "execution_count": 309,
     "metadata": {},
     "output_type": "execute_result"
    }
   ],
   "source": [
    "(df_order_prods[df_order_prods.order_id == 2539329]\n",
    "                              .groupby('order_id')\n",
    ").agg('nunique')['product_id']"
   ]
  },
  {
   "cell_type": "code",
   "execution_count": 373,
   "metadata": {
    "ExecuteTime": {
     "end_time": "2019-10-18T01:39:11.641921Z",
     "start_time": "2019-10-18T01:39:09.943970Z"
    },
    "scrolled": true
   },
   "outputs": [
    {
     "data": {
      "text/html": [
       "<div>\n",
       "<style scoped>\n",
       "    .dataframe tbody tr th:only-of-type {\n",
       "        vertical-align: middle;\n",
       "    }\n",
       "\n",
       "    .dataframe tbody tr th {\n",
       "        vertical-align: top;\n",
       "    }\n",
       "\n",
       "    .dataframe thead th {\n",
       "        text-align: right;\n",
       "    }\n",
       "</style>\n",
       "<table border=\"1\" class=\"dataframe\">\n",
       "  <thead>\n",
       "    <tr style=\"text-align: right;\">\n",
       "      <th></th>\n",
       "      <th>user_id</th>\n",
       "      <th>order_id_history</th>\n",
       "      <th>num_orders</th>\n",
       "      <th>avg_order_sizes</th>\n",
       "      <th>avg_order_size</th>\n",
       "    </tr>\n",
       "  </thead>\n",
       "  <tbody>\n",
       "    <tr>\n",
       "      <td>0</td>\n",
       "      <td>1</td>\n",
       "      <td>[[1, 2539329], [2, 2398795], [3, 473747], [4, ...</td>\n",
       "      <td>11</td>\n",
       "      <td>6.363636</td>\n",
       "      <td>6.363636</td>\n",
       "    </tr>\n",
       "    <tr>\n",
       "      <td>1</td>\n",
       "      <td>2</td>\n",
       "      <td>[[1, 2168274], [2, 1501582], [3, 1901567], [4,...</td>\n",
       "      <td>15</td>\n",
       "      <td>15.066667</td>\n",
       "      <td>15.066667</td>\n",
       "    </tr>\n",
       "    <tr>\n",
       "      <td>2</td>\n",
       "      <td>3</td>\n",
       "      <td>[[1, 1374495], [2, 444309], [3, 3002854], [4, ...</td>\n",
       "      <td>13</td>\n",
       "      <td>7.333333</td>\n",
       "      <td>7.333333</td>\n",
       "    </tr>\n",
       "    <tr>\n",
       "      <td>3</td>\n",
       "      <td>4</td>\n",
       "      <td>[[1, 3343014], [2, 2030307], [3, 691089], [4, ...</td>\n",
       "      <td>6</td>\n",
       "      <td>3.600000</td>\n",
       "      <td>3.600000</td>\n",
       "    </tr>\n",
       "    <tr>\n",
       "      <td>4</td>\n",
       "      <td>5</td>\n",
       "      <td>[[1, 2717275], [2, 1909121], [3, 2267326], [4,...</td>\n",
       "      <td>5</td>\n",
       "      <td>9.200000</td>\n",
       "      <td>9.200000</td>\n",
       "    </tr>\n",
       "  </tbody>\n",
       "</table>\n",
       "</div>"
      ],
      "text/plain": [
       "   user_id                                   order_id_history  num_orders  \\\n",
       "0        1  [[1, 2539329], [2, 2398795], [3, 473747], [4, ...          11   \n",
       "1        2  [[1, 2168274], [2, 1501582], [3, 1901567], [4,...          15   \n",
       "2        3  [[1, 1374495], [2, 444309], [3, 3002854], [4, ...          13   \n",
       "3        4  [[1, 3343014], [2, 2030307], [3, 691089], [4, ...           6   \n",
       "4        5  [[1, 2717275], [2, 1909121], [3, 2267326], [4,...           5   \n",
       "\n",
       "   avg_order_sizes  avg_order_size  \n",
       "0         6.363636        6.363636  \n",
       "1        15.066667       15.066667  \n",
       "2         7.333333        7.333333  \n",
       "3         3.600000        3.600000  \n",
       "4         9.200000        9.200000  "
      ]
     },
     "execution_count": 373,
     "metadata": {},
     "output_type": "execute_result"
    }
   ],
   "source": [
    "## Average Order Sizes by User ##\n",
    "\n",
    "run_limit = 5\n",
    "run_count = 0\n",
    "\n",
    "def avg_user_order_sizes(order_id_history, df_order_prods):\n",
    "    \n",
    "#     global run_count\n",
    "#     global run_limit\n",
    "    \n",
    "#     run_count += 1\n",
    "#     if run_count > run_limit:\n",
    "#         return 0\n",
    "\n",
    "    \n",
    "#     print(order_id_history)\n",
    "    order_id_list = order_id_history[:,1]\n",
    "#     print(order_id_list)\n",
    "#     print(type(order_id_list))\n",
    "\n",
    "    avg_order_size = (\n",
    "        df_order_prods[df_order_prods.order_id.isin(order_id_list)]              \n",
    "        .groupby('order_id')\n",
    "        .agg('nunique')\n",
    "    ).mean()['product_id']\n",
    "\n",
    "#     print(avg_order_size)\n",
    "    return avg_order_size\n",
    "\n",
    "df_user_profs['avg_order_size'] = (df_user_profs.order_id_history\n",
    "                                    .apply(avg_user_order_sizes, df_order_prods=df_order_prods)\n",
    "                                   )\n",
    "\n",
    "df_user_profs.head()"
   ]
  },
  {
   "cell_type": "markdown",
   "metadata": {},
   "source": [
    "### Departmental Unique Check-ins Dictionary (User)"
   ]
  },
  {
   "cell_type": "code",
   "execution_count": null,
   "metadata": {},
   "outputs": [],
   "source": [
    "# Create a dictionary with department IDs as keys\n",
    "# each value is the number of unique department check-ins.\n",
    "# i.e. An order with two products from the same department\n",
    "# should count as 1 unique check-in.\n",
    "\n",
    "user_hist['dept_dict'] = dict(zip(depts.department_id.values,0*depts.department_id.values))\n",
    "\n",
    "def unique_dept_checkins(user_id, orders, order_prods, subset='prior'):\n",
    "    \n",
    "    user_orders = orders[(orders.user_id == user_id) & (orders.eval_set == subset)]\n",
    "    \n",
    "    gb_order = user_orders.groupby('order_id')\n",
    "    \n",
    "    \n",
    "    \n",
    "    for group in gb_order:\n",
    "        \n",
    "        \n",
    "    \n",
    "    \n",
    "    return order_sizes\n",
    "\n",
    "\n",
    "user_hist['prior_order_sizes'] = pd.Series(user_hist.index.values).apply(\n",
    "    order_sizes,\n",
    "    orders=orders,\n",
    "    order_prods=all_order_prods\n",
    ")"
   ]
  },
  {
   "cell_type": "markdown",
   "metadata": {},
   "source": [
    "### Total Orders to Date (User)"
   ]
  },
  {
   "cell_type": "markdown",
   "metadata": {},
   "source": [
    "### Unique Orders (User)"
   ]
  },
  {
   "cell_type": "markdown",
   "metadata": {},
   "source": [
    "# Department Profiles"
   ]
  },
  {
   "cell_type": "code",
   "execution_count": 455,
   "metadata": {
    "ExecuteTime": {
     "end_time": "2019-10-18T02:08:13.369638Z",
     "start_time": "2019-10-18T02:08:13.365362Z"
    }
   },
   "outputs": [],
   "source": [
    "# Create a department profile dataframe\n",
    "\n",
    "df_dept_profs = pd.DataFrame()\n",
    "df_dept_profs['department_id'] = df_dept_index.department_id"
   ]
  },
  {
   "cell_type": "code",
   "execution_count": 456,
   "metadata": {
    "ExecuteTime": {
     "end_time": "2019-10-18T02:08:14.060312Z",
     "start_time": "2019-10-18T02:08:14.054152Z"
    }
   },
   "outputs": [
    {
     "data": {
      "text/html": [
       "<div>\n",
       "<style scoped>\n",
       "    .dataframe tbody tr th:only-of-type {\n",
       "        vertical-align: middle;\n",
       "    }\n",
       "\n",
       "    .dataframe tbody tr th {\n",
       "        vertical-align: top;\n",
       "    }\n",
       "\n",
       "    .dataframe thead th {\n",
       "        text-align: right;\n",
       "    }\n",
       "</style>\n",
       "<table border=\"1\" class=\"dataframe\">\n",
       "  <thead>\n",
       "    <tr style=\"text-align: right;\">\n",
       "      <th></th>\n",
       "      <th>department_id</th>\n",
       "    </tr>\n",
       "  </thead>\n",
       "  <tbody>\n",
       "    <tr>\n",
       "      <td>0</td>\n",
       "      <td>1</td>\n",
       "    </tr>\n",
       "    <tr>\n",
       "      <td>1</td>\n",
       "      <td>2</td>\n",
       "    </tr>\n",
       "  </tbody>\n",
       "</table>\n",
       "</div>"
      ],
      "text/plain": [
       "   department_id\n",
       "0              1\n",
       "1              2"
      ]
     },
     "execution_count": 456,
     "metadata": {},
     "output_type": "execute_result"
    }
   ],
   "source": [
    "df_dept_profs.head(2)"
   ]
  },
  {
   "cell_type": "markdown",
   "metadata": {},
   "source": [
    "### Orders / Department"
   ]
  },
  {
   "cell_type": "code",
   "execution_count": 458,
   "metadata": {
    "ExecuteTime": {
     "end_time": "2019-10-18T02:09:06.172883Z",
     "start_time": "2019-10-18T02:09:06.123415Z"
    }
   },
   "outputs": [
    {
     "data": {
      "text/html": [
       "<div>\n",
       "<style scoped>\n",
       "    .dataframe tbody tr th:only-of-type {\n",
       "        vertical-align: middle;\n",
       "    }\n",
       "\n",
       "    .dataframe tbody tr th {\n",
       "        vertical-align: top;\n",
       "    }\n",
       "\n",
       "    .dataframe thead th {\n",
       "        text-align: right;\n",
       "    }\n",
       "</style>\n",
       "<table border=\"1\" class=\"dataframe\">\n",
       "  <thead>\n",
       "    <tr style=\"text-align: right;\">\n",
       "      <th></th>\n",
       "      <th>department_id</th>\n",
       "      <th>num_orders_x</th>\n",
       "      <th>num_orders_y</th>\n",
       "    </tr>\n",
       "  </thead>\n",
       "  <tbody>\n",
       "    <tr>\n",
       "      <td>0</td>\n",
       "      <td>1</td>\n",
       "      <td>2779</td>\n",
       "      <td>2779</td>\n",
       "    </tr>\n",
       "    <tr>\n",
       "      <td>1</td>\n",
       "      <td>2</td>\n",
       "      <td>86</td>\n",
       "      <td>86</td>\n",
       "    </tr>\n",
       "    <tr>\n",
       "      <td>2</td>\n",
       "      <td>3</td>\n",
       "      <td>1996</td>\n",
       "      <td>1996</td>\n",
       "    </tr>\n",
       "  </tbody>\n",
       "</table>\n",
       "</div>"
      ],
      "text/plain": [
       "   department_id  num_orders_x  num_orders_y\n",
       "0              1          2779          2779\n",
       "1              2            86            86\n",
       "2              3          1996          1996"
      ]
     },
     "execution_count": 458,
     "metadata": {},
     "output_type": "execute_result"
    }
   ],
   "source": [
    "# Calculate number of orders in each department.\n",
    "dept_nunique = df_order_prods.groupby('department_id').nunique()['order_id'].reset_index()\n",
    "dept_nunique.rename(columns={'order_id':'num_orders'}, inplace=True)\n",
    "\n",
    "df_dept_profs = pd.merge(df_dept_profs, dept_nunique, on='department_id')\n",
    "df_dept_profs.head(3)\n",
    "# df_user_profs.set_index('user_id', inplace=True)"
   ]
  },
  {
   "cell_type": "markdown",
   "metadata": {},
   "source": [
    "# Aisle Profiles"
   ]
  },
  {
   "cell_type": "markdown",
   "metadata": {},
   "source": [
    "# Product Profiles"
   ]
  },
  {
   "cell_type": "code",
   "execution_count": 479,
   "metadata": {
    "ExecuteTime": {
     "end_time": "2019-10-18T02:15:42.753175Z",
     "start_time": "2019-10-18T02:15:42.744438Z"
    }
   },
   "outputs": [],
   "source": [
    "# Create a product profile dataframe\n",
    "\n",
    "df_prod_profs = pd.DataFrame()\n",
    "df_prod_profs['product_id'] = df_prod_index.product_id"
   ]
  },
  {
   "cell_type": "code",
   "execution_count": 480,
   "metadata": {
    "ExecuteTime": {
     "end_time": "2019-10-18T02:15:43.038722Z",
     "start_time": "2019-10-18T02:15:42.957163Z"
    }
   },
   "outputs": [
    {
     "data": {
      "text/html": [
       "<div>\n",
       "<style scoped>\n",
       "    .dataframe tbody tr th:only-of-type {\n",
       "        vertical-align: middle;\n",
       "    }\n",
       "\n",
       "    .dataframe tbody tr th {\n",
       "        vertical-align: top;\n",
       "    }\n",
       "\n",
       "    .dataframe thead th {\n",
       "        text-align: right;\n",
       "    }\n",
       "</style>\n",
       "<table border=\"1\" class=\"dataframe\">\n",
       "  <thead>\n",
       "    <tr style=\"text-align: right;\">\n",
       "      <th></th>\n",
       "      <th>product_id</th>\n",
       "      <th>num_orders</th>\n",
       "    </tr>\n",
       "  </thead>\n",
       "  <tbody>\n",
       "    <tr>\n",
       "      <td>0</td>\n",
       "      <td>1</td>\n",
       "      <td>2</td>\n",
       "    </tr>\n",
       "    <tr>\n",
       "      <td>1</td>\n",
       "      <td>4</td>\n",
       "      <td>1</td>\n",
       "    </tr>\n",
       "    <tr>\n",
       "      <td>2</td>\n",
       "      <td>9</td>\n",
       "      <td>1</td>\n",
       "    </tr>\n",
       "  </tbody>\n",
       "</table>\n",
       "</div>"
      ],
      "text/plain": [
       "   product_id  num_orders\n",
       "0           1           2\n",
       "1           4           1\n",
       "2           9           1"
      ]
     },
     "execution_count": 480,
     "metadata": {},
     "output_type": "execute_result"
    }
   ],
   "source": [
    "# Calculate number of orders for each product.\n",
    "prod_nunique = df_order_prods.groupby('product_id').nunique()['order_id'].reset_index()\n",
    "prod_nunique.rename(columns={'order_id':'num_orders'}, inplace=True)\n",
    "\n",
    "df_prod_profs = pd.merge(df_prod_profs, prod_nunique, on='product_id')\n",
    "df_prod_profs.head(3)\n",
    "# df_user_profs.set_index('user_id', inplace=True)"
   ]
  },
  {
   "cell_type": "code",
   "execution_count": 481,
   "metadata": {
    "ExecuteTime": {
     "end_time": "2019-10-18T02:15:43.243437Z",
     "start_time": "2019-10-18T02:15:43.206297Z"
    },
    "scrolled": true
   },
   "outputs": [
    {
     "data": {
      "text/html": [
       "<div>\n",
       "<style scoped>\n",
       "    .dataframe tbody tr th:only-of-type {\n",
       "        vertical-align: middle;\n",
       "    }\n",
       "\n",
       "    .dataframe tbody tr th {\n",
       "        vertical-align: top;\n",
       "    }\n",
       "\n",
       "    .dataframe thead th {\n",
       "        text-align: right;\n",
       "    }\n",
       "</style>\n",
       "<table border=\"1\" class=\"dataframe\">\n",
       "  <thead>\n",
       "    <tr style=\"text-align: right;\">\n",
       "      <th></th>\n",
       "      <th>product_id</th>\n",
       "      <th>num_orders</th>\n",
       "      <th>reordered</th>\n",
       "    </tr>\n",
       "  </thead>\n",
       "  <tbody>\n",
       "    <tr>\n",
       "      <td>6041</td>\n",
       "      <td>27255</td>\n",
       "      <td>1</td>\n",
       "      <td>0</td>\n",
       "    </tr>\n",
       "    <tr>\n",
       "      <td>2130</td>\n",
       "      <td>9641</td>\n",
       "      <td>3</td>\n",
       "      <td>2</td>\n",
       "    </tr>\n",
       "    <tr>\n",
       "      <td>9110</td>\n",
       "      <td>40762</td>\n",
       "      <td>1</td>\n",
       "      <td>0</td>\n",
       "    </tr>\n",
       "  </tbody>\n",
       "</table>\n",
       "</div>"
      ],
      "text/plain": [
       "      product_id  num_orders  reordered\n",
       "6041       27255           1          0\n",
       "2130        9641           3          2\n",
       "9110       40762           1          0"
      ]
     },
     "execution_count": 481,
     "metadata": {},
     "output_type": "execute_result"
    }
   ],
   "source": [
    "# Calculate number of RE-orders for each product.\n",
    "prod_reorder_count = df_order_prods.groupby('product_id').sum()['reordered'].reset_index()\n",
    "prod_reorder_count.rename(columns={'order_id':'num_orders'}, inplace=True)\n",
    "\n",
    "df_prod_profs = pd.merge(df_prod_profs, prod_reorder_count, on='product_id')\n",
    "df_prod_profs.sample(3)\n",
    "# df_user_profs.set_index('user_id', inplace=True)"
   ]
  },
  {
   "cell_type": "code",
   "execution_count": 477,
   "metadata": {
    "ExecuteTime": {
     "end_time": "2019-10-18T02:15:32.808097Z",
     "start_time": "2019-10-18T02:15:32.800240Z"
    },
    "scrolled": true
   },
   "outputs": [
    {
     "data": {
      "text/html": [
       "<div>\n",
       "<style scoped>\n",
       "    .dataframe tbody tr th:only-of-type {\n",
       "        vertical-align: middle;\n",
       "    }\n",
       "\n",
       "    .dataframe tbody tr th {\n",
       "        vertical-align: top;\n",
       "    }\n",
       "\n",
       "    .dataframe thead th {\n",
       "        text-align: right;\n",
       "    }\n",
       "</style>\n",
       "<table border=\"1\" class=\"dataframe\">\n",
       "  <thead>\n",
       "    <tr style=\"text-align: right;\">\n",
       "      <th></th>\n",
       "      <th>product_id</th>\n",
       "      <th>num_orders</th>\n",
       "      <th>reordered</th>\n",
       "    </tr>\n",
       "  </thead>\n",
       "  <tbody>\n",
       "    <tr>\n",
       "      <td>8685</td>\n",
       "      <td>38912</td>\n",
       "      <td>4</td>\n",
       "      <td>3</td>\n",
       "    </tr>\n",
       "    <tr>\n",
       "      <td>470</td>\n",
       "      <td>2186</td>\n",
       "      <td>2</td>\n",
       "      <td>1</td>\n",
       "    </tr>\n",
       "    <tr>\n",
       "      <td>10016</td>\n",
       "      <td>44911</td>\n",
       "      <td>1</td>\n",
       "      <td>0</td>\n",
       "    </tr>\n",
       "  </tbody>\n",
       "</table>\n",
       "</div>"
      ],
      "text/plain": [
       "       product_id  num_orders  reordered\n",
       "8685        38912           4          3\n",
       "470          2186           2          1\n",
       "10016       44911           1          0"
      ]
     },
     "execution_count": 477,
     "metadata": {},
     "output_type": "execute_result"
    }
   ],
   "source": [
    "df_prod_profs.sample(3)"
   ]
  },
  {
   "cell_type": "code",
   "execution_count": 518,
   "metadata": {
    "ExecuteTime": {
     "end_time": "2019-10-18T02:35:10.669273Z",
     "start_time": "2019-10-18T02:35:10.205392Z"
    }
   },
   "outputs": [
    {
     "data": {
      "text/plain": [
       "<matplotlib.axes._subplots.AxesSubplot at 0x1a2f7cd190>"
      ]
     },
     "execution_count": 518,
     "metadata": {},
     "output_type": "execute_result"
    },
    {
     "data": {
      "image/png": "[encoded data removed]",
      "text/plain": [
       "<Figure size 432x288 with 1 Axes>"
      ]
     },
     "metadata": {},
     "output_type": "display_data"
    }
   ],
   "source": [
    "sns.scatterplot(df_prod_profs['num_orders'], df_prod_profs['reordered'])"
   ]
  },
  {
   "cell_type": "markdown",
   "metadata": {},
   "source": [
    "## Improved Popularity Recommender: Using Top \"Reorders\""
   ]
  },
  {
   "cell_type": "markdown",
   "metadata": {},
   "source": [
    "Using some of the elementary product profile information, we can now evolve our baseline recommender to focus on products that have been re-ordered."
   ]
  },
  {
   "cell_type": "code",
   "execution_count": 513,
   "metadata": {
    "ExecuteTime": {
     "end_time": "2019-10-18T02:33:55.529749Z",
     "start_time": "2019-10-18T02:33:55.524766Z"
    }
   },
   "outputs": [],
   "source": [
    "## NAIVE MODEL - RE-ORDER Popularity Focused ##\n",
    "\n",
    "# code to return top 50 products\n",
    "# df_order_prods__prior.groupby('product_id').agg(\n",
    "#     {'order_id':'nunique'}\n",
    "# ).sort_values('order_id',ascending=False).index.values[:50]\n",
    "\n",
    "class TopReorderedProducts(object):\n",
    "    '''\n",
    "    \n",
    "    A naive product recommendation algorithm,\n",
    "    based on overal product popularity.\n",
    "    \n",
    "    '''\n",
    "    \n",
    "    def __init__(self):\n",
    "    \n",
    "        self.type = 'reordered'\n",
    "    \n",
    "    def fit(self, prod_profs):\n",
    "        '''\n",
    "        \n",
    "        Pull top 50 products from dataframe.\n",
    "        \n",
    "        '''\n",
    "        \n",
    "        self.top100 = set(prod_profs\n",
    "                          .sort_values(by='reordered', ascending=False)\n",
    "                          .product_id\n",
    "                          .values[:100]\n",
    "                         )\n",
    "        \n",
    "    def predict(self, n=5):\n",
    "        \n",
    "        return random.sample(self.top100, n)"
   ]
  },
  {
   "cell_type": "code",
   "execution_count": 514,
   "metadata": {
    "ExecuteTime": {
     "end_time": "2019-10-18T02:33:56.894026Z",
     "start_time": "2019-10-18T02:33:56.887584Z"
    }
   },
   "outputs": [
    {
     "data": {
      "text/plain": [
       "[21709, 30391, 27966, 33787, 45504]"
      ]
     },
     "execution_count": 514,
     "metadata": {},
     "output_type": "execute_result"
    }
   ],
   "source": [
    "reorder_model = TopReorderedProducts()\n",
    "reorder_model.fit(df_prod_profs)\n",
    "preds = reorder_model.predict()\n",
    "preds"
   ]
  },
  {
   "cell_type": "code",
   "execution_count": 516,
   "metadata": {
    "ExecuteTime": {
     "end_time": "2019-10-18T02:34:09.664997Z",
     "start_time": "2019-10-18T02:34:06.087512Z"
    }
   },
   "outputs": [
    {
     "name": "stdout",
     "output_type": "stream",
     "text": [
      "Mean dynamic suggestion relevancy score, Naive Algorithm, n=300:\n",
      "0.011634510190387169\n"
     ]
    }
   ],
   "source": [
    "### n=300 trials of naive algorithm:\n",
    "\n",
    "n_trials = 300\n",
    "relevancies = []\n",
    "for i in range(5):\n",
    "    relevancies += [DynamicRecScore(model=reorder_model, trials=n_trials)]\n",
    "    \n",
    "print(f'Mean dynamic suggestion relevancy score, Naive Algorithm, n={n_trials}:')\n",
    "print(np.mean(relevancies))"
   ]
  },
  {
   "cell_type": "markdown",
   "metadata": {},
   "source": [
    "# AWS / SQL Stuff"
   ]
  },
  {
   "cell_type": "code",
   "execution_count": null,
   "metadata": {},
   "outputs": [],
   "source": [
    "from psycopg2 import connect\n",
    "from psycopg2.extensions import ISOLATION_LEVEL_AUTOCOMMIT\n",
    "\n",
    "params = {\n",
    "    'host': '18.220.115.81',\n",
    "    'user': 'ubuntu',\n",
    "    'port': 5432\n",
    "    \n",
    "# Connect and create database, disconnect, and reconnect to the right database\n",
    "connection = connect(**params, dbname='ubuntu')\n",
    "connection.set_isolation_level(ISOLATION_LEVEL_AUTOCOMMIT)\n",
    "connection.cursor().execute('CREATE DATABASE store;')\n",
    "connection.close()"
   ]
  }
 ],
 "metadata": {
  "kernelspec": {
   "display_name": "Python 3",
   "language": "python",
   "name": "python3"
  },
  "language_info": {
   "codemirror_mode": {
    "name": "ipython",
    "version": 3
   },
   "file_extension": ".py",
   "mimetype": "text/x-python",
   "name": "python",
   "nbconvert_exporter": "python",
   "pygments_lexer": "ipython3",
   "version": "3.7.4"
  },
  "notify_time": "5",
  "toc": {
   "base_numbering": 1,
   "nav_menu": {
    "height": "480px",
    "width": "542.986px"
   },
   "number_sections": false,
   "sideBar": true,
   "skip_h1_title": false,
   "title_cell": "Table of Contents",
   "title_sidebar": "Contents",
   "toc_cell": false,
   "toc_position": {
    "height": "616.667px",
    "left": "1280px",
    "top": "109.723px",
    "width": "290.764px"
   },
   "toc_section_display": true,
   "toc_window_display": false
  },
  "varInspector": {
   "cols": {
    "lenName": 16,
    "lenType": 16,
    "lenVar": 40
   },
   "kernels_config": {
    "python": {
     "delete_cmd_postfix": "",
     "delete_cmd_prefix": "del ",
     "library": "var_list.py",
     "varRefreshCmd": "print(var_dic_list())"
    },
    "r": {
     "delete_cmd_postfix": ") ",
     "delete_cmd_prefix": "rm(",
     "library": "var_list.r",
     "varRefreshCmd": "cat(var_dic_list()) "
    }
   },
   "position": {
    "height": "415.99px",
    "left": "780.434px",
    "right": "20px",
    "top": "124.99px",
    "width": "670.521px"
   },
   "types_to_exclude": [
    "module",
    "function",
    "builtin_function_or_method",
    "instance",
    "_Feature"
   ],
   "window_display": false
  }
 },
 "nbformat": 4,
 "nbformat_minor": 2
}
