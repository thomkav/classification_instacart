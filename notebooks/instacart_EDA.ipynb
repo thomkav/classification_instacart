{
 "cells": [
  {
   "cell_type": "markdown",
   "metadata": {
    "toc": true
   },
   "source": [
    "<h1>Table of Contents<span class=\"tocSkip\"></span></h1>\n",
    "<div class=\"toc\"><ul class=\"toc-item\"><li><ul class=\"toc-item\"><li><span><a href=\"#Imports\" data-toc-modified-id=\"Imports-0.1\">Imports</a></span></li><li><span><a href=\"#Load-Subset-of-Data-into-Pandas-Dataframe\" data-toc-modified-id=\"Load-Subset-of-Data-into-Pandas-Dataframe-0.2\">Load Subset of Data into Pandas Dataframe</a></span></li><li><span><a href=\"#Limit-Data-to-Subset-of-Users-(applies-to-orders,-and-order_products)\" data-toc-modified-id=\"Limit-Data-to-Subset-of-Users-(applies-to-orders,-and-order_products)-0.3\">Limit Data to Subset of Users (applies to <code>orders</code>, and <code>order_products</code>)</a></span></li></ul></li><li><span><a href=\"#Single-Dataframe-EDA\" data-toc-modified-id=\"Single-Dataframe-EDA-1\">Single Dataframe EDA</a></span><ul class=\"toc-item\"><li><span><a href=\"#EDA-–-Products\" data-toc-modified-id=\"EDA-–-Products-1.1\">EDA – Products</a></span></li><li><span><a href=\"#EDA-–-Aisles\" data-toc-modified-id=\"EDA-–-Aisles-1.2\">EDA – Aisles</a></span></li><li><span><a href=\"#EDA-–-Depts\" data-toc-modified-id=\"EDA-–-Depts-1.3\">EDA – Depts</a></span></li><li><span><a href=\"#EDA-–-Orders\" data-toc-modified-id=\"EDA-–-Orders-1.4\">EDA – Orders</a></span></li><li><span><a href=\"#EDA---Order-Products\" data-toc-modified-id=\"EDA---Order-Products-1.5\">EDA - Order Products</a></span><ul class=\"toc-item\"><li><span><a href=\"#Prior\" data-toc-modified-id=\"Prior-1.5.1\">Prior</a></span></li><li><span><a href=\"#Train\" data-toc-modified-id=\"Train-1.5.2\">Train</a></span></li></ul></li><li><span><a href=\"#Merge-Prior-and-Train-Orders\" data-toc-modified-id=\"Merge-Prior-and-Train-Orders-1.6\">Merge Prior and Train Orders</a></span></li></ul></li><li><span><a href=\"#User-Database-and-Features\" data-toc-modified-id=\"User-Database-and-Features-2\">User Database and Features</a></span><ul class=\"toc-item\"><li><span><a href=\"#Initialize-User-Dataframe\" data-toc-modified-id=\"Initialize-User-Dataframe-2.1\">Initialize User Dataframe</a></span></li><li><span><a href=\"#Generate-High-level-User-Features\" data-toc-modified-id=\"Generate-High-level-User-Features-2.2\">Generate High-level User Features</a></span><ul class=\"toc-item\"><li><span><a href=\"#Unique-Order-Count-(User)\" data-toc-modified-id=\"Unique-Order-Count-(User)-2.2.1\">Unique Order Count (User)</a></span></li><li><span><a href=\"#Order-Sizes-(User)\" data-toc-modified-id=\"Order-Sizes-(User)-2.2.2\">Order Sizes (User)</a></span></li><li><span><a href=\"#Average-Products-/-Order-(User)\" data-toc-modified-id=\"Average-Products-/-Order-(User)-2.2.3\">Average Products / Order (User)</a></span></li><li><span><a href=\"#Departmental-Unique-Check-ins-Dictionary-(User)\" data-toc-modified-id=\"Departmental-Unique-Check-ins-Dictionary-(User)-2.2.4\">Departmental Unique Check-ins Dictionary (User)</a></span></li><li><span><a href=\"#Total-Orders-to-Date-(User)\" data-toc-modified-id=\"Total-Orders-to-Date-(User)-2.2.5\">Total Orders to Date (User)</a></span></li><li><span><a href=\"#Unique-Orders-(User)\" data-toc-modified-id=\"Unique-Orders-(User)-2.2.6\">Unique Orders (User)</a></span></li></ul></li></ul></li></ul></div>"
   ]
  },
  {
   "cell_type": "markdown",
   "metadata": {},
   "source": [
    "## Imports"
   ]
  },
  {
   "cell_type": "code",
   "execution_count": 39,
   "metadata": {
    "ExecuteTime": {
     "end_time": "2019-10-16T19:54:16.579938Z",
     "start_time": "2019-10-16T19:54:16.576870Z"
    }
   },
   "outputs": [],
   "source": [
    "import math\n",
    "import random\n",
    "import pandas as pd\n",
    "import numpy as np\n",
    "import itertools as IT\n",
    "\n",
    "import os\n",
    "import sys"
   ]
  },
  {
   "cell_type": "markdown",
   "metadata": {},
   "source": [
    "## Load Subset of Data into Pandas Dataframe"
   ]
  },
  {
   "cell_type": "code",
   "execution_count": 7,
   "metadata": {
    "ExecuteTime": {
     "end_time": "2019-10-16T19:42:43.920215Z",
     "start_time": "2019-10-16T19:42:43.858917Z"
    }
   },
   "outputs": [
    {
     "name": "stdout",
     "output_type": "stream",
     "text": [
      "(134, 2)\n",
      "(21, 2)\n",
      "(49688, 4)\n"
     ]
    }
   ],
   "source": [
    "aisles = pd.read_csv('../data/instacart-market-basket-analysis/aisles.csv')\n",
    "print(aisles.shape)\n",
    "depts = pd.read_csv('../data/instacart-market-basket-analysis/departments.csv')\n",
    "print(depts.shape)\n",
    "prods = pd.read_csv('../data/instacart-market-basket-analysis/products.csv')\n",
    "print(prods.shape)"
   ]
  },
  {
   "cell_type": "markdown",
   "metadata": {
    "heading_collapsed": true
   },
   "source": [
    "## Limit Data to Subset of Users (applies to `orders`, and `order_products`) "
   ]
  },
  {
   "cell_type": "code",
   "execution_count": 56,
   "metadata": {
    "ExecuteTime": {
     "end_time": "2019-10-16T20:01:29.624422Z",
     "start_time": "2019-10-16T20:01:29.620733Z"
    },
    "hidden": true
   },
   "outputs": [
    {
     "name": "stdout",
     "output_type": "stream",
     "text": [
      "generated sample of size  500\n"
     ]
    }
   ],
   "source": [
    "# define subset of data\n",
    "# Take a sample of the 10,000 users represented in the data\n",
    "\n",
    "# randomized version\n",
    "# np.random.seed(4444)\n",
    "# user_sample_list = np.random.choice(a=range(1,10000,1), size=300, replace=False)\n",
    "\n",
    "user_sample_list = range(1,501, 1)\n",
    "\n",
    "print('generated sample of size ', len(user_sample_list))"
   ]
  },
  {
   "cell_type": "code",
   "execution_count": 15,
   "metadata": {
    "ExecuteTime": {
     "end_time": "2019-10-16T19:45:43.739647Z",
     "start_time": "2019-10-16T19:45:43.732330Z"
    },
    "code_folding": [],
    "hidden": true
   },
   "outputs": [],
   "source": [
    "# Create a generalized mask that filters rows\n",
    "# which are not applicable to the sampled users.\n",
    "#\n",
    "# masked_df = pd.DataFrame(\n",
    "#     columns=['user_id']\n",
    "# )\n",
    "#\n",
    "# user_mask = ([\n",
    "#     (masked_df.user_id.isin(user_sample_list))\n",
    "# ])\n",
    "\n",
    "orders = pd.DataFrame(\n",
    "    columns=['order_id','user_id','eval_set','order_number',\n",
    "             'order_dow','order_hour_of_day','days_since_prior_order']\n",
    ")\n",
    "\n",
    "# import the orders csv in chunks\n",
    "# filter out rows that aren't from the user sample\n",
    "# concatenate to the prior/train dataset\n",
    "\n",
    "\n",
    "def valid_user(chunks):\n",
    "    for chunk in chunks:\n",
    "        mask = chunk.user_id.isin(user_sample_list)\n",
    "        yield chunk.loc[mask]"
   ]
  },
  {
   "cell_type": "code",
   "execution_count": 25,
   "metadata": {
    "ExecuteTime": {
     "end_time": "2019-10-16T19:48:53.095922Z",
     "start_time": "2019-10-16T19:48:49.231541Z"
    },
    "hidden": true
   },
   "outputs": [],
   "source": [
    "# read in orders\n",
    "filename = '../data/instacart-market-basket-analysis/orders.csv'\n",
    "chunksize = 10 ** 4\n",
    "chunks = pd.read_csv(filename, chunksize=chunksize)\n",
    "orders = pd.concat(valid_user(chunks))"
   ]
  },
  {
   "cell_type": "code",
   "execution_count": 51,
   "metadata": {
    "ExecuteTime": {
     "end_time": "2019-10-16T20:00:13.134968Z",
     "start_time": "2019-10-16T20:00:13.125061Z"
    },
    "hidden": true
   },
   "outputs": [
    {
     "name": "stdout",
     "output_type": "stream",
     "text": [
      "1.288284 MB vs  108 MB\n"
     ]
    }
   ],
   "source": [
    "print(sys.getsizeof(orders)/1000000,'MB vs ',\n",
    "      os.stat('../data/instacart-market-basket-analysis/orders.csv').st_size//1000000,'MB')"
   ]
  },
  {
   "cell_type": "code",
   "execution_count": 57,
   "metadata": {
    "ExecuteTime": {
     "end_time": "2019-10-16T20:01:57.658442Z",
     "start_time": "2019-10-16T20:01:57.652527Z"
    },
    "hidden": true
   },
   "outputs": [
    {
     "name": "stdout",
     "output_type": "stream",
     "text": [
      "(8142,)\n"
     ]
    }
   ],
   "source": [
    "# compile a list of unique orders that originate from our user sample\n",
    "\n",
    "orders_sample_list = orders.order_id.unique()\n",
    "print(orders_sample_list.shape)\n",
    "\n",
    "def valid_order(chunks):\n",
    "    for chunk in chunks:\n",
    "        mask = chunk.order_id.isin(orders_sample_list)\n",
    "        yield chunk.loc[mask]"
   ]
  },
  {
   "cell_type": "code",
   "execution_count": 50,
   "metadata": {
    "ExecuteTime": {
     "end_time": "2019-10-16T20:00:09.123257Z",
     "start_time": "2019-10-16T19:59:45.659554Z"
    },
    "hidden": true
   },
   "outputs": [],
   "source": [
    "order_prods__prior = pd.DataFrame(\n",
    "    columns=['order_id','product_id','add_to_cart_order','reordered']\n",
    ")\n",
    "\n",
    "# import the prior/train_products csv in chunks\n",
    "# filter out rows that aren't from the user sample\n",
    "# concatenate to the prior/train dataset\n",
    "\n",
    "\n",
    "\n",
    "# read in order_prods_prior\n",
    "filename = '../data/instacart-market-basket-analysis/order_products__prior.csv'\n",
    "chunksize = 10 ** 4\n",
    "chunks = pd.read_csv(filename, chunksize=chunksize)\n",
    "order_prods__prior = pd.concat(valid_order(chunks))"
   ]
  },
  {
   "cell_type": "code",
   "execution_count": 53,
   "metadata": {
    "ExecuteTime": {
     "end_time": "2019-10-16T20:00:40.131626Z",
     "start_time": "2019-10-16T20:00:40.126050Z"
    },
    "hidden": true
   },
   "outputs": [
    {
     "name": "stdout",
     "output_type": "stream",
     "text": [
      "3.097032 MB vs  577 MB\n"
     ]
    }
   ],
   "source": [
    "print(sys.getsizeof(order_prods__prior)/1000000,'MB vs ',\n",
    "      os.stat('../data/instacart-market-basket-analysis/order_products__prior.csv').st_size//1000000,'MB')"
   ]
  },
  {
   "cell_type": "code",
   "execution_count": 54,
   "metadata": {
    "ExecuteTime": {
     "end_time": "2019-10-16T20:01:07.588355Z",
     "start_time": "2019-10-16T20:01:06.565634Z"
    },
    "hidden": true
   },
   "outputs": [],
   "source": [
    "order_prods__train = pd.DataFrame(\n",
    "    columns=['order_id','product_id','add_to_cart_order']\n",
    ")\n",
    "\n",
    "# import the prior/train_products csv in chunks\n",
    "# filter out rows that aren't from the user sample\n",
    "# concatenate to the prior/train dataset\n",
    "\n",
    "# read in order_prods_prior\n",
    "filename = '../data/instacart-market-basket-analysis/order_products__train.csv'\n",
    "chunksize = 10 ** 4\n",
    "chunks = pd.read_csv(filename, chunksize=chunksize)\n",
    "order_prods__train = pd.concat(valid_order(chunks))"
   ]
  },
  {
   "cell_type": "code",
   "execution_count": 55,
   "metadata": {
    "ExecuteTime": {
     "end_time": "2019-10-16T20:01:08.547693Z",
     "start_time": "2019-10-16T20:01:08.542764Z"
    },
    "hidden": true,
    "scrolled": true
   },
   "outputs": [
    {
     "name": "stdout",
     "output_type": "stream",
     "text": [
      "0.135472 MB vs  24 MB\n"
     ]
    }
   ],
   "source": [
    "print(sys.getsizeof(order_prods__train)/1000000,'MB vs ',\n",
    "      os.stat('../data/instacart-market-basket-analysis/order_products__train.csv').st_size//1000000,'MB')"
   ]
  },
  {
   "cell_type": "markdown",
   "metadata": {},
   "source": [
    "# Single Dataframe EDA"
   ]
  },
  {
   "cell_type": "markdown",
   "metadata": {},
   "source": [
    "## EDA – Products"
   ]
  },
  {
   "cell_type": "code",
   "execution_count": 61,
   "metadata": {
    "ExecuteTime": {
     "end_time": "2019-10-16T20:05:10.941137Z",
     "start_time": "2019-10-16T20:05:10.931858Z"
    }
   },
   "outputs": [
    {
     "data": {
      "text/html": [
       "<div>\n",
       "<style scoped>\n",
       "    .dataframe tbody tr th:only-of-type {\n",
       "        vertical-align: middle;\n",
       "    }\n",
       "\n",
       "    .dataframe tbody tr th {\n",
       "        vertical-align: top;\n",
       "    }\n",
       "\n",
       "    .dataframe thead th {\n",
       "        text-align: right;\n",
       "    }\n",
       "</style>\n",
       "<table border=\"1\" class=\"dataframe\">\n",
       "  <thead>\n",
       "    <tr style=\"text-align: right;\">\n",
       "      <th></th>\n",
       "      <th>order_id</th>\n",
       "      <th>user_id</th>\n",
       "      <th>eval_set</th>\n",
       "      <th>order_number</th>\n",
       "      <th>order_dow</th>\n",
       "      <th>order_hour_of_day</th>\n",
       "      <th>days_since_prior_order</th>\n",
       "    </tr>\n",
       "  </thead>\n",
       "  <tbody>\n",
       "    <tr>\n",
       "      <td>0</td>\n",
       "      <td>2539329</td>\n",
       "      <td>1</td>\n",
       "      <td>prior</td>\n",
       "      <td>1</td>\n",
       "      <td>2</td>\n",
       "      <td>8</td>\n",
       "      <td>NaN</td>\n",
       "    </tr>\n",
       "    <tr>\n",
       "      <td>1</td>\n",
       "      <td>2398795</td>\n",
       "      <td>1</td>\n",
       "      <td>prior</td>\n",
       "      <td>2</td>\n",
       "      <td>3</td>\n",
       "      <td>7</td>\n",
       "      <td>15.0</td>\n",
       "    </tr>\n",
       "    <tr>\n",
       "      <td>2</td>\n",
       "      <td>473747</td>\n",
       "      <td>1</td>\n",
       "      <td>prior</td>\n",
       "      <td>3</td>\n",
       "      <td>3</td>\n",
       "      <td>12</td>\n",
       "      <td>21.0</td>\n",
       "    </tr>\n",
       "    <tr>\n",
       "      <td>3</td>\n",
       "      <td>2254736</td>\n",
       "      <td>1</td>\n",
       "      <td>prior</td>\n",
       "      <td>4</td>\n",
       "      <td>4</td>\n",
       "      <td>7</td>\n",
       "      <td>29.0</td>\n",
       "    </tr>\n",
       "    <tr>\n",
       "      <td>4</td>\n",
       "      <td>431534</td>\n",
       "      <td>1</td>\n",
       "      <td>prior</td>\n",
       "      <td>5</td>\n",
       "      <td>4</td>\n",
       "      <td>15</td>\n",
       "      <td>28.0</td>\n",
       "    </tr>\n",
       "  </tbody>\n",
       "</table>\n",
       "</div>"
      ],
      "text/plain": [
       "   order_id  user_id eval_set  order_number  order_dow  order_hour_of_day  \\\n",
       "0   2539329        1    prior             1          2                  8   \n",
       "1   2398795        1    prior             2          3                  7   \n",
       "2    473747        1    prior             3          3                 12   \n",
       "3   2254736        1    prior             4          4                  7   \n",
       "4    431534        1    prior             5          4                 15   \n",
       "\n",
       "   days_since_prior_order  \n",
       "0                     NaN  \n",
       "1                    15.0  \n",
       "2                    21.0  \n",
       "3                    29.0  \n",
       "4                    28.0  "
      ]
     },
     "execution_count": 61,
     "metadata": {},
     "output_type": "execute_result"
    }
   ],
   "source": [
    "orders.head()"
   ]
  },
  {
   "cell_type": "markdown",
   "metadata": {
    "heading_collapsed": true
   },
   "source": [
    "## EDA – Aisles"
   ]
  },
  {
   "cell_type": "code",
   "execution_count": 60,
   "metadata": {
    "ExecuteTime": {
     "end_time": "2019-10-16T20:05:06.147880Z",
     "start_time": "2019-10-16T20:05:06.141400Z"
    },
    "hidden": true
   },
   "outputs": [
    {
     "data": {
      "text/html": [
       "<div>\n",
       "<style scoped>\n",
       "    .dataframe tbody tr th:only-of-type {\n",
       "        vertical-align: middle;\n",
       "    }\n",
       "\n",
       "    .dataframe tbody tr th {\n",
       "        vertical-align: top;\n",
       "    }\n",
       "\n",
       "    .dataframe thead th {\n",
       "        text-align: right;\n",
       "    }\n",
       "</style>\n",
       "<table border=\"1\" class=\"dataframe\">\n",
       "  <thead>\n",
       "    <tr style=\"text-align: right;\">\n",
       "      <th></th>\n",
       "      <th>aisle_id</th>\n",
       "      <th>aisle</th>\n",
       "    </tr>\n",
       "  </thead>\n",
       "  <tbody>\n",
       "    <tr>\n",
       "      <td>0</td>\n",
       "      <td>1</td>\n",
       "      <td>prepared soups salads</td>\n",
       "    </tr>\n",
       "    <tr>\n",
       "      <td>1</td>\n",
       "      <td>2</td>\n",
       "      <td>specialty cheeses</td>\n",
       "    </tr>\n",
       "    <tr>\n",
       "      <td>2</td>\n",
       "      <td>3</td>\n",
       "      <td>energy granola bars</td>\n",
       "    </tr>\n",
       "  </tbody>\n",
       "</table>\n",
       "</div>"
      ],
      "text/plain": [
       "   aisle_id                  aisle\n",
       "0         1  prepared soups salads\n",
       "1         2      specialty cheeses\n",
       "2         3    energy granola bars"
      ]
     },
     "execution_count": 60,
     "metadata": {},
     "output_type": "execute_result"
    }
   ],
   "source": [
    "aisles.head(3)"
   ]
  },
  {
   "cell_type": "markdown",
   "metadata": {
    "heading_collapsed": true
   },
   "source": [
    "## EDA – Depts"
   ]
  },
  {
   "cell_type": "code",
   "execution_count": 63,
   "metadata": {
    "ExecuteTime": {
     "end_time": "2019-10-16T20:05:25.122085Z",
     "start_time": "2019-10-16T20:05:25.115239Z"
    },
    "hidden": true
   },
   "outputs": [
    {
     "data": {
      "text/html": [
       "<div>\n",
       "<style scoped>\n",
       "    .dataframe tbody tr th:only-of-type {\n",
       "        vertical-align: middle;\n",
       "    }\n",
       "\n",
       "    .dataframe tbody tr th {\n",
       "        vertical-align: top;\n",
       "    }\n",
       "\n",
       "    .dataframe thead th {\n",
       "        text-align: right;\n",
       "    }\n",
       "</style>\n",
       "<table border=\"1\" class=\"dataframe\">\n",
       "  <thead>\n",
       "    <tr style=\"text-align: right;\">\n",
       "      <th></th>\n",
       "      <th>department_id</th>\n",
       "      <th>department</th>\n",
       "    </tr>\n",
       "  </thead>\n",
       "  <tbody>\n",
       "    <tr>\n",
       "      <td>0</td>\n",
       "      <td>1</td>\n",
       "      <td>frozen</td>\n",
       "    </tr>\n",
       "    <tr>\n",
       "      <td>1</td>\n",
       "      <td>2</td>\n",
       "      <td>other</td>\n",
       "    </tr>\n",
       "    <tr>\n",
       "      <td>2</td>\n",
       "      <td>3</td>\n",
       "      <td>bakery</td>\n",
       "    </tr>\n",
       "  </tbody>\n",
       "</table>\n",
       "</div>"
      ],
      "text/plain": [
       "   department_id department\n",
       "0              1     frozen\n",
       "1              2      other\n",
       "2              3     bakery"
      ]
     },
     "execution_count": 63,
     "metadata": {},
     "output_type": "execute_result"
    }
   ],
   "source": [
    "depts.head(3)"
   ]
  },
  {
   "cell_type": "markdown",
   "metadata": {
    "heading_collapsed": true
   },
   "source": [
    "## EDA – Orders"
   ]
  },
  {
   "cell_type": "code",
   "execution_count": 64,
   "metadata": {
    "ExecuteTime": {
     "end_time": "2019-10-16T20:05:31.820447Z",
     "start_time": "2019-10-16T20:05:31.811248Z"
    },
    "hidden": true
   },
   "outputs": [
    {
     "data": {
      "text/html": [
       "<div>\n",
       "<style scoped>\n",
       "    .dataframe tbody tr th:only-of-type {\n",
       "        vertical-align: middle;\n",
       "    }\n",
       "\n",
       "    .dataframe tbody tr th {\n",
       "        vertical-align: top;\n",
       "    }\n",
       "\n",
       "    .dataframe thead th {\n",
       "        text-align: right;\n",
       "    }\n",
       "</style>\n",
       "<table border=\"1\" class=\"dataframe\">\n",
       "  <thead>\n",
       "    <tr style=\"text-align: right;\">\n",
       "      <th></th>\n",
       "      <th>order_id</th>\n",
       "      <th>user_id</th>\n",
       "      <th>eval_set</th>\n",
       "      <th>order_number</th>\n",
       "      <th>order_dow</th>\n",
       "      <th>order_hour_of_day</th>\n",
       "      <th>days_since_prior_order</th>\n",
       "    </tr>\n",
       "  </thead>\n",
       "  <tbody>\n",
       "    <tr>\n",
       "      <td>0</td>\n",
       "      <td>2539329</td>\n",
       "      <td>1</td>\n",
       "      <td>prior</td>\n",
       "      <td>1</td>\n",
       "      <td>2</td>\n",
       "      <td>8</td>\n",
       "      <td>NaN</td>\n",
       "    </tr>\n",
       "    <tr>\n",
       "      <td>1</td>\n",
       "      <td>2398795</td>\n",
       "      <td>1</td>\n",
       "      <td>prior</td>\n",
       "      <td>2</td>\n",
       "      <td>3</td>\n",
       "      <td>7</td>\n",
       "      <td>15.0</td>\n",
       "    </tr>\n",
       "    <tr>\n",
       "      <td>2</td>\n",
       "      <td>473747</td>\n",
       "      <td>1</td>\n",
       "      <td>prior</td>\n",
       "      <td>3</td>\n",
       "      <td>3</td>\n",
       "      <td>12</td>\n",
       "      <td>21.0</td>\n",
       "    </tr>\n",
       "    <tr>\n",
       "      <td>3</td>\n",
       "      <td>2254736</td>\n",
       "      <td>1</td>\n",
       "      <td>prior</td>\n",
       "      <td>4</td>\n",
       "      <td>4</td>\n",
       "      <td>7</td>\n",
       "      <td>29.0</td>\n",
       "    </tr>\n",
       "    <tr>\n",
       "      <td>4</td>\n",
       "      <td>431534</td>\n",
       "      <td>1</td>\n",
       "      <td>prior</td>\n",
       "      <td>5</td>\n",
       "      <td>4</td>\n",
       "      <td>15</td>\n",
       "      <td>28.0</td>\n",
       "    </tr>\n",
       "  </tbody>\n",
       "</table>\n",
       "</div>"
      ],
      "text/plain": [
       "   order_id  user_id eval_set  order_number  order_dow  order_hour_of_day  \\\n",
       "0   2539329        1    prior             1          2                  8   \n",
       "1   2398795        1    prior             2          3                  7   \n",
       "2    473747        1    prior             3          3                 12   \n",
       "3   2254736        1    prior             4          4                  7   \n",
       "4    431534        1    prior             5          4                 15   \n",
       "\n",
       "   days_since_prior_order  \n",
       "0                     NaN  \n",
       "1                    15.0  \n",
       "2                    21.0  \n",
       "3                    29.0  \n",
       "4                    28.0  "
      ]
     },
     "execution_count": 64,
     "metadata": {},
     "output_type": "execute_result"
    }
   ],
   "source": [
    "orders.head()"
   ]
  },
  {
   "cell_type": "markdown",
   "metadata": {},
   "source": [
    "## EDA - Order Products"
   ]
  },
  {
   "cell_type": "markdown",
   "metadata": {
    "heading_collapsed": true
   },
   "source": [
    "### Prior"
   ]
  },
  {
   "cell_type": "code",
   "execution_count": 108,
   "metadata": {
    "ExecuteTime": {
     "end_time": "2019-10-16T20:56:56.671065Z",
     "start_time": "2019-10-16T20:56:56.662866Z"
    },
    "hidden": true,
    "scrolled": true
   },
   "outputs": [
    {
     "name": "stdout",
     "output_type": "stream",
     "text": [
      "(77425, 4)\n"
     ]
    },
    {
     "data": {
      "text/html": [
       "<div>\n",
       "<style scoped>\n",
       "    .dataframe tbody tr th:only-of-type {\n",
       "        vertical-align: middle;\n",
       "    }\n",
       "\n",
       "    .dataframe tbody tr th {\n",
       "        vertical-align: top;\n",
       "    }\n",
       "\n",
       "    .dataframe thead th {\n",
       "        text-align: right;\n",
       "    }\n",
       "</style>\n",
       "<table border=\"1\" class=\"dataframe\">\n",
       "  <thead>\n",
       "    <tr style=\"text-align: right;\">\n",
       "      <th></th>\n",
       "      <th>order_id</th>\n",
       "      <th>product_id</th>\n",
       "      <th>add_to_cart_order</th>\n",
       "      <th>reordered</th>\n",
       "    </tr>\n",
       "  </thead>\n",
       "  <tbody>\n",
       "    <tr>\n",
       "      <td>333</td>\n",
       "      <td>40</td>\n",
       "      <td>10070</td>\n",
       "      <td>1</td>\n",
       "      <td>1</td>\n",
       "    </tr>\n",
       "    <tr>\n",
       "      <td>334</td>\n",
       "      <td>40</td>\n",
       "      <td>42450</td>\n",
       "      <td>2</td>\n",
       "      <td>1</td>\n",
       "    </tr>\n",
       "    <tr>\n",
       "      <td>335</td>\n",
       "      <td>40</td>\n",
       "      <td>33198</td>\n",
       "      <td>3</td>\n",
       "      <td>1</td>\n",
       "    </tr>\n",
       "    <tr>\n",
       "      <td>336</td>\n",
       "      <td>40</td>\n",
       "      <td>34866</td>\n",
       "      <td>4</td>\n",
       "      <td>1</td>\n",
       "    </tr>\n",
       "    <tr>\n",
       "      <td>14111</td>\n",
       "      <td>1483</td>\n",
       "      <td>32818</td>\n",
       "      <td>1</td>\n",
       "      <td>1</td>\n",
       "    </tr>\n",
       "  </tbody>\n",
       "</table>\n",
       "</div>"
      ],
      "text/plain": [
       "       order_id  product_id  add_to_cart_order  reordered\n",
       "333          40       10070                  1          1\n",
       "334          40       42450                  2          1\n",
       "335          40       33198                  3          1\n",
       "336          40       34866                  4          1\n",
       "14111      1483       32818                  1          1"
      ]
     },
     "execution_count": 108,
     "metadata": {},
     "output_type": "execute_result"
    }
   ],
   "source": [
    "print(order_prods__prior.shape)\n",
    "order_prods__prior.head()"
   ]
  },
  {
   "cell_type": "code",
   "execution_count": 75,
   "metadata": {
    "ExecuteTime": {
     "end_time": "2019-10-16T20:08:31.896945Z",
     "start_time": "2019-10-16T20:08:31.887797Z"
    },
    "hidden": true,
    "scrolled": false
   },
   "outputs": [
    {
     "data": {
      "text/html": [
       "<div>\n",
       "<style scoped>\n",
       "    .dataframe tbody tr th:only-of-type {\n",
       "        vertical-align: middle;\n",
       "    }\n",
       "\n",
       "    .dataframe tbody tr th {\n",
       "        vertical-align: top;\n",
       "    }\n",
       "\n",
       "    .dataframe thead th {\n",
       "        text-align: right;\n",
       "    }\n",
       "</style>\n",
       "<table border=\"1\" class=\"dataframe\">\n",
       "  <thead>\n",
       "    <tr style=\"text-align: right;\">\n",
       "      <th></th>\n",
       "      <th>order_id</th>\n",
       "      <th>product_id</th>\n",
       "      <th>add_to_cart_order</th>\n",
       "      <th>reordered</th>\n",
       "    </tr>\n",
       "  </thead>\n",
       "  <tbody>\n",
       "    <tr>\n",
       "      <td>14111</td>\n",
       "      <td>1483</td>\n",
       "      <td>32818</td>\n",
       "      <td>1</td>\n",
       "      <td>1</td>\n",
       "    </tr>\n",
       "    <tr>\n",
       "      <td>14112</td>\n",
       "      <td>1483</td>\n",
       "      <td>27582</td>\n",
       "      <td>2</td>\n",
       "      <td>1</td>\n",
       "    </tr>\n",
       "    <tr>\n",
       "      <td>14113</td>\n",
       "      <td>1483</td>\n",
       "      <td>12302</td>\n",
       "      <td>3</td>\n",
       "      <td>1</td>\n",
       "    </tr>\n",
       "    <tr>\n",
       "      <td>14114</td>\n",
       "      <td>1483</td>\n",
       "      <td>1831</td>\n",
       "      <td>4</td>\n",
       "      <td>1</td>\n",
       "    </tr>\n",
       "    <tr>\n",
       "      <td>14115</td>\n",
       "      <td>1483</td>\n",
       "      <td>19204</td>\n",
       "      <td>5</td>\n",
       "      <td>1</td>\n",
       "    </tr>\n",
       "    <tr>\n",
       "      <td>14116</td>\n",
       "      <td>1483</td>\n",
       "      <td>10180</td>\n",
       "      <td>6</td>\n",
       "      <td>1</td>\n",
       "    </tr>\n",
       "    <tr>\n",
       "      <td>14117</td>\n",
       "      <td>1483</td>\n",
       "      <td>1545</td>\n",
       "      <td>7</td>\n",
       "      <td>1</td>\n",
       "    </tr>\n",
       "    <tr>\n",
       "      <td>14118</td>\n",
       "      <td>1483</td>\n",
       "      <td>18352</td>\n",
       "      <td>8</td>\n",
       "      <td>1</td>\n",
       "    </tr>\n",
       "    <tr>\n",
       "      <td>14119</td>\n",
       "      <td>1483</td>\n",
       "      <td>16464</td>\n",
       "      <td>9</td>\n",
       "      <td>1</td>\n",
       "    </tr>\n",
       "    <tr>\n",
       "      <td>14120</td>\n",
       "      <td>1483</td>\n",
       "      <td>5531</td>\n",
       "      <td>10</td>\n",
       "      <td>0</td>\n",
       "    </tr>\n",
       "    <tr>\n",
       "      <td>14121</td>\n",
       "      <td>1483</td>\n",
       "      <td>7118</td>\n",
       "      <td>11</td>\n",
       "      <td>0</td>\n",
       "    </tr>\n",
       "    <tr>\n",
       "      <td>14122</td>\n",
       "      <td>1483</td>\n",
       "      <td>20985</td>\n",
       "      <td>12</td>\n",
       "      <td>1</td>\n",
       "    </tr>\n",
       "  </tbody>\n",
       "</table>\n",
       "</div>"
      ],
      "text/plain": [
       "       order_id  product_id  add_to_cart_order  reordered\n",
       "14111      1483       32818                  1          1\n",
       "14112      1483       27582                  2          1\n",
       "14113      1483       12302                  3          1\n",
       "14114      1483        1831                  4          1\n",
       "14115      1483       19204                  5          1\n",
       "14116      1483       10180                  6          1\n",
       "14117      1483        1545                  7          1\n",
       "14118      1483       18352                  8          1\n",
       "14119      1483       16464                  9          1\n",
       "14120      1483        5531                 10          0\n",
       "14121      1483        7118                 11          0\n",
       "14122      1483       20985                 12          1"
      ]
     },
     "execution_count": 75,
     "metadata": {},
     "output_type": "execute_result"
    }
   ],
   "source": [
    "# inspect an individual order from prior\n",
    "order_prods__prior[order_prods__prior.order_id == 1483]"
   ]
  },
  {
   "cell_type": "markdown",
   "metadata": {
    "heading_collapsed": true
   },
   "source": [
    "### Train"
   ]
  },
  {
   "cell_type": "code",
   "execution_count": 107,
   "metadata": {
    "ExecuteTime": {
     "end_time": "2019-10-16T20:56:47.063076Z",
     "start_time": "2019-10-16T20:56:47.054720Z"
    },
    "hidden": true,
    "scrolled": false
   },
   "outputs": [
    {
     "name": "stdout",
     "output_type": "stream",
     "text": [
      "(3386, 4)\n"
     ]
    },
    {
     "data": {
      "text/html": [
       "<div>\n",
       "<style scoped>\n",
       "    .dataframe tbody tr th:only-of-type {\n",
       "        vertical-align: middle;\n",
       "    }\n",
       "\n",
       "    .dataframe tbody tr th {\n",
       "        vertical-align: top;\n",
       "    }\n",
       "\n",
       "    .dataframe thead th {\n",
       "        text-align: right;\n",
       "    }\n",
       "</style>\n",
       "<table border=\"1\" class=\"dataframe\">\n",
       "  <thead>\n",
       "    <tr style=\"text-align: right;\">\n",
       "      <th></th>\n",
       "      <th>order_id</th>\n",
       "      <th>product_id</th>\n",
       "      <th>add_to_cart_order</th>\n",
       "      <th>reordered</th>\n",
       "    </tr>\n",
       "  </thead>\n",
       "  <tbody>\n",
       "    <tr>\n",
       "      <td>239</td>\n",
       "      <td>988</td>\n",
       "      <td>45061</td>\n",
       "      <td>1</td>\n",
       "      <td>0</td>\n",
       "    </tr>\n",
       "    <tr>\n",
       "      <td>240</td>\n",
       "      <td>988</td>\n",
       "      <td>28464</td>\n",
       "      <td>2</td>\n",
       "      <td>0</td>\n",
       "    </tr>\n",
       "    <tr>\n",
       "      <td>241</td>\n",
       "      <td>988</td>\n",
       "      <td>12626</td>\n",
       "      <td>3</td>\n",
       "      <td>0</td>\n",
       "    </tr>\n",
       "    <tr>\n",
       "      <td>242</td>\n",
       "      <td>988</td>\n",
       "      <td>4818</td>\n",
       "      <td>4</td>\n",
       "      <td>1</td>\n",
       "    </tr>\n",
       "    <tr>\n",
       "      <td>1202</td>\n",
       "      <td>3529</td>\n",
       "      <td>17261</td>\n",
       "      <td>1</td>\n",
       "      <td>0</td>\n",
       "    </tr>\n",
       "  </tbody>\n",
       "</table>\n",
       "</div>"
      ],
      "text/plain": [
       "      order_id  product_id  add_to_cart_order  reordered\n",
       "239        988       45061                  1          0\n",
       "240        988       28464                  2          0\n",
       "241        988       12626                  3          0\n",
       "242        988        4818                  4          1\n",
       "1202      3529       17261                  1          0"
      ]
     },
     "execution_count": 107,
     "metadata": {},
     "output_type": "execute_result"
    }
   ],
   "source": [
    "print(order_prods__train.shape)\n",
    "order_prods__train.head()"
   ]
  },
  {
   "cell_type": "code",
   "execution_count": 72,
   "metadata": {
    "ExecuteTime": {
     "end_time": "2019-10-16T20:08:00.286800Z",
     "start_time": "2019-10-16T20:08:00.278675Z"
    },
    "hidden": true
   },
   "outputs": [
    {
     "data": {
      "text/html": [
       "<div>\n",
       "<style scoped>\n",
       "    .dataframe tbody tr th:only-of-type {\n",
       "        vertical-align: middle;\n",
       "    }\n",
       "\n",
       "    .dataframe tbody tr th {\n",
       "        vertical-align: top;\n",
       "    }\n",
       "\n",
       "    .dataframe thead th {\n",
       "        text-align: right;\n",
       "    }\n",
       "</style>\n",
       "<table border=\"1\" class=\"dataframe\">\n",
       "  <thead>\n",
       "    <tr style=\"text-align: right;\">\n",
       "      <th></th>\n",
       "      <th>order_id</th>\n",
       "      <th>product_id</th>\n",
       "      <th>add_to_cart_order</th>\n",
       "      <th>reordered</th>\n",
       "    </tr>\n",
       "  </thead>\n",
       "  <tbody>\n",
       "    <tr>\n",
       "      <td>239</td>\n",
       "      <td>988</td>\n",
       "      <td>45061</td>\n",
       "      <td>1</td>\n",
       "      <td>0</td>\n",
       "    </tr>\n",
       "    <tr>\n",
       "      <td>240</td>\n",
       "      <td>988</td>\n",
       "      <td>28464</td>\n",
       "      <td>2</td>\n",
       "      <td>0</td>\n",
       "    </tr>\n",
       "    <tr>\n",
       "      <td>241</td>\n",
       "      <td>988</td>\n",
       "      <td>12626</td>\n",
       "      <td>3</td>\n",
       "      <td>0</td>\n",
       "    </tr>\n",
       "    <tr>\n",
       "      <td>242</td>\n",
       "      <td>988</td>\n",
       "      <td>4818</td>\n",
       "      <td>4</td>\n",
       "      <td>1</td>\n",
       "    </tr>\n",
       "  </tbody>\n",
       "</table>\n",
       "</div>"
      ],
      "text/plain": [
       "     order_id  product_id  add_to_cart_order  reordered\n",
       "239       988       45061                  1          0\n",
       "240       988       28464                  2          0\n",
       "241       988       12626                  3          0\n",
       "242       988        4818                  4          1"
      ]
     },
     "execution_count": 72,
     "metadata": {},
     "output_type": "execute_result"
    }
   ],
   "source": [
    "# inspect an individual order from train\n",
    "order_prods__train[order_prods__train.order_id == 988]"
   ]
  },
  {
   "cell_type": "markdown",
   "metadata": {},
   "source": [
    "## Merge Prior and Train Orders"
   ]
  },
  {
   "cell_type": "code",
   "execution_count": 106,
   "metadata": {
    "ExecuteTime": {
     "end_time": "2019-10-16T20:56:38.265942Z",
     "start_time": "2019-10-16T20:56:38.255231Z"
    },
    "scrolled": true
   },
   "outputs": [
    {
     "name": "stdout",
     "output_type": "stream",
     "text": [
      "(80811, 4)\n"
     ]
    },
    {
     "data": {
      "text/html": [
       "<div>\n",
       "<style scoped>\n",
       "    .dataframe tbody tr th:only-of-type {\n",
       "        vertical-align: middle;\n",
       "    }\n",
       "\n",
       "    .dataframe tbody tr th {\n",
       "        vertical-align: top;\n",
       "    }\n",
       "\n",
       "    .dataframe thead th {\n",
       "        text-align: right;\n",
       "    }\n",
       "</style>\n",
       "<table border=\"1\" class=\"dataframe\">\n",
       "  <thead>\n",
       "    <tr style=\"text-align: right;\">\n",
       "      <th></th>\n",
       "      <th>order_id</th>\n",
       "      <th>product_id</th>\n",
       "      <th>add_to_cart_order</th>\n",
       "      <th>reordered</th>\n",
       "    </tr>\n",
       "  </thead>\n",
       "  <tbody>\n",
       "    <tr>\n",
       "      <td>333</td>\n",
       "      <td>40</td>\n",
       "      <td>10070</td>\n",
       "      <td>1</td>\n",
       "      <td>1</td>\n",
       "    </tr>\n",
       "    <tr>\n",
       "      <td>334</td>\n",
       "      <td>40</td>\n",
       "      <td>42450</td>\n",
       "      <td>2</td>\n",
       "      <td>1</td>\n",
       "    </tr>\n",
       "    <tr>\n",
       "      <td>335</td>\n",
       "      <td>40</td>\n",
       "      <td>33198</td>\n",
       "      <td>3</td>\n",
       "      <td>1</td>\n",
       "    </tr>\n",
       "    <tr>\n",
       "      <td>336</td>\n",
       "      <td>40</td>\n",
       "      <td>34866</td>\n",
       "      <td>4</td>\n",
       "      <td>1</td>\n",
       "    </tr>\n",
       "    <tr>\n",
       "      <td>14111</td>\n",
       "      <td>1483</td>\n",
       "      <td>32818</td>\n",
       "      <td>1</td>\n",
       "      <td>1</td>\n",
       "    </tr>\n",
       "  </tbody>\n",
       "</table>\n",
       "</div>"
      ],
      "text/plain": [
       "       order_id  product_id  add_to_cart_order  reordered\n",
       "333          40       10070                  1          1\n",
       "334          40       42450                  2          1\n",
       "335          40       33198                  3          1\n",
       "336          40       34866                  4          1\n",
       "14111      1483       32818                  1          1"
      ]
     },
     "execution_count": 106,
     "metadata": {},
     "output_type": "execute_result"
    }
   ],
   "source": [
    "all_order_prods = pd.concat([order_prods__prior, order_prods__train])\n",
    "print(all_order_prods.shape)\n",
    "all_order_prods.head()"
   ]
  },
  {
   "cell_type": "markdown",
   "metadata": {},
   "source": [
    "# User Database and Features"
   ]
  },
  {
   "cell_type": "markdown",
   "metadata": {
    "heading_collapsed": true
   },
   "source": [
    "## Initialize User Dataframe"
   ]
  },
  {
   "cell_type": "code",
   "execution_count": 88,
   "metadata": {
    "ExecuteTime": {
     "end_time": "2019-10-16T20:37:32.242133Z",
     "start_time": "2019-10-16T20:37:32.233493Z"
    },
    "code_folding": [],
    "hidden": true
   },
   "outputs": [
    {
     "data": {
      "text/html": [
       "<div>\n",
       "<style scoped>\n",
       "    .dataframe tbody tr th:only-of-type {\n",
       "        vertical-align: middle;\n",
       "    }\n",
       "\n",
       "    .dataframe tbody tr th {\n",
       "        vertical-align: top;\n",
       "    }\n",
       "\n",
       "    .dataframe thead th {\n",
       "        text-align: right;\n",
       "    }\n",
       "</style>\n",
       "<table border=\"1\" class=\"dataframe\">\n",
       "  <thead>\n",
       "    <tr style=\"text-align: right;\">\n",
       "      <th></th>\n",
       "    </tr>\n",
       "    <tr>\n",
       "      <th>user_id</th>\n",
       "    </tr>\n",
       "  </thead>\n",
       "  <tbody>\n",
       "    <tr>\n",
       "      <td>1</td>\n",
       "    </tr>\n",
       "    <tr>\n",
       "      <td>2</td>\n",
       "    </tr>\n",
       "    <tr>\n",
       "      <td>3</td>\n",
       "    </tr>\n",
       "    <tr>\n",
       "      <td>4</td>\n",
       "    </tr>\n",
       "    <tr>\n",
       "      <td>5</td>\n",
       "    </tr>\n",
       "  </tbody>\n",
       "</table>\n",
       "</div>"
      ],
      "text/plain": [
       "Empty DataFrame\n",
       "Columns: []\n",
       "Index: [1, 2, 3, 4, 5]"
      ]
     },
     "execution_count": 88,
     "metadata": {},
     "output_type": "execute_result"
    }
   ],
   "source": [
    "# Create a users database with some historical information for each user\n",
    "\n",
    "user_hist = pd.DataFrame()\n",
    "user_hist['user_id'] = user_sample_list\n",
    "user_hist.set_index('user_id', inplace=True)\n",
    "user_hist.head()"
   ]
  },
  {
   "cell_type": "markdown",
   "metadata": {},
   "source": [
    "## Generate High-level User Features"
   ]
  },
  {
   "cell_type": "markdown",
   "metadata": {
    "heading_collapsed": true
   },
   "source": [
    "### Unique Order Count (User)"
   ]
  },
  {
   "cell_type": "code",
   "execution_count": 109,
   "metadata": {
    "ExecuteTime": {
     "end_time": "2019-10-16T20:57:25.549450Z",
     "start_time": "2019-10-16T20:57:25.196830Z"
    },
    "hidden": true,
    "scrolled": true
   },
   "outputs": [
    {
     "data": {
      "text/html": [
       "<div>\n",
       "<style scoped>\n",
       "    .dataframe tbody tr th:only-of-type {\n",
       "        vertical-align: middle;\n",
       "    }\n",
       "\n",
       "    .dataframe tbody tr th {\n",
       "        vertical-align: top;\n",
       "    }\n",
       "\n",
       "    .dataframe thead th {\n",
       "        text-align: right;\n",
       "    }\n",
       "</style>\n",
       "<table border=\"1\" class=\"dataframe\">\n",
       "  <thead>\n",
       "    <tr style=\"text-align: right;\">\n",
       "      <th></th>\n",
       "      <th>order_count</th>\n",
       "    </tr>\n",
       "    <tr>\n",
       "      <th>user_id</th>\n",
       "      <th></th>\n",
       "    </tr>\n",
       "  </thead>\n",
       "  <tbody>\n",
       "    <tr>\n",
       "      <td>1</td>\n",
       "      <td>15.0</td>\n",
       "    </tr>\n",
       "    <tr>\n",
       "      <td>2</td>\n",
       "      <td>13.0</td>\n",
       "    </tr>\n",
       "    <tr>\n",
       "      <td>3</td>\n",
       "      <td>6.0</td>\n",
       "    </tr>\n",
       "    <tr>\n",
       "      <td>4</td>\n",
       "      <td>5.0</td>\n",
       "    </tr>\n",
       "    <tr>\n",
       "      <td>5</td>\n",
       "      <td>4.0</td>\n",
       "    </tr>\n",
       "  </tbody>\n",
       "</table>\n",
       "</div>"
      ],
      "text/plain": [
       "         order_count\n",
       "user_id             \n",
       "1               15.0\n",
       "2               13.0\n",
       "3                6.0\n",
       "4                5.0\n",
       "5                4.0"
      ]
     },
     "execution_count": 109,
     "metadata": {},
     "output_type": "execute_result"
    }
   ],
   "source": [
    "def count_user_orders(user_id, orders):\n",
    "    return int(orders[orders.user_id == user_id].shape[0])\n",
    "\n",
    "user_hist['order_count'] = pd.Series(user_hist.index.values).apply(count_user_orders, orders=orders)\n",
    "user_hist.head()"
   ]
  },
  {
   "cell_type": "markdown",
   "metadata": {
    "heading_collapsed": true
   },
   "source": [
    "### Order Sizes (User)"
   ]
  },
  {
   "cell_type": "code",
   "execution_count": 128,
   "metadata": {
    "ExecuteTime": {
     "end_time": "2019-10-16T21:09:49.650811Z",
     "start_time": "2019-10-16T21:09:43.674977Z"
    },
    "hidden": true,
    "scrolled": true
   },
   "outputs": [
    {
     "data": {
      "text/html": [
       "<div>\n",
       "<style scoped>\n",
       "    .dataframe tbody tr th:only-of-type {\n",
       "        vertical-align: middle;\n",
       "    }\n",
       "\n",
       "    .dataframe tbody tr th {\n",
       "        vertical-align: top;\n",
       "    }\n",
       "\n",
       "    .dataframe thead th {\n",
       "        text-align: right;\n",
       "    }\n",
       "</style>\n",
       "<table border=\"1\" class=\"dataframe\">\n",
       "  <thead>\n",
       "    <tr style=\"text-align: right;\">\n",
       "      <th></th>\n",
       "      <th>order_count</th>\n",
       "      <th>prior_order_sizes</th>\n",
       "    </tr>\n",
       "    <tr>\n",
       "      <th>user_id</th>\n",
       "      <th></th>\n",
       "      <th></th>\n",
       "    </tr>\n",
       "  </thead>\n",
       "  <tbody>\n",
       "    <tr>\n",
       "      <td>1</td>\n",
       "      <td>15.0</td>\n",
       "      <td>[13, 6, 5, 13, 13, 21, 14, 16, 26, 9, 15, 19, ...</td>\n",
       "    </tr>\n",
       "    <tr>\n",
       "      <td>2</td>\n",
       "      <td>13.0</td>\n",
       "      <td>[10, 9, 6, 5, 11, 8, 9, 8, 5, 6, 5, 6]</td>\n",
       "    </tr>\n",
       "    <tr>\n",
       "      <td>3</td>\n",
       "      <td>6.0</td>\n",
       "      <td>[4, 2, 7, 2, 3]</td>\n",
       "    </tr>\n",
       "    <tr>\n",
       "      <td>4</td>\n",
       "      <td>5.0</td>\n",
       "      <td>[11, 9, 5, 12]</td>\n",
       "    </tr>\n",
       "    <tr>\n",
       "      <td>5</td>\n",
       "      <td>4.0</td>\n",
       "      <td>[4, 7, 3]</td>\n",
       "    </tr>\n",
       "  </tbody>\n",
       "</table>\n",
       "</div>"
      ],
      "text/plain": [
       "         order_count                                  prior_order_sizes\n",
       "user_id                                                                \n",
       "1               15.0  [13, 6, 5, 13, 13, 21, 14, 16, 26, 9, 15, 19, ...\n",
       "2               13.0             [10, 9, 6, 5, 11, 8, 9, 8, 5, 6, 5, 6]\n",
       "3                6.0                                    [4, 2, 7, 2, 3]\n",
       "4                5.0                                     [11, 9, 5, 12]\n",
       "5                4.0                                          [4, 7, 3]"
      ]
     },
     "execution_count": 128,
     "metadata": {},
     "output_type": "execute_result"
    }
   ],
   "source": [
    "def order_sizes(user_id, orders, order_prods, subset='prior'):\n",
    "    \n",
    "    user_orders = orders[(orders.user_id == user_id) & (orders.eval_set == subset)]\n",
    "    order_id_list = user_orders.order_id.values\n",
    "    \n",
    "    order_sizes = []\n",
    "    for order_id in order_id_list:\n",
    "        \n",
    "        prods = order_prods[order_prods.order_id == order_id].product_id.values\n",
    "        order_sizes += [len(prods)]\n",
    "        \n",
    "    return order_sizes\n",
    "\n",
    "user_hist['prior_order_sizes'] = pd.Series(user_hist.index.values).apply(\n",
    "    order_sizes,\n",
    "    orders=orders,\n",
    "    order_prods=all_order_prods\n",
    ")\n",
    "\n",
    "user_hist.head()"
   ]
  },
  {
   "cell_type": "code",
   "execution_count": 130,
   "metadata": {
    "ExecuteTime": {
     "end_time": "2019-10-16T21:14:09.366604Z",
     "start_time": "2019-10-16T21:14:09.359589Z"
    },
    "hidden": true,
    "scrolled": true
   },
   "outputs": [
    {
     "data": {
      "text/plain": [
       "count    499.000000\n",
       "mean      16.294589\n",
       "std       16.066734\n",
       "min        4.000000\n",
       "25%        6.000000\n",
       "50%       11.000000\n",
       "75%       19.500000\n",
       "max      100.000000\n",
       "Name: order_count, dtype: float64"
      ]
     },
     "execution_count": 130,
     "metadata": {},
     "output_type": "execute_result"
    }
   ],
   "source": [
    "user_hist.order_count.describe()"
   ]
  },
  {
   "cell_type": "code",
   "execution_count": 133,
   "metadata": {
    "ExecuteTime": {
     "end_time": "2019-10-16T21:14:43.943689Z",
     "start_time": "2019-10-16T21:14:43.930491Z"
    },
    "hidden": true
   },
   "outputs": [
    {
     "data": {
      "text/plain": [
       "count              499\n",
       "unique             499\n",
       "top       [2, 1, 2, 2]\n",
       "freq                 1\n",
       "Name: prior_order_sizes, dtype: object"
      ]
     },
     "execution_count": 133,
     "metadata": {},
     "output_type": "execute_result"
    }
   ],
   "source": [
    "user_hist.prior_order_sizes.describe()"
   ]
  },
  {
   "cell_type": "markdown",
   "metadata": {},
   "source": [
    "### Average Products / Order (User)"
   ]
  },
  {
   "cell_type": "code",
   "execution_count": 135,
   "metadata": {
    "ExecuteTime": {
     "end_time": "2019-10-16T21:16:48.368618Z",
     "start_time": "2019-10-16T21:16:48.350731Z"
    },
    "scrolled": true
   },
   "outputs": [
    {
     "data": {
      "text/html": [
       "<div>\n",
       "<style scoped>\n",
       "    .dataframe tbody tr th:only-of-type {\n",
       "        vertical-align: middle;\n",
       "    }\n",
       "\n",
       "    .dataframe tbody tr th {\n",
       "        vertical-align: top;\n",
       "    }\n",
       "\n",
       "    .dataframe thead th {\n",
       "        text-align: right;\n",
       "    }\n",
       "</style>\n",
       "<table border=\"1\" class=\"dataframe\">\n",
       "  <thead>\n",
       "    <tr style=\"text-align: right;\">\n",
       "      <th></th>\n",
       "      <th>order_count</th>\n",
       "      <th>prior_order_sizes</th>\n",
       "      <th>avg_ppo</th>\n",
       "    </tr>\n",
       "    <tr>\n",
       "      <th>user_id</th>\n",
       "      <th></th>\n",
       "      <th></th>\n",
       "      <th></th>\n",
       "    </tr>\n",
       "  </thead>\n",
       "  <tbody>\n",
       "    <tr>\n",
       "      <td>1</td>\n",
       "      <td>15.0</td>\n",
       "      <td>[13, 6, 5, 13, 13, 21, 14, 16, 26, 9, 15, 19, ...</td>\n",
       "      <td>13.928571</td>\n",
       "    </tr>\n",
       "    <tr>\n",
       "      <td>2</td>\n",
       "      <td>13.0</td>\n",
       "      <td>[10, 9, 6, 5, 11, 8, 9, 8, 5, 6, 5, 6]</td>\n",
       "      <td>7.333333</td>\n",
       "    </tr>\n",
       "    <tr>\n",
       "      <td>3</td>\n",
       "      <td>6.0</td>\n",
       "      <td>[4, 2, 7, 2, 3]</td>\n",
       "      <td>3.600000</td>\n",
       "    </tr>\n",
       "    <tr>\n",
       "      <td>4</td>\n",
       "      <td>5.0</td>\n",
       "      <td>[11, 9, 5, 12]</td>\n",
       "      <td>9.250000</td>\n",
       "    </tr>\n",
       "    <tr>\n",
       "      <td>5</td>\n",
       "      <td>4.0</td>\n",
       "      <td>[4, 7, 3]</td>\n",
       "      <td>4.666667</td>\n",
       "    </tr>\n",
       "  </tbody>\n",
       "</table>\n",
       "</div>"
      ],
      "text/plain": [
       "         order_count                                  prior_order_sizes  \\\n",
       "user_id                                                                   \n",
       "1               15.0  [13, 6, 5, 13, 13, 21, 14, 16, 26, 9, 15, 19, ...   \n",
       "2               13.0             [10, 9, 6, 5, 11, 8, 9, 8, 5, 6, 5, 6]   \n",
       "3                6.0                                    [4, 2, 7, 2, 3]   \n",
       "4                5.0                                     [11, 9, 5, 12]   \n",
       "5                4.0                                          [4, 7, 3]   \n",
       "\n",
       "           avg_ppo  \n",
       "user_id             \n",
       "1        13.928571  \n",
       "2         7.333333  \n",
       "3         3.600000  \n",
       "4         9.250000  \n",
       "5         4.666667  "
      ]
     },
     "execution_count": 135,
     "metadata": {},
     "output_type": "execute_result"
    }
   ],
   "source": [
    "user_hist['avg_ppo'] = user_hist.prior_order_sizes.apply(np.mean)\n",
    "user_hist.head()"
   ]
  },
  {
   "cell_type": "code",
   "execution_count": null,
   "metadata": {},
   "outputs": [],
   "source": [
    "d"
   ]
  },
  {
   "cell_type": "markdown",
   "metadata": {},
   "source": [
    "### Departmental Unique Check-ins Dictionary (User)"
   ]
  },
  {
   "cell_type": "code",
   "execution_count": null,
   "metadata": {},
   "outputs": [],
   "source": [
    "# Create a dictionary with department IDs as keys\n",
    "# each value is the number of unique department check-ins.\n",
    "# i.e. An order with two products from the same department\n",
    "# should count as 1 unique check-in.\n",
    "\n",
    "user_hist['dept_dict'] = dict(zip(depts.department_id.values,0*depts.department_id.values))\n",
    "\n",
    "def unique_dept_checkins(user_id, orders, order_prods, subset='prior'):\n",
    "    \n",
    "    user_orders = orders[(orders.user_id == user_id) & (orders.eval_set == subset)]\n",
    "    \n",
    "    gb_order = user_orders.groupby('order_id')\n",
    "    \n",
    "    \n",
    "    \n",
    "    for group in gb_order:\n",
    "        \n",
    "        \n",
    "    \n",
    "    \n",
    "    return order_sizes\n",
    "\n",
    "\n",
    "user_hist['prior_order_sizes'] = pd.Series(user_hist.index.values).apply(\n",
    "    order_sizes,\n",
    "    orders=orders,\n",
    "    order_prods=all_order_prods\n",
    ")"
   ]
  },
  {
   "cell_type": "markdown",
   "metadata": {},
   "source": [
    "### Total Orders to Date (User)"
   ]
  },
  {
   "cell_type": "markdown",
   "metadata": {},
   "source": [
    "### Unique Orders (User)"
   ]
  },
  {
   "cell_type": "code",
   "execution_count": 80,
   "metadata": {
    "ExecuteTime": {
     "end_time": "2019-10-16T20:21:45.904703Z",
     "start_time": "2019-10-16T20:21:45.901724Z"
    }
   },
   "outputs": [],
   "source": [
    "# add a column which counts total unique orders\n",
    "# "
   ]
  },
  {
   "cell_type": "code",
   "execution_count": 1,
   "metadata": {
    "ExecuteTime": {
     "end_time": "2019-10-16T01:21:41.126016Z",
     "start_time": "2019-10-16T01:21:40.527648Z"
    }
   },
   "outputs": [],
   "source": [
    "import pandas as pd\n",
    "\n",
    "aisles_df = pd.read_csv('../data/instacart-market-basket-analysis/aisles.csv')\n",
    "# aisles_df = pd.read_csv('../data/instacart-market-basket-analysis/aisles.csv')\n"
   ]
  },
  {
   "cell_type": "code",
   "execution_count": null,
   "metadata": {},
   "outputs": [],
   "source": [
    "from psycopg2 import connect\n",
    "from psycopg2.extensions import ISOLATION_LEVEL_AUTOCOMMIT\n",
    "\n",
    "params = {\n",
    "    'host': '18.220.115.81',\n",
    "    'user': 'ubuntu',\n",
    "    'port': 5432\n",
    "    \n",
    "# Connect and create database, disconnect, and reconnect to the right database\n",
    "connection = connect(**params, dbname='ubuntu')\n",
    "connection.set_isolation_level(ISOLATION_LEVEL_AUTOCOMMIT)\n",
    "connection.cursor().execute('CREATE DATABASE store;')\n",
    "connection.close()"
   ]
  }
 ],
 "metadata": {
  "kernelspec": {
   "display_name": "Python 3",
   "language": "python",
   "name": "python3"
  },
  "language_info": {
   "codemirror_mode": {
    "name": "ipython",
    "version": 3
   },
   "file_extension": ".py",
   "mimetype": "text/x-python",
   "name": "python",
   "nbconvert_exporter": "python",
   "pygments_lexer": "ipython3",
   "version": "3.7.4"
  },
  "toc": {
   "base_numbering": 1,
   "nav_menu": {},
   "number_sections": false,
   "sideBar": true,
   "skip_h1_title": false,
   "title_cell": "Table of Contents",
   "title_sidebar": "Contents",
   "toc_cell": true,
   "toc_position": {},
   "toc_section_display": true,
   "toc_window_display": false
  },
  "varInspector": {
   "cols": {
    "lenName": 16,
    "lenType": 16,
    "lenVar": 40
   },
   "kernels_config": {
    "python": {
     "delete_cmd_postfix": "",
     "delete_cmd_prefix": "del ",
     "library": "var_list.py",
     "varRefreshCmd": "print(var_dic_list())"
    },
    "r": {
     "delete_cmd_postfix": ") ",
     "delete_cmd_prefix": "rm(",
     "library": "var_list.r",
     "varRefreshCmd": "cat(var_dic_list()) "
    }
   },
   "position": {
    "height": "514.219px",
    "left": "763.458px",
    "right": "20px",
    "top": "122px",
    "width": "560.764px"
   },
   "types_to_exclude": [
    "module",
    "function",
    "builtin_function_or_method",
    "instance",
    "_Feature"
   ],
   "window_display": false
  }
 },
 "nbformat": 4,
 "nbformat_minor": 2
}
