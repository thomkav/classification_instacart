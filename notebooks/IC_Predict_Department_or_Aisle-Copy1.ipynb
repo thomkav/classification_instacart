{
 "cells": [
  {
   "cell_type": "markdown",
   "metadata": {},
   "source": [
    "# Notebook Description"
   ]
  },
  {
   "cell_type": "markdown",
   "metadata": {},
   "source": [
    "This notebook will focus on creating a Department Classifier, based on cart input data.\n",
    "\n",
    "The investigation will begin by predicting Department affinity, assuming that the cart is _empty_. Later, "
   ]
  },
  {
   "cell_type": "markdown",
   "metadata": {},
   "source": [
    "# Initialize"
   ]
  },
  {
   "cell_type": "markdown",
   "metadata": {},
   "source": [
    "## Imports"
   ]
  },
  {
   "cell_type": "code",
   "execution_count": 64,
   "metadata": {
    "ExecuteTime": {
     "end_time": "2019-10-21T19:38:43.313022Z",
     "start_time": "2019-10-21T19:38:43.306134Z"
    }
   },
   "outputs": [],
   "source": [
    "import math\n",
    "import random\n",
    "import pandas as pd\n",
    "import numpy as np\n",
    "import itertools as IT\n",
    "\n",
    "import os\n",
    "import sys\n",
    "\n",
    "from sklearn.linear_model import LogisticRegression\n",
    "from sklearn.metrics import f1_score, roc_auc_score, confusion_matrix \n",
    "from sklearn.model_selection import train_test_split\n",
    "from sklearn import tree\n",
    "from sklearn.ensemble import RandomForestClassifier\n",
    "\n",
    "# Classification Models\n",
    "from sklearn.neighbors import KNeighborsClassifier \n",
    "from sklearn.svm import SVC \n",
    "from sklearn.tree import DecisionTreeClassifier\n",
    "from sklearn.naive_bayes import GaussianNB\n",
    "\n",
    "from sklearn.externals.six import StringIO  \n",
    "from IPython.display import Image  \n",
    "from sklearn.tree import export_graphviz\n",
    "import pydotplus\n",
    "\n",
    "from collections import Counter\n",
    "\n",
    "import matplotlib.pyplot as plt\n",
    "import seaborn as sns\n",
    "sns.set()"
   ]
  },
  {
   "cell_type": "markdown",
   "metadata": {},
   "source": [
    "## Load Subset of Data into Pandas Dataframe"
   ]
  },
  {
   "cell_type": "code",
   "execution_count": 16,
   "metadata": {
    "ExecuteTime": {
     "end_time": "2019-10-21T19:32:36.979452Z",
     "start_time": "2019-10-21T19:32:36.924081Z"
    }
   },
   "outputs": [
    {
     "name": "stdout",
     "output_type": "stream",
     "text": [
      "(134, 2)\n",
      "(21, 2)\n",
      "(49688, 4)\n"
     ]
    }
   ],
   "source": [
    "df_aisle_index = pd.read_csv('../data/instacart-market-basket-analysis/aisles.csv')\n",
    "print(df_aisle_index.shape)\n",
    "df_dept_index = pd.read_csv('../data/instacart-market-basket-analysis/departments.csv')\n",
    "print(df_dept_index.shape)\n",
    "df_prod_index = pd.read_csv('../data/instacart-market-basket-analysis/products.csv')\n",
    "print(df_prod_index.shape)"
   ]
  },
  {
   "cell_type": "markdown",
   "metadata": {},
   "source": [
    "## Load Order Log, and Order Products"
   ]
  },
  {
   "cell_type": "code",
   "execution_count": 17,
   "metadata": {
    "ExecuteTime": {
     "end_time": "2019-10-21T19:32:37.825933Z",
     "start_time": "2019-10-21T19:32:37.817035Z"
    },
    "code_folding": []
   },
   "outputs": [
    {
     "name": "stdout",
     "output_type": "stream",
     "text": [
      "generated user subset of size:  500\n"
     ]
    }
   ],
   "source": [
    "# define subset of data\n",
    "# Take a sample of the 10,000 users represented in the data\n",
    "\n",
    "# randomized version\n",
    "# np.random.seed(4444)\n",
    "# user_sample_list = np.random.choice(a=range(1,10000,1), size=300, replace=False)\n",
    "\n",
    "user_subset = range(1,501, 1)\n",
    "\n",
    "print('generated user subset of size: ', len(user_subset))\n",
    "\n",
    "# Create a generalized mask that filters rows\n",
    "# which are not applicable to the sampled users.\n",
    "#\n",
    "# masked_df = pd.DataFrame(\n",
    "#     columns=['user_id']\n",
    "# )\n",
    "#\n",
    "# user_mask = ([\n",
    "#     (masked_df.user_id.isin(user_sample_list))\n",
    "# ])\n",
    "\n",
    "df_orders_log = pd.DataFrame(\n",
    "    columns=['order_id','user_id','eval_set','order_number',\n",
    "             'order_dow','order_hour_of_day','days_since_prior_order']\n",
    ")\n",
    "\n",
    "# import the orders csv in chunks\n",
    "# filter out rows that aren't from the user sample\n",
    "# concatenate to the prior/train dataset\n",
    "\n",
    "\n",
    "def valid_user(chunks):\n",
    "    for chunk in chunks:\n",
    "        mask = chunk.user_id.isin(user_subset)\n",
    "        yield chunk.loc[mask]"
   ]
  },
  {
   "cell_type": "code",
   "execution_count": 18,
   "metadata": {
    "ExecuteTime": {
     "end_time": "2019-10-21T19:32:42.510170Z",
     "start_time": "2019-10-21T19:32:38.786016Z"
    }
   },
   "outputs": [
    {
     "name": "stdout",
     "output_type": "stream",
     "text": [
      "0.960604 MB vs  108 MB\n"
     ]
    }
   ],
   "source": [
    "# read in orders\n",
    "filename = '../data/instacart-market-basket-analysis/orders.csv'\n",
    "chunksize = 10 ** 4\n",
    "chunks = pd.read_csv(filename, chunksize=chunksize)\n",
    "df_orders_log = pd.concat(valid_user(chunks))\n",
    "\n",
    "print(sys.getsizeof(df_orders_log)/1000000,'MB vs ',\n",
    "      os.stat('../data/instacart-market-basket-analysis/orders.csv').st_size//1000000,'MB')"
   ]
  },
  {
   "cell_type": "code",
   "execution_count": 19,
   "metadata": {
    "ExecuteTime": {
     "end_time": "2019-10-21T19:32:42.649425Z",
     "start_time": "2019-10-21T19:32:42.641741Z"
    }
   },
   "outputs": [
    {
     "name": "stdout",
     "output_type": "stream",
     "text": [
      "(8142,)\n"
     ]
    }
   ],
   "source": [
    "# compile a list of unique orders that originate from our user sample\n",
    "\n",
    "orders_subset = df_orders_log.order_id.unique()\n",
    "print(orders_subset.shape)\n",
    "\n",
    "def valid_order(chunks):\n",
    "    for chunk in chunks:\n",
    "        mask = chunk.order_id.isin(orders_subset)\n",
    "        yield chunk.loc[mask]"
   ]
  },
  {
   "cell_type": "code",
   "execution_count": 20,
   "metadata": {
    "ExecuteTime": {
     "end_time": "2019-10-21T19:33:05.290886Z",
     "start_time": "2019-10-21T19:32:43.233726Z"
    }
   },
   "outputs": [
    {
     "name": "stdout",
     "output_type": "stream",
     "text": [
      "3.097032 MB vs  577 MB\n",
      "(77425, 4)\n"
     ]
    }
   ],
   "source": [
    "df_order_prods__prior = pd.DataFrame(\n",
    "    columns=['order_id','product_id','add_to_cart_order','reordered']\n",
    ")\n",
    "\n",
    "# import the prior/train_products csv in chunks\n",
    "# filter out rows that aren't from the user sample\n",
    "# concatenate to the prior/train dataset\n",
    "\n",
    "\n",
    "\n",
    "# read in order_prods_prior\n",
    "filename = '../data/instacart-market-basket-analysis/order_products__prior.csv'\n",
    "chunksize = 10 ** 4\n",
    "chunks = pd.read_csv(filename, chunksize=chunksize)\n",
    "df_order_prods__prior = pd.concat(valid_order(chunks))\n",
    "\n",
    "print(sys.getsizeof(df_order_prods__prior)/1000000,'MB vs ',\n",
    "      os.stat('../data/instacart-market-basket-analysis/order_products__prior.csv').st_size//1000000,'MB')\n",
    "print(df_order_prods__prior.shape)"
   ]
  },
  {
   "cell_type": "code",
   "execution_count": 21,
   "metadata": {
    "ExecuteTime": {
     "end_time": "2019-10-21T19:33:06.374383Z",
     "start_time": "2019-10-21T19:33:05.411952Z"
    }
   },
   "outputs": [
    {
     "name": "stdout",
     "output_type": "stream",
     "text": [
      "0.135472 MB vs  24 MB\n"
     ]
    }
   ],
   "source": [
    "df_order_prods__train = pd.DataFrame(\n",
    "    columns=['order_id','product_id','add_to_cart_order']\n",
    ")\n",
    "\n",
    "# import the prior/train_products csv in chunks\n",
    "# filter out rows that aren't from the user sample\n",
    "# concatenate to the prior/train dataset\n",
    "\n",
    "# read in order_prods_prior\n",
    "filename = '../data/instacart-market-basket-analysis/order_products__train.csv'\n",
    "chunksize = 10 ** 4\n",
    "chunks = pd.read_csv(filename, chunksize=chunksize)\n",
    "df_order_prods__train = pd.concat(valid_order(chunks))\n",
    "\n",
    "print(sys.getsizeof(df_order_prods__train)/1000000,'MB vs ',\n",
    "      os.stat('../data/instacart-market-basket-analysis/order_products__train.csv').st_size//1000000,'MB')"
   ]
  },
  {
   "cell_type": "markdown",
   "metadata": {},
   "source": [
    "# Model Evaluation Schema - Department / Aisle Predictor"
   ]
  },
  {
   "cell_type": "markdown",
   "metadata": {},
   "source": [
    "The goal of the Department / Aisle Predictor is to predict the distribution of the cart as closely as possible. This model will be used as part of a preliminary step towards predicting specific products. A model that successfully predicts the aisle a given user will begin shopping in would obviously be more useful to a product recommender than prediction of a specific aisle. However, that level of specificity may come at the cost of an overfit model. \n",
    "\n",
    "However, since the Cart Completer can only offer 5-10 slots for products, it may be more valuable to train Department / Aisle Predictor to find the distribution of the _first 5-10_ products. For large carts, the distribution of departments at the top of cart may very well be different than the distribution of products. Once we have a model that can predict the department/aisle for an empty cart, we can build features for a model that will predict departments for the remainder of the cart.\n",
    "\n",
    "Though for partially completed carts, it may be advantageous to switch to a model that focuses on product-to-product associations, and uses items in the cart to infer user intent. So perhaps the Department/Aisle Predictor is only active for empty carts, then drops out once the user has confirmed specific intent upon adding the first item to their cart.\n",
    "\n",
    "For the Department / Aisle Predictor, a custom performance metric is required. If our classifier returns a probability distribution for the departments/aisles of a given cart."
   ]
  },
  {
   "cell_type": "code",
   "execution_count": 22,
   "metadata": {
    "ExecuteTime": {
     "end_time": "2019-10-21T19:33:15.606704Z",
     "start_time": "2019-10-21T19:33:15.600232Z"
    }
   },
   "outputs": [],
   "source": [
    "def EvaluateDepartmentPredictionError(pred_proba, actual_dist, method='Euclidean',\n",
    "                                      cart_est_depth=5, voting_thresh=0.5):\n",
    "    '''\n",
    "    \n",
    "    Custom distance metric to evaluate the error of the Department Predictor.\n",
    "    \n",
    "    The Department Predictor will return a set of probabilities\n",
    "    representing the predicted distribution of departments.\n",
    "    \n",
    "    pred_prob represents a probability distribution for departments of\n",
    "    products in the remainder of the user's cart, sorted by department_id.\n",
    "    \n",
    "    cart_est_depth represents the scope of the Predictor's estimation.\n",
    "    \n",
    "    If cart_est_depth=1, then the Predictor is only scored on the department\n",
    "    of the next product. The highest likelihood department is used as the guess.\n",
    "    \n",
    "    An more intuitive problem however, is to estimate the distribution of the\n",
    "    cart at least 5 products deep. If cart_est_depth==5, then the model is scored\n",
    "    on its closeness to the department distribution of the next 5 items.\n",
    "    \n",
    "    Even if less than cart_est_depth items remain, if the Predictor guesses\n",
    "    at least as many instances of the cart \n",
    "    \n",
    "    This set of continuous, predicted distributions will be converted into\n",
    "    integer counts of departments, rounding in favor of the\n",
    "    department with the highest likelihood.\n",
    "    \n",
    "    e.g. if pred_prob = [0.3, 0.08, 0.1, 0.15, 0.02, (...), 0.2]\n",
    "    where the n-th element is the predicted prob of items in department n.\n",
    "     \n",
    "    and (cart_est_depth == 5), then this function will first convert pred_prob\n",
    "    to 5 department predictions.\n",
    "\n",
    "    Error Schema 1: Euclidean Distance from Actual Distribution\n",
    "    \n",
    "    Return the Euclidean Distance of the pred_proba from actual_dist.\n",
    "    \n",
    "    Error Schema 2: \"Voting\"\n",
    "    \n",
    "    The voting method currently implemented relies on a \"super-majority.\"\n",
    "    voting_thresh is the sum of probabilities required to form a set of\n",
    "    predicted integer counts of departments.\n",
    "\n",
    "    Given a set of department probabilities, take the minimum top\n",
    "    departments whose probabilities meet or exceed the voting_thresh amount.\n",
    "\n",
    "    Supposing voting_thresh=0.6, the minimum set of departments would be\n",
    "    (department_1, 0.3)\n",
    "    (department_14,0.2)\n",
    "    (department_4, 0.15)\n",
    "\n",
    "    The total probabilities sum to 0.65, which just exceeds the voting_thresh.\n",
    "\n",
    "    These soft probabilities are then used to proportionately determine the distribution\n",
    "    of departments, rounding up in favor of the most popular departments.\n",
    "    \n",
    "    0.3/0.6 = 0.5; 0.5*(cart_est_depth=5) = 2.5; math.ceil(2.5) = 3; dept_1 gets 3 votes.\n",
    "    0.2/0.6 = 0.33, 0.33*5 = 1.65, ceil(1.65)=2  --> dept_14 receives 2 votes.\n",
    "    \n",
    "    No votes remain for dept_4 (sum of votes so far = 5).\n",
    "    \n",
    "    Hard predictions are now as follows:\n",
    "    \n",
    "    preds_hard = np.array([3, 0, 0, (...), 0, 2], dtype=int8)\n",
    "    where the n-th element in the list is the predicted amount of items in department n.\n",
    "    \n",
    "    If the actual distribution of the next 5 items in the cart is \n",
    "    actuals = [2, 1, 0, (...), 0,  2]\n",
    "\n",
    "    Error is then calculated based on % Recall of the actual department classes.\n",
    "    This accounts for cases in which sum(actuals) < cart_est_depth.\n",
    "    \n",
    "    residuals = (actuals - preds_hard)\n",
    "    error = residuals[residuals > 0].sum()\n",
    "    \n",
    "    \n",
    "    '''\n",
    "    \n",
    "    assert len(pred_proba) == len(actual_dist)\n",
    "    \n",
    "    mae = []\n",
    "    \n",
    "    for i in range(0, len(pred_proba), 1):\n",
    "        \n",
    "        pred = pred_proba[i]\n",
    "        actual = np.array(actual_dist)[i]\n",
    "        \n",
    "        if method=='Euclidean':\n",
    "            residuals = actual - pred\n",
    "            mae += [np.sum(abs(residuals))]\n",
    "    \n",
    "    return np.mean(mae)\n",
    "    "
   ]
  },
  {
   "cell_type": "markdown",
   "metadata": {},
   "source": [
    "### Simulate Dynamic Department / Aisle Recommendation"
   ]
  },
  {
   "cell_type": "code",
   "execution_count": 23,
   "metadata": {
    "ExecuteTime": {
     "end_time": "2019-10-21T19:33:16.903517Z",
     "start_time": "2019-10-21T19:33:16.895138Z"
    },
    "code_folding": []
   },
   "outputs": [],
   "source": [
    "def SimulateDynamicRec(order_rows, model, verbose=False):\n",
    "    \n",
    "    assert type(order_rows) == type(pd.DataFrame())\n",
    "    cart = set([])\n",
    "    \n",
    "    order_rows = order_rows.sort_values('add_to_cart_order')\n",
    "    \n",
    "    if verbose:\n",
    "        print('testing the following order:\\n', order_rows)\n",
    "    \n",
    "    total = 0\n",
    "    guessed = 0\n",
    "    \n",
    "    # progress through order one at a time\n",
    "    for index, row in order_rows.iterrows():\n",
    "        \n",
    "        ### Recommend 5 New Products ###\n",
    "        \n",
    "        try:\n",
    "            #### CHECK MODEL TYPE #####\n",
    "            model_type = model.type\n",
    "#             print('model type is: ', model_type)\n",
    "            if model_type in ['naive','reordered']:\n",
    "                recommendations = model.top100\n",
    "            \n",
    "            \n",
    "            # Exclude items already in cart.\n",
    "            rec5 = random.sample((recommendations - cart), 5)\n",
    "            \n",
    "        except:\n",
    "            #### OTHER MODELS #####\n",
    "            pass\n",
    "        \n",
    "        \n",
    "        total += 1\n",
    "        success = False\n",
    "        \n",
    "        actual_next = row['product_id']\n",
    "        \n",
    "        if actual_next in rec5:\n",
    "            success = True\n",
    "            guessed += 1\n",
    "        \n",
    "        # debug output\n",
    "        if verbose:\n",
    "#             print(f'Cart is {cart}.\\nRecommending {rec5}.')\n",
    "            if success:\n",
    "                print(f'Guessed {actual_next}!\\n')\n",
    "                continue\n",
    "            else:\n",
    "#                 print(f'Oops, {actual_next} wasn\\'t in recommendation list.')\n",
    "                continue\n",
    "        \n",
    "        cart.add(actual_next)\n",
    "    \n",
    "    # rel_pct = % of trials where recommendations were relevant to next purchase.\n",
    "    rel_pct = guessed/total\n",
    "    \n",
    "    if verbose:\n",
    "        print(f'Got {rel_pct}% right of {total}.')\n",
    "    \n",
    "    return rel_pct"
   ]
  },
  {
   "cell_type": "code",
   "execution_count": 24,
   "metadata": {
    "ExecuteTime": {
     "end_time": "2019-10-21T19:33:17.828316Z",
     "start_time": "2019-10-21T19:33:17.823464Z"
    },
    "scrolled": false
   },
   "outputs": [],
   "source": [
    "def DynamicRecScore(model, trials = 100):\n",
    "\n",
    "    relevancies = []\n",
    "    \n",
    "    unique_train_orders = set(df_order_prods__train.order_id.unique())\n",
    "#     print(len(unique_train_orders))\n",
    "    \n",
    "    # If there aren't enough training datapoints.\n",
    "    if trials > len(unique_train_orders):\n",
    "        trials = len(unique_train_orders)\n",
    "    \n",
    "    for order_id in random.sample(unique_train_orders, trials):\n",
    "        \n",
    "#         test_order = df_order_prods__train.sample().order_id.values[0]\n",
    "\n",
    "        test_order_rows = df_order_prods__train[df_order_prods__train.order_id == order_id]\n",
    "        rel_pct = SimulateDynamicRec(test_order_rows, model,verbose=False)\n",
    "        relevancies += [rel_pct]\n",
    "        \n",
    "    return np.mean(relevancies)"
   ]
  },
  {
   "cell_type": "markdown",
   "metadata": {},
   "source": [
    "# Merge, Append Aisle/Department Columns to Order Log"
   ]
  },
  {
   "cell_type": "code",
   "execution_count": 25,
   "metadata": {
    "ExecuteTime": {
     "end_time": "2019-10-21T19:33:19.979436Z",
     "start_time": "2019-10-21T19:33:19.943416Z"
    }
   },
   "outputs": [],
   "source": [
    "# Confirm we haven't merged in duplicate columns from re-running this script.\n",
    "df_order_prods__prior = df_order_prods__prior[['order_id','product_id','add_to_cart_order','reordered']]\n",
    "\n",
    "df_order_prods__prior = pd.merge(\n",
    "    df_order_prods__prior,\n",
    "    df_prod_index.drop(labels='product_name',axis=1), on='product_id')\n",
    "\n",
    "# Confirm we haven't merged in duplicate columns from re-running this script.\n",
    "df_order_prods__train = df_order_prods__train[['order_id','product_id','add_to_cart_order','reordered']]\n",
    "\n",
    "df_order_prods__train = pd.merge(\n",
    "    df_order_prods__train,\n",
    "    df_prod_index.drop(labels='product_name',axis=1), on='product_id')"
   ]
  },
  {
   "cell_type": "code",
   "execution_count": 26,
   "metadata": {
    "ExecuteTime": {
     "end_time": "2019-10-21T19:33:20.880541Z",
     "start_time": "2019-10-21T19:33:20.863728Z"
    },
    "scrolled": false
   },
   "outputs": [
    {
     "data": {
      "text/html": [
       "<div>\n",
       "<style scoped>\n",
       "    .dataframe tbody tr th:only-of-type {\n",
       "        vertical-align: middle;\n",
       "    }\n",
       "\n",
       "    .dataframe tbody tr th {\n",
       "        vertical-align: top;\n",
       "    }\n",
       "\n",
       "    .dataframe thead th {\n",
       "        text-align: right;\n",
       "    }\n",
       "</style>\n",
       "<table border=\"1\" class=\"dataframe\">\n",
       "  <thead>\n",
       "    <tr style=\"text-align: right;\">\n",
       "      <th></th>\n",
       "      <th>order_id</th>\n",
       "      <th>product_id</th>\n",
       "      <th>add_to_cart_order</th>\n",
       "      <th>reordered</th>\n",
       "      <th>aisle_id</th>\n",
       "      <th>department_id</th>\n",
       "    </tr>\n",
       "  </thead>\n",
       "  <tbody>\n",
       "    <tr>\n",
       "      <td>12611</td>\n",
       "      <td>1710899</td>\n",
       "      <td>47890</td>\n",
       "      <td>7</td>\n",
       "      <td>1</td>\n",
       "      <td>123</td>\n",
       "      <td>4</td>\n",
       "    </tr>\n",
       "    <tr>\n",
       "      <td>59749</td>\n",
       "      <td>2933864</td>\n",
       "      <td>8197</td>\n",
       "      <td>6</td>\n",
       "      <td>1</td>\n",
       "      <td>31</td>\n",
       "      <td>7</td>\n",
       "    </tr>\n",
       "    <tr>\n",
       "      <td>61919</td>\n",
       "      <td>2302602</td>\n",
       "      <td>40723</td>\n",
       "      <td>3</td>\n",
       "      <td>1</td>\n",
       "      <td>24</td>\n",
       "      <td>4</td>\n",
       "    </tr>\n",
       "  </tbody>\n",
       "</table>\n",
       "</div>"
      ],
      "text/plain": [
       "       order_id  product_id  add_to_cart_order  reordered  aisle_id  \\\n",
       "12611   1710899       47890                  7          1       123   \n",
       "59749   2933864        8197                  6          1        31   \n",
       "61919   2302602       40723                  3          1        24   \n",
       "\n",
       "       department_id  \n",
       "12611              4  \n",
       "59749              7  \n",
       "61919              4  "
      ]
     },
     "execution_count": 26,
     "metadata": {},
     "output_type": "execute_result"
    }
   ],
   "source": [
    "# validate correct columns have been added\n",
    "# should see ['order_id', 'product_id', 'add_to_cart_order', 'reordered', 'aisle_id', 'department_id']\n",
    "df_order_prods__prior.sample(3)"
   ]
  },
  {
   "cell_type": "markdown",
   "metadata": {},
   "source": [
    "# Add Department Labels to Order Log"
   ]
  },
  {
   "cell_type": "code",
   "execution_count": 27,
   "metadata": {
    "ExecuteTime": {
     "end_time": "2019-10-21T19:33:21.925969Z",
     "start_time": "2019-10-21T19:33:21.910913Z"
    }
   },
   "outputs": [],
   "source": [
    "df_order_prods__prior = pd.merge(\n",
    "    df_order_prods__prior,\n",
    "    df_dept_index, on='department_id'\n",
    ")\n",
    "df_order_prods__train  = pd.merge(\n",
    "    df_order_prods__train,\n",
    "    df_dept_index, on='department_id'\n",
    ")"
   ]
  },
  {
   "cell_type": "code",
   "execution_count": 28,
   "metadata": {
    "ExecuteTime": {
     "end_time": "2019-10-21T19:33:22.784486Z",
     "start_time": "2019-10-21T19:33:22.775331Z"
    },
    "scrolled": true
   },
   "outputs": [
    {
     "data": {
      "text/html": [
       "<div>\n",
       "<style scoped>\n",
       "    .dataframe tbody tr th:only-of-type {\n",
       "        vertical-align: middle;\n",
       "    }\n",
       "\n",
       "    .dataframe tbody tr th {\n",
       "        vertical-align: top;\n",
       "    }\n",
       "\n",
       "    .dataframe thead th {\n",
       "        text-align: right;\n",
       "    }\n",
       "</style>\n",
       "<table border=\"1\" class=\"dataframe\">\n",
       "  <thead>\n",
       "    <tr style=\"text-align: right;\">\n",
       "      <th></th>\n",
       "      <th>order_id</th>\n",
       "      <th>product_id</th>\n",
       "      <th>add_to_cart_order</th>\n",
       "      <th>reordered</th>\n",
       "      <th>aisle_id</th>\n",
       "      <th>department_id</th>\n",
       "      <th>department</th>\n",
       "    </tr>\n",
       "  </thead>\n",
       "  <tbody>\n",
       "    <tr>\n",
       "      <td>0</td>\n",
       "      <td>40</td>\n",
       "      <td>10070</td>\n",
       "      <td>1</td>\n",
       "      <td>1</td>\n",
       "      <td>84</td>\n",
       "      <td>16</td>\n",
       "      <td>dairy eggs</td>\n",
       "    </tr>\n",
       "  </tbody>\n",
       "</table>\n",
       "</div>"
      ],
      "text/plain": [
       "   order_id  product_id  add_to_cart_order  reordered  aisle_id  \\\n",
       "0        40       10070                  1          1        84   \n",
       "\n",
       "   department_id  department  \n",
       "0             16  dairy eggs  "
      ]
     },
     "execution_count": 28,
     "metadata": {},
     "output_type": "execute_result"
    }
   ],
   "source": [
    "# should see department name as well\n",
    "df_order_prods__prior.head(1)"
   ]
  },
  {
   "cell_type": "markdown",
   "metadata": {},
   "source": [
    "# Merge Order Log Information to order_prods__SET"
   ]
  },
  {
   "cell_type": "code",
   "execution_count": 29,
   "metadata": {
    "ExecuteTime": {
     "end_time": "2019-10-21T19:33:23.685417Z",
     "start_time": "2019-10-21T19:33:23.662966Z"
    },
    "scrolled": false
   },
   "outputs": [],
   "source": [
    "# Merge in time-based information to the order_prods__prior\n",
    "df_order_prods__prior = pd.merge(\n",
    "    df_order_prods__prior, df_orders_log, on='order_id'\n",
    ")"
   ]
  },
  {
   "cell_type": "code",
   "execution_count": 30,
   "metadata": {
    "ExecuteTime": {
     "end_time": "2019-10-21T19:33:24.387698Z",
     "start_time": "2019-10-21T19:33:24.376026Z"
    }
   },
   "outputs": [
    {
     "data": {
      "text/html": [
       "<div>\n",
       "<style scoped>\n",
       "    .dataframe tbody tr th:only-of-type {\n",
       "        vertical-align: middle;\n",
       "    }\n",
       "\n",
       "    .dataframe tbody tr th {\n",
       "        vertical-align: top;\n",
       "    }\n",
       "\n",
       "    .dataframe thead th {\n",
       "        text-align: right;\n",
       "    }\n",
       "</style>\n",
       "<table border=\"1\" class=\"dataframe\">\n",
       "  <thead>\n",
       "    <tr style=\"text-align: right;\">\n",
       "      <th></th>\n",
       "      <th>order_id</th>\n",
       "      <th>product_id</th>\n",
       "      <th>add_to_cart_order</th>\n",
       "      <th>reordered</th>\n",
       "      <th>aisle_id</th>\n",
       "      <th>department_id</th>\n",
       "      <th>department</th>\n",
       "      <th>user_id</th>\n",
       "      <th>eval_set</th>\n",
       "      <th>order_number</th>\n",
       "      <th>order_dow</th>\n",
       "      <th>order_hour_of_day</th>\n",
       "      <th>days_since_prior_order</th>\n",
       "    </tr>\n",
       "  </thead>\n",
       "  <tbody>\n",
       "    <tr>\n",
       "      <td>0</td>\n",
       "      <td>40</td>\n",
       "      <td>10070</td>\n",
       "      <td>1</td>\n",
       "      <td>1</td>\n",
       "      <td>84</td>\n",
       "      <td>16</td>\n",
       "      <td>dairy eggs</td>\n",
       "      <td>382</td>\n",
       "      <td>prior</td>\n",
       "      <td>29</td>\n",
       "      <td>1</td>\n",
       "      <td>15</td>\n",
       "      <td>23.0</td>\n",
       "    </tr>\n",
       "    <tr>\n",
       "      <td>1</td>\n",
       "      <td>40</td>\n",
       "      <td>34866</td>\n",
       "      <td>4</td>\n",
       "      <td>1</td>\n",
       "      <td>84</td>\n",
       "      <td>16</td>\n",
       "      <td>dairy eggs</td>\n",
       "      <td>382</td>\n",
       "      <td>prior</td>\n",
       "      <td>29</td>\n",
       "      <td>1</td>\n",
       "      <td>15</td>\n",
       "      <td>23.0</td>\n",
       "    </tr>\n",
       "  </tbody>\n",
       "</table>\n",
       "</div>"
      ],
      "text/plain": [
       "   order_id  product_id  add_to_cart_order  reordered  aisle_id  \\\n",
       "0        40       10070                  1          1        84   \n",
       "1        40       34866                  4          1        84   \n",
       "\n",
       "   department_id  department  user_id eval_set  order_number  order_dow  \\\n",
       "0             16  dairy eggs      382    prior            29          1   \n",
       "1             16  dairy eggs      382    prior            29          1   \n",
       "\n",
       "   order_hour_of_day  days_since_prior_order  \n",
       "0                 15                    23.0  \n",
       "1                 15                    23.0  "
      ]
     },
     "execution_count": 30,
     "metadata": {},
     "output_type": "execute_result"
    }
   ],
   "source": [
    "df_order_prods__prior.head(2)"
   ]
  },
  {
   "cell_type": "code",
   "execution_count": 31,
   "metadata": {
    "ExecuteTime": {
     "end_time": "2019-10-21T19:33:25.024542Z",
     "start_time": "2019-10-21T19:33:25.015684Z"
    }
   },
   "outputs": [],
   "source": [
    "# same for train\n",
    "df_order_prods__train = pd.merge(\n",
    "    df_order_prods__train, df_orders_log, on='order_id'\n",
    ")"
   ]
  },
  {
   "cell_type": "code",
   "execution_count": 32,
   "metadata": {
    "ExecuteTime": {
     "end_time": "2019-10-21T19:33:25.700585Z",
     "start_time": "2019-10-21T19:33:25.688077Z"
    },
    "scrolled": true
   },
   "outputs": [
    {
     "data": {
      "text/html": [
       "<div>\n",
       "<style scoped>\n",
       "    .dataframe tbody tr th:only-of-type {\n",
       "        vertical-align: middle;\n",
       "    }\n",
       "\n",
       "    .dataframe tbody tr th {\n",
       "        vertical-align: top;\n",
       "    }\n",
       "\n",
       "    .dataframe thead th {\n",
       "        text-align: right;\n",
       "    }\n",
       "</style>\n",
       "<table border=\"1\" class=\"dataframe\">\n",
       "  <thead>\n",
       "    <tr style=\"text-align: right;\">\n",
       "      <th></th>\n",
       "      <th>order_id</th>\n",
       "      <th>product_id</th>\n",
       "      <th>add_to_cart_order</th>\n",
       "      <th>reordered</th>\n",
       "      <th>aisle_id</th>\n",
       "      <th>department_id</th>\n",
       "      <th>department</th>\n",
       "      <th>user_id</th>\n",
       "      <th>eval_set</th>\n",
       "      <th>order_number</th>\n",
       "      <th>order_dow</th>\n",
       "      <th>order_hour_of_day</th>\n",
       "      <th>days_since_prior_order</th>\n",
       "    </tr>\n",
       "  </thead>\n",
       "  <tbody>\n",
       "    <tr>\n",
       "      <td>0</td>\n",
       "      <td>988</td>\n",
       "      <td>45061</td>\n",
       "      <td>1</td>\n",
       "      <td>0</td>\n",
       "      <td>37</td>\n",
       "      <td>1</td>\n",
       "      <td>frozen</td>\n",
       "      <td>310</td>\n",
       "      <td>train</td>\n",
       "      <td>100</td>\n",
       "      <td>2</td>\n",
       "      <td>9</td>\n",
       "      <td>4.0</td>\n",
       "    </tr>\n",
       "    <tr>\n",
       "      <td>1</td>\n",
       "      <td>988</td>\n",
       "      <td>28464</td>\n",
       "      <td>2</td>\n",
       "      <td>0</td>\n",
       "      <td>53</td>\n",
       "      <td>16</td>\n",
       "      <td>dairy eggs</td>\n",
       "      <td>310</td>\n",
       "      <td>train</td>\n",
       "      <td>100</td>\n",
       "      <td>2</td>\n",
       "      <td>9</td>\n",
       "      <td>4.0</td>\n",
       "    </tr>\n",
       "  </tbody>\n",
       "</table>\n",
       "</div>"
      ],
      "text/plain": [
       "   order_id  product_id  add_to_cart_order  reordered  aisle_id  \\\n",
       "0       988       45061                  1          0        37   \n",
       "1       988       28464                  2          0        53   \n",
       "\n",
       "   department_id  department  user_id eval_set  order_number  order_dow  \\\n",
       "0              1      frozen      310    train           100          2   \n",
       "1             16  dairy eggs      310    train           100          2   \n",
       "\n",
       "   order_hour_of_day  days_since_prior_order  \n",
       "0                  9                     4.0  \n",
       "1                  9                     4.0  "
      ]
     },
     "execution_count": 32,
     "metadata": {},
     "output_type": "execute_result"
    }
   ],
   "source": [
    "df_order_prods__train.head(2)"
   ]
  },
  {
   "cell_type": "markdown",
   "metadata": {},
   "source": [
    "# One-Hot Encode Day of Week"
   ]
  },
  {
   "cell_type": "code",
   "execution_count": 33,
   "metadata": {
    "ExecuteTime": {
     "end_time": "2019-10-21T19:33:26.741727Z",
     "start_time": "2019-10-21T19:33:26.694931Z"
    }
   },
   "outputs": [],
   "source": [
    "df_order_prods__prior = pd.get_dummies(df_order_prods__prior, prefix='dow_', columns=['order_dow'])\n",
    "df_order_prods__train = pd.get_dummies(df_order_prods__train, prefix='dow_', columns=['order_dow'])"
   ]
  },
  {
   "cell_type": "markdown",
   "metadata": {},
   "source": [
    "### Rename DOW columns\n",
    "\n",
    "After investigation, dow_0 probably represents Saturday."
   ]
  },
  {
   "cell_type": "code",
   "execution_count": 34,
   "metadata": {
    "ExecuteTime": {
     "end_time": "2019-10-21T19:33:27.629955Z",
     "start_time": "2019-10-21T19:33:27.606407Z"
    }
   },
   "outputs": [],
   "source": [
    "df_order_prods__prior.rename(columns={\n",
    "    'dow__0':'Sat',\n",
    "    'dow__1':'Sun',\n",
    "    'dow__2':'Mon',\n",
    "    'dow__3':'Tues',\n",
    "    'dow__4':'Weds',\n",
    "    'dow__5':'Thur',\n",
    "    'dow__6':'Fri',\n",
    "}, inplace=True)\n",
    "\n",
    "df_order_prods__train.rename(columns={\n",
    "    'dow__0':'Sat',\n",
    "    'dow__1':'Sun',\n",
    "    'dow__2':'Mon',\n",
    "    'dow__3':'Tues',\n",
    "    'dow__4':'Weds',\n",
    "    'dow__5':'Thur',\n",
    "    'dow__6':'Fri',\n",
    "}, inplace=True)"
   ]
  },
  {
   "cell_type": "code",
   "execution_count": 35,
   "metadata": {
    "ExecuteTime": {
     "end_time": "2019-10-21T19:33:28.339116Z",
     "start_time": "2019-10-21T19:33:28.335014Z"
    },
    "scrolled": false
   },
   "outputs": [
    {
     "data": {
      "text/plain": [
       "['order_id',\n",
       " 'product_id',\n",
       " 'add_to_cart_order',\n",
       " 'reordered',\n",
       " 'aisle_id',\n",
       " 'department_id',\n",
       " 'department',\n",
       " 'user_id',\n",
       " 'eval_set',\n",
       " 'order_number',\n",
       " 'order_hour_of_day',\n",
       " 'days_since_prior_order',\n",
       " 'Sat',\n",
       " 'Sun',\n",
       " 'Mon',\n",
       " 'Tues',\n",
       " 'Weds',\n",
       " 'Thur',\n",
       " 'Fri']"
      ]
     },
     "execution_count": 35,
     "metadata": {},
     "output_type": "execute_result"
    }
   ],
   "source": [
    "list(df_order_prods__prior.columns)"
   ]
  },
  {
   "cell_type": "markdown",
   "metadata": {},
   "source": [
    "# Basic MultiClass Models, No User Features\n",
    "\n",
    "Train on `__prior` and then test on `__train`"
   ]
  },
  {
   "cell_type": "code",
   "execution_count": 36,
   "metadata": {
    "ExecuteTime": {
     "end_time": "2019-10-21T19:33:29.851211Z",
     "start_time": "2019-10-21T19:33:29.847489Z"
    }
   },
   "outputs": [],
   "source": [
    "# Impute first orders with -99 to create significant distance for clustering.\n",
    "df_order_prods__prior.days_since_prior_order =  df_order_prods__prior.days_since_prior_order.fillna(value=-99)"
   ]
  },
  {
   "cell_type": "code",
   "execution_count": 37,
   "metadata": {
    "ExecuteTime": {
     "end_time": "2019-10-21T19:33:31.757774Z",
     "start_time": "2019-10-21T19:33:31.752093Z"
    }
   },
   "outputs": [],
   "source": [
    "feature_cols = ([\n",
    "#     'order_id',\n",
    "#     'product_id',\n",
    "    'add_to_cart_order',\n",
    "    'reordered',\n",
    "#     'aisle_id',\n",
    "#     'department_id',\n",
    "#     'user_id',\n",
    "#     'eval_set',\n",
    "#     'order_number',\n",
    "    'order_hour_of_day',\n",
    "    'days_since_prior_order',\n",
    "#     'department',\n",
    "    'Sat',\n",
    "    'Sun',\n",
    "    'Mon',\n",
    "    'Tues',\n",
    "    'Weds',\n",
    "    'Thur',\n",
    "    'Fri']\n",
    ")\n",
    "\n",
    "X_train = df_order_prods__prior[feature_cols]\n",
    "y_train = df_order_prods__prior['department']"
   ]
  },
  {
   "cell_type": "code",
   "execution_count": 38,
   "metadata": {
    "ExecuteTime": {
     "end_time": "2019-10-21T19:33:32.628560Z",
     "start_time": "2019-10-21T19:33:32.624277Z"
    }
   },
   "outputs": [],
   "source": [
    "# If we don't include cart features (like the last product added, then our testing dataframe needs to )\n",
    "\n",
    "X_test = df_order_prods__train[feature_cols]\n",
    "y_test = df_order_prods__train['department']"
   ]
  },
  {
   "cell_type": "code",
   "execution_count": 39,
   "metadata": {
    "ExecuteTime": {
     "end_time": "2019-10-21T19:33:33.579707Z",
     "start_time": "2019-10-21T19:33:33.575785Z"
    }
   },
   "outputs": [
    {
     "data": {
      "text/plain": [
       "Index(['order_id', 'product_id', 'add_to_cart_order', 'reordered', 'aisle_id',\n",
       "       'department_id', 'department', 'user_id', 'eval_set', 'order_number',\n",
       "       'order_hour_of_day', 'days_since_prior_order', 'Sat', 'Sun', 'Mon',\n",
       "       'Tues', 'Weds', 'Thur', 'Fri'],\n",
       "      dtype='object')"
      ]
     },
     "execution_count": 39,
     "metadata": {},
     "output_type": "execute_result"
    }
   ],
   "source": [
    "df_order_prods__train.columns"
   ]
  },
  {
   "cell_type": "markdown",
   "metadata": {},
   "source": [
    "### Add Columns Describing Departments of Entire Cart, The Last Cart Item, and the Remaining Cart"
   ]
  },
  {
   "cell_type": "code",
   "execution_count": 40,
   "metadata": {
    "ExecuteTime": {
     "end_time": "2019-10-21T19:33:35.443434Z",
     "start_time": "2019-10-21T19:33:34.686570Z"
    }
   },
   "outputs": [
    {
     "data": {
      "text/html": [
       "<div>\n",
       "<style scoped>\n",
       "    .dataframe tbody tr th:only-of-type {\n",
       "        vertical-align: middle;\n",
       "    }\n",
       "\n",
       "    .dataframe tbody tr th {\n",
       "        vertical-align: top;\n",
       "    }\n",
       "\n",
       "    .dataframe thead th {\n",
       "        text-align: right;\n",
       "    }\n",
       "</style>\n",
       "<table border=\"1\" class=\"dataframe\">\n",
       "  <thead>\n",
       "    <tr style=\"text-align: right;\">\n",
       "      <th></th>\n",
       "      <th>order_id</th>\n",
       "      <th>full_cart</th>\n",
       "    </tr>\n",
       "  </thead>\n",
       "  <tbody>\n",
       "    <tr>\n",
       "      <td>0</td>\n",
       "      <td>988</td>\n",
       "      <td>[1, 16, 17, 2]</td>\n",
       "    </tr>\n",
       "    <tr>\n",
       "      <td>1</td>\n",
       "      <td>3529</td>\n",
       "      <td>[18, 18]</td>\n",
       "    </tr>\n",
       "    <tr>\n",
       "      <td>2</td>\n",
       "      <td>13318</td>\n",
       "      <td>[4, 4, 4, 4, 4, 4, 19, 19, 12]</td>\n",
       "    </tr>\n",
       "    <tr>\n",
       "      <td>3</td>\n",
       "      <td>14172</td>\n",
       "      <td>[1, 16, 16, 16, 4, 4, 12, 12, 7, 7, 7, 3]</td>\n",
       "    </tr>\n",
       "    <tr>\n",
       "      <td>4</td>\n",
       "      <td>15694</td>\n",
       "      <td>[9]</td>\n",
       "    </tr>\n",
       "  </tbody>\n",
       "</table>\n",
       "</div>"
      ],
      "text/plain": [
       "   order_id                                  full_cart\n",
       "0       988                             [1, 16, 17, 2]\n",
       "1      3529                                   [18, 18]\n",
       "2     13318             [4, 4, 4, 4, 4, 4, 19, 19, 12]\n",
       "3     14172  [1, 16, 16, 16, 4, 4, 12, 12, 7, 7, 7, 3]\n",
       "4     15694                                        [9]"
      ]
     },
     "execution_count": 40,
     "metadata": {},
     "output_type": "execute_result"
    }
   ],
   "source": [
    "# For each dataset, we need to collect the entire cart, as a list of departments.\n",
    "# Then, will re-merge this into the orders dataframe.\n",
    "\n",
    "full_cart_depts__train = df_order_prods__train.groupby(by='order_id')['department_id'].apply(list).reset_index(name='full_cart')\n",
    "full_cart_depts__prior = df_order_prods__prior.groupby(by='order_id')['department_id'].apply(list).reset_index(name='full_cart')\n",
    "\n",
    "full_cart_depts__train.head()"
   ]
  },
  {
   "cell_type": "code",
   "execution_count": 41,
   "metadata": {
    "ExecuteTime": {
     "end_time": "2019-10-21T19:33:36.253632Z",
     "start_time": "2019-10-21T19:33:36.224002Z"
    }
   },
   "outputs": [],
   "source": [
    "df_order_prods__prior = pd.merge(df_order_prods__prior, full_cart_depts__prior, on='order_id')\n",
    "df_order_prods__train = pd.merge(df_order_prods__train, full_cart_depts__train, on='order_id')"
   ]
  },
  {
   "cell_type": "code",
   "execution_count": 42,
   "metadata": {
    "ExecuteTime": {
     "end_time": "2019-10-21T19:33:41.374444Z",
     "start_time": "2019-10-21T19:33:37.073486Z"
    },
    "scrolled": true
   },
   "outputs": [
    {
     "data": {
      "text/html": [
       "<div>\n",
       "<style scoped>\n",
       "    .dataframe tbody tr th:only-of-type {\n",
       "        vertical-align: middle;\n",
       "    }\n",
       "\n",
       "    .dataframe tbody tr th {\n",
       "        vertical-align: top;\n",
       "    }\n",
       "\n",
       "    .dataframe thead th {\n",
       "        text-align: right;\n",
       "    }\n",
       "</style>\n",
       "<table border=\"1\" class=\"dataframe\">\n",
       "  <thead>\n",
       "    <tr style=\"text-align: right;\">\n",
       "      <th></th>\n",
       "      <th>order_id</th>\n",
       "      <th>product_id</th>\n",
       "      <th>add_to_cart_order</th>\n",
       "      <th>reordered</th>\n",
       "      <th>aisle_id</th>\n",
       "      <th>department_id</th>\n",
       "      <th>department</th>\n",
       "      <th>user_id</th>\n",
       "      <th>eval_set</th>\n",
       "      <th>order_number</th>\n",
       "      <th>...</th>\n",
       "      <th>Sat</th>\n",
       "      <th>Sun</th>\n",
       "      <th>Mon</th>\n",
       "      <th>Tues</th>\n",
       "      <th>Weds</th>\n",
       "      <th>Thur</th>\n",
       "      <th>Fri</th>\n",
       "      <th>full_cart</th>\n",
       "      <th>cart_remain</th>\n",
       "      <th>cart_seen</th>\n",
       "    </tr>\n",
       "  </thead>\n",
       "  <tbody>\n",
       "    <tr>\n",
       "      <td>0</td>\n",
       "      <td>40</td>\n",
       "      <td>10070</td>\n",
       "      <td>1</td>\n",
       "      <td>1</td>\n",
       "      <td>84</td>\n",
       "      <td>16</td>\n",
       "      <td>dairy eggs</td>\n",
       "      <td>382</td>\n",
       "      <td>prior</td>\n",
       "      <td>29</td>\n",
       "      <td>...</td>\n",
       "      <td>0</td>\n",
       "      <td>1</td>\n",
       "      <td>0</td>\n",
       "      <td>0</td>\n",
       "      <td>0</td>\n",
       "      <td>0</td>\n",
       "      <td>0</td>\n",
       "      <td>[16, 16, 1, 7]</td>\n",
       "      <td>[16, 16, 1, 7]</td>\n",
       "      <td>[]</td>\n",
       "    </tr>\n",
       "    <tr>\n",
       "      <td>1</td>\n",
       "      <td>40</td>\n",
       "      <td>34866</td>\n",
       "      <td>4</td>\n",
       "      <td>1</td>\n",
       "      <td>84</td>\n",
       "      <td>16</td>\n",
       "      <td>dairy eggs</td>\n",
       "      <td>382</td>\n",
       "      <td>prior</td>\n",
       "      <td>29</td>\n",
       "      <td>...</td>\n",
       "      <td>0</td>\n",
       "      <td>1</td>\n",
       "      <td>0</td>\n",
       "      <td>0</td>\n",
       "      <td>0</td>\n",
       "      <td>0</td>\n",
       "      <td>0</td>\n",
       "      <td>[16, 16, 1, 7]</td>\n",
       "      <td>[7]</td>\n",
       "      <td>[16, 16, 1]</td>\n",
       "    </tr>\n",
       "  </tbody>\n",
       "</table>\n",
       "<p>2 rows × 22 columns</p>\n",
       "</div>"
      ],
      "text/plain": [
       "   order_id  product_id  add_to_cart_order  reordered  aisle_id  \\\n",
       "0        40       10070                  1          1        84   \n",
       "1        40       34866                  4          1        84   \n",
       "\n",
       "   department_id  department  user_id eval_set  order_number  ...  Sat  Sun  \\\n",
       "0             16  dairy eggs      382    prior            29  ...    0    1   \n",
       "1             16  dairy eggs      382    prior            29  ...    0    1   \n",
       "\n",
       "   Mon  Tues  Weds  Thur  Fri       full_cart     cart_remain    cart_seen  \n",
       "0    0     0     0     0    0  [16, 16, 1, 7]  [16, 16, 1, 7]           []  \n",
       "1    0     0     0     0    0  [16, 16, 1, 7]             [7]  [16, 16, 1]  \n",
       "\n",
       "[2 rows x 22 columns]"
      ]
     },
     "execution_count": 42,
     "metadata": {},
     "output_type": "execute_result"
    }
   ],
   "source": [
    "# Create a column for the \"cart remaining\", a slice of the full_cart\n",
    "# according what part of the cart has already been added.\n",
    "# e.g. If add_to_cart_order == 1, keep the whole cart.\n",
    "# inverse for 'cart_seen'\n",
    "\n",
    "df_order_prods__prior['cart_remain'] = df_order_prods__prior.apply(lambda row: row['full_cart'][row['add_to_cart_order'] - 1:], axis=1)\n",
    "df_order_prods__prior['cart_seen'] = df_order_prods__prior.apply(lambda row: row['full_cart'][:row['add_to_cart_order'] - 1], axis=1)\n",
    "df_order_prods__prior.head(2)"
   ]
  },
  {
   "cell_type": "code",
   "execution_count": 43,
   "metadata": {
    "ExecuteTime": {
     "end_time": "2019-10-21T19:33:42.680750Z",
     "start_time": "2019-10-21T19:33:42.487854Z"
    }
   },
   "outputs": [],
   "source": [
    "df_order_prods__train['cart_remain'] = df_order_prods__train.apply(lambda row: row['full_cart'][row['add_to_cart_order'] - 1:], axis=1)\n",
    "df_order_prods__train['cart_seen'] = df_order_prods__train.apply(lambda row: row['full_cart'][:row['add_to_cart_order'] - 1], axis=1)"
   ]
  },
  {
   "cell_type": "code",
   "execution_count": 44,
   "metadata": {
    "ExecuteTime": {
     "end_time": "2019-10-21T19:33:51.056847Z",
     "start_time": "2019-10-21T19:33:51.051077Z"
    }
   },
   "outputs": [],
   "source": [
    "# Given a cart distribution (remaining, or current),\n",
    "# write a function to return the distribution at that state\n",
    "\n",
    "def get_cart_distribution(cart_list):\n",
    "    \n",
    "    cart_dist = np.zeros(21)\n",
    "    \n",
    "    if len(cart_list)==0:\n",
    "        return cart_dist\n",
    "    \n",
    "    cart_count = Counter(cart_list)\n",
    "    \n",
    "    for elem, cnt in cart_count.items():\n",
    "        cart_dist[elem-1] = cnt\n",
    "    cart_dist = cart_dist/sum(cart_dist)\n",
    "\n",
    "    return cart_dist\n",
    "\n",
    "def get_cart_counts(cart_list):\n",
    "    \n",
    "    cart_dist = np.zeros(21)\n",
    "    \n",
    "    if len(cart_list)==0:\n",
    "        return cart_dist\n",
    "    \n",
    "    cart_count = Counter(cart_list)\n",
    "    \n",
    "    for elem, cnt in cart_count.items():\n",
    "        cart_dist[elem-1] = cnt\n",
    "    cart_dist = cart_dist\n",
    "\n",
    "    return cart_dist"
   ]
  },
  {
   "cell_type": "code",
   "execution_count": 45,
   "metadata": {
    "ExecuteTime": {
     "end_time": "2019-10-21T19:33:55.313235Z",
     "start_time": "2019-10-21T19:33:55.310297Z"
    }
   },
   "outputs": [],
   "source": [
    "# cart_remain_cols = ['rem_dept_' + str(i) + '_dst' for i in range(1, 22,1)]\n",
    "cart_seen_cols = ['curr_dept_' + str(i) + '_cts' for i in range(1, 22,1)]"
   ]
  },
  {
   "cell_type": "code",
   "execution_count": 46,
   "metadata": {
    "ExecuteTime": {
     "end_time": "2019-10-21T19:33:58.019955Z",
     "start_time": "2019-10-21T19:33:56.591622Z"
    },
    "scrolled": false
   },
   "outputs": [
    {
     "data": {
      "text/html": [
       "<div>\n",
       "<style scoped>\n",
       "    .dataframe tbody tr th:only-of-type {\n",
       "        vertical-align: middle;\n",
       "    }\n",
       "\n",
       "    .dataframe tbody tr th {\n",
       "        vertical-align: top;\n",
       "    }\n",
       "\n",
       "    .dataframe thead th {\n",
       "        text-align: right;\n",
       "    }\n",
       "</style>\n",
       "<table border=\"1\" class=\"dataframe\">\n",
       "  <thead>\n",
       "    <tr style=\"text-align: right;\">\n",
       "      <th></th>\n",
       "      <th>order_id</th>\n",
       "      <th>product_id</th>\n",
       "      <th>add_to_cart_order</th>\n",
       "      <th>reordered</th>\n",
       "      <th>aisle_id</th>\n",
       "      <th>department_id</th>\n",
       "      <th>department</th>\n",
       "      <th>user_id</th>\n",
       "      <th>eval_set</th>\n",
       "      <th>order_number</th>\n",
       "      <th>...</th>\n",
       "      <th>curr_dept_12_cts</th>\n",
       "      <th>curr_dept_13_cts</th>\n",
       "      <th>curr_dept_14_cts</th>\n",
       "      <th>curr_dept_15_cts</th>\n",
       "      <th>curr_dept_16_cts</th>\n",
       "      <th>curr_dept_17_cts</th>\n",
       "      <th>curr_dept_18_cts</th>\n",
       "      <th>curr_dept_19_cts</th>\n",
       "      <th>curr_dept_20_cts</th>\n",
       "      <th>curr_dept_21_cts</th>\n",
       "    </tr>\n",
       "  </thead>\n",
       "  <tbody>\n",
       "    <tr>\n",
       "      <td>0</td>\n",
       "      <td>40</td>\n",
       "      <td>10070</td>\n",
       "      <td>1</td>\n",
       "      <td>1</td>\n",
       "      <td>84</td>\n",
       "      <td>16</td>\n",
       "      <td>dairy eggs</td>\n",
       "      <td>382</td>\n",
       "      <td>prior</td>\n",
       "      <td>29</td>\n",
       "      <td>...</td>\n",
       "      <td>0.0</td>\n",
       "      <td>0.0</td>\n",
       "      <td>0.0</td>\n",
       "      <td>0.0</td>\n",
       "      <td>0.0</td>\n",
       "      <td>0.0</td>\n",
       "      <td>0.0</td>\n",
       "      <td>0.0</td>\n",
       "      <td>0.0</td>\n",
       "      <td>0.0</td>\n",
       "    </tr>\n",
       "    <tr>\n",
       "      <td>1</td>\n",
       "      <td>40</td>\n",
       "      <td>34866</td>\n",
       "      <td>4</td>\n",
       "      <td>1</td>\n",
       "      <td>84</td>\n",
       "      <td>16</td>\n",
       "      <td>dairy eggs</td>\n",
       "      <td>382</td>\n",
       "      <td>prior</td>\n",
       "      <td>29</td>\n",
       "      <td>...</td>\n",
       "      <td>0.0</td>\n",
       "      <td>0.0</td>\n",
       "      <td>0.0</td>\n",
       "      <td>0.0</td>\n",
       "      <td>2.0</td>\n",
       "      <td>0.0</td>\n",
       "      <td>0.0</td>\n",
       "      <td>0.0</td>\n",
       "      <td>0.0</td>\n",
       "      <td>0.0</td>\n",
       "    </tr>\n",
       "    <tr>\n",
       "      <td>2</td>\n",
       "      <td>40</td>\n",
       "      <td>42450</td>\n",
       "      <td>2</td>\n",
       "      <td>1</td>\n",
       "      <td>38</td>\n",
       "      <td>1</td>\n",
       "      <td>frozen</td>\n",
       "      <td>382</td>\n",
       "      <td>prior</td>\n",
       "      <td>29</td>\n",
       "      <td>...</td>\n",
       "      <td>0.0</td>\n",
       "      <td>0.0</td>\n",
       "      <td>0.0</td>\n",
       "      <td>0.0</td>\n",
       "      <td>1.0</td>\n",
       "      <td>0.0</td>\n",
       "      <td>0.0</td>\n",
       "      <td>0.0</td>\n",
       "      <td>0.0</td>\n",
       "      <td>0.0</td>\n",
       "    </tr>\n",
       "    <tr>\n",
       "      <td>3</td>\n",
       "      <td>40</td>\n",
       "      <td>33198</td>\n",
       "      <td>3</td>\n",
       "      <td>1</td>\n",
       "      <td>115</td>\n",
       "      <td>7</td>\n",
       "      <td>beverages</td>\n",
       "      <td>382</td>\n",
       "      <td>prior</td>\n",
       "      <td>29</td>\n",
       "      <td>...</td>\n",
       "      <td>0.0</td>\n",
       "      <td>0.0</td>\n",
       "      <td>0.0</td>\n",
       "      <td>0.0</td>\n",
       "      <td>2.0</td>\n",
       "      <td>0.0</td>\n",
       "      <td>0.0</td>\n",
       "      <td>0.0</td>\n",
       "      <td>0.0</td>\n",
       "      <td>0.0</td>\n",
       "    </tr>\n",
       "    <tr>\n",
       "      <td>4</td>\n",
       "      <td>116744</td>\n",
       "      <td>10070</td>\n",
       "      <td>3</td>\n",
       "      <td>1</td>\n",
       "      <td>84</td>\n",
       "      <td>16</td>\n",
       "      <td>dairy eggs</td>\n",
       "      <td>382</td>\n",
       "      <td>prior</td>\n",
       "      <td>23</td>\n",
       "      <td>...</td>\n",
       "      <td>0.0</td>\n",
       "      <td>0.0</td>\n",
       "      <td>0.0</td>\n",
       "      <td>0.0</td>\n",
       "      <td>2.0</td>\n",
       "      <td>0.0</td>\n",
       "      <td>0.0</td>\n",
       "      <td>0.0</td>\n",
       "      <td>0.0</td>\n",
       "      <td>0.0</td>\n",
       "    </tr>\n",
       "  </tbody>\n",
       "</table>\n",
       "<p>5 rows × 43 columns</p>\n",
       "</div>"
      ],
      "text/plain": [
       "   order_id  product_id  add_to_cart_order  reordered  aisle_id  \\\n",
       "0        40       10070                  1          1        84   \n",
       "1        40       34866                  4          1        84   \n",
       "2        40       42450                  2          1        38   \n",
       "3        40       33198                  3          1       115   \n",
       "4    116744       10070                  3          1        84   \n",
       "\n",
       "   department_id  department  user_id eval_set  order_number  ...  \\\n",
       "0             16  dairy eggs      382    prior            29  ...   \n",
       "1             16  dairy eggs      382    prior            29  ...   \n",
       "2              1      frozen      382    prior            29  ...   \n",
       "3              7   beverages      382    prior            29  ...   \n",
       "4             16  dairy eggs      382    prior            23  ...   \n",
       "\n",
       "   curr_dept_12_cts  curr_dept_13_cts  curr_dept_14_cts  curr_dept_15_cts  \\\n",
       "0               0.0               0.0               0.0               0.0   \n",
       "1               0.0               0.0               0.0               0.0   \n",
       "2               0.0               0.0               0.0               0.0   \n",
       "3               0.0               0.0               0.0               0.0   \n",
       "4               0.0               0.0               0.0               0.0   \n",
       "\n",
       "   curr_dept_16_cts  curr_dept_17_cts  curr_dept_18_cts  curr_dept_19_cts  \\\n",
       "0               0.0               0.0               0.0               0.0   \n",
       "1               2.0               0.0               0.0               0.0   \n",
       "2               1.0               0.0               0.0               0.0   \n",
       "3               2.0               0.0               0.0               0.0   \n",
       "4               2.0               0.0               0.0               0.0   \n",
       "\n",
       "   curr_dept_20_cts curr_dept_21_cts  \n",
       "0               0.0              0.0  \n",
       "1               0.0              0.0  \n",
       "2               0.0              0.0  \n",
       "3               0.0              0.0  \n",
       "4               0.0              0.0  \n",
       "\n",
       "[5 rows x 43 columns]"
      ]
     },
     "execution_count": 46,
     "metadata": {},
     "output_type": "execute_result"
    }
   ],
   "source": [
    "# cart_remain_dists = pd.DataFrame(df_order_prods__prior.cart_remain.apply(get_cart_distribution).tolist(), columns=cart_remain_cols)\n",
    "cart_seen_dists = pd.DataFrame(df_order_prods__prior.cart_seen.apply(get_cart_counts).tolist(), columns=cart_seen_cols)\n",
    "df_order_prods__prior[cart_seen_cols] = cart_seen_dists[cart_seen_cols]\n",
    "df_order_prods__prior.head()"
   ]
  },
  {
   "cell_type": "code",
   "execution_count": 413,
   "metadata": {
    "ExecuteTime": {
     "end_time": "2019-10-21T19:28:52.417917Z",
     "start_time": "2019-10-21T19:28:52.196957Z"
    }
   },
   "outputs": [
    {
     "data": {
      "text/html": [
       "<div>\n",
       "<style scoped>\n",
       "    .dataframe tbody tr th:only-of-type {\n",
       "        vertical-align: middle;\n",
       "    }\n",
       "\n",
       "    .dataframe tbody tr th {\n",
       "        vertical-align: top;\n",
       "    }\n",
       "\n",
       "    .dataframe thead th {\n",
       "        text-align: right;\n",
       "    }\n",
       "</style>\n",
       "<table border=\"1\" class=\"dataframe\">\n",
       "  <thead>\n",
       "    <tr style=\"text-align: right;\">\n",
       "      <th></th>\n",
       "      <th>order_id</th>\n",
       "      <th>product_id</th>\n",
       "      <th>add_to_cart_order</th>\n",
       "      <th>reordered</th>\n",
       "      <th>aisle_id</th>\n",
       "      <th>department_id</th>\n",
       "      <th>user_id</th>\n",
       "      <th>order_number</th>\n",
       "      <th>order_hour_of_day</th>\n",
       "      <th>days_since_prior_order</th>\n",
       "      <th>...</th>\n",
       "      <th>curr_dept_12_dst</th>\n",
       "      <th>curr_dept_13_dst</th>\n",
       "      <th>curr_dept_14_dst</th>\n",
       "      <th>curr_dept_15_dst</th>\n",
       "      <th>curr_dept_16_dst</th>\n",
       "      <th>curr_dept_17_dst</th>\n",
       "      <th>curr_dept_18_dst</th>\n",
       "      <th>curr_dept_19_dst</th>\n",
       "      <th>curr_dept_20_dst</th>\n",
       "      <th>curr_dept_21_dst</th>\n",
       "    </tr>\n",
       "  </thead>\n",
       "  <tbody>\n",
       "    <tr>\n",
       "      <td>count</td>\n",
       "      <td>7.742500e+04</td>\n",
       "      <td>77425.000000</td>\n",
       "      <td>77425.000000</td>\n",
       "      <td>77425.000000</td>\n",
       "      <td>77425.000000</td>\n",
       "      <td>77425.000000</td>\n",
       "      <td>77425.000000</td>\n",
       "      <td>77425.000000</td>\n",
       "      <td>77425.000000</td>\n",
       "      <td>77425.00000</td>\n",
       "      <td>...</td>\n",
       "      <td>77425.000000</td>\n",
       "      <td>77425.000000</td>\n",
       "      <td>77425.000000</td>\n",
       "      <td>77425.000000</td>\n",
       "      <td>77425.000000</td>\n",
       "      <td>77425.000000</td>\n",
       "      <td>77425.000000</td>\n",
       "      <td>77425.000000</td>\n",
       "      <td>77425.000000</td>\n",
       "      <td>77425.000000</td>\n",
       "    </tr>\n",
       "    <tr>\n",
       "      <td>mean</td>\n",
       "      <td>1.696186e+06</td>\n",
       "      <td>25815.593323</td>\n",
       "      <td>8.360452</td>\n",
       "      <td>0.583687</td>\n",
       "      <td>71.339244</td>\n",
       "      <td>10.010216</td>\n",
       "      <td>260.848576</td>\n",
       "      <td>16.878579</td>\n",
       "      <td>13.520052</td>\n",
       "      <td>4.11411</td>\n",
       "      <td>...</td>\n",
       "      <td>0.068156</td>\n",
       "      <td>0.297901</td>\n",
       "      <td>0.166174</td>\n",
       "      <td>0.034227</td>\n",
       "      <td>2.143920</td>\n",
       "      <td>0.048654</td>\n",
       "      <td>0.027201</td>\n",
       "      <td>0.798721</td>\n",
       "      <td>0.069073</td>\n",
       "      <td>0.000801</td>\n",
       "    </tr>\n",
       "    <tr>\n",
       "      <td>std</td>\n",
       "      <td>9.880130e+05</td>\n",
       "      <td>14216.871937</td>\n",
       "      <td>7.193211</td>\n",
       "      <td>0.492950</td>\n",
       "      <td>38.136164</td>\n",
       "      <td>6.247321</td>\n",
       "      <td>140.175786</td>\n",
       "      <td>17.531267</td>\n",
       "      <td>4.273775</td>\n",
       "      <td>28.13042</td>\n",
       "      <td>...</td>\n",
       "      <td>0.329567</td>\n",
       "      <td>0.980790</td>\n",
       "      <td>0.481257</td>\n",
       "      <td>0.308514</td>\n",
       "      <td>2.196407</td>\n",
       "      <td>0.337818</td>\n",
       "      <td>0.481615</td>\n",
       "      <td>1.647401</td>\n",
       "      <td>0.367711</td>\n",
       "      <td>0.042211</td>\n",
       "    </tr>\n",
       "    <tr>\n",
       "      <td>min</td>\n",
       "      <td>4.000000e+01</td>\n",
       "      <td>1.000000</td>\n",
       "      <td>1.000000</td>\n",
       "      <td>0.000000</td>\n",
       "      <td>1.000000</td>\n",
       "      <td>1.000000</td>\n",
       "      <td>1.000000</td>\n",
       "      <td>1.000000</td>\n",
       "      <td>0.000000</td>\n",
       "      <td>-99.00000</td>\n",
       "      <td>...</td>\n",
       "      <td>0.000000</td>\n",
       "      <td>0.000000</td>\n",
       "      <td>0.000000</td>\n",
       "      <td>0.000000</td>\n",
       "      <td>0.000000</td>\n",
       "      <td>0.000000</td>\n",
       "      <td>0.000000</td>\n",
       "      <td>0.000000</td>\n",
       "      <td>0.000000</td>\n",
       "      <td>0.000000</td>\n",
       "    </tr>\n",
       "    <tr>\n",
       "      <td>25%</td>\n",
       "      <td>8.567530e+05</td>\n",
       "      <td>13535.000000</td>\n",
       "      <td>3.000000</td>\n",
       "      <td>0.000000</td>\n",
       "      <td>31.000000</td>\n",
       "      <td>4.000000</td>\n",
       "      <td>149.000000</td>\n",
       "      <td>5.000000</td>\n",
       "      <td>10.000000</td>\n",
       "      <td>4.00000</td>\n",
       "      <td>...</td>\n",
       "      <td>0.000000</td>\n",
       "      <td>0.000000</td>\n",
       "      <td>0.000000</td>\n",
       "      <td>0.000000</td>\n",
       "      <td>0.000000</td>\n",
       "      <td>0.000000</td>\n",
       "      <td>0.000000</td>\n",
       "      <td>0.000000</td>\n",
       "      <td>0.000000</td>\n",
       "      <td>0.000000</td>\n",
       "    </tr>\n",
       "    <tr>\n",
       "      <td>50%</td>\n",
       "      <td>1.671477e+06</td>\n",
       "      <td>25740.000000</td>\n",
       "      <td>6.000000</td>\n",
       "      <td>1.000000</td>\n",
       "      <td>83.000000</td>\n",
       "      <td>9.000000</td>\n",
       "      <td>262.000000</td>\n",
       "      <td>11.000000</td>\n",
       "      <td>13.000000</td>\n",
       "      <td>7.00000</td>\n",
       "      <td>...</td>\n",
       "      <td>0.000000</td>\n",
       "      <td>0.000000</td>\n",
       "      <td>0.000000</td>\n",
       "      <td>0.000000</td>\n",
       "      <td>2.000000</td>\n",
       "      <td>0.000000</td>\n",
       "      <td>0.000000</td>\n",
       "      <td>0.000000</td>\n",
       "      <td>0.000000</td>\n",
       "      <td>0.000000</td>\n",
       "    </tr>\n",
       "    <tr>\n",
       "      <td>75%</td>\n",
       "      <td>2.564286e+06</td>\n",
       "      <td>38293.000000</td>\n",
       "      <td>11.000000</td>\n",
       "      <td>1.000000</td>\n",
       "      <td>106.000000</td>\n",
       "      <td>16.000000</td>\n",
       "      <td>381.000000</td>\n",
       "      <td>23.000000</td>\n",
       "      <td>17.000000</td>\n",
       "      <td>14.00000</td>\n",
       "      <td>...</td>\n",
       "      <td>0.000000</td>\n",
       "      <td>0.000000</td>\n",
       "      <td>0.000000</td>\n",
       "      <td>0.000000</td>\n",
       "      <td>3.000000</td>\n",
       "      <td>0.000000</td>\n",
       "      <td>0.000000</td>\n",
       "      <td>1.000000</td>\n",
       "      <td>0.000000</td>\n",
       "      <td>0.000000</td>\n",
       "    </tr>\n",
       "    <tr>\n",
       "      <td>max</td>\n",
       "      <td>3.420572e+06</td>\n",
       "      <td>49683.000000</td>\n",
       "      <td>89.000000</td>\n",
       "      <td>1.000000</td>\n",
       "      <td>134.000000</td>\n",
       "      <td>21.000000</td>\n",
       "      <td>500.000000</td>\n",
       "      <td>99.000000</td>\n",
       "      <td>23.000000</td>\n",
       "      <td>30.00000</td>\n",
       "      <td>...</td>\n",
       "      <td>5.000000</td>\n",
       "      <td>13.000000</td>\n",
       "      <td>5.000000</td>\n",
       "      <td>8.000000</td>\n",
       "      <td>17.000000</td>\n",
       "      <td>8.000000</td>\n",
       "      <td>29.000000</td>\n",
       "      <td>21.000000</td>\n",
       "      <td>7.000000</td>\n",
       "      <td>5.000000</td>\n",
       "    </tr>\n",
       "  </tbody>\n",
       "</table>\n",
       "<p>8 rows × 38 columns</p>\n",
       "</div>"
      ],
      "text/plain": [
       "           order_id    product_id  add_to_cart_order     reordered  \\\n",
       "count  7.742500e+04  77425.000000       77425.000000  77425.000000   \n",
       "mean   1.696186e+06  25815.593323           8.360452      0.583687   \n",
       "std    9.880130e+05  14216.871937           7.193211      0.492950   \n",
       "min    4.000000e+01      1.000000           1.000000      0.000000   \n",
       "25%    8.567530e+05  13535.000000           3.000000      0.000000   \n",
       "50%    1.671477e+06  25740.000000           6.000000      1.000000   \n",
       "75%    2.564286e+06  38293.000000          11.000000      1.000000   \n",
       "max    3.420572e+06  49683.000000          89.000000      1.000000   \n",
       "\n",
       "           aisle_id  department_id       user_id  order_number  \\\n",
       "count  77425.000000   77425.000000  77425.000000  77425.000000   \n",
       "mean      71.339244      10.010216    260.848576     16.878579   \n",
       "std       38.136164       6.247321    140.175786     17.531267   \n",
       "min        1.000000       1.000000      1.000000      1.000000   \n",
       "25%       31.000000       4.000000    149.000000      5.000000   \n",
       "50%       83.000000       9.000000    262.000000     11.000000   \n",
       "75%      106.000000      16.000000    381.000000     23.000000   \n",
       "max      134.000000      21.000000    500.000000     99.000000   \n",
       "\n",
       "       order_hour_of_day  days_since_prior_order  ...  curr_dept_12_dst  \\\n",
       "count       77425.000000             77425.00000  ...      77425.000000   \n",
       "mean           13.520052                 4.11411  ...          0.068156   \n",
       "std             4.273775                28.13042  ...          0.329567   \n",
       "min             0.000000               -99.00000  ...          0.000000   \n",
       "25%            10.000000                 4.00000  ...          0.000000   \n",
       "50%            13.000000                 7.00000  ...          0.000000   \n",
       "75%            17.000000                14.00000  ...          0.000000   \n",
       "max            23.000000                30.00000  ...          5.000000   \n",
       "\n",
       "       curr_dept_13_dst  curr_dept_14_dst  curr_dept_15_dst  curr_dept_16_dst  \\\n",
       "count      77425.000000      77425.000000      77425.000000      77425.000000   \n",
       "mean           0.297901          0.166174          0.034227          2.143920   \n",
       "std            0.980790          0.481257          0.308514          2.196407   \n",
       "min            0.000000          0.000000          0.000000          0.000000   \n",
       "25%            0.000000          0.000000          0.000000          0.000000   \n",
       "50%            0.000000          0.000000          0.000000          2.000000   \n",
       "75%            0.000000          0.000000          0.000000          3.000000   \n",
       "max           13.000000          5.000000          8.000000         17.000000   \n",
       "\n",
       "       curr_dept_17_dst  curr_dept_18_dst  curr_dept_19_dst  curr_dept_20_dst  \\\n",
       "count      77425.000000      77425.000000      77425.000000      77425.000000   \n",
       "mean           0.048654          0.027201          0.798721          0.069073   \n",
       "std            0.337818          0.481615          1.647401          0.367711   \n",
       "min            0.000000          0.000000          0.000000          0.000000   \n",
       "25%            0.000000          0.000000          0.000000          0.000000   \n",
       "50%            0.000000          0.000000          0.000000          0.000000   \n",
       "75%            0.000000          0.000000          1.000000          0.000000   \n",
       "max            8.000000         29.000000         21.000000          7.000000   \n",
       "\n",
       "       curr_dept_21_dst  \n",
       "count      77425.000000  \n",
       "mean           0.000801  \n",
       "std            0.042211  \n",
       "min            0.000000  \n",
       "25%            0.000000  \n",
       "50%            0.000000  \n",
       "75%            0.000000  \n",
       "max            5.000000  \n",
       "\n",
       "[8 rows x 38 columns]"
      ]
     },
     "execution_count": 413,
     "metadata": {},
     "output_type": "execute_result"
    }
   ],
   "source": [
    "df_order_prods__prior.describe()"
   ]
  },
  {
   "cell_type": "code",
   "execution_count": 47,
   "metadata": {
    "ExecuteTime": {
     "end_time": "2019-10-21T19:34:37.560385Z",
     "start_time": "2019-10-21T19:34:37.507977Z"
    }
   },
   "outputs": [],
   "source": [
    "cart_seen_dists = pd.DataFrame(df_order_prods__train.cart_seen.apply(get_cart_counts).tolist(), columns=cart_seen_cols)\n",
    "df_order_prods__train[cart_seen_cols] = cart_seen_dists[cart_seen_cols]"
   ]
  },
  {
   "cell_type": "code",
   "execution_count": 48,
   "metadata": {
    "ExecuteTime": {
     "end_time": "2019-10-21T19:34:39.244361Z",
     "start_time": "2019-10-21T19:34:39.132872Z"
    },
    "scrolled": false
   },
   "outputs": [
    {
     "data": {
      "text/html": [
       "<div>\n",
       "<style scoped>\n",
       "    .dataframe tbody tr th:only-of-type {\n",
       "        vertical-align: middle;\n",
       "    }\n",
       "\n",
       "    .dataframe tbody tr th {\n",
       "        vertical-align: top;\n",
       "    }\n",
       "\n",
       "    .dataframe thead th {\n",
       "        text-align: right;\n",
       "    }\n",
       "</style>\n",
       "<table border=\"1\" class=\"dataframe\">\n",
       "  <thead>\n",
       "    <tr style=\"text-align: right;\">\n",
       "      <th></th>\n",
       "      <th>order_id</th>\n",
       "      <th>product_id</th>\n",
       "      <th>add_to_cart_order</th>\n",
       "      <th>reordered</th>\n",
       "      <th>aisle_id</th>\n",
       "      <th>department_id</th>\n",
       "      <th>user_id</th>\n",
       "      <th>order_number</th>\n",
       "      <th>order_hour_of_day</th>\n",
       "      <th>days_since_prior_order</th>\n",
       "      <th>...</th>\n",
       "      <th>curr_dept_12_cts</th>\n",
       "      <th>curr_dept_13_cts</th>\n",
       "      <th>curr_dept_14_cts</th>\n",
       "      <th>curr_dept_15_cts</th>\n",
       "      <th>curr_dept_16_cts</th>\n",
       "      <th>curr_dept_17_cts</th>\n",
       "      <th>curr_dept_18_cts</th>\n",
       "      <th>curr_dept_19_cts</th>\n",
       "      <th>curr_dept_20_cts</th>\n",
       "      <th>curr_dept_21_cts</th>\n",
       "    </tr>\n",
       "  </thead>\n",
       "  <tbody>\n",
       "    <tr>\n",
       "      <td>count</td>\n",
       "      <td>3.386000e+03</td>\n",
       "      <td>3386.000000</td>\n",
       "      <td>3386.000000</td>\n",
       "      <td>3386.000000</td>\n",
       "      <td>3386.000000</td>\n",
       "      <td>3386.000000</td>\n",
       "      <td>3386.000000</td>\n",
       "      <td>3386.000000</td>\n",
       "      <td>3386.000000</td>\n",
       "      <td>3386.000000</td>\n",
       "      <td>...</td>\n",
       "      <td>3386.000000</td>\n",
       "      <td>3386.000000</td>\n",
       "      <td>3386.000000</td>\n",
       "      <td>3386.000000</td>\n",
       "      <td>3386.000000</td>\n",
       "      <td>3386.00000</td>\n",
       "      <td>3386.000000</td>\n",
       "      <td>3386.000000</td>\n",
       "      <td>3386.000000</td>\n",
       "      <td>3386.000000</td>\n",
       "    </tr>\n",
       "    <tr>\n",
       "      <td>mean</td>\n",
       "      <td>1.778419e+06</td>\n",
       "      <td>25502.752215</td>\n",
       "      <td>9.029829</td>\n",
       "      <td>0.619905</td>\n",
       "      <td>71.388069</td>\n",
       "      <td>9.977850</td>\n",
       "      <td>252.418193</td>\n",
       "      <td>17.689900</td>\n",
       "      <td>13.590077</td>\n",
       "      <td>16.622859</td>\n",
       "      <td>...</td>\n",
       "      <td>0.127880</td>\n",
       "      <td>0.202894</td>\n",
       "      <td>0.101004</td>\n",
       "      <td>0.025989</td>\n",
       "      <td>2.311577</td>\n",
       "      <td>0.21707</td>\n",
       "      <td>0.077082</td>\n",
       "      <td>0.505021</td>\n",
       "      <td>0.085647</td>\n",
       "      <td>0.002658</td>\n",
       "    </tr>\n",
       "    <tr>\n",
       "      <td>std</td>\n",
       "      <td>9.702635e+05</td>\n",
       "      <td>14223.877284</td>\n",
       "      <td>7.747301</td>\n",
       "      <td>0.485481</td>\n",
       "      <td>38.397940</td>\n",
       "      <td>6.279491</td>\n",
       "      <td>148.333922</td>\n",
       "      <td>17.184036</td>\n",
       "      <td>4.106954</td>\n",
       "      <td>10.103561</td>\n",
       "      <td>...</td>\n",
       "      <td>0.413805</td>\n",
       "      <td>0.911378</td>\n",
       "      <td>0.480478</td>\n",
       "      <td>0.241679</td>\n",
       "      <td>2.555516</td>\n",
       "      <td>0.60560</td>\n",
       "      <td>0.614180</td>\n",
       "      <td>1.094422</td>\n",
       "      <td>0.505556</td>\n",
       "      <td>0.061915</td>\n",
       "    </tr>\n",
       "    <tr>\n",
       "      <td>min</td>\n",
       "      <td>9.880000e+02</td>\n",
       "      <td>4.000000</td>\n",
       "      <td>1.000000</td>\n",
       "      <td>0.000000</td>\n",
       "      <td>1.000000</td>\n",
       "      <td>1.000000</td>\n",
       "      <td>1.000000</td>\n",
       "      <td>4.000000</td>\n",
       "      <td>0.000000</td>\n",
       "      <td>0.000000</td>\n",
       "      <td>...</td>\n",
       "      <td>0.000000</td>\n",
       "      <td>0.000000</td>\n",
       "      <td>0.000000</td>\n",
       "      <td>0.000000</td>\n",
       "      <td>0.000000</td>\n",
       "      <td>0.00000</td>\n",
       "      <td>0.000000</td>\n",
       "      <td>0.000000</td>\n",
       "      <td>0.000000</td>\n",
       "      <td>0.000000</td>\n",
       "    </tr>\n",
       "    <tr>\n",
       "      <td>25%</td>\n",
       "      <td>1.016866e+06</td>\n",
       "      <td>13176.000000</td>\n",
       "      <td>3.000000</td>\n",
       "      <td>0.000000</td>\n",
       "      <td>31.000000</td>\n",
       "      <td>4.000000</td>\n",
       "      <td>118.000000</td>\n",
       "      <td>7.000000</td>\n",
       "      <td>11.000000</td>\n",
       "      <td>7.000000</td>\n",
       "      <td>...</td>\n",
       "      <td>0.000000</td>\n",
       "      <td>0.000000</td>\n",
       "      <td>0.000000</td>\n",
       "      <td>0.000000</td>\n",
       "      <td>0.000000</td>\n",
       "      <td>0.00000</td>\n",
       "      <td>0.000000</td>\n",
       "      <td>0.000000</td>\n",
       "      <td>0.000000</td>\n",
       "      <td>0.000000</td>\n",
       "    </tr>\n",
       "    <tr>\n",
       "      <td>50%</td>\n",
       "      <td>1.854765e+06</td>\n",
       "      <td>25272.000000</td>\n",
       "      <td>7.000000</td>\n",
       "      <td>1.000000</td>\n",
       "      <td>83.000000</td>\n",
       "      <td>9.000000</td>\n",
       "      <td>238.000000</td>\n",
       "      <td>12.000000</td>\n",
       "      <td>13.000000</td>\n",
       "      <td>14.000000</td>\n",
       "      <td>...</td>\n",
       "      <td>0.000000</td>\n",
       "      <td>0.000000</td>\n",
       "      <td>0.000000</td>\n",
       "      <td>0.000000</td>\n",
       "      <td>1.000000</td>\n",
       "      <td>0.00000</td>\n",
       "      <td>0.000000</td>\n",
       "      <td>0.000000</td>\n",
       "      <td>0.000000</td>\n",
       "      <td>0.000000</td>\n",
       "    </tr>\n",
       "    <tr>\n",
       "      <td>75%</td>\n",
       "      <td>2.614670e+06</td>\n",
       "      <td>38178.500000</td>\n",
       "      <td>12.000000</td>\n",
       "      <td>1.000000</td>\n",
       "      <td>107.000000</td>\n",
       "      <td>16.000000</td>\n",
       "      <td>383.750000</td>\n",
       "      <td>22.000000</td>\n",
       "      <td>16.000000</td>\n",
       "      <td>30.000000</td>\n",
       "      <td>...</td>\n",
       "      <td>0.000000</td>\n",
       "      <td>0.000000</td>\n",
       "      <td>0.000000</td>\n",
       "      <td>0.000000</td>\n",
       "      <td>4.000000</td>\n",
       "      <td>0.00000</td>\n",
       "      <td>0.000000</td>\n",
       "      <td>0.000000</td>\n",
       "      <td>0.000000</td>\n",
       "      <td>0.000000</td>\n",
       "    </tr>\n",
       "    <tr>\n",
       "      <td>max</td>\n",
       "      <td>3.412247e+06</td>\n",
       "      <td>49683.000000</td>\n",
       "      <td>57.000000</td>\n",
       "      <td>1.000000</td>\n",
       "      <td>134.000000</td>\n",
       "      <td>21.000000</td>\n",
       "      <td>499.000000</td>\n",
       "      <td>100.000000</td>\n",
       "      <td>23.000000</td>\n",
       "      <td>30.000000</td>\n",
       "      <td>...</td>\n",
       "      <td>2.000000</td>\n",
       "      <td>9.000000</td>\n",
       "      <td>6.000000</td>\n",
       "      <td>4.000000</td>\n",
       "      <td>11.000000</td>\n",
       "      <td>5.00000</td>\n",
       "      <td>8.000000</td>\n",
       "      <td>7.000000</td>\n",
       "      <td>10.000000</td>\n",
       "      <td>2.000000</td>\n",
       "    </tr>\n",
       "  </tbody>\n",
       "</table>\n",
       "<p>8 rows × 38 columns</p>\n",
       "</div>"
      ],
      "text/plain": [
       "           order_id    product_id  add_to_cart_order    reordered  \\\n",
       "count  3.386000e+03   3386.000000        3386.000000  3386.000000   \n",
       "mean   1.778419e+06  25502.752215           9.029829     0.619905   \n",
       "std    9.702635e+05  14223.877284           7.747301     0.485481   \n",
       "min    9.880000e+02      4.000000           1.000000     0.000000   \n",
       "25%    1.016866e+06  13176.000000           3.000000     0.000000   \n",
       "50%    1.854765e+06  25272.000000           7.000000     1.000000   \n",
       "75%    2.614670e+06  38178.500000          12.000000     1.000000   \n",
       "max    3.412247e+06  49683.000000          57.000000     1.000000   \n",
       "\n",
       "          aisle_id  department_id      user_id  order_number  \\\n",
       "count  3386.000000    3386.000000  3386.000000   3386.000000   \n",
       "mean     71.388069       9.977850   252.418193     17.689900   \n",
       "std      38.397940       6.279491   148.333922     17.184036   \n",
       "min       1.000000       1.000000     1.000000      4.000000   \n",
       "25%      31.000000       4.000000   118.000000      7.000000   \n",
       "50%      83.000000       9.000000   238.000000     12.000000   \n",
       "75%     107.000000      16.000000   383.750000     22.000000   \n",
       "max     134.000000      21.000000   499.000000    100.000000   \n",
       "\n",
       "       order_hour_of_day  days_since_prior_order  ...  curr_dept_12_cts  \\\n",
       "count        3386.000000             3386.000000  ...       3386.000000   \n",
       "mean           13.590077               16.622859  ...          0.127880   \n",
       "std             4.106954               10.103561  ...          0.413805   \n",
       "min             0.000000                0.000000  ...          0.000000   \n",
       "25%            11.000000                7.000000  ...          0.000000   \n",
       "50%            13.000000               14.000000  ...          0.000000   \n",
       "75%            16.000000               30.000000  ...          0.000000   \n",
       "max            23.000000               30.000000  ...          2.000000   \n",
       "\n",
       "       curr_dept_13_cts  curr_dept_14_cts  curr_dept_15_cts  curr_dept_16_cts  \\\n",
       "count       3386.000000       3386.000000       3386.000000       3386.000000   \n",
       "mean           0.202894          0.101004          0.025989          2.311577   \n",
       "std            0.911378          0.480478          0.241679          2.555516   \n",
       "min            0.000000          0.000000          0.000000          0.000000   \n",
       "25%            0.000000          0.000000          0.000000          0.000000   \n",
       "50%            0.000000          0.000000          0.000000          1.000000   \n",
       "75%            0.000000          0.000000          0.000000          4.000000   \n",
       "max            9.000000          6.000000          4.000000         11.000000   \n",
       "\n",
       "       curr_dept_17_cts  curr_dept_18_cts  curr_dept_19_cts  curr_dept_20_cts  \\\n",
       "count        3386.00000       3386.000000       3386.000000       3386.000000   \n",
       "mean            0.21707          0.077082          0.505021          0.085647   \n",
       "std             0.60560          0.614180          1.094422          0.505556   \n",
       "min             0.00000          0.000000          0.000000          0.000000   \n",
       "25%             0.00000          0.000000          0.000000          0.000000   \n",
       "50%             0.00000          0.000000          0.000000          0.000000   \n",
       "75%             0.00000          0.000000          0.000000          0.000000   \n",
       "max             5.00000          8.000000          7.000000         10.000000   \n",
       "\n",
       "       curr_dept_21_cts  \n",
       "count       3386.000000  \n",
       "mean           0.002658  \n",
       "std            0.061915  \n",
       "min            0.000000  \n",
       "25%            0.000000  \n",
       "50%            0.000000  \n",
       "75%            0.000000  \n",
       "max            2.000000  \n",
       "\n",
       "[8 rows x 38 columns]"
      ]
     },
     "execution_count": 48,
     "metadata": {},
     "output_type": "execute_result"
    }
   ],
   "source": [
    "df_order_prods__train.describe()"
   ]
  },
  {
   "cell_type": "code",
   "execution_count": 49,
   "metadata": {
    "ExecuteTime": {
     "end_time": "2019-10-21T19:35:09.373205Z",
     "start_time": "2019-10-21T19:35:07.373417Z"
    }
   },
   "outputs": [],
   "source": [
    "df_order_prods__prior['cart_seen_dist'] = df_order_prods__prior.cart_seen.apply(get_cart_distribution)\n",
    "df_order_prods__train['cart_seen_dist'] = df_order_prods__train.cart_seen.apply(get_cart_distribution)"
   ]
  },
  {
   "cell_type": "code",
   "execution_count": 50,
   "metadata": {
    "ExecuteTime": {
     "end_time": "2019-10-21T19:35:13.483092Z",
     "start_time": "2019-10-21T19:35:09.962812Z"
    }
   },
   "outputs": [],
   "source": [
    "df_order_prods__prior['cart_remain_dist'] = df_order_prods__prior.cart_remain.apply(get_cart_distribution)\n",
    "df_order_prods__train['cart_remain_dist'] = df_order_prods__train.cart_remain.apply(get_cart_distribution)"
   ]
  },
  {
   "cell_type": "code",
   "execution_count": 51,
   "metadata": {
    "ExecuteTime": {
     "end_time": "2019-10-21T19:35:14.266725Z",
     "start_time": "2019-10-21T19:35:14.260140Z"
    }
   },
   "outputs": [
    {
     "data": {
      "text/plain": [
       "Index(['order_id', 'product_id', 'add_to_cart_order', 'reordered', 'aisle_id',\n",
       "       'department_id', 'department', 'user_id', 'eval_set', 'order_number',\n",
       "       'order_hour_of_day', 'days_since_prior_order', 'Sat', 'Sun', 'Mon',\n",
       "       'Tues', 'Weds', 'Thur', 'Fri', 'full_cart', 'cart_remain', 'cart_seen',\n",
       "       'curr_dept_1_cts', 'curr_dept_2_cts', 'curr_dept_3_cts',\n",
       "       'curr_dept_4_cts', 'curr_dept_5_cts', 'curr_dept_6_cts',\n",
       "       'curr_dept_7_cts', 'curr_dept_8_cts', 'curr_dept_9_cts',\n",
       "       'curr_dept_10_cts', 'curr_dept_11_cts', 'curr_dept_12_cts',\n",
       "       'curr_dept_13_cts', 'curr_dept_14_cts', 'curr_dept_15_cts',\n",
       "       'curr_dept_16_cts', 'curr_dept_17_cts', 'curr_dept_18_cts',\n",
       "       'curr_dept_19_cts', 'curr_dept_20_cts', 'curr_dept_21_cts',\n",
       "       'cart_seen_dist', 'cart_remain_dist'],\n",
       "      dtype='object')"
      ]
     },
     "execution_count": 51,
     "metadata": {},
     "output_type": "execute_result"
    }
   ],
   "source": [
    "df_order_prods__prior.columns"
   ]
  },
  {
   "cell_type": "code",
   "execution_count": 52,
   "metadata": {
    "ExecuteTime": {
     "end_time": "2019-10-21T19:35:18.058615Z",
     "start_time": "2019-10-21T19:35:17.773724Z"
    }
   },
   "outputs": [
    {
     "data": {
      "text/html": [
       "<div>\n",
       "<style scoped>\n",
       "    .dataframe tbody tr th:only-of-type {\n",
       "        vertical-align: middle;\n",
       "    }\n",
       "\n",
       "    .dataframe tbody tr th {\n",
       "        vertical-align: top;\n",
       "    }\n",
       "\n",
       "    .dataframe thead th {\n",
       "        text-align: right;\n",
       "    }\n",
       "</style>\n",
       "<table border=\"1\" class=\"dataframe\">\n",
       "  <thead>\n",
       "    <tr style=\"text-align: right;\">\n",
       "      <th></th>\n",
       "      <th>order_id</th>\n",
       "      <th>product_id</th>\n",
       "      <th>add_to_cart_order</th>\n",
       "      <th>reordered</th>\n",
       "      <th>aisle_id</th>\n",
       "      <th>department_id</th>\n",
       "      <th>user_id</th>\n",
       "      <th>order_number</th>\n",
       "      <th>order_hour_of_day</th>\n",
       "      <th>days_since_prior_order</th>\n",
       "      <th>...</th>\n",
       "      <th>curr_dept_12_cts</th>\n",
       "      <th>curr_dept_13_cts</th>\n",
       "      <th>curr_dept_14_cts</th>\n",
       "      <th>curr_dept_15_cts</th>\n",
       "      <th>curr_dept_16_cts</th>\n",
       "      <th>curr_dept_17_cts</th>\n",
       "      <th>curr_dept_18_cts</th>\n",
       "      <th>curr_dept_19_cts</th>\n",
       "      <th>curr_dept_20_cts</th>\n",
       "      <th>curr_dept_21_cts</th>\n",
       "    </tr>\n",
       "  </thead>\n",
       "  <tbody>\n",
       "    <tr>\n",
       "      <td>count</td>\n",
       "      <td>7.742500e+04</td>\n",
       "      <td>77425.000000</td>\n",
       "      <td>77425.000000</td>\n",
       "      <td>77425.000000</td>\n",
       "      <td>77425.000000</td>\n",
       "      <td>77425.000000</td>\n",
       "      <td>77425.000000</td>\n",
       "      <td>77425.000000</td>\n",
       "      <td>77425.000000</td>\n",
       "      <td>77425.00000</td>\n",
       "      <td>...</td>\n",
       "      <td>77425.000000</td>\n",
       "      <td>77425.000000</td>\n",
       "      <td>77425.000000</td>\n",
       "      <td>77425.000000</td>\n",
       "      <td>77425.000000</td>\n",
       "      <td>77425.000000</td>\n",
       "      <td>77425.000000</td>\n",
       "      <td>77425.000000</td>\n",
       "      <td>77425.000000</td>\n",
       "      <td>77425.000000</td>\n",
       "    </tr>\n",
       "    <tr>\n",
       "      <td>mean</td>\n",
       "      <td>1.696186e+06</td>\n",
       "      <td>25815.593323</td>\n",
       "      <td>8.360452</td>\n",
       "      <td>0.583687</td>\n",
       "      <td>71.339244</td>\n",
       "      <td>10.010216</td>\n",
       "      <td>260.848576</td>\n",
       "      <td>16.878579</td>\n",
       "      <td>13.520052</td>\n",
       "      <td>4.11411</td>\n",
       "      <td>...</td>\n",
       "      <td>0.068156</td>\n",
       "      <td>0.297901</td>\n",
       "      <td>0.166174</td>\n",
       "      <td>0.034227</td>\n",
       "      <td>2.143920</td>\n",
       "      <td>0.048654</td>\n",
       "      <td>0.027201</td>\n",
       "      <td>0.798721</td>\n",
       "      <td>0.069073</td>\n",
       "      <td>0.000801</td>\n",
       "    </tr>\n",
       "    <tr>\n",
       "      <td>std</td>\n",
       "      <td>9.880130e+05</td>\n",
       "      <td>14216.871937</td>\n",
       "      <td>7.193211</td>\n",
       "      <td>0.492950</td>\n",
       "      <td>38.136164</td>\n",
       "      <td>6.247321</td>\n",
       "      <td>140.175786</td>\n",
       "      <td>17.531267</td>\n",
       "      <td>4.273775</td>\n",
       "      <td>28.13042</td>\n",
       "      <td>...</td>\n",
       "      <td>0.329567</td>\n",
       "      <td>0.980790</td>\n",
       "      <td>0.481257</td>\n",
       "      <td>0.308514</td>\n",
       "      <td>2.196407</td>\n",
       "      <td>0.337818</td>\n",
       "      <td>0.481615</td>\n",
       "      <td>1.647401</td>\n",
       "      <td>0.367711</td>\n",
       "      <td>0.042211</td>\n",
       "    </tr>\n",
       "    <tr>\n",
       "      <td>min</td>\n",
       "      <td>4.000000e+01</td>\n",
       "      <td>1.000000</td>\n",
       "      <td>1.000000</td>\n",
       "      <td>0.000000</td>\n",
       "      <td>1.000000</td>\n",
       "      <td>1.000000</td>\n",
       "      <td>1.000000</td>\n",
       "      <td>1.000000</td>\n",
       "      <td>0.000000</td>\n",
       "      <td>-99.00000</td>\n",
       "      <td>...</td>\n",
       "      <td>0.000000</td>\n",
       "      <td>0.000000</td>\n",
       "      <td>0.000000</td>\n",
       "      <td>0.000000</td>\n",
       "      <td>0.000000</td>\n",
       "      <td>0.000000</td>\n",
       "      <td>0.000000</td>\n",
       "      <td>0.000000</td>\n",
       "      <td>0.000000</td>\n",
       "      <td>0.000000</td>\n",
       "    </tr>\n",
       "    <tr>\n",
       "      <td>25%</td>\n",
       "      <td>8.567530e+05</td>\n",
       "      <td>13535.000000</td>\n",
       "      <td>3.000000</td>\n",
       "      <td>0.000000</td>\n",
       "      <td>31.000000</td>\n",
       "      <td>4.000000</td>\n",
       "      <td>149.000000</td>\n",
       "      <td>5.000000</td>\n",
       "      <td>10.000000</td>\n",
       "      <td>4.00000</td>\n",
       "      <td>...</td>\n",
       "      <td>0.000000</td>\n",
       "      <td>0.000000</td>\n",
       "      <td>0.000000</td>\n",
       "      <td>0.000000</td>\n",
       "      <td>0.000000</td>\n",
       "      <td>0.000000</td>\n",
       "      <td>0.000000</td>\n",
       "      <td>0.000000</td>\n",
       "      <td>0.000000</td>\n",
       "      <td>0.000000</td>\n",
       "    </tr>\n",
       "    <tr>\n",
       "      <td>50%</td>\n",
       "      <td>1.671477e+06</td>\n",
       "      <td>25740.000000</td>\n",
       "      <td>6.000000</td>\n",
       "      <td>1.000000</td>\n",
       "      <td>83.000000</td>\n",
       "      <td>9.000000</td>\n",
       "      <td>262.000000</td>\n",
       "      <td>11.000000</td>\n",
       "      <td>13.000000</td>\n",
       "      <td>7.00000</td>\n",
       "      <td>...</td>\n",
       "      <td>0.000000</td>\n",
       "      <td>0.000000</td>\n",
       "      <td>0.000000</td>\n",
       "      <td>0.000000</td>\n",
       "      <td>2.000000</td>\n",
       "      <td>0.000000</td>\n",
       "      <td>0.000000</td>\n",
       "      <td>0.000000</td>\n",
       "      <td>0.000000</td>\n",
       "      <td>0.000000</td>\n",
       "    </tr>\n",
       "    <tr>\n",
       "      <td>75%</td>\n",
       "      <td>2.564286e+06</td>\n",
       "      <td>38293.000000</td>\n",
       "      <td>11.000000</td>\n",
       "      <td>1.000000</td>\n",
       "      <td>106.000000</td>\n",
       "      <td>16.000000</td>\n",
       "      <td>381.000000</td>\n",
       "      <td>23.000000</td>\n",
       "      <td>17.000000</td>\n",
       "      <td>14.00000</td>\n",
       "      <td>...</td>\n",
       "      <td>0.000000</td>\n",
       "      <td>0.000000</td>\n",
       "      <td>0.000000</td>\n",
       "      <td>0.000000</td>\n",
       "      <td>3.000000</td>\n",
       "      <td>0.000000</td>\n",
       "      <td>0.000000</td>\n",
       "      <td>1.000000</td>\n",
       "      <td>0.000000</td>\n",
       "      <td>0.000000</td>\n",
       "    </tr>\n",
       "    <tr>\n",
       "      <td>max</td>\n",
       "      <td>3.420572e+06</td>\n",
       "      <td>49683.000000</td>\n",
       "      <td>89.000000</td>\n",
       "      <td>1.000000</td>\n",
       "      <td>134.000000</td>\n",
       "      <td>21.000000</td>\n",
       "      <td>500.000000</td>\n",
       "      <td>99.000000</td>\n",
       "      <td>23.000000</td>\n",
       "      <td>30.00000</td>\n",
       "      <td>...</td>\n",
       "      <td>5.000000</td>\n",
       "      <td>13.000000</td>\n",
       "      <td>5.000000</td>\n",
       "      <td>8.000000</td>\n",
       "      <td>17.000000</td>\n",
       "      <td>8.000000</td>\n",
       "      <td>29.000000</td>\n",
       "      <td>21.000000</td>\n",
       "      <td>7.000000</td>\n",
       "      <td>5.000000</td>\n",
       "    </tr>\n",
       "  </tbody>\n",
       "</table>\n",
       "<p>8 rows × 38 columns</p>\n",
       "</div>"
      ],
      "text/plain": [
       "           order_id    product_id  add_to_cart_order     reordered  \\\n",
       "count  7.742500e+04  77425.000000       77425.000000  77425.000000   \n",
       "mean   1.696186e+06  25815.593323           8.360452      0.583687   \n",
       "std    9.880130e+05  14216.871937           7.193211      0.492950   \n",
       "min    4.000000e+01      1.000000           1.000000      0.000000   \n",
       "25%    8.567530e+05  13535.000000           3.000000      0.000000   \n",
       "50%    1.671477e+06  25740.000000           6.000000      1.000000   \n",
       "75%    2.564286e+06  38293.000000          11.000000      1.000000   \n",
       "max    3.420572e+06  49683.000000          89.000000      1.000000   \n",
       "\n",
       "           aisle_id  department_id       user_id  order_number  \\\n",
       "count  77425.000000   77425.000000  77425.000000  77425.000000   \n",
       "mean      71.339244      10.010216    260.848576     16.878579   \n",
       "std       38.136164       6.247321    140.175786     17.531267   \n",
       "min        1.000000       1.000000      1.000000      1.000000   \n",
       "25%       31.000000       4.000000    149.000000      5.000000   \n",
       "50%       83.000000       9.000000    262.000000     11.000000   \n",
       "75%      106.000000      16.000000    381.000000     23.000000   \n",
       "max      134.000000      21.000000    500.000000     99.000000   \n",
       "\n",
       "       order_hour_of_day  days_since_prior_order  ...  curr_dept_12_cts  \\\n",
       "count       77425.000000             77425.00000  ...      77425.000000   \n",
       "mean           13.520052                 4.11411  ...          0.068156   \n",
       "std             4.273775                28.13042  ...          0.329567   \n",
       "min             0.000000               -99.00000  ...          0.000000   \n",
       "25%            10.000000                 4.00000  ...          0.000000   \n",
       "50%            13.000000                 7.00000  ...          0.000000   \n",
       "75%            17.000000                14.00000  ...          0.000000   \n",
       "max            23.000000                30.00000  ...          5.000000   \n",
       "\n",
       "       curr_dept_13_cts  curr_dept_14_cts  curr_dept_15_cts  curr_dept_16_cts  \\\n",
       "count      77425.000000      77425.000000      77425.000000      77425.000000   \n",
       "mean           0.297901          0.166174          0.034227          2.143920   \n",
       "std            0.980790          0.481257          0.308514          2.196407   \n",
       "min            0.000000          0.000000          0.000000          0.000000   \n",
       "25%            0.000000          0.000000          0.000000          0.000000   \n",
       "50%            0.000000          0.000000          0.000000          2.000000   \n",
       "75%            0.000000          0.000000          0.000000          3.000000   \n",
       "max           13.000000          5.000000          8.000000         17.000000   \n",
       "\n",
       "       curr_dept_17_cts  curr_dept_18_cts  curr_dept_19_cts  curr_dept_20_cts  \\\n",
       "count      77425.000000      77425.000000      77425.000000      77425.000000   \n",
       "mean           0.048654          0.027201          0.798721          0.069073   \n",
       "std            0.337818          0.481615          1.647401          0.367711   \n",
       "min            0.000000          0.000000          0.000000          0.000000   \n",
       "25%            0.000000          0.000000          0.000000          0.000000   \n",
       "50%            0.000000          0.000000          0.000000          0.000000   \n",
       "75%            0.000000          0.000000          1.000000          0.000000   \n",
       "max            8.000000         29.000000         21.000000          7.000000   \n",
       "\n",
       "       curr_dept_21_cts  \n",
       "count      77425.000000  \n",
       "mean           0.000801  \n",
       "std            0.042211  \n",
       "min            0.000000  \n",
       "25%            0.000000  \n",
       "50%            0.000000  \n",
       "75%            0.000000  \n",
       "max            5.000000  \n",
       "\n",
       "[8 rows x 38 columns]"
      ]
     },
     "execution_count": 52,
     "metadata": {},
     "output_type": "execute_result"
    }
   ],
   "source": [
    "df_order_prods__prior.describe()"
   ]
  },
  {
   "cell_type": "markdown",
   "metadata": {},
   "source": [
    "## Model Selection"
   ]
  },
  {
   "cell_type": "code",
   "execution_count": 53,
   "metadata": {
    "ExecuteTime": {
     "end_time": "2019-10-21T19:35:57.874344Z",
     "start_time": "2019-10-21T19:35:57.869201Z"
    }
   },
   "outputs": [],
   "source": [
    "# columns that include prior distribution of cart:\n",
    "\n",
    "cart_dist_feature_cols = (\n",
    "    [\n",
    "#         'order_id',\n",
    "#         'product_id',\n",
    "        'add_to_cart_order', 'reordered',\n",
    "#         'aisle_id', 'department', 'user_id', 'eval_set',\n",
    "        'order_number', 'order_hour_of_day', 'days_since_prior_order',\n",
    "        'Sat', 'Sun', 'Mon', 'Tues', 'Weds', 'Thur', 'Fri',\n",
    "#         'full_cart', 'cart_remain', 'cart_seen',\n",
    "       'curr_dept_1_cts', 'curr_dept_2_cts', 'curr_dept_3_cts',\n",
    "       'curr_dept_4_cts', 'curr_dept_5_cts', 'curr_dept_6_cts',\n",
    "       'curr_dept_7_cts', 'curr_dept_8_cts', 'curr_dept_9_cts',\n",
    "       'curr_dept_10_cts', 'curr_dept_11_cts', 'curr_dept_12_cts',\n",
    "       'curr_dept_13_cts', 'curr_dept_14_cts', 'curr_dept_15_cts',\n",
    "       'curr_dept_16_cts', 'curr_dept_17_cts', 'curr_dept_18_cts',\n",
    "       'curr_dept_19_cts', 'curr_dept_20_cts', 'curr_dept_21_cts',\n",
    "        'department_id'\n",
    "    ]\n",
    ")"
   ]
  },
  {
   "cell_type": "code",
   "execution_count": 54,
   "metadata": {
    "ExecuteTime": {
     "end_time": "2019-10-21T19:35:59.533575Z",
     "start_time": "2019-10-21T19:35:59.520136Z"
    }
   },
   "outputs": [],
   "source": [
    "X_train = df_order_prods__prior[cart_dist_feature_cols]\n",
    "y_train = df_order_prods__prior['department']"
   ]
  },
  {
   "cell_type": "code",
   "execution_count": 55,
   "metadata": {
    "ExecuteTime": {
     "end_time": "2019-10-21T19:36:02.102460Z",
     "start_time": "2019-10-21T19:36:02.095568Z"
    }
   },
   "outputs": [],
   "source": [
    "X_test = df_order_prods__train[cart_dist_feature_cols]\n",
    "y_test = df_order_prods__train['cart_remain_dist']"
   ]
  },
  {
   "cell_type": "markdown",
   "metadata": {},
   "source": [
    "### Gaussian Naive Bayes"
   ]
  },
  {
   "cell_type": "code",
   "execution_count": 56,
   "metadata": {
    "ExecuteTime": {
     "end_time": "2019-10-21T19:36:05.996663Z",
     "start_time": "2019-10-21T19:36:05.290264Z"
    },
    "scrolled": true
   },
   "outputs": [
    {
     "name": "stdout",
     "output_type": "stream",
     "text": [
      "Gaussian Naive Bayes Cart Average MAE:  1.9087292932465354\n"
     ]
    }
   ],
   "source": [
    "# Gaussian Naive Bayes\n",
    "\n",
    "gnb = GaussianNB()\n",
    "gnb.fit(X_train, y_train)\n",
    "# accuracy = gnb.score(X_test, y_test) \n",
    "X_test_pred_proba = gnb.predict_proba(X_test)\n",
    "\n",
    "cart_dept_error = EvaluateDepartmentPredictionError(X_test_pred_proba,y_test)\n",
    "\n",
    "print('Gaussian Naive Bayes Cart Average MAE: ', cart_dept_error)\n",
    "# gnb_preds = gnb.predict(X_test) \n",
    "# cm = confusion_matrix(y_test, gnb_preds)\n",
    "# sns.heatmap(cm)"
   ]
  },
  {
   "cell_type": "markdown",
   "metadata": {},
   "source": [
    "### KNN"
   ]
  },
  {
   "cell_type": "code",
   "execution_count": 57,
   "metadata": {
    "ExecuteTime": {
     "end_time": "2019-10-21T19:36:09.307815Z",
     "start_time": "2019-10-21T19:36:07.530532Z"
    }
   },
   "outputs": [
    {
     "name": "stdout",
     "output_type": "stream",
     "text": [
      "KNN MAE / Distance:  1.7815693233816319\n"
     ]
    }
   ],
   "source": [
    "knn = KNeighborsClassifier(n_neighbors = 50)\n",
    "knn.fit(X_train, y_train)\n",
    "\n",
    "X_test_pred_proba = knn.predict_proba(X_test)\n",
    "cart_dept_error = EvaluateDepartmentPredictionError(X_test_pred_proba,y_test)\n",
    "\n",
    "print('KNN MAE / Distance: ', cart_dept_error)"
   ]
  },
  {
   "cell_type": "code",
   "execution_count": 58,
   "metadata": {
    "ExecuteTime": {
     "end_time": "2019-10-21T19:36:12.060749Z",
     "start_time": "2019-10-21T19:36:10.129296Z"
    }
   },
   "outputs": [
    {
     "name": "stdout",
     "output_type": "stream",
     "text": [
      "KNN MAE / Distance:  1.7841653492328247\n"
     ]
    }
   ],
   "source": [
    "knn = KNeighborsClassifier(n_neighbors = 50, weights='distance')\n",
    "knn.fit(X_train, y_train)\n",
    "\n",
    "X_test_pred_proba = knn.predict_proba(X_test)\n",
    "cart_dept_error = EvaluateDepartmentPredictionError(X_test_pred_proba,y_test)\n",
    "\n",
    "print('KNN MAE / Distance: ', cart_dept_error)"
   ]
  },
  {
   "cell_type": "code",
   "execution_count": 59,
   "metadata": {
    "ExecuteTime": {
     "end_time": "2019-10-21T19:36:14.249645Z",
     "start_time": "2019-10-21T19:36:12.979482Z"
    }
   },
   "outputs": [
    {
     "name": "stdout",
     "output_type": "stream",
     "text": [
      "KNN MAE / Distance:  1.8443506050353304\n"
     ]
    }
   ],
   "source": [
    "knn = KNeighborsClassifier(n_neighbors = 5, weights='distance')\n",
    "knn.fit(X_train, y_train)\n",
    "\n",
    "X_test_pred_proba = knn.predict_proba(X_test)\n",
    "cart_dept_error = EvaluateDepartmentPredictionError(X_test_pred_proba,y_test)\n",
    "\n",
    "print('KNN MAE / Distance: ', cart_dept_error)"
   ]
  },
  {
   "cell_type": "code",
   "execution_count": 60,
   "metadata": {
    "ExecuteTime": {
     "end_time": "2019-10-21T19:37:30.618137Z",
     "start_time": "2019-10-21T19:36:15.450250Z"
    }
   },
   "outputs": [],
   "source": [
    "# KNN\n",
    "knn_error = []\n",
    "for n_neighbors in range(1,50):\n",
    "    knn = KNeighborsClassifier(n_neighbors = n_neighbors)\n",
    "    knn.fit(X_train, y_train)\n",
    "    \n",
    "#     accuracy = knn.score(X_test, y_test) \n",
    "#     print(f'KNN {n_neighbors} accuracy = ', accuracy)\n",
    "\n",
    "    X_test_pred_proba = knn.predict_proba(X_test)\n",
    "    cart_dept_error = EvaluateDepartmentPredictionError(X_test_pred_proba,y_test)\n",
    "    \n",
    "    knn_error += [[n_neighbors, cart_dept_error]]\n",
    "                 "
   ]
  },
  {
   "cell_type": "code",
   "execution_count": 62,
   "metadata": {
    "ExecuteTime": {
     "end_time": "2019-10-21T19:38:09.963341Z",
     "start_time": "2019-10-21T19:38:09.498256Z"
    },
    "scrolled": false
   },
   "outputs": [
    {
     "data": {
      "image/png": "[encoded data removed]",
      "text/plain": [
       "<Figure size 1080x504 with 1 Axes>"
      ]
     },
     "metadata": {},
     "output_type": "display_data"
    }
   ],
   "source": [
    "knn_error = pd.DataFrame(data=knn_error, columns=['N', 'MAE'])\n",
    "\n",
    "fig, ax = plt.subplots(figsize=(15,7))\n",
    "sns.lineplot(x='N', y='MAE', data=knn_error)\n",
    "plt.title('Time / DOW; Department Classifiers Only - KNN Neighbor Sizes vs. Pseudo-MSE');"
   ]
  },
  {
   "cell_type": "markdown",
   "metadata": {},
   "source": [
    "### Random Forest"
   ]
  },
  {
   "cell_type": "code",
   "execution_count": 67,
   "metadata": {
    "ExecuteTime": {
     "end_time": "2019-10-21T20:15:01.903492Z",
     "start_time": "2019-10-21T20:14:53.170976Z"
    }
   },
   "outputs": [
    {
     "data": {
      "text/plain": [
       "RandomForestClassifier(bootstrap=True, class_weight=None, criterion='gini',\n",
       "                       max_depth=None, max_features='auto', max_leaf_nodes=None,\n",
       "                       min_impurity_decrease=0.0, min_impurity_split=None,\n",
       "                       min_samples_leaf=1, min_samples_split=2,\n",
       "                       min_weight_fraction_leaf=0.0, n_estimators=100,\n",
       "                       n_jobs=None, oob_score=False, random_state=None,\n",
       "                       verbose=0, warm_start=False)"
      ]
     },
     "execution_count": 67,
     "metadata": {},
     "output_type": "execute_result"
    }
   ],
   "source": [
    "rf_model = RandomForestClassifier(n_estimators=100, )\n",
    "rf_model.fit(X_train, y_train)"
   ]
  },
  {
   "cell_type": "code",
   "execution_count": 68,
   "metadata": {
    "ExecuteTime": {
     "end_time": "2019-10-21T20:15:03.470774Z",
     "start_time": "2019-10-21T20:15:02.807137Z"
    }
   },
   "outputs": [
    {
     "name": "stdout",
     "output_type": "stream",
     "text": [
      "Random Forest MAE, trees=100:  1.8080104106966122\n"
     ]
    }
   ],
   "source": [
    "X_test_pred_proba = rf_model.predict_proba(X_test)\n",
    "rf_error = EvaluateDepartmentPredictionError(X_test_pred_proba,y_test)\n",
    "print(f'Random Forest MAE, trees={100}: ', rf_error)"
   ]
  },
  {
   "cell_type": "markdown",
   "metadata": {},
   "source": [
    "### Decision Tree"
   ]
  },
  {
   "cell_type": "code",
   "execution_count": 379,
   "metadata": {
    "ExecuteTime": {
     "end_time": "2019-10-21T02:57:38.290935Z",
     "start_time": "2019-10-21T02:57:31.749953Z"
    }
   },
   "outputs": [
    {
     "name": "stdout",
     "output_type": "stream",
     "text": [
      "Decision Tree MAE, depth 1:  1.7278634213247839\n",
      "Decision Tree MAE, depth 2:  1.7986315964503814\n",
      "Decision Tree MAE, depth 3:  1.859052972065118\n",
      "Decision Tree MAE, depth 4:  1.8850958474385713\n",
      "Decision Tree MAE, depth 5:  1.8992222716275087\n",
      "Decision Tree MAE, depth 6:  1.9048307877570574\n",
      "Decision Tree MAE, depth 7:  1.9050934905017614\n",
      "Decision Tree MAE, depth 8:  1.9074173797100276\n",
      "Decision Tree MAE, depth 9:  1.9087292932465514\n",
      "Decision Tree MAE, depth 10:  1.9087292932465514\n",
      "Decision Tree MAE, depth 11:  1.9087292932465514\n"
     ]
    },
    {
     "ename": "KeyboardInterrupt",
     "evalue": "",
     "output_type": "error",
     "traceback": [
      "\u001b[0;31m---------------------------------------------------------------------------\u001b[0m",
      "\u001b[0;31mKeyboardInterrupt\u001b[0m                         Traceback (most recent call last)",
      "\u001b[0;32m<ipython-input-379-7b962bd4f080>\u001b[0m in \u001b[0;36m<module>\u001b[0;34m\u001b[0m\n\u001b[1;32m      4\u001b[0m     \u001b[0;31m#     dtree_preds = dtree_model.predict(X_test)\u001b[0m\u001b[0;34m\u001b[0m\u001b[0;34m\u001b[0m\u001b[0;34m\u001b[0m\u001b[0m\n\u001b[1;32m      5\u001b[0m     \u001b[0mX_test_pred_proba\u001b[0m \u001b[0;34m=\u001b[0m \u001b[0mdtree_model\u001b[0m\u001b[0;34m.\u001b[0m\u001b[0mpredict_proba\u001b[0m\u001b[0;34m(\u001b[0m\u001b[0mX_test\u001b[0m\u001b[0;34m)\u001b[0m\u001b[0;34m\u001b[0m\u001b[0;34m\u001b[0m\u001b[0m\n\u001b[0;32m----> 6\u001b[0;31m     \u001b[0mdtree_error\u001b[0m \u001b[0;34m=\u001b[0m \u001b[0mEvaluateDepartmentPredictionError\u001b[0m\u001b[0;34m(\u001b[0m\u001b[0mX_test_pred_proba\u001b[0m\u001b[0;34m,\u001b[0m\u001b[0my_test\u001b[0m\u001b[0;34m)\u001b[0m\u001b[0;34m\u001b[0m\u001b[0;34m\u001b[0m\u001b[0m\n\u001b[0m\u001b[1;32m      7\u001b[0m \u001b[0;34m\u001b[0m\u001b[0m\n\u001b[1;32m      8\u001b[0m     \u001b[0mprint\u001b[0m\u001b[0;34m(\u001b[0m\u001b[0;34mf'Decision Tree MAE, depth {max_depth}: '\u001b[0m\u001b[0;34m,\u001b[0m \u001b[0mdtree_error\u001b[0m\u001b[0;34m)\u001b[0m\u001b[0;34m\u001b[0m\u001b[0;34m\u001b[0m\u001b[0m\n",
      "\u001b[0;32m<ipython-input-293-9df51271a11e>\u001b[0m in \u001b[0;36mEvaluateDepartmentPredictionError\u001b[0;34m(pred_proba, actual_dist, method, cart_est_depth, voting_thresh)\u001b[0m\n\u001b[1;32m     85\u001b[0m \u001b[0;34m\u001b[0m\u001b[0m\n\u001b[1;32m     86\u001b[0m         \u001b[0mpred\u001b[0m \u001b[0;34m=\u001b[0m \u001b[0mpred_proba\u001b[0m\u001b[0;34m[\u001b[0m\u001b[0mi\u001b[0m\u001b[0;34m]\u001b[0m\u001b[0;34m\u001b[0m\u001b[0;34m\u001b[0m\u001b[0m\n\u001b[0;32m---> 87\u001b[0;31m         \u001b[0mactual\u001b[0m \u001b[0;34m=\u001b[0m \u001b[0mnp\u001b[0m\u001b[0;34m.\u001b[0m\u001b[0marray\u001b[0m\u001b[0;34m(\u001b[0m\u001b[0mactual_dist\u001b[0m\u001b[0;34m)\u001b[0m\u001b[0;34m[\u001b[0m\u001b[0mi\u001b[0m\u001b[0;34m]\u001b[0m\u001b[0;34m\u001b[0m\u001b[0;34m\u001b[0m\u001b[0m\n\u001b[0m\u001b[1;32m     88\u001b[0m \u001b[0;34m\u001b[0m\u001b[0m\n\u001b[1;32m     89\u001b[0m         \u001b[0;32mif\u001b[0m \u001b[0mmethod\u001b[0m\u001b[0;34m==\u001b[0m\u001b[0;34m'Euclidean'\u001b[0m\u001b[0;34m:\u001b[0m\u001b[0;34m\u001b[0m\u001b[0;34m\u001b[0m\u001b[0m\n",
      "\u001b[0;31mKeyboardInterrupt\u001b[0m: "
     ]
    }
   ],
   "source": [
    "for max_depth in range(1,15,1):\n",
    "    dtree_model = DecisionTreeClassifier(max_depth = max_depth)\n",
    "    dtree_model.fit(X_train, y_train) \n",
    "    #     dtree_preds = dtree_model.predict(X_test)\n",
    "    X_test_pred_proba = dtree_model.predict_proba(X_test)\n",
    "    dtree_error = EvaluateDepartmentPredictionError(X_test_pred_proba,y_test)\n",
    "\n",
    "    print(f'Decision Tree MAE, depth {max_depth}: ', dtree_error)"
   ]
  },
  {
   "cell_type": "markdown",
   "metadata": {},
   "source": [
    "# User Profiles"
   ]
  },
  {
   "cell_type": "markdown",
   "metadata": {},
   "source": [
    "## Initialize User Dataframe"
   ]
  },
  {
   "cell_type": "code",
   "execution_count": 73,
   "metadata": {
    "ExecuteTime": {
     "end_time": "2019-10-21T20:22:14.193217Z",
     "start_time": "2019-10-21T20:22:14.185474Z"
    },
    "code_folding": [],
    "scrolled": true
   },
   "outputs": [
    {
     "data": {
      "text/html": [
       "<div>\n",
       "<style scoped>\n",
       "    .dataframe tbody tr th:only-of-type {\n",
       "        vertical-align: middle;\n",
       "    }\n",
       "\n",
       "    .dataframe tbody tr th {\n",
       "        vertical-align: top;\n",
       "    }\n",
       "\n",
       "    .dataframe thead th {\n",
       "        text-align: right;\n",
       "    }\n",
       "</style>\n",
       "<table border=\"1\" class=\"dataframe\">\n",
       "  <thead>\n",
       "    <tr style=\"text-align: right;\">\n",
       "      <th></th>\n",
       "      <th>user_id</th>\n",
       "    </tr>\n",
       "  </thead>\n",
       "  <tbody>\n",
       "    <tr>\n",
       "      <td>0</td>\n",
       "      <td>1</td>\n",
       "    </tr>\n",
       "    <tr>\n",
       "      <td>1</td>\n",
       "      <td>2</td>\n",
       "    </tr>\n",
       "    <tr>\n",
       "      <td>2</td>\n",
       "      <td>3</td>\n",
       "    </tr>\n",
       "  </tbody>\n",
       "</table>\n",
       "</div>"
      ],
      "text/plain": [
       "   user_id\n",
       "0        1\n",
       "1        2\n",
       "2        3"
      ]
     },
     "execution_count": 73,
     "metadata": {},
     "output_type": "execute_result"
    }
   ],
   "source": [
    "# Create a users database with some historical information for each user\n",
    "\n",
    "df_user_profs = pd.DataFrame()\n",
    "df_user_profs['user_id'] = user_subset\n",
    "# df_user_profs.set_index('user_id', inplace=True)\n",
    "df_user_profs.head(3)"
   ]
  },
  {
   "cell_type": "markdown",
   "metadata": {},
   "source": [
    "## Generate High-level User Features"
   ]
  },
  {
   "cell_type": "markdown",
   "metadata": {},
   "source": [
    "### User Order History : `order_id_history` (User)"
   ]
  },
  {
   "cell_type": "code",
   "execution_count": 74,
   "metadata": {
    "ExecuteTime": {
     "end_time": "2019-10-21T20:22:15.787752Z",
     "start_time": "2019-10-21T20:22:15.784108Z"
    }
   },
   "outputs": [],
   "source": [
    "def query_user_order_history(user_id, df_orders_log):\n",
    "    '''\n",
    "    \n",
    "    Return an ordered list of tuples,\n",
    "    e.g. [(1, order_id_1), ... , (latest_order_number, latest_order_id)]\n",
    "    \n",
    "    '''\n",
    "    \n",
    "    user_orders = df_orders_log[df_orders_log.user_id == user_id]\n",
    "    \n",
    "    return (user_orders[['order_number', 'order_id']]).to_numpy()\n",
    " "
   ]
  },
  {
   "cell_type": "code",
   "execution_count": 75,
   "metadata": {
    "ExecuteTime": {
     "end_time": "2019-10-21T20:22:17.515988Z",
     "start_time": "2019-10-21T20:22:16.757169Z"
    }
   },
   "outputs": [],
   "source": [
    "df_user_profs['order_id_history'] = df_user_profs.user_id.apply(\n",
    "    query_user_order_history, df_orders_log=df_orders_log\n",
    ")"
   ]
  },
  {
   "cell_type": "code",
   "execution_count": 27,
   "metadata": {
    "ExecuteTime": {
     "end_time": "2019-10-18T19:16:05.826594Z",
     "start_time": "2019-10-18T19:16:05.816954Z"
    }
   },
   "outputs": [
    {
     "data": {
      "text/html": [
       "<div>\n",
       "<style scoped>\n",
       "    .dataframe tbody tr th:only-of-type {\n",
       "        vertical-align: middle;\n",
       "    }\n",
       "\n",
       "    .dataframe tbody tr th {\n",
       "        vertical-align: top;\n",
       "    }\n",
       "\n",
       "    .dataframe thead th {\n",
       "        text-align: right;\n",
       "    }\n",
       "</style>\n",
       "<table border=\"1\" class=\"dataframe\">\n",
       "  <thead>\n",
       "    <tr style=\"text-align: right;\">\n",
       "      <th></th>\n",
       "      <th>user_id</th>\n",
       "      <th>order_id_history</th>\n",
       "    </tr>\n",
       "  </thead>\n",
       "  <tbody>\n",
       "    <tr>\n",
       "      <td>0</td>\n",
       "      <td>1</td>\n",
       "      <td>[[1, 2539329], [2, 2398795], [3, 473747], [4, ...</td>\n",
       "    </tr>\n",
       "  </tbody>\n",
       "</table>\n",
       "</div>"
      ],
      "text/plain": [
       "   user_id                                   order_id_history\n",
       "0        1  [[1, 2539329], [2, 2398795], [3, 473747], [4, ..."
      ]
     },
     "execution_count": 27,
     "metadata": {},
     "output_type": "execute_result"
    }
   ],
   "source": [
    "df_user_profs.head(1)"
   ]
  },
  {
   "cell_type": "markdown",
   "metadata": {},
   "source": [
    "### Unique Order Count (User)"
   ]
  },
  {
   "cell_type": "code",
   "execution_count": 28,
   "metadata": {
    "ExecuteTime": {
     "end_time": "2019-10-18T19:16:06.752928Z",
     "start_time": "2019-10-18T19:16:06.736749Z"
    },
    "scrolled": false
   },
   "outputs": [
    {
     "data": {
      "text/html": [
       "<div>\n",
       "<style scoped>\n",
       "    .dataframe tbody tr th:only-of-type {\n",
       "        vertical-align: middle;\n",
       "    }\n",
       "\n",
       "    .dataframe tbody tr th {\n",
       "        vertical-align: top;\n",
       "    }\n",
       "\n",
       "    .dataframe thead th {\n",
       "        text-align: right;\n",
       "    }\n",
       "</style>\n",
       "<table border=\"1\" class=\"dataframe\">\n",
       "  <thead>\n",
       "    <tr style=\"text-align: right;\">\n",
       "      <th></th>\n",
       "      <th>user_id</th>\n",
       "      <th>order_id_history</th>\n",
       "      <th>num_orders</th>\n",
       "    </tr>\n",
       "  </thead>\n",
       "  <tbody>\n",
       "    <tr>\n",
       "      <td>0</td>\n",
       "      <td>1</td>\n",
       "      <td>[[1, 2539329], [2, 2398795], [3, 473747], [4, ...</td>\n",
       "      <td>11</td>\n",
       "    </tr>\n",
       "    <tr>\n",
       "      <td>1</td>\n",
       "      <td>2</td>\n",
       "      <td>[[1, 2168274], [2, 1501582], [3, 1901567], [4,...</td>\n",
       "      <td>15</td>\n",
       "    </tr>\n",
       "  </tbody>\n",
       "</table>\n",
       "</div>"
      ],
      "text/plain": [
       "   user_id                                   order_id_history  num_orders\n",
       "0        1  [[1, 2539329], [2, 2398795], [3, 473747], [4, ...          11\n",
       "1        2  [[1, 2168274], [2, 1501582], [3, 1901567], [4,...          15"
      ]
     },
     "execution_count": 28,
     "metadata": {},
     "output_type": "execute_result"
    }
   ],
   "source": [
    "df_user_profs['num_orders'] = df_user_profs.order_id_history.apply(lambda x: len(x))\n",
    "df_user_profs.head(2)"
   ]
  },
  {
   "cell_type": "markdown",
   "metadata": {},
   "source": [
    "### Order Sizes (User)"
   ]
  },
  {
   "cell_type": "code",
   "execution_count": 29,
   "metadata": {
    "ExecuteTime": {
     "end_time": "2019-10-18T19:16:07.397274Z",
     "start_time": "2019-10-18T19:16:07.386626Z"
    }
   },
   "outputs": [
    {
     "data": {
      "text/plain": [
       "order_id\n",
       "2539329    5\n",
       "Name: product_id, dtype: int64"
      ]
     },
     "execution_count": 29,
     "metadata": {},
     "output_type": "execute_result"
    }
   ],
   "source": [
    "(df_order_prods__prior[df_order_prods__prior.order_id == 2539329]\n",
    "                              .groupby('order_id')\n",
    ").agg('nunique')['product_id']"
   ]
  },
  {
   "cell_type": "code",
   "execution_count": 30,
   "metadata": {
    "ExecuteTime": {
     "end_time": "2019-10-18T19:16:09.752615Z",
     "start_time": "2019-10-18T19:16:07.699055Z"
    },
    "scrolled": true
   },
   "outputs": [
    {
     "data": {
      "text/html": [
       "<div>\n",
       "<style scoped>\n",
       "    .dataframe tbody tr th:only-of-type {\n",
       "        vertical-align: middle;\n",
       "    }\n",
       "\n",
       "    .dataframe tbody tr th {\n",
       "        vertical-align: top;\n",
       "    }\n",
       "\n",
       "    .dataframe thead th {\n",
       "        text-align: right;\n",
       "    }\n",
       "</style>\n",
       "<table border=\"1\" class=\"dataframe\">\n",
       "  <thead>\n",
       "    <tr style=\"text-align: right;\">\n",
       "      <th></th>\n",
       "      <th>user_id</th>\n",
       "      <th>order_id_history</th>\n",
       "      <th>num_orders</th>\n",
       "      <th>avg_order_size</th>\n",
       "    </tr>\n",
       "  </thead>\n",
       "  <tbody>\n",
       "    <tr>\n",
       "      <td>0</td>\n",
       "      <td>1</td>\n",
       "      <td>[[1, 2539329], [2, 2398795], [3, 473747], [4, ...</td>\n",
       "      <td>11</td>\n",
       "      <td>5.900000</td>\n",
       "    </tr>\n",
       "    <tr>\n",
       "      <td>1</td>\n",
       "      <td>2</td>\n",
       "      <td>[[1, 2168274], [2, 1501582], [3, 1901567], [4,...</td>\n",
       "      <td>15</td>\n",
       "      <td>13.928571</td>\n",
       "    </tr>\n",
       "    <tr>\n",
       "      <td>2</td>\n",
       "      <td>3</td>\n",
       "      <td>[[1, 1374495], [2, 444309], [3, 3002854], [4, ...</td>\n",
       "      <td>13</td>\n",
       "      <td>7.333333</td>\n",
       "    </tr>\n",
       "    <tr>\n",
       "      <td>3</td>\n",
       "      <td>4</td>\n",
       "      <td>[[1, 3343014], [2, 2030307], [3, 691089], [4, ...</td>\n",
       "      <td>6</td>\n",
       "      <td>3.600000</td>\n",
       "    </tr>\n",
       "    <tr>\n",
       "      <td>4</td>\n",
       "      <td>5</td>\n",
       "      <td>[[1, 2717275], [2, 1909121], [3, 2267326], [4,...</td>\n",
       "      <td>5</td>\n",
       "      <td>9.250000</td>\n",
       "    </tr>\n",
       "  </tbody>\n",
       "</table>\n",
       "</div>"
      ],
      "text/plain": [
       "   user_id                                   order_id_history  num_orders  \\\n",
       "0        1  [[1, 2539329], [2, 2398795], [3, 473747], [4, ...          11   \n",
       "1        2  [[1, 2168274], [2, 1501582], [3, 1901567], [4,...          15   \n",
       "2        3  [[1, 1374495], [2, 444309], [3, 3002854], [4, ...          13   \n",
       "3        4  [[1, 3343014], [2, 2030307], [3, 691089], [4, ...           6   \n",
       "4        5  [[1, 2717275], [2, 1909121], [3, 2267326], [4,...           5   \n",
       "\n",
       "   avg_order_size  \n",
       "0        5.900000  \n",
       "1       13.928571  \n",
       "2        7.333333  \n",
       "3        3.600000  \n",
       "4        9.250000  "
      ]
     },
     "execution_count": 30,
     "metadata": {},
     "output_type": "execute_result"
    }
   ],
   "source": [
    "## Average Order Sizes by User ##\n",
    "\n",
    "run_limit = 5\n",
    "run_count = 0\n",
    "\n",
    "def avg_user_order_sizes(order_id_history, df_order_prods):\n",
    "    \n",
    "#     global run_count\n",
    "#     global run_limit\n",
    "    \n",
    "#     run_count += 1\n",
    "#     if run_count > run_limit:\n",
    "#         return 0\n",
    "\n",
    "    \n",
    "#     print(order_id_history)\n",
    "    order_id_list = order_id_history[:,1]\n",
    "#     print(order_id_list)\n",
    "#     print(type(order_id_list))\n",
    "\n",
    "    avg_order_size = (\n",
    "        df_order_prods[df_order_prods.order_id.isin(order_id_list)]              \n",
    "        .groupby('order_id')\n",
    "        .agg('nunique')\n",
    "    ).mean()['product_id']\n",
    "\n",
    "#     print(avg_order_size)\n",
    "    return avg_order_size\n",
    "\n",
    "df_user_profs['avg_order_size'] = (df_user_profs.order_id_history\n",
    "                                    .apply(avg_user_order_sizes, df_order_prods=df_order_prods__prior)\n",
    "                                   )\n",
    "\n",
    "df_user_profs.head()"
   ]
  },
  {
   "cell_type": "markdown",
   "metadata": {},
   "source": [
    "### Department Affinity – Occurence (User)"
   ]
  },
  {
   "cell_type": "markdown",
   "metadata": {},
   "source": [
    "Calculate support for the total products ordered from each department_id."
   ]
  },
  {
   "cell_type": "code",
   "execution_count": 80,
   "metadata": {
    "ExecuteTime": {
     "end_time": "2019-10-21T20:23:59.019637Z",
     "start_time": "2019-10-21T20:23:58.999707Z"
    }
   },
   "outputs": [
    {
     "data": {
      "text/plain": [
       "user_id  department_id\n",
       "1        19               22\n",
       "         7                13\n",
       "         16               13\n",
       "         4                 5\n",
       "         14                3\n",
       "                          ..\n",
       "500      16                4\n",
       "         1                 3\n",
       "         11                2\n",
       "         13                1\n",
       "         15                1\n",
       "Name: department_id, Length: 5425, dtype: int64"
      ]
     },
     "execution_count": 80,
     "metadata": {},
     "output_type": "execute_result"
    }
   ],
   "source": [
    "df_order_prods__prior.groupby('user_id')['department_id'].value_counts()"
   ]
  },
  {
   "cell_type": "code",
   "execution_count": 33,
   "metadata": {
    "ExecuteTime": {
     "end_time": "2019-10-18T19:20:30.495049Z",
     "start_time": "2019-10-18T19:20:30.491527Z"
    }
   },
   "outputs": [
    {
     "ename": "SyntaxError",
     "evalue": "invalid syntax (<ipython-input-33-9bcb8f1ca6d2>, line 1)",
     "output_type": "error",
     "traceback": [
      "\u001b[0;36m  File \u001b[0;32m\"<ipython-input-33-9bcb8f1ca6d2>\"\u001b[0;36m, line \u001b[0;32m1\u001b[0m\n\u001b[0;31m    def order_department_visits(order_id)\u001b[0m\n\u001b[0m                                         ^\u001b[0m\n\u001b[0;31mSyntaxError\u001b[0m\u001b[0;31m:\u001b[0m invalid syntax\n"
     ]
    }
   ],
   "source": [
    "def order_department_visits(user_id):\n",
    "    '''\n",
    "    \n",
    "    Given an order_id, look up the order,\n",
    "    and calculate the total number of visits to each department.\n",
    "    Return a vector the length of the number of departments.\n",
    "    \n",
    "    '''\n",
    "    \n",
    "    product_list"
   ]
  },
  {
   "cell_type": "code",
   "execution_count": 31,
   "metadata": {
    "ExecuteTime": {
     "end_time": "2019-10-18T19:16:09.887933Z",
     "start_time": "2019-10-18T19:16:09.881057Z"
    }
   },
   "outputs": [
    {
     "ename": "IndentationError",
     "evalue": "expected an indented block (<ipython-input-31-22e956197d1d>, line 21)",
     "output_type": "error",
     "traceback": [
      "\u001b[0;36m  File \u001b[0;32m\"<ipython-input-31-22e956197d1d>\"\u001b[0;36m, line \u001b[0;32m21\u001b[0m\n\u001b[0;31m    return order_sizes\u001b[0m\n\u001b[0m         ^\u001b[0m\n\u001b[0;31mIndentationError\u001b[0m\u001b[0;31m:\u001b[0m expected an indented block\n"
     ]
    }
   ],
   "source": [
    "# Create a dictionary with department IDs as keys\n",
    "# each value is the number of unique department check-ins.\n",
    "# i.e. An order with two products from the same department\n",
    "# should count as 1 unique check-in.\n",
    "\n",
    "user_hist['dept_dict'] = dict(zip(depts.department_id.values,0*depts.department_id.values))\n",
    "\n",
    "def department(user_id, orders, order_prods, subset='prior'):\n",
    "    \n",
    "    user_orders = orders[(orders.user_id == user_id) & (orders.eval_set == subset)]\n",
    "    \n",
    "    gb_order = user_orders.groupby('order_id')\n",
    "    \n",
    "    \n",
    "    \n",
    "    for group in gb_order:\n",
    "        \n",
    "        \n",
    "    \n",
    "    \n",
    "    return order_sizes\n",
    "\n",
    "\n",
    "user_hist['prior_order_sizes'] = pd.Series(user_hist.index.values).apply(\n",
    "    order_sizes,\n",
    "    orders=orders,\n",
    "    order_prods=all_order_prods\n",
    ")"
   ]
  },
  {
   "cell_type": "markdown",
   "metadata": {},
   "source": [
    "# Department Profiles"
   ]
  },
  {
   "cell_type": "code",
   "execution_count": 455,
   "metadata": {
    "ExecuteTime": {
     "end_time": "2019-10-18T02:08:13.369638Z",
     "start_time": "2019-10-18T02:08:13.365362Z"
    }
   },
   "outputs": [],
   "source": [
    "# Create a department profile dataframe\n",
    "\n",
    "df_dept_profs = pd.DataFrame()\n",
    "df_dept_profs['department_id'] = df_dept_index.department_id"
   ]
  },
  {
   "cell_type": "code",
   "execution_count": 456,
   "metadata": {
    "ExecuteTime": {
     "end_time": "2019-10-18T02:08:14.060312Z",
     "start_time": "2019-10-18T02:08:14.054152Z"
    }
   },
   "outputs": [
    {
     "data": {
      "text/html": [
       "<div>\n",
       "<style scoped>\n",
       "    .dataframe tbody tr th:only-of-type {\n",
       "        vertical-align: middle;\n",
       "    }\n",
       "\n",
       "    .dataframe tbody tr th {\n",
       "        vertical-align: top;\n",
       "    }\n",
       "\n",
       "    .dataframe thead th {\n",
       "        text-align: right;\n",
       "    }\n",
       "</style>\n",
       "<table border=\"1\" class=\"dataframe\">\n",
       "  <thead>\n",
       "    <tr style=\"text-align: right;\">\n",
       "      <th></th>\n",
       "      <th>department_id</th>\n",
       "    </tr>\n",
       "  </thead>\n",
       "  <tbody>\n",
       "    <tr>\n",
       "      <td>0</td>\n",
       "      <td>1</td>\n",
       "    </tr>\n",
       "    <tr>\n",
       "      <td>1</td>\n",
       "      <td>2</td>\n",
       "    </tr>\n",
       "  </tbody>\n",
       "</table>\n",
       "</div>"
      ],
      "text/plain": [
       "   department_id\n",
       "0              1\n",
       "1              2"
      ]
     },
     "execution_count": 456,
     "metadata": {},
     "output_type": "execute_result"
    }
   ],
   "source": [
    "df_dept_profs.head(2)"
   ]
  },
  {
   "cell_type": "markdown",
   "metadata": {
    "heading_collapsed": true
   },
   "source": [
    "### Orders / Department"
   ]
  },
  {
   "cell_type": "code",
   "execution_count": 458,
   "metadata": {
    "ExecuteTime": {
     "end_time": "2019-10-18T02:09:06.172883Z",
     "start_time": "2019-10-18T02:09:06.123415Z"
    },
    "hidden": true
   },
   "outputs": [
    {
     "data": {
      "text/html": [
       "<div>\n",
       "<style scoped>\n",
       "    .dataframe tbody tr th:only-of-type {\n",
       "        vertical-align: middle;\n",
       "    }\n",
       "\n",
       "    .dataframe tbody tr th {\n",
       "        vertical-align: top;\n",
       "    }\n",
       "\n",
       "    .dataframe thead th {\n",
       "        text-align: right;\n",
       "    }\n",
       "</style>\n",
       "<table border=\"1\" class=\"dataframe\">\n",
       "  <thead>\n",
       "    <tr style=\"text-align: right;\">\n",
       "      <th></th>\n",
       "      <th>department_id</th>\n",
       "      <th>num_orders_x</th>\n",
       "      <th>num_orders_y</th>\n",
       "    </tr>\n",
       "  </thead>\n",
       "  <tbody>\n",
       "    <tr>\n",
       "      <td>0</td>\n",
       "      <td>1</td>\n",
       "      <td>2779</td>\n",
       "      <td>2779</td>\n",
       "    </tr>\n",
       "    <tr>\n",
       "      <td>1</td>\n",
       "      <td>2</td>\n",
       "      <td>86</td>\n",
       "      <td>86</td>\n",
       "    </tr>\n",
       "    <tr>\n",
       "      <td>2</td>\n",
       "      <td>3</td>\n",
       "      <td>1996</td>\n",
       "      <td>1996</td>\n",
       "    </tr>\n",
       "  </tbody>\n",
       "</table>\n",
       "</div>"
      ],
      "text/plain": [
       "   department_id  num_orders_x  num_orders_y\n",
       "0              1          2779          2779\n",
       "1              2            86            86\n",
       "2              3          1996          1996"
      ]
     },
     "execution_count": 458,
     "metadata": {},
     "output_type": "execute_result"
    }
   ],
   "source": [
    "# Calculate number of orders in each department.\n",
    "dept_nunique = df_order_prods.groupby('department_id').nunique()['order_id'].reset_index()\n",
    "dept_nunique.rename(columns={'order_id':'num_orders'}, inplace=True)\n",
    "\n",
    "df_dept_profs = pd.merge(df_dept_profs, dept_nunique, on='department_id')\n",
    "df_dept_profs.head(3)\n",
    "# df_user_profs.set_index('user_id', inplace=True)"
   ]
  }
 ],
 "metadata": {
  "kernelspec": {
   "display_name": "Python 3",
   "language": "python",
   "name": "python3"
  },
  "language_info": {
   "codemirror_mode": {
    "name": "ipython",
    "version": 3
   },
   "file_extension": ".py",
   "mimetype": "text/x-python",
   "name": "python",
   "nbconvert_exporter": "python",
   "pygments_lexer": "ipython3",
   "version": "3.7.4"
  },
  "notify_time": "5",
  "toc": {
   "base_numbering": 1,
   "nav_menu": {
    "height": "480px",
    "width": "542.986px"
   },
   "number_sections": false,
   "sideBar": true,
   "skip_h1_title": false,
   "title_cell": "Table of Contents",
   "title_sidebar": "Contents",
   "toc_cell": false,
   "toc_position": {
    "height": "616.667px",
    "left": "1280px",
    "top": "109.723px",
    "width": "356.076px"
   },
   "toc_section_display": true,
   "toc_window_display": false
  },
  "varInspector": {
   "cols": {
    "lenName": 16,
    "lenType": 16,
    "lenVar": 40
   },
   "kernels_config": {
    "python": {
     "delete_cmd_postfix": "",
     "delete_cmd_prefix": "del ",
     "library": "var_list.py",
     "varRefreshCmd": "print(var_dic_list())"
    },
    "r": {
     "delete_cmd_postfix": ") ",
     "delete_cmd_prefix": "rm(",
     "library": "var_list.r",
     "varRefreshCmd": "cat(var_dic_list()) "
    }
   },
   "oldHeight": 393.76778,
   "position": {
    "height": "40px",
    "left": "19.4271px",
    "right": "20px",
    "top": "113.948px",
    "width": "670.521px"
   },
   "types_to_exclude": [
    "module",
    "function",
    "builtin_function_or_method",
    "instance",
    "_Feature"
   ],
   "varInspector_section_display": "none",
   "window_display": false
  }
 },
 "nbformat": 4,
 "nbformat_minor": 2
}
