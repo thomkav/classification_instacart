{
 "cells": [
  {
   "cell_type": "markdown",
   "metadata": {},
   "source": [
    "# Notebook Description"
   ]
  },
  {
   "cell_type": "markdown",
   "metadata": {},
   "source": [
    "This notebook will focus on creating a Department Classifier, based on cart input data.\n",
    "\n",
    "The investigation will begin by predicting Department affinity, assuming that the cart is _empty_. Later, "
   ]
  },
  {
   "cell_type": "markdown",
   "metadata": {
    "heading_collapsed": true
   },
   "source": [
    "# Initialize"
   ]
  },
  {
   "cell_type": "markdown",
   "metadata": {
    "hidden": true
   },
   "source": [
    "## Imports"
   ]
  },
  {
   "cell_type": "code",
   "execution_count": 58,
   "metadata": {
    "ExecuteTime": {
     "end_time": "2019-10-18T20:17:02.780621Z",
     "start_time": "2019-10-18T20:17:02.722788Z"
    },
    "hidden": true
   },
   "outputs": [],
   "source": [
    "import math\n",
    "import random\n",
    "import pandas as pd\n",
    "import numpy as np\n",
    "import itertools as IT\n",
    "\n",
    "import os\n",
    "import sys\n",
    "\n",
    "from sklearn.linear_model import LogisticRegression\n",
    "from sklearn.metrics import f1_score, roc_auc_score, confusion_matrix \n",
    "from sklearn.model_selection import train_test_split\n",
    "\n",
    "# Classification Models\n",
    "from sklearn.neighbors import KNeighborsClassifier \n",
    "from sklearn.svm import SVC \n",
    "from sklearn.tree import DecisionTreeClassifier \n",
    "from sklearn.naive_bayes import GaussianNB \n",
    "\n",
    "\n",
    "import matplotlib.pyplot as plt\n",
    "import seaborn as sns\n",
    "sns.set()"
   ]
  },
  {
   "cell_type": "markdown",
   "metadata": {
    "hidden": true
   },
   "source": [
    "## Load Subset of Data into Pandas Dataframe"
   ]
  },
  {
   "cell_type": "code",
   "execution_count": 3,
   "metadata": {
    "ExecuteTime": {
     "end_time": "2019-10-18T18:21:12.356492Z",
     "start_time": "2019-10-18T18:21:12.292301Z"
    },
    "hidden": true
   },
   "outputs": [
    {
     "name": "stdout",
     "output_type": "stream",
     "text": [
      "(134, 2)\n",
      "(21, 2)\n",
      "(49688, 4)\n"
     ]
    }
   ],
   "source": [
    "df_aisle_index = pd.read_csv('../data/instacart-market-basket-analysis/aisles.csv')\n",
    "print(df_aisle_index.shape)\n",
    "df_dept_index = pd.read_csv('../data/instacart-market-basket-analysis/departments.csv')\n",
    "print(df_dept_index.shape)\n",
    "df_prod_index = pd.read_csv('../data/instacart-market-basket-analysis/products.csv')\n",
    "print(df_prod_index.shape)"
   ]
  },
  {
   "cell_type": "markdown",
   "metadata": {
    "hidden": true
   },
   "source": [
    "## Load Order Log, and Order Products"
   ]
  },
  {
   "cell_type": "code",
   "execution_count": 4,
   "metadata": {
    "ExecuteTime": {
     "end_time": "2019-10-18T18:21:13.103704Z",
     "start_time": "2019-10-18T18:21:13.099869Z"
    },
    "hidden": true
   },
   "outputs": [
    {
     "name": "stdout",
     "output_type": "stream",
     "text": [
      "generated user subset of size:  500\n"
     ]
    }
   ],
   "source": [
    "# define subset of data\n",
    "# Take a sample of the 10,000 users represented in the data\n",
    "\n",
    "# randomized version\n",
    "# np.random.seed(4444)\n",
    "# user_sample_list = np.random.choice(a=range(1,10000,1), size=300, replace=False)\n",
    "\n",
    "user_subset = range(1,501, 1)\n",
    "\n",
    "print('generated user subset of size: ', len(user_subset))"
   ]
  },
  {
   "cell_type": "code",
   "execution_count": 5,
   "metadata": {
    "ExecuteTime": {
     "end_time": "2019-10-18T18:21:18.475068Z",
     "start_time": "2019-10-18T18:21:18.467779Z"
    },
    "code_folding": [],
    "hidden": true
   },
   "outputs": [],
   "source": [
    "# Create a generalized mask that filters rows\n",
    "# which are not applicable to the sampled users.\n",
    "#\n",
    "# masked_df = pd.DataFrame(\n",
    "#     columns=['user_id']\n",
    "# )\n",
    "#\n",
    "# user_mask = ([\n",
    "#     (masked_df.user_id.isin(user_sample_list))\n",
    "# ])\n",
    "\n",
    "df_orders_log = pd.DataFrame(\n",
    "    columns=['order_id','user_id','eval_set','order_number',\n",
    "             'order_dow','order_hour_of_day','days_since_prior_order']\n",
    ")\n",
    "\n",
    "# import the orders csv in chunks\n",
    "# filter out rows that aren't from the user sample\n",
    "# concatenate to the prior/train dataset\n",
    "\n",
    "\n",
    "def valid_user(chunks):\n",
    "    for chunk in chunks:\n",
    "        mask = chunk.user_id.isin(user_subset)\n",
    "        yield chunk.loc[mask]"
   ]
  },
  {
   "cell_type": "code",
   "execution_count": 6,
   "metadata": {
    "ExecuteTime": {
     "end_time": "2019-10-18T18:21:24.531881Z",
     "start_time": "2019-10-18T18:21:20.446200Z"
    },
    "hidden": true
   },
   "outputs": [],
   "source": [
    "# read in orders\n",
    "filename = '../data/instacart-market-basket-analysis/orders.csv'\n",
    "chunksize = 10 ** 4\n",
    "chunks = pd.read_csv(filename, chunksize=chunksize)\n",
    "df_orders_log = pd.concat(valid_user(chunks))"
   ]
  },
  {
   "cell_type": "code",
   "execution_count": 7,
   "metadata": {
    "ExecuteTime": {
     "end_time": "2019-10-18T18:21:24.627321Z",
     "start_time": "2019-10-18T18:21:24.616256Z"
    },
    "hidden": true
   },
   "outputs": [
    {
     "name": "stdout",
     "output_type": "stream",
     "text": [
      "0.960604 MB vs  108 MB\n"
     ]
    }
   ],
   "source": [
    "print(sys.getsizeof(df_orders_log)/1000000,'MB vs ',\n",
    "      os.stat('../data/instacart-market-basket-analysis/orders.csv').st_size//1000000,'MB')"
   ]
  },
  {
   "cell_type": "code",
   "execution_count": 8,
   "metadata": {
    "ExecuteTime": {
     "end_time": "2019-10-18T18:21:24.678585Z",
     "start_time": "2019-10-18T18:21:24.673531Z"
    },
    "hidden": true
   },
   "outputs": [
    {
     "name": "stdout",
     "output_type": "stream",
     "text": [
      "(8142,)\n"
     ]
    }
   ],
   "source": [
    "# compile a list of unique orders that originate from our user sample\n",
    "\n",
    "orders_subset = df_orders_log.order_id.unique()\n",
    "print(orders_subset.shape)\n",
    "\n",
    "def valid_order(chunks):\n",
    "    for chunk in chunks:\n",
    "        mask = chunk.order_id.isin(orders_subset)\n",
    "        yield chunk.loc[mask]"
   ]
  },
  {
   "cell_type": "code",
   "execution_count": 9,
   "metadata": {
    "ExecuteTime": {
     "end_time": "2019-10-18T18:21:49.255536Z",
     "start_time": "2019-10-18T18:21:24.727896Z"
    },
    "hidden": true
   },
   "outputs": [],
   "source": [
    "df_order_prods__prior = pd.DataFrame(\n",
    "    columns=['order_id','product_id','add_to_cart_order','reordered']\n",
    ")\n",
    "\n",
    "# import the prior/train_products csv in chunks\n",
    "# filter out rows that aren't from the user sample\n",
    "# concatenate to the prior/train dataset\n",
    "\n",
    "\n",
    "\n",
    "# read in order_prods_prior\n",
    "filename = '../data/instacart-market-basket-analysis/order_products__prior.csv'\n",
    "chunksize = 10 ** 4\n",
    "chunks = pd.read_csv(filename, chunksize=chunksize)\n",
    "df_order_prods__prior = pd.concat(valid_order(chunks))"
   ]
  },
  {
   "cell_type": "code",
   "execution_count": 10,
   "metadata": {
    "ExecuteTime": {
     "end_time": "2019-10-18T18:21:49.348541Z",
     "start_time": "2019-10-18T18:21:49.338269Z"
    },
    "hidden": true,
    "scrolled": true
   },
   "outputs": [
    {
     "name": "stdout",
     "output_type": "stream",
     "text": [
      "3.097032 MB vs  577 MB\n",
      "(77425, 4)\n"
     ]
    }
   ],
   "source": [
    "print(sys.getsizeof(df_order_prods__prior)/1000000,'MB vs ',\n",
    "      os.stat('../data/instacart-market-basket-analysis/order_products__prior.csv').st_size//1000000,'MB')\n",
    "print(df_order_prods__prior.shape)"
   ]
  },
  {
   "cell_type": "code",
   "execution_count": 11,
   "metadata": {
    "ExecuteTime": {
     "end_time": "2019-10-18T18:21:50.649111Z",
     "start_time": "2019-10-18T18:21:49.414333Z"
    },
    "hidden": true
   },
   "outputs": [],
   "source": [
    "df_order_prods__train = pd.DataFrame(\n",
    "    columns=['order_id','product_id','add_to_cart_order']\n",
    ")\n",
    "\n",
    "# import the prior/train_products csv in chunks\n",
    "# filter out rows that aren't from the user sample\n",
    "# concatenate to the prior/train dataset\n",
    "\n",
    "# read in order_prods_prior\n",
    "filename = '../data/instacart-market-basket-analysis/order_products__train.csv'\n",
    "chunksize = 10 ** 4\n",
    "chunks = pd.read_csv(filename, chunksize=chunksize)\n",
    "df_order_prods__train = pd.concat(valid_order(chunks))"
   ]
  },
  {
   "cell_type": "code",
   "execution_count": 12,
   "metadata": {
    "ExecuteTime": {
     "end_time": "2019-10-18T18:21:50.760902Z",
     "start_time": "2019-10-18T18:21:50.750373Z"
    },
    "hidden": true,
    "scrolled": true
   },
   "outputs": [
    {
     "name": "stdout",
     "output_type": "stream",
     "text": [
      "0.135472 MB vs  24 MB\n"
     ]
    }
   ],
   "source": [
    "print(sys.getsizeof(df_order_prods__train)/1000000,'MB vs ',\n",
    "      os.stat('../data/instacart-market-basket-analysis/order_products__train.csv').st_size//1000000,'MB')"
   ]
  },
  {
   "cell_type": "markdown",
   "metadata": {},
   "source": [
    "# Model Evaluation Schema - Department / Aisle Predictor"
   ]
  },
  {
   "cell_type": "markdown",
   "metadata": {},
   "source": [
    "The goal of the Department / Aisle Predictor is to predict the distribution of the cart as closely as possible. This model will be used as part of a preliminary step towards predicting specific products. A model that successfully predicts the aisle a given user will begin shopping in would obviously be more useful to a product recommender than prediction of a specific aisle. However, that level of specificity may come at the cost of an overfit model. \n",
    "\n",
    "However, since the Cart Completer can only offer 5-10 slots for products, it may be more valuable to train Department / Aisle Predictor to find the distribution of the _first 5-10_ products. For large carts, the distribution of departments at the top of cart may very well be different than the distribution of products. Once we have a model that can predict the department/aisle for an empty cart, we can build features for a model that will predict departments for the remainder of the cart.\n",
    "\n",
    "Though for partially completed carts, it may be advantageous to switch to a model that focuses on product-to-product associations, and uses items in the cart to infer user intent. So perhaps the Department/Aisle Predictor is only active for empty carts, then drops out once the user has confirmed specific intent upon adding the first item to their cart.\n",
    "\n",
    "For the Department / Aisle Predictor, a custom performance metric is required. If our classifier returns a probability distribution for the departments/aisles of a given cart."
   ]
  },
  {
   "cell_type": "code",
   "execution_count": null,
   "metadata": {},
   "outputs": [],
   "source": [
    "def EvaluateDepartmentPredictionError(pred_prob, actual_dist, cart_est_depth=5):\n",
    "    '''\n",
    "    \n",
    "    The Department Predictor will return a set of probabilities\n",
    "    representing the predicted distribution of departments.\n",
    "    \n",
    "    cart_est_depth represents the scope of the Predictor's estimation.\n",
    "    If cart_est_depth=1, then the Predictor \n",
    "    \n",
    "    This set of continuous, predicted distributions will be converted into\n",
    "    integer counts of departments, rounding in favor of the most likely department. \n",
    "    \n",
    "    \n",
    "    \n",
    "    \n",
    "    The model will be scored on the \n",
    "    \n",
    "    \n",
    "    '''"
   ]
  },
  {
   "cell_type": "markdown",
   "metadata": {},
   "source": [
    "### Simulate Dynamic Department / Aisle Recommendation"
   ]
  },
  {
   "cell_type": "code",
   "execution_count": 512,
   "metadata": {
    "ExecuteTime": {
     "end_time": "2019-10-18T02:33:51.918528Z",
     "start_time": "2019-10-18T02:33:51.909410Z"
    },
    "code_folding": []
   },
   "outputs": [],
   "source": [
    "def SimulateDynamicRec(order_rows, model, verbose=False):\n",
    "    \n",
    "    assert type(order_rows) == type(pd.DataFrame())\n",
    "    cart = set([])\n",
    "    \n",
    "    order_rows = order_rows.sort_values('add_to_cart_order')\n",
    "    \n",
    "    if verbose:\n",
    "        print('testing the following order:\\n', order_rows)\n",
    "    \n",
    "    total = 0\n",
    "    guessed = 0\n",
    "    \n",
    "    # progress through order one at a time\n",
    "    for index, row in order_rows.iterrows():\n",
    "        \n",
    "        ### Recommend 5 New Products ###\n",
    "        \n",
    "        try:\n",
    "            #### CHECK MODEL TYPE #####\n",
    "            model_type = model.type\n",
    "#             print('model type is: ', model_type)\n",
    "            if model_type in ['naive','reordered']:\n",
    "                recommendations = model.top100\n",
    "            \n",
    "            \n",
    "            # Exclude items already in cart.\n",
    "            rec5 = random.sample((recommendations - cart), 5)\n",
    "            \n",
    "        except:\n",
    "            #### OTHER MODELS #####\n",
    "            pass\n",
    "        \n",
    "        \n",
    "        total += 1\n",
    "        success = False\n",
    "        \n",
    "        actual_next = row['product_id']\n",
    "        \n",
    "        if actual_next in rec5:\n",
    "            success = True\n",
    "            guessed += 1\n",
    "        \n",
    "        # debug output\n",
    "        if verbose:\n",
    "#             print(f'Cart is {cart}.\\nRecommending {rec5}.')\n",
    "            if success:\n",
    "                print(f'Guessed {actual_next}!\\n')\n",
    "                continue\n",
    "            else:\n",
    "#                 print(f'Oops, {actual_next} wasn\\'t in recommendation list.')\n",
    "                continue\n",
    "        \n",
    "        cart.add(actual_next)\n",
    "    \n",
    "    # rel_pct = % of trials where recommendations were relevant to next purchase.\n",
    "    rel_pct = guessed/total\n",
    "    \n",
    "    if verbose:\n",
    "        print(f'Got {rel_pct}% right of {total}.')\n",
    "    \n",
    "    return rel_pct"
   ]
  },
  {
   "cell_type": "code",
   "execution_count": 259,
   "metadata": {
    "ExecuteTime": {
     "end_time": "2019-10-17T23:44:12.818336Z",
     "start_time": "2019-10-17T23:44:12.813206Z"
    },
    "scrolled": false
   },
   "outputs": [],
   "source": [
    "def DynamicRecScore(model, trials = 100):\n",
    "\n",
    "    relevancies = []\n",
    "    \n",
    "    unique_train_orders = set(df_order_prods__train.order_id.unique())\n",
    "#     print(len(unique_train_orders))\n",
    "    \n",
    "    # If there aren't enough training datapoints.\n",
    "    if trials > len(unique_train_orders):\n",
    "        trials = len(unique_train_orders)\n",
    "    \n",
    "    for order_id in random.sample(unique_train_orders, trials):\n",
    "        \n",
    "#         test_order = df_order_prods__train.sample().order_id.values[0]\n",
    "\n",
    "        test_order_rows = df_order_prods__train[df_order_prods__train.order_id == order_id]\n",
    "        rel_pct = SimulateDynamicRec(test_order_rows, model,verbose=False)\n",
    "        relevancies += [rel_pct]\n",
    "        \n",
    "    return np.mean(relevancies)"
   ]
  },
  {
   "cell_type": "markdown",
   "metadata": {},
   "source": [
    "## Score Naive Top Products Model"
   ]
  },
  {
   "cell_type": "markdown",
   "metadata": {},
   "source": [
    "Run simulation of user interactive with Naive Top Products as recommender."
   ]
  },
  {
   "cell_type": "code",
   "execution_count": 506,
   "metadata": {
    "ExecuteTime": {
     "end_time": "2019-10-18T02:32:20.144964Z",
     "start_time": "2019-10-18T02:32:16.377330Z"
    },
    "scrolled": true
   },
   "outputs": [
    {
     "name": "stdout",
     "output_type": "stream",
     "text": [
      "Mean dynamic suggestion relevancy score, Naive Algorithm, n=300:\n",
      "0.011403517985996401\n"
     ]
    }
   ],
   "source": [
    "# Simple cross validation of naive algorithm:\n",
    "\n",
    "n_trials = 300\n",
    "relevancies = []\n",
    "for i in range(5):\n",
    "    relevancies += [DynamicRecScore(model=naive_model, trials=n_trials)]\n",
    "    \n",
    "print(f'Mean dynamic suggestion relevancy score, Naive Algorithm, n={n_trials}:')\n",
    "print(np.mean(relevancies))"
   ]
  },
  {
   "cell_type": "markdown",
   "metadata": {},
   "source": [
    "# Add Department Labels to Order Log"
   ]
  },
  {
   "cell_type": "code",
   "execution_count": 52,
   "metadata": {
    "ExecuteTime": {
     "end_time": "2019-10-18T20:13:37.468869Z",
     "start_time": "2019-10-18T20:13:37.441997Z"
    }
   },
   "outputs": [],
   "source": [
    "df_order_prods__prior = pd.merge(\n",
    "    df_order_prods__prior,\n",
    "    df_dept_index, on='department_id'\n",
    ")"
   ]
  },
  {
   "cell_type": "code",
   "execution_count": 54,
   "metadata": {
    "ExecuteTime": {
     "end_time": "2019-10-18T20:13:53.177186Z",
     "start_time": "2019-10-18T20:13:53.158590Z"
    }
   },
   "outputs": [
    {
     "data": {
      "text/html": [
       "<div>\n",
       "<style scoped>\n",
       "    .dataframe tbody tr th:only-of-type {\n",
       "        vertical-align: middle;\n",
       "    }\n",
       "\n",
       "    .dataframe tbody tr th {\n",
       "        vertical-align: top;\n",
       "    }\n",
       "\n",
       "    .dataframe thead th {\n",
       "        text-align: right;\n",
       "    }\n",
       "</style>\n",
       "<table border=\"1\" class=\"dataframe\">\n",
       "  <thead>\n",
       "    <tr style=\"text-align: right;\">\n",
       "      <th></th>\n",
       "      <th>order_id</th>\n",
       "      <th>product_id</th>\n",
       "      <th>add_to_cart_order</th>\n",
       "      <th>reordered</th>\n",
       "      <th>aisle_id</th>\n",
       "      <th>department_id</th>\n",
       "      <th>user_id</th>\n",
       "      <th>eval_set</th>\n",
       "      <th>order_number</th>\n",
       "      <th>order_dow</th>\n",
       "      <th>order_hour_of_day</th>\n",
       "      <th>days_since_prior_order</th>\n",
       "      <th>department</th>\n",
       "    </tr>\n",
       "  </thead>\n",
       "  <tbody>\n",
       "    <tr>\n",
       "      <td>0</td>\n",
       "      <td>40</td>\n",
       "      <td>10070</td>\n",
       "      <td>1</td>\n",
       "      <td>1</td>\n",
       "      <td>84</td>\n",
       "      <td>16</td>\n",
       "      <td>382</td>\n",
       "      <td>prior</td>\n",
       "      <td>29</td>\n",
       "      <td>1</td>\n",
       "      <td>15</td>\n",
       "      <td>23.0</td>\n",
       "      <td>dairy eggs</td>\n",
       "    </tr>\n",
       "  </tbody>\n",
       "</table>\n",
       "</div>"
      ],
      "text/plain": [
       "   order_id  product_id  add_to_cart_order  reordered  aisle_id  \\\n",
       "0        40       10070                  1          1        84   \n",
       "\n",
       "   department_id  user_id eval_set  order_number  order_dow  \\\n",
       "0             16      382    prior            29          1   \n",
       "\n",
       "   order_hour_of_day  days_since_prior_order  department  \n",
       "0                 15                    23.0  dairy eggs  "
      ]
     },
     "execution_count": 54,
     "metadata": {},
     "output_type": "execute_result"
    }
   ],
   "source": [
    "df_order_prods__prior.head(1)"
   ]
  },
  {
   "cell_type": "code",
   "execution_count": 55,
   "metadata": {
    "ExecuteTime": {
     "end_time": "2019-10-18T20:14:30.219075Z",
     "start_time": "2019-10-18T20:14:30.200738Z"
    },
    "scrolled": true
   },
   "outputs": [
    {
     "data": {
      "text/html": [
       "<div>\n",
       "<style scoped>\n",
       "    .dataframe tbody tr th:only-of-type {\n",
       "        vertical-align: middle;\n",
       "    }\n",
       "\n",
       "    .dataframe tbody tr th {\n",
       "        vertical-align: top;\n",
       "    }\n",
       "\n",
       "    .dataframe thead th {\n",
       "        text-align: right;\n",
       "    }\n",
       "</style>\n",
       "<table border=\"1\" class=\"dataframe\">\n",
       "  <thead>\n",
       "    <tr style=\"text-align: right;\">\n",
       "      <th></th>\n",
       "      <th>order_id</th>\n",
       "      <th>product_id</th>\n",
       "      <th>add_to_cart_order</th>\n",
       "      <th>reordered</th>\n",
       "      <th>aisle_id</th>\n",
       "      <th>department_id</th>\n",
       "      <th>user_id</th>\n",
       "      <th>eval_set</th>\n",
       "      <th>order_number</th>\n",
       "      <th>order_dow</th>\n",
       "      <th>order_hour_of_day</th>\n",
       "      <th>days_since_prior_order</th>\n",
       "      <th>department</th>\n",
       "    </tr>\n",
       "  </thead>\n",
       "  <tbody>\n",
       "    <tr>\n",
       "      <td>0</td>\n",
       "      <td>988</td>\n",
       "      <td>45061</td>\n",
       "      <td>1</td>\n",
       "      <td>0</td>\n",
       "      <td>37</td>\n",
       "      <td>1</td>\n",
       "      <td>310</td>\n",
       "      <td>train</td>\n",
       "      <td>100</td>\n",
       "      <td>2</td>\n",
       "      <td>9</td>\n",
       "      <td>4.0</td>\n",
       "      <td>frozen</td>\n",
       "    </tr>\n",
       "  </tbody>\n",
       "</table>\n",
       "</div>"
      ],
      "text/plain": [
       "   order_id  product_id  add_to_cart_order  reordered  aisle_id  \\\n",
       "0       988       45061                  1          0        37   \n",
       "\n",
       "   department_id  user_id eval_set  order_number  order_dow  \\\n",
       "0              1      310    train           100          2   \n",
       "\n",
       "   order_hour_of_day  days_since_prior_order department  \n",
       "0                  9                     4.0     frozen  "
      ]
     },
     "execution_count": 55,
     "metadata": {},
     "output_type": "execute_result"
    }
   ],
   "source": [
    "df_order_prods__train  = pd.merge(\n",
    "    df_order_prods__train,\n",
    "    df_dept_index, on='department_id'\n",
    ")\n",
    "df_order_prods__train.head(1)"
   ]
  },
  {
   "cell_type": "markdown",
   "metadata": {},
   "source": [
    "# Merge, Append Aisle/Department Columns to Order Log"
   ]
  },
  {
   "cell_type": "code",
   "execution_count": null,
   "metadata": {
    "ExecuteTime": {
     "end_time": "2019-10-18T19:35:25.063024Z",
     "start_time": "2019-10-18T19:35:25.015521Z"
    }
   },
   "outputs": [],
   "source": [
    "# Confirm we haven't merged in duplicate columns from re-running this script.\n",
    "df_order_prods__prior = df_order_prods__prior[['order_id','product_id','add_to_cart_order','reordered']]\n",
    "\n",
    "df_order_prods__prior = pd.merge(\n",
    "    df_order_prods__prior,\n",
    "    df_prod_index.drop(labels='product_name',axis=1), on='product_id')\n",
    "\n",
    "# Confirm we haven't merged in duplicate columns from re-running this script.\n",
    "df_order_prods__train = df_order_prods__train[['order_id','product_id','add_to_cart_order','reordered']]\n",
    "\n",
    "df_order_prods__train = pd.merge(\n",
    "    df_order_prods__train,\n",
    "    df_prod_index.drop(labels='product_name',axis=1), on='product_id')"
   ]
  },
  {
   "cell_type": "code",
   "execution_count": 44,
   "metadata": {
    "ExecuteTime": {
     "end_time": "2019-10-18T19:52:03.519142Z",
     "start_time": "2019-10-18T19:52:03.508187Z"
    },
    "scrolled": false
   },
   "outputs": [
    {
     "data": {
      "text/html": [
       "<div>\n",
       "<style scoped>\n",
       "    .dataframe tbody tr th:only-of-type {\n",
       "        vertical-align: middle;\n",
       "    }\n",
       "\n",
       "    .dataframe tbody tr th {\n",
       "        vertical-align: top;\n",
       "    }\n",
       "\n",
       "    .dataframe thead th {\n",
       "        text-align: right;\n",
       "    }\n",
       "</style>\n",
       "<table border=\"1\" class=\"dataframe\">\n",
       "  <thead>\n",
       "    <tr style=\"text-align: right;\">\n",
       "      <th></th>\n",
       "      <th>order_id</th>\n",
       "      <th>product_id</th>\n",
       "      <th>add_to_cart_order</th>\n",
       "      <th>reordered</th>\n",
       "      <th>aisle_id</th>\n",
       "      <th>department_id</th>\n",
       "    </tr>\n",
       "  </thead>\n",
       "  <tbody>\n",
       "    <tr>\n",
       "      <td>8133</td>\n",
       "      <td>457048</td>\n",
       "      <td>21903</td>\n",
       "      <td>15</td>\n",
       "      <td>1</td>\n",
       "      <td>123</td>\n",
       "      <td>4</td>\n",
       "    </tr>\n",
       "    <tr>\n",
       "      <td>38712</td>\n",
       "      <td>378457</td>\n",
       "      <td>49518</td>\n",
       "      <td>2</td>\n",
       "      <td>1</td>\n",
       "      <td>38</td>\n",
       "      <td>1</td>\n",
       "    </tr>\n",
       "    <tr>\n",
       "      <td>23001</td>\n",
       "      <td>1272493</td>\n",
       "      <td>41950</td>\n",
       "      <td>12</td>\n",
       "      <td>0</td>\n",
       "      <td>83</td>\n",
       "      <td>4</td>\n",
       "    </tr>\n",
       "    <tr>\n",
       "      <td>45982</td>\n",
       "      <td>135710</td>\n",
       "      <td>19510</td>\n",
       "      <td>10</td>\n",
       "      <td>1</td>\n",
       "      <td>106</td>\n",
       "      <td>12</td>\n",
       "    </tr>\n",
       "    <tr>\n",
       "      <td>24490</td>\n",
       "      <td>2996637</td>\n",
       "      <td>49235</td>\n",
       "      <td>3</td>\n",
       "      <td>1</td>\n",
       "      <td>53</td>\n",
       "      <td>16</td>\n",
       "    </tr>\n",
       "    <tr>\n",
       "      <td>17866</td>\n",
       "      <td>1169996</td>\n",
       "      <td>13629</td>\n",
       "      <td>7</td>\n",
       "      <td>0</td>\n",
       "      <td>83</td>\n",
       "      <td>4</td>\n",
       "    </tr>\n",
       "    <tr>\n",
       "      <td>22607</td>\n",
       "      <td>502391</td>\n",
       "      <td>49683</td>\n",
       "      <td>5</td>\n",
       "      <td>0</td>\n",
       "      <td>83</td>\n",
       "      <td>4</td>\n",
       "    </tr>\n",
       "    <tr>\n",
       "      <td>4591</td>\n",
       "      <td>3065986</td>\n",
       "      <td>47626</td>\n",
       "      <td>13</td>\n",
       "      <td>0</td>\n",
       "      <td>24</td>\n",
       "      <td>4</td>\n",
       "    </tr>\n",
       "    <tr>\n",
       "      <td>19021</td>\n",
       "      <td>1639907</td>\n",
       "      <td>35510</td>\n",
       "      <td>6</td>\n",
       "      <td>1</td>\n",
       "      <td>83</td>\n",
       "      <td>4</td>\n",
       "    </tr>\n",
       "    <tr>\n",
       "      <td>35244</td>\n",
       "      <td>65245</td>\n",
       "      <td>4428</td>\n",
       "      <td>1</td>\n",
       "      <td>1</td>\n",
       "      <td>79</td>\n",
       "      <td>1</td>\n",
       "    </tr>\n",
       "  </tbody>\n",
       "</table>\n",
       "</div>"
      ],
      "text/plain": [
       "       order_id  product_id  add_to_cart_order  reordered  aisle_id  \\\n",
       "8133     457048       21903                 15          1       123   \n",
       "38712    378457       49518                  2          1        38   \n",
       "23001   1272493       41950                 12          0        83   \n",
       "45982    135710       19510                 10          1       106   \n",
       "24490   2996637       49235                  3          1        53   \n",
       "17866   1169996       13629                  7          0        83   \n",
       "22607    502391       49683                  5          0        83   \n",
       "4591    3065986       47626                 13          0        24   \n",
       "19021   1639907       35510                  6          1        83   \n",
       "35244     65245        4428                  1          1        79   \n",
       "\n",
       "       department_id  \n",
       "8133               4  \n",
       "38712              1  \n",
       "23001              4  \n",
       "45982             12  \n",
       "24490             16  \n",
       "17866              4  \n",
       "22607              4  \n",
       "4591               4  \n",
       "19021              4  \n",
       "35244              1  "
      ]
     },
     "execution_count": 44,
     "metadata": {},
     "output_type": "execute_result"
    }
   ],
   "source": [
    "df_order_prods__prior.sample(10)"
   ]
  },
  {
   "cell_type": "markdown",
   "metadata": {},
   "source": [
    "# Merge Order Log Information to order_prods__SET"
   ]
  },
  {
   "cell_type": "code",
   "execution_count": 46,
   "metadata": {
    "ExecuteTime": {
     "end_time": "2019-10-18T19:52:11.319203Z",
     "start_time": "2019-10-18T19:52:11.309495Z"
    }
   },
   "outputs": [
    {
     "data": {
      "text/html": [
       "<div>\n",
       "<style scoped>\n",
       "    .dataframe tbody tr th:only-of-type {\n",
       "        vertical-align: middle;\n",
       "    }\n",
       "\n",
       "    .dataframe tbody tr th {\n",
       "        vertical-align: top;\n",
       "    }\n",
       "\n",
       "    .dataframe thead th {\n",
       "        text-align: right;\n",
       "    }\n",
       "</style>\n",
       "<table border=\"1\" class=\"dataframe\">\n",
       "  <thead>\n",
       "    <tr style=\"text-align: right;\">\n",
       "      <th></th>\n",
       "      <th>order_id</th>\n",
       "      <th>user_id</th>\n",
       "      <th>eval_set</th>\n",
       "      <th>order_number</th>\n",
       "      <th>order_dow</th>\n",
       "      <th>order_hour_of_day</th>\n",
       "      <th>days_since_prior_order</th>\n",
       "    </tr>\n",
       "  </thead>\n",
       "  <tbody>\n",
       "    <tr>\n",
       "      <td>405</td>\n",
       "      <td>1639907</td>\n",
       "      <td>28</td>\n",
       "      <td>prior</td>\n",
       "      <td>10</td>\n",
       "      <td>0</td>\n",
       "      <td>17</td>\n",
       "      <td>6.0</td>\n",
       "    </tr>\n",
       "  </tbody>\n",
       "</table>\n",
       "</div>"
      ],
      "text/plain": [
       "     order_id  user_id eval_set  order_number  order_dow  order_hour_of_day  \\\n",
       "405   1639907       28    prior            10          0                 17   \n",
       "\n",
       "     days_since_prior_order  \n",
       "405                     6.0  "
      ]
     },
     "execution_count": 46,
     "metadata": {},
     "output_type": "execute_result"
    }
   ],
   "source": [
    "# Dataframe to merge into order_prods__SET\n",
    "df_orders_log[df_orders_log.order_id == 1639907]"
   ]
  },
  {
   "cell_type": "code",
   "execution_count": 48,
   "metadata": {
    "ExecuteTime": {
     "end_time": "2019-10-18T20:00:58.937814Z",
     "start_time": "2019-10-18T20:00:58.912049Z"
    },
    "scrolled": false
   },
   "outputs": [],
   "source": [
    "# Merge in time-based information to the order_prods__prior\n",
    "df_order_prods__prior = pd.merge(\n",
    "    df_order_prods__prior, df_orders_log, on='order_id'\n",
    ")"
   ]
  },
  {
   "cell_type": "code",
   "execution_count": 49,
   "metadata": {
    "ExecuteTime": {
     "end_time": "2019-10-18T20:01:10.452588Z",
     "start_time": "2019-10-18T20:01:10.442465Z"
    }
   },
   "outputs": [
    {
     "data": {
      "text/html": [
       "<div>\n",
       "<style scoped>\n",
       "    .dataframe tbody tr th:only-of-type {\n",
       "        vertical-align: middle;\n",
       "    }\n",
       "\n",
       "    .dataframe tbody tr th {\n",
       "        vertical-align: top;\n",
       "    }\n",
       "\n",
       "    .dataframe thead th {\n",
       "        text-align: right;\n",
       "    }\n",
       "</style>\n",
       "<table border=\"1\" class=\"dataframe\">\n",
       "  <thead>\n",
       "    <tr style=\"text-align: right;\">\n",
       "      <th></th>\n",
       "      <th>order_id</th>\n",
       "      <th>product_id</th>\n",
       "      <th>add_to_cart_order</th>\n",
       "      <th>reordered</th>\n",
       "      <th>aisle_id</th>\n",
       "      <th>department_id</th>\n",
       "      <th>user_id</th>\n",
       "      <th>eval_set</th>\n",
       "      <th>order_number</th>\n",
       "      <th>order_dow</th>\n",
       "      <th>order_hour_of_day</th>\n",
       "      <th>days_since_prior_order</th>\n",
       "    </tr>\n",
       "  </thead>\n",
       "  <tbody>\n",
       "    <tr>\n",
       "      <td>0</td>\n",
       "      <td>40</td>\n",
       "      <td>10070</td>\n",
       "      <td>1</td>\n",
       "      <td>1</td>\n",
       "      <td>84</td>\n",
       "      <td>16</td>\n",
       "      <td>382</td>\n",
       "      <td>prior</td>\n",
       "      <td>29</td>\n",
       "      <td>1</td>\n",
       "      <td>15</td>\n",
       "      <td>23.0</td>\n",
       "    </tr>\n",
       "    <tr>\n",
       "      <td>1</td>\n",
       "      <td>40</td>\n",
       "      <td>42450</td>\n",
       "      <td>2</td>\n",
       "      <td>1</td>\n",
       "      <td>38</td>\n",
       "      <td>1</td>\n",
       "      <td>382</td>\n",
       "      <td>prior</td>\n",
       "      <td>29</td>\n",
       "      <td>1</td>\n",
       "      <td>15</td>\n",
       "      <td>23.0</td>\n",
       "    </tr>\n",
       "  </tbody>\n",
       "</table>\n",
       "</div>"
      ],
      "text/plain": [
       "   order_id  product_id  add_to_cart_order  reordered  aisle_id  \\\n",
       "0        40       10070                  1          1        84   \n",
       "1        40       42450                  2          1        38   \n",
       "\n",
       "   department_id  user_id eval_set  order_number  order_dow  \\\n",
       "0             16      382    prior            29          1   \n",
       "1              1      382    prior            29          1   \n",
       "\n",
       "   order_hour_of_day  days_since_prior_order  \n",
       "0                 15                    23.0  \n",
       "1                 15                    23.0  "
      ]
     },
     "execution_count": 49,
     "metadata": {},
     "output_type": "execute_result"
    }
   ],
   "source": [
    "df_order_prods__prior.head(2)"
   ]
  },
  {
   "cell_type": "code",
   "execution_count": 50,
   "metadata": {
    "ExecuteTime": {
     "end_time": "2019-10-18T20:01:45.439498Z",
     "start_time": "2019-10-18T20:01:45.428548Z"
    }
   },
   "outputs": [],
   "source": [
    "# same for train\n",
    "df_order_prods__train = pd.merge(\n",
    "    df_order_prods__train, df_orders_log, on='order_id'\n",
    ")"
   ]
  },
  {
   "cell_type": "code",
   "execution_count": 51,
   "metadata": {
    "ExecuteTime": {
     "end_time": "2019-10-18T20:01:52.007983Z",
     "start_time": "2019-10-18T20:01:51.996498Z"
    },
    "scrolled": true
   },
   "outputs": [
    {
     "data": {
      "text/html": [
       "<div>\n",
       "<style scoped>\n",
       "    .dataframe tbody tr th:only-of-type {\n",
       "        vertical-align: middle;\n",
       "    }\n",
       "\n",
       "    .dataframe tbody tr th {\n",
       "        vertical-align: top;\n",
       "    }\n",
       "\n",
       "    .dataframe thead th {\n",
       "        text-align: right;\n",
       "    }\n",
       "</style>\n",
       "<table border=\"1\" class=\"dataframe\">\n",
       "  <thead>\n",
       "    <tr style=\"text-align: right;\">\n",
       "      <th></th>\n",
       "      <th>order_id</th>\n",
       "      <th>product_id</th>\n",
       "      <th>add_to_cart_order</th>\n",
       "      <th>reordered</th>\n",
       "      <th>aisle_id</th>\n",
       "      <th>department_id</th>\n",
       "      <th>user_id</th>\n",
       "      <th>eval_set</th>\n",
       "      <th>order_number</th>\n",
       "      <th>order_dow</th>\n",
       "      <th>order_hour_of_day</th>\n",
       "      <th>days_since_prior_order</th>\n",
       "    </tr>\n",
       "  </thead>\n",
       "  <tbody>\n",
       "    <tr>\n",
       "      <td>0</td>\n",
       "      <td>988</td>\n",
       "      <td>45061</td>\n",
       "      <td>1</td>\n",
       "      <td>0</td>\n",
       "      <td>37</td>\n",
       "      <td>1</td>\n",
       "      <td>310</td>\n",
       "      <td>train</td>\n",
       "      <td>100</td>\n",
       "      <td>2</td>\n",
       "      <td>9</td>\n",
       "      <td>4.0</td>\n",
       "    </tr>\n",
       "    <tr>\n",
       "      <td>1</td>\n",
       "      <td>988</td>\n",
       "      <td>28464</td>\n",
       "      <td>2</td>\n",
       "      <td>0</td>\n",
       "      <td>53</td>\n",
       "      <td>16</td>\n",
       "      <td>310</td>\n",
       "      <td>train</td>\n",
       "      <td>100</td>\n",
       "      <td>2</td>\n",
       "      <td>9</td>\n",
       "      <td>4.0</td>\n",
       "    </tr>\n",
       "  </tbody>\n",
       "</table>\n",
       "</div>"
      ],
      "text/plain": [
       "   order_id  product_id  add_to_cart_order  reordered  aisle_id  \\\n",
       "0       988       45061                  1          0        37   \n",
       "1       988       28464                  2          0        53   \n",
       "\n",
       "   department_id  user_id eval_set  order_number  order_dow  \\\n",
       "0              1      310    train           100          2   \n",
       "1             16      310    train           100          2   \n",
       "\n",
       "   order_hour_of_day  days_since_prior_order  \n",
       "0                  9                     4.0  \n",
       "1                  9                     4.0  "
      ]
     },
     "execution_count": 51,
     "metadata": {},
     "output_type": "execute_result"
    }
   ],
   "source": [
    "df_order_prods__train.head(2)"
   ]
  },
  {
   "cell_type": "markdown",
   "metadata": {},
   "source": [
    "# One-Hot Encode Day of Week"
   ]
  },
  {
   "cell_type": "code",
   "execution_count": 65,
   "metadata": {
    "ExecuteTime": {
     "end_time": "2019-10-18T20:25:07.213842Z",
     "start_time": "2019-10-18T20:25:07.201912Z"
    }
   },
   "outputs": [
    {
     "data": {
      "text/html": [
       "<div>\n",
       "<style scoped>\n",
       "    .dataframe tbody tr th:only-of-type {\n",
       "        vertical-align: middle;\n",
       "    }\n",
       "\n",
       "    .dataframe tbody tr th {\n",
       "        vertical-align: top;\n",
       "    }\n",
       "\n",
       "    .dataframe thead th {\n",
       "        text-align: right;\n",
       "    }\n",
       "</style>\n",
       "<table border=\"1\" class=\"dataframe\">\n",
       "  <thead>\n",
       "    <tr style=\"text-align: right;\">\n",
       "      <th></th>\n",
       "      <th>order_id</th>\n",
       "      <th>product_id</th>\n",
       "      <th>add_to_cart_order</th>\n",
       "      <th>reordered</th>\n",
       "      <th>aisle_id</th>\n",
       "      <th>department_id</th>\n",
       "      <th>user_id</th>\n",
       "      <th>eval_set</th>\n",
       "      <th>order_number</th>\n",
       "      <th>order_dow</th>\n",
       "      <th>order_hour_of_day</th>\n",
       "      <th>days_since_prior_order</th>\n",
       "      <th>department</th>\n",
       "    </tr>\n",
       "  </thead>\n",
       "  <tbody>\n",
       "    <tr>\n",
       "      <td>0</td>\n",
       "      <td>40</td>\n",
       "      <td>10070</td>\n",
       "      <td>1</td>\n",
       "      <td>1</td>\n",
       "      <td>84</td>\n",
       "      <td>16</td>\n",
       "      <td>382</td>\n",
       "      <td>prior</td>\n",
       "      <td>29</td>\n",
       "      <td>1</td>\n",
       "      <td>15</td>\n",
       "      <td>23.0</td>\n",
       "      <td>dairy eggs</td>\n",
       "    </tr>\n",
       "  </tbody>\n",
       "</table>\n",
       "</div>"
      ],
      "text/plain": [
       "   order_id  product_id  add_to_cart_order  reordered  aisle_id  \\\n",
       "0        40       10070                  1          1        84   \n",
       "\n",
       "   department_id  user_id eval_set  order_number  order_dow  \\\n",
       "0             16      382    prior            29          1   \n",
       "\n",
       "   order_hour_of_day  days_since_prior_order  department  \n",
       "0                 15                    23.0  dairy eggs  "
      ]
     },
     "execution_count": 65,
     "metadata": {},
     "output_type": "execute_result"
    }
   ],
   "source": [
    "df_order_prods__prior.head(1)"
   ]
  },
  {
   "cell_type": "code",
   "execution_count": 64,
   "metadata": {
    "ExecuteTime": {
     "end_time": "2019-10-18T20:24:43.051892Z",
     "start_time": "2019-10-18T20:24:43.021860Z"
    },
    "scrolled": true
   },
   "outputs": [
    {
     "data": {
      "text/html": [
       "<div>\n",
       "<style scoped>\n",
       "    .dataframe tbody tr th:only-of-type {\n",
       "        vertical-align: middle;\n",
       "    }\n",
       "\n",
       "    .dataframe tbody tr th {\n",
       "        vertical-align: top;\n",
       "    }\n",
       "\n",
       "    .dataframe thead th {\n",
       "        text-align: right;\n",
       "    }\n",
       "</style>\n",
       "<table border=\"1\" class=\"dataframe\">\n",
       "  <thead>\n",
       "    <tr style=\"text-align: right;\">\n",
       "      <th></th>\n",
       "      <th>order_id</th>\n",
       "      <th>product_id</th>\n",
       "      <th>add_to_cart_order</th>\n",
       "      <th>reordered</th>\n",
       "      <th>aisle_id</th>\n",
       "      <th>department_id</th>\n",
       "      <th>user_id</th>\n",
       "      <th>eval_set</th>\n",
       "      <th>order_number</th>\n",
       "      <th>order_hour_of_day</th>\n",
       "      <th>days_since_prior_order</th>\n",
       "      <th>department</th>\n",
       "      <th>dow__0</th>\n",
       "      <th>dow__1</th>\n",
       "      <th>dow__2</th>\n",
       "      <th>dow__3</th>\n",
       "      <th>dow__4</th>\n",
       "      <th>dow__5</th>\n",
       "      <th>dow__6</th>\n",
       "    </tr>\n",
       "  </thead>\n",
       "  <tbody>\n",
       "    <tr>\n",
       "      <td>0</td>\n",
       "      <td>40</td>\n",
       "      <td>10070</td>\n",
       "      <td>1</td>\n",
       "      <td>1</td>\n",
       "      <td>84</td>\n",
       "      <td>16</td>\n",
       "      <td>382</td>\n",
       "      <td>prior</td>\n",
       "      <td>29</td>\n",
       "      <td>15</td>\n",
       "      <td>23.0</td>\n",
       "      <td>dairy eggs</td>\n",
       "      <td>0</td>\n",
       "      <td>1</td>\n",
       "      <td>0</td>\n",
       "      <td>0</td>\n",
       "      <td>0</td>\n",
       "      <td>0</td>\n",
       "      <td>0</td>\n",
       "    </tr>\n",
       "  </tbody>\n",
       "</table>\n",
       "</div>"
      ],
      "text/plain": [
       "   order_id  product_id  add_to_cart_order  reordered  aisle_id  \\\n",
       "0        40       10070                  1          1        84   \n",
       "\n",
       "   department_id  user_id eval_set  order_number  order_hour_of_day  \\\n",
       "0             16      382    prior            29                 15   \n",
       "\n",
       "   days_since_prior_order  department  dow__0  dow__1  dow__2  dow__3  dow__4  \\\n",
       "0                    23.0  dairy eggs       0       1       0       0       0   \n",
       "\n",
       "   dow__5  dow__6  \n",
       "0       0       0  "
      ]
     },
     "execution_count": 64,
     "metadata": {},
     "output_type": "execute_result"
    }
   ],
   "source": [
    "pd.get_dummies(df_order_prods__prior, prefix='dow_', columns=['order_dow']).head(1)"
   ]
  },
  {
   "cell_type": "code",
   "execution_count": 82,
   "metadata": {
    "ExecuteTime": {
     "end_time": "2019-10-18T20:43:15.953285Z",
     "start_time": "2019-10-18T20:43:15.933221Z"
    }
   },
   "outputs": [],
   "source": [
    "df_order_prods__prior = pd.get_dummies(df_order_prods__prior, prefix='dow_', columns=['order_dow'])"
   ]
  },
  {
   "cell_type": "code",
   "execution_count": 66,
   "metadata": {
    "ExecuteTime": {
     "end_time": "2019-10-18T20:31:04.867017Z",
     "start_time": "2019-10-18T20:31:04.856937Z"
    }
   },
   "outputs": [],
   "source": [
    "df_order_prods__train = pd.get_dummies(df_order_prods__train, prefix='dow_', columns=['order_dow'])"
   ]
  },
  {
   "cell_type": "code",
   "execution_count": 67,
   "metadata": {
    "ExecuteTime": {
     "end_time": "2019-10-18T20:31:10.904750Z",
     "start_time": "2019-10-18T20:31:10.891371Z"
    },
    "scrolled": true
   },
   "outputs": [
    {
     "data": {
      "text/html": [
       "<div>\n",
       "<style scoped>\n",
       "    .dataframe tbody tr th:only-of-type {\n",
       "        vertical-align: middle;\n",
       "    }\n",
       "\n",
       "    .dataframe tbody tr th {\n",
       "        vertical-align: top;\n",
       "    }\n",
       "\n",
       "    .dataframe thead th {\n",
       "        text-align: right;\n",
       "    }\n",
       "</style>\n",
       "<table border=\"1\" class=\"dataframe\">\n",
       "  <thead>\n",
       "    <tr style=\"text-align: right;\">\n",
       "      <th></th>\n",
       "      <th>order_id</th>\n",
       "      <th>product_id</th>\n",
       "      <th>add_to_cart_order</th>\n",
       "      <th>reordered</th>\n",
       "      <th>aisle_id</th>\n",
       "      <th>department_id</th>\n",
       "      <th>user_id</th>\n",
       "      <th>eval_set</th>\n",
       "      <th>order_number</th>\n",
       "      <th>order_hour_of_day</th>\n",
       "      <th>days_since_prior_order</th>\n",
       "      <th>department</th>\n",
       "      <th>dow__0</th>\n",
       "      <th>dow__1</th>\n",
       "      <th>dow__2</th>\n",
       "      <th>dow__3</th>\n",
       "      <th>dow__4</th>\n",
       "      <th>dow__5</th>\n",
       "      <th>dow__6</th>\n",
       "    </tr>\n",
       "  </thead>\n",
       "  <tbody>\n",
       "    <tr>\n",
       "      <td>0</td>\n",
       "      <td>988</td>\n",
       "      <td>45061</td>\n",
       "      <td>1</td>\n",
       "      <td>0</td>\n",
       "      <td>37</td>\n",
       "      <td>1</td>\n",
       "      <td>310</td>\n",
       "      <td>train</td>\n",
       "      <td>100</td>\n",
       "      <td>9</td>\n",
       "      <td>4.0</td>\n",
       "      <td>frozen</td>\n",
       "      <td>0</td>\n",
       "      <td>0</td>\n",
       "      <td>1</td>\n",
       "      <td>0</td>\n",
       "      <td>0</td>\n",
       "      <td>0</td>\n",
       "      <td>0</td>\n",
       "    </tr>\n",
       "    <tr>\n",
       "      <td>1</td>\n",
       "      <td>3206948</td>\n",
       "      <td>45061</td>\n",
       "      <td>1</td>\n",
       "      <td>0</td>\n",
       "      <td>37</td>\n",
       "      <td>1</td>\n",
       "      <td>383</td>\n",
       "      <td>train</td>\n",
       "      <td>10</td>\n",
       "      <td>11</td>\n",
       "      <td>30.0</td>\n",
       "      <td>frozen</td>\n",
       "      <td>0</td>\n",
       "      <td>0</td>\n",
       "      <td>0</td>\n",
       "      <td>0</td>\n",
       "      <td>0</td>\n",
       "      <td>1</td>\n",
       "      <td>0</td>\n",
       "    </tr>\n",
       "  </tbody>\n",
       "</table>\n",
       "</div>"
      ],
      "text/plain": [
       "   order_id  product_id  add_to_cart_order  reordered  aisle_id  \\\n",
       "0       988       45061                  1          0        37   \n",
       "1   3206948       45061                  1          0        37   \n",
       "\n",
       "   department_id  user_id eval_set  order_number  order_hour_of_day  \\\n",
       "0              1      310    train           100                  9   \n",
       "1              1      383    train            10                 11   \n",
       "\n",
       "   days_since_prior_order department  dow__0  dow__1  dow__2  dow__3  dow__4  \\\n",
       "0                     4.0     frozen       0       0       1       0       0   \n",
       "1                    30.0     frozen       0       0       0       0       0   \n",
       "\n",
       "   dow__5  dow__6  \n",
       "0       0       0  \n",
       "1       1       0  "
      ]
     },
     "execution_count": 67,
     "metadata": {},
     "output_type": "execute_result"
    }
   ],
   "source": [
    "df_order_prods__train.head(2)"
   ]
  },
  {
   "cell_type": "markdown",
   "metadata": {},
   "source": [
    "### Rename DOW columns\n",
    "\n",
    "After investigation, dow_0 probably represents Saturday."
   ]
  },
  {
   "cell_type": "code",
   "execution_count": 84,
   "metadata": {
    "ExecuteTime": {
     "end_time": "2019-10-18T20:43:26.412861Z",
     "start_time": "2019-10-18T20:43:26.385693Z"
    }
   },
   "outputs": [],
   "source": [
    "df_order_prods__prior.rename(columns={\n",
    "    'dow__0':'Sat',\n",
    "    'dow__1':'Sun',\n",
    "    'dow__2':'Mon',\n",
    "    'dow__3':'Tues',\n",
    "    'dow__4':'Weds',\n",
    "    'dow__5':'Thur',\n",
    "    'dow__6':'Fri',\n",
    "}, inplace=True)\n",
    "\n",
    "df_order_prods__train.rename(columns={\n",
    "    'dow__0':'Sat',\n",
    "    'dow__1':'Sun',\n",
    "    'dow__2':'Mon',\n",
    "    'dow__3':'Tues',\n",
    "    'dow__4':'Weds',\n",
    "    'dow__5':'Thur',\n",
    "    'dow__6':'Fri',\n",
    "}, inplace=True)"
   ]
  },
  {
   "cell_type": "code",
   "execution_count": 85,
   "metadata": {
    "ExecuteTime": {
     "end_time": "2019-10-18T20:43:26.809395Z",
     "start_time": "2019-10-18T20:43:26.805419Z"
    }
   },
   "outputs": [
    {
     "data": {
      "text/plain": [
       "['order_id',\n",
       " 'product_id',\n",
       " 'add_to_cart_order',\n",
       " 'reordered',\n",
       " 'aisle_id',\n",
       " 'department_id',\n",
       " 'user_id',\n",
       " 'eval_set',\n",
       " 'order_number',\n",
       " 'order_hour_of_day',\n",
       " 'days_since_prior_order',\n",
       " 'department',\n",
       " 'Sat',\n",
       " 'Sun',\n",
       " 'Mon',\n",
       " 'Tues',\n",
       " 'Weds',\n",
       " 'Thur',\n",
       " 'Fri']"
      ]
     },
     "execution_count": 85,
     "metadata": {},
     "output_type": "execute_result"
    }
   ],
   "source": [
    "list(df_order_prods__prior.columns)"
   ]
  },
  {
   "cell_type": "markdown",
   "metadata": {},
   "source": [
    "# Basic MultiClass Models, No User Features\n",
    "\n",
    "Train on `__prior` and then test on `__train`"
   ]
  },
  {
   "cell_type": "code",
   "execution_count": 99,
   "metadata": {
    "ExecuteTime": {
     "end_time": "2019-10-18T20:54:03.630627Z",
     "start_time": "2019-10-18T20:54:03.620513Z"
    }
   },
   "outputs": [],
   "source": [
    "# Impute first orders with -99 to create significant distance for clustering.\n",
    "df_order_prods__prior.days_since_prior_order =  df_order_prods__prior.days_since_prior_order.fillna(value=-99)"
   ]
  },
  {
   "cell_type": "code",
   "execution_count": 101,
   "metadata": {
    "ExecuteTime": {
     "end_time": "2019-10-18T20:54:18.065094Z",
     "start_time": "2019-10-18T20:54:18.053979Z"
    }
   },
   "outputs": [],
   "source": [
    "feature_cols = ([\n",
    "#     'order_id',\n",
    "#     'product_id',\n",
    "    'add_to_cart_order',\n",
    "    'reordered',\n",
    "#     'aisle_id',\n",
    "#     'department_id',\n",
    "#     'user_id',\n",
    "#     'eval_set',\n",
    "#     'order_number',\n",
    "    'order_hour_of_day',\n",
    "    'days_since_prior_order',\n",
    "#     'department',\n",
    "    'Sat',\n",
    "    'Sun',\n",
    "    'Mon',\n",
    "    'Tues',\n",
    "    'Weds',\n",
    "    'Thur',\n",
    "    'Fri']\n",
    ")\n",
    "\n",
    "X_train = df_order_prods__prior[feature_cols]\n",
    "y_train = df_order_prods__prior['department']\n",
    "\n",
    "X_test = df_order_prods__train[feature_cols]\n",
    "y_test = df_order_prods__train['department']"
   ]
  },
  {
   "cell_type": "code",
   "execution_count": 102,
   "metadata": {
    "ExecuteTime": {
     "end_time": "2019-10-18T20:54:19.906250Z",
     "start_time": "2019-10-18T20:54:19.893310Z"
    }
   },
   "outputs": [
    {
     "name": "stdout",
     "output_type": "stream",
     "text": [
      "<class 'pandas.core.frame.DataFrame'>\n",
      "Int64Index: 77425 entries, 0 to 77424\n",
      "Data columns (total 11 columns):\n",
      "add_to_cart_order         77425 non-null int64\n",
      "reordered                 77425 non-null int64\n",
      "order_hour_of_day         77425 non-null int64\n",
      "days_since_prior_order    77425 non-null float64\n",
      "Sat                       77425 non-null uint8\n",
      "Sun                       77425 non-null uint8\n",
      "Mon                       77425 non-null uint8\n",
      "Tues                      77425 non-null uint8\n",
      "Weds                      77425 non-null uint8\n",
      "Thur                      77425 non-null uint8\n",
      "Fri                       77425 non-null uint8\n",
      "dtypes: float64(1), int64(3), uint8(7)\n",
      "memory usage: 6.0 MB\n"
     ]
    }
   ],
   "source": [
    "X_train.info()"
   ]
  },
  {
   "cell_type": "markdown",
   "metadata": {},
   "source": [
    "## Model Selection"
   ]
  },
  {
   "cell_type": "code",
   "execution_count": 111,
   "metadata": {
    "ExecuteTime": {
     "end_time": "2019-10-18T20:58:14.925148Z",
     "start_time": "2019-10-18T20:58:14.302927Z"
    },
    "scrolled": true
   },
   "outputs": [
    {
     "name": "stdout",
     "output_type": "stream",
     "text": [
      "Gaussian Naive Bayes 0.23301831069108092\n"
     ]
    },
    {
     "data": {
      "text/plain": [
       "<matplotlib.axes._subplots.AxesSubplot at 0x1a373f7110>"
      ]
     },
     "execution_count": 111,
     "metadata": {},
     "output_type": "execute_result"
    },
    {
     "data": {
      "image/png": "[encoded data removed]",
      "text/plain": [
       "<Figure size 432x288 with 2 Axes>"
      ]
     },
     "metadata": {},
     "output_type": "display_data"
    }
   ],
   "source": [
    "# Gaussian Naive Bayes\n",
    "\n",
    "gnb = GaussianNB()\n",
    "gnb.fit(X_train, y_train)\n",
    "accuracy = gnb.score(X_test, y_test) \n",
    "print('Gaussian Naive Bayes', accuracy)\n",
    "gnb_preds = gnb.predict(X_test) \n",
    "cm = confusion_matrix(y_test, gnb_preds)\n",
    "sns.heatmap(cm)"
   ]
  },
  {
   "cell_type": "code",
   "execution_count": null,
   "metadata": {},
   "outputs": [],
   "source": [
    "gnb.predict_proba"
   ]
  },
  {
   "cell_type": "code",
   "execution_count": 129,
   "metadata": {
    "ExecuteTime": {
     "end_time": "2019-10-18T21:08:04.642108Z",
     "start_time": "2019-10-18T21:06:31.759389Z"
    }
   },
   "outputs": [],
   "source": [
    "# Gaussian Naive Bayes\n",
    "knn_acc = []\n",
    "for n_neighbors in range(1,151):\n",
    "    knn = KNeighborsClassifier(n_neighbors = n_neighbors)\n",
    "    knn.fit(X_train, y_train)\n",
    "    accuracy = knn.score(X_test, y_test) \n",
    "#     print(f'KNN {n_neighbors} accuracy = ', accuracy)\n",
    "    knn_acc += [[n_neighbors, accuracy\n",
    "                 "
   ]
  },
  {
   "cell_type": "code",
   "execution_count": 134,
   "metadata": {
    "ExecuteTime": {
     "end_time": "2019-10-18T21:10:15.400628Z",
     "start_time": "2019-10-18T21:10:15.005141Z"
    },
    "scrolled": false
   },
   "outputs": [
    {
     "data": {
      "text/plain": [
       "Text(0.5, 1.0, 'Time / DOW; Department Classifiers Only - KNN Neighbor Sizes vs. Accuracy')"
      ]
     },
     "execution_count": 134,
     "metadata": {},
     "output_type": "execute_result"
    },
    {
     "data": {
      "image/png": "[encoded data removed]",
      "text/plain": [
       "<Figure size 1080x504 with 1 Axes>"
      ]
     },
     "metadata": {},
     "output_type": "display_data"
    }
   ],
   "source": [
    "knn_acc = pd.DataFrame(data=knn_acc, columns=['N', 'Accuracy'])\n",
    "\n",
    "fig, ax = plt.subplots(figsize=(15,7))\n",
    "sns.lineplot(x='N', y='Accuracy', data=knn_acc)\n",
    "plt.title('Time / DOW; Department Classifiers Only - KNN Neighbor Sizes vs. Accuracy')"
   ]
  },
  {
   "cell_type": "code",
   "execution_count": 164,
   "metadata": {
    "ExecuteTime": {
     "end_time": "2019-10-18T21:26:32.273677Z",
     "start_time": "2019-10-18T21:26:32.150430Z"
    }
   },
   "outputs": [
    {
     "name": "stdout",
     "output_type": "stream",
     "text": [
      "Decision Tree Accuracy, depth 2:  0.28795038393384526\n"
     ]
    }
   ],
   "source": [
    "max_depth = 2\n",
    "dtree_model = DecisionTreeClassifier(max_depth = max_depth)\n",
    "dtree_model.fit(X_train, y_train) \n",
    "#     dtree_preds = dtree_model.predict(X_test)\n",
    "accuracy = dtree_model.score(X_test, y_test) \n",
    "print(f'Decision Tree Accuracy, depth {max_depth}: ', accuracy)"
   ]
  },
  {
   "cell_type": "code",
   "execution_count": 165,
   "metadata": {
    "ExecuteTime": {
     "end_time": "2019-10-18T21:26:32.455040Z",
     "start_time": "2019-10-18T21:26:32.452370Z"
    }
   },
   "outputs": [],
   "source": [
    "from sklearn import tree"
   ]
  },
  {
   "cell_type": "code",
   "execution_count": 166,
   "metadata": {
    "ExecuteTime": {
     "end_time": "2019-10-18T21:26:32.636063Z",
     "start_time": "2019-10-18T21:26:32.632652Z"
    }
   },
   "outputs": [],
   "source": [
    "from sklearn.externals.six import StringIO  \n",
    "from IPython.display import Image  \n",
    "from sklearn.tree import export_graphviz\n",
    "import pydotplus"
   ]
  },
  {
   "cell_type": "code",
   "execution_count": 167,
   "metadata": {
    "ExecuteTime": {
     "end_time": "2019-10-18T21:26:32.810683Z",
     "start_time": "2019-10-18T21:26:32.808001Z"
    }
   },
   "outputs": [],
   "source": [
    "dtree = dtree_model"
   ]
  },
  {
   "cell_type": "code",
   "execution_count": 168,
   "metadata": {
    "ExecuteTime": {
     "end_time": "2019-10-18T21:26:33.919559Z",
     "start_time": "2019-10-18T21:26:33.021927Z"
    }
   },
   "outputs": [
    {
     "data": {
      "image/png": "[encoded data removed]",
      "text/plain": [
       "<IPython.core.display.Image object>"
      ]
     },
     "execution_count": 168,
     "metadata": {},
     "output_type": "execute_result"
    }
   ],
   "source": [
    "dot_data = StringIO()\n",
    "\n",
    "export_graphviz(dtree, out_file=dot_data,  \n",
    "                filled=True, rounded=True,\n",
    "                special_characters=True)\n",
    "graph = pydotplus.graph_from_dot_data(dot_data.getvalue())  \n",
    "Image(graph.create_png())"
   ]
  },
  {
   "cell_type": "markdown",
   "metadata": {},
   "source": [
    "# User Profiles"
   ]
  },
  {
   "cell_type": "markdown",
   "metadata": {},
   "source": [
    "## Initialize User Dataframe"
   ]
  },
  {
   "cell_type": "code",
   "execution_count": 24,
   "metadata": {
    "ExecuteTime": {
     "end_time": "2019-10-18T19:16:02.669052Z",
     "start_time": "2019-10-18T19:16:02.647095Z"
    },
    "code_folding": [],
    "scrolled": true
   },
   "outputs": [
    {
     "data": {
      "text/html": [
       "<div>\n",
       "<style scoped>\n",
       "    .dataframe tbody tr th:only-of-type {\n",
       "        vertical-align: middle;\n",
       "    }\n",
       "\n",
       "    .dataframe tbody tr th {\n",
       "        vertical-align: top;\n",
       "    }\n",
       "\n",
       "    .dataframe thead th {\n",
       "        text-align: right;\n",
       "    }\n",
       "</style>\n",
       "<table border=\"1\" class=\"dataframe\">\n",
       "  <thead>\n",
       "    <tr style=\"text-align: right;\">\n",
       "      <th></th>\n",
       "      <th>user_id</th>\n",
       "    </tr>\n",
       "  </thead>\n",
       "  <tbody>\n",
       "    <tr>\n",
       "      <td>0</td>\n",
       "      <td>1</td>\n",
       "    </tr>\n",
       "    <tr>\n",
       "      <td>1</td>\n",
       "      <td>2</td>\n",
       "    </tr>\n",
       "    <tr>\n",
       "      <td>2</td>\n",
       "      <td>3</td>\n",
       "    </tr>\n",
       "  </tbody>\n",
       "</table>\n",
       "</div>"
      ],
      "text/plain": [
       "   user_id\n",
       "0        1\n",
       "1        2\n",
       "2        3"
      ]
     },
     "execution_count": 24,
     "metadata": {},
     "output_type": "execute_result"
    }
   ],
   "source": [
    "# Create a users database with some historical information for each user\n",
    "\n",
    "df_user_profs = pd.DataFrame()\n",
    "df_user_profs['user_id'] = user_subset\n",
    "# df_user_profs.set_index('user_id', inplace=True)\n",
    "df_user_profs.head(3)"
   ]
  },
  {
   "cell_type": "markdown",
   "metadata": {},
   "source": [
    "## Generate High-level User Features"
   ]
  },
  {
   "cell_type": "markdown",
   "metadata": {},
   "source": [
    "### User Order History : `order_id_history` (User)"
   ]
  },
  {
   "cell_type": "code",
   "execution_count": 25,
   "metadata": {
    "ExecuteTime": {
     "end_time": "2019-10-18T19:16:04.315224Z",
     "start_time": "2019-10-18T19:16:04.311639Z"
    }
   },
   "outputs": [],
   "source": [
    "def query_user_order_history(user_id, df_orders_log):\n",
    "    '''\n",
    "    \n",
    "    Return an ordered list of tuples,\n",
    "    e.g. [(1, order_id_1), ... , (latest_order_number, latest_order_id)]\n",
    "    \n",
    "    '''\n",
    "    \n",
    "    user_orders = df_orders_log[df_orders_log.user_id == user_id]\n",
    "    \n",
    "    return (user_orders[['order_number', 'order_id']]).to_numpy()\n",
    " "
   ]
  },
  {
   "cell_type": "code",
   "execution_count": 26,
   "metadata": {
    "ExecuteTime": {
     "end_time": "2019-10-18T19:16:05.705760Z",
     "start_time": "2019-10-18T19:16:05.037284Z"
    }
   },
   "outputs": [],
   "source": [
    "df_user_profs['order_id_history'] = df_user_profs.user_id.apply(\n",
    "    query_user_order_history, df_orders_log=df_orders_log\n",
    ")"
   ]
  },
  {
   "cell_type": "code",
   "execution_count": 27,
   "metadata": {
    "ExecuteTime": {
     "end_time": "2019-10-18T19:16:05.826594Z",
     "start_time": "2019-10-18T19:16:05.816954Z"
    }
   },
   "outputs": [
    {
     "data": {
      "text/html": [
       "<div>\n",
       "<style scoped>\n",
       "    .dataframe tbody tr th:only-of-type {\n",
       "        vertical-align: middle;\n",
       "    }\n",
       "\n",
       "    .dataframe tbody tr th {\n",
       "        vertical-align: top;\n",
       "    }\n",
       "\n",
       "    .dataframe thead th {\n",
       "        text-align: right;\n",
       "    }\n",
       "</style>\n",
       "<table border=\"1\" class=\"dataframe\">\n",
       "  <thead>\n",
       "    <tr style=\"text-align: right;\">\n",
       "      <th></th>\n",
       "      <th>user_id</th>\n",
       "      <th>order_id_history</th>\n",
       "    </tr>\n",
       "  </thead>\n",
       "  <tbody>\n",
       "    <tr>\n",
       "      <td>0</td>\n",
       "      <td>1</td>\n",
       "      <td>[[1, 2539329], [2, 2398795], [3, 473747], [4, ...</td>\n",
       "    </tr>\n",
       "  </tbody>\n",
       "</table>\n",
       "</div>"
      ],
      "text/plain": [
       "   user_id                                   order_id_history\n",
       "0        1  [[1, 2539329], [2, 2398795], [3, 473747], [4, ..."
      ]
     },
     "execution_count": 27,
     "metadata": {},
     "output_type": "execute_result"
    }
   ],
   "source": [
    "df_user_profs.head(1)"
   ]
  },
  {
   "cell_type": "markdown",
   "metadata": {},
   "source": [
    "### Unique Order Count (User)"
   ]
  },
  {
   "cell_type": "code",
   "execution_count": 28,
   "metadata": {
    "ExecuteTime": {
     "end_time": "2019-10-18T19:16:06.752928Z",
     "start_time": "2019-10-18T19:16:06.736749Z"
    },
    "scrolled": false
   },
   "outputs": [
    {
     "data": {
      "text/html": [
       "<div>\n",
       "<style scoped>\n",
       "    .dataframe tbody tr th:only-of-type {\n",
       "        vertical-align: middle;\n",
       "    }\n",
       "\n",
       "    .dataframe tbody tr th {\n",
       "        vertical-align: top;\n",
       "    }\n",
       "\n",
       "    .dataframe thead th {\n",
       "        text-align: right;\n",
       "    }\n",
       "</style>\n",
       "<table border=\"1\" class=\"dataframe\">\n",
       "  <thead>\n",
       "    <tr style=\"text-align: right;\">\n",
       "      <th></th>\n",
       "      <th>user_id</th>\n",
       "      <th>order_id_history</th>\n",
       "      <th>num_orders</th>\n",
       "    </tr>\n",
       "  </thead>\n",
       "  <tbody>\n",
       "    <tr>\n",
       "      <td>0</td>\n",
       "      <td>1</td>\n",
       "      <td>[[1, 2539329], [2, 2398795], [3, 473747], [4, ...</td>\n",
       "      <td>11</td>\n",
       "    </tr>\n",
       "    <tr>\n",
       "      <td>1</td>\n",
       "      <td>2</td>\n",
       "      <td>[[1, 2168274], [2, 1501582], [3, 1901567], [4,...</td>\n",
       "      <td>15</td>\n",
       "    </tr>\n",
       "  </tbody>\n",
       "</table>\n",
       "</div>"
      ],
      "text/plain": [
       "   user_id                                   order_id_history  num_orders\n",
       "0        1  [[1, 2539329], [2, 2398795], [3, 473747], [4, ...          11\n",
       "1        2  [[1, 2168274], [2, 1501582], [3, 1901567], [4,...          15"
      ]
     },
     "execution_count": 28,
     "metadata": {},
     "output_type": "execute_result"
    }
   ],
   "source": [
    "df_user_profs['num_orders'] = df_user_profs.order_id_history.apply(lambda x: len(x))\n",
    "df_user_profs.head(2)"
   ]
  },
  {
   "cell_type": "markdown",
   "metadata": {},
   "source": [
    "### Order Sizes (User)"
   ]
  },
  {
   "cell_type": "code",
   "execution_count": 29,
   "metadata": {
    "ExecuteTime": {
     "end_time": "2019-10-18T19:16:07.397274Z",
     "start_time": "2019-10-18T19:16:07.386626Z"
    }
   },
   "outputs": [
    {
     "data": {
      "text/plain": [
       "order_id\n",
       "2539329    5\n",
       "Name: product_id, dtype: int64"
      ]
     },
     "execution_count": 29,
     "metadata": {},
     "output_type": "execute_result"
    }
   ],
   "source": [
    "(df_order_prods__prior[df_order_prods__prior.order_id == 2539329]\n",
    "                              .groupby('order_id')\n",
    ").agg('nunique')['product_id']"
   ]
  },
  {
   "cell_type": "code",
   "execution_count": 30,
   "metadata": {
    "ExecuteTime": {
     "end_time": "2019-10-18T19:16:09.752615Z",
     "start_time": "2019-10-18T19:16:07.699055Z"
    },
    "scrolled": true
   },
   "outputs": [
    {
     "data": {
      "text/html": [
       "<div>\n",
       "<style scoped>\n",
       "    .dataframe tbody tr th:only-of-type {\n",
       "        vertical-align: middle;\n",
       "    }\n",
       "\n",
       "    .dataframe tbody tr th {\n",
       "        vertical-align: top;\n",
       "    }\n",
       "\n",
       "    .dataframe thead th {\n",
       "        text-align: right;\n",
       "    }\n",
       "</style>\n",
       "<table border=\"1\" class=\"dataframe\">\n",
       "  <thead>\n",
       "    <tr style=\"text-align: right;\">\n",
       "      <th></th>\n",
       "      <th>user_id</th>\n",
       "      <th>order_id_history</th>\n",
       "      <th>num_orders</th>\n",
       "      <th>avg_order_size</th>\n",
       "    </tr>\n",
       "  </thead>\n",
       "  <tbody>\n",
       "    <tr>\n",
       "      <td>0</td>\n",
       "      <td>1</td>\n",
       "      <td>[[1, 2539329], [2, 2398795], [3, 473747], [4, ...</td>\n",
       "      <td>11</td>\n",
       "      <td>5.900000</td>\n",
       "    </tr>\n",
       "    <tr>\n",
       "      <td>1</td>\n",
       "      <td>2</td>\n",
       "      <td>[[1, 2168274], [2, 1501582], [3, 1901567], [4,...</td>\n",
       "      <td>15</td>\n",
       "      <td>13.928571</td>\n",
       "    </tr>\n",
       "    <tr>\n",
       "      <td>2</td>\n",
       "      <td>3</td>\n",
       "      <td>[[1, 1374495], [2, 444309], [3, 3002854], [4, ...</td>\n",
       "      <td>13</td>\n",
       "      <td>7.333333</td>\n",
       "    </tr>\n",
       "    <tr>\n",
       "      <td>3</td>\n",
       "      <td>4</td>\n",
       "      <td>[[1, 3343014], [2, 2030307], [3, 691089], [4, ...</td>\n",
       "      <td>6</td>\n",
       "      <td>3.600000</td>\n",
       "    </tr>\n",
       "    <tr>\n",
       "      <td>4</td>\n",
       "      <td>5</td>\n",
       "      <td>[[1, 2717275], [2, 1909121], [3, 2267326], [4,...</td>\n",
       "      <td>5</td>\n",
       "      <td>9.250000</td>\n",
       "    </tr>\n",
       "  </tbody>\n",
       "</table>\n",
       "</div>"
      ],
      "text/plain": [
       "   user_id                                   order_id_history  num_orders  \\\n",
       "0        1  [[1, 2539329], [2, 2398795], [3, 473747], [4, ...          11   \n",
       "1        2  [[1, 2168274], [2, 1501582], [3, 1901567], [4,...          15   \n",
       "2        3  [[1, 1374495], [2, 444309], [3, 3002854], [4, ...          13   \n",
       "3        4  [[1, 3343014], [2, 2030307], [3, 691089], [4, ...           6   \n",
       "4        5  [[1, 2717275], [2, 1909121], [3, 2267326], [4,...           5   \n",
       "\n",
       "   avg_order_size  \n",
       "0        5.900000  \n",
       "1       13.928571  \n",
       "2        7.333333  \n",
       "3        3.600000  \n",
       "4        9.250000  "
      ]
     },
     "execution_count": 30,
     "metadata": {},
     "output_type": "execute_result"
    }
   ],
   "source": [
    "## Average Order Sizes by User ##\n",
    "\n",
    "run_limit = 5\n",
    "run_count = 0\n",
    "\n",
    "def avg_user_order_sizes(order_id_history, df_order_prods):\n",
    "    \n",
    "#     global run_count\n",
    "#     global run_limit\n",
    "    \n",
    "#     run_count += 1\n",
    "#     if run_count > run_limit:\n",
    "#         return 0\n",
    "\n",
    "    \n",
    "#     print(order_id_history)\n",
    "    order_id_list = order_id_history[:,1]\n",
    "#     print(order_id_list)\n",
    "#     print(type(order_id_list))\n",
    "\n",
    "    avg_order_size = (\n",
    "        df_order_prods[df_order_prods.order_id.isin(order_id_list)]              \n",
    "        .groupby('order_id')\n",
    "        .agg('nunique')\n",
    "    ).mean()['product_id']\n",
    "\n",
    "#     print(avg_order_size)\n",
    "    return avg_order_size\n",
    "\n",
    "df_user_profs['avg_order_size'] = (df_user_profs.order_id_history\n",
    "                                    .apply(avg_user_order_sizes, df_order_prods=df_order_prods__prior)\n",
    "                                   )\n",
    "\n",
    "df_user_profs.head()"
   ]
  },
  {
   "cell_type": "markdown",
   "metadata": {},
   "source": [
    "### Department Affinity – Occurence (User)"
   ]
  },
  {
   "cell_type": "markdown",
   "metadata": {},
   "source": [
    "Calculate support for the total products ordered from each department_id."
   ]
  },
  {
   "cell_type": "code",
   "execution_count": 33,
   "metadata": {
    "ExecuteTime": {
     "end_time": "2019-10-18T19:20:30.495049Z",
     "start_time": "2019-10-18T19:20:30.491527Z"
    }
   },
   "outputs": [
    {
     "ename": "SyntaxError",
     "evalue": "invalid syntax (<ipython-input-33-9bcb8f1ca6d2>, line 1)",
     "output_type": "error",
     "traceback": [
      "\u001b[0;36m  File \u001b[0;32m\"<ipython-input-33-9bcb8f1ca6d2>\"\u001b[0;36m, line \u001b[0;32m1\u001b[0m\n\u001b[0;31m    def order_department_visits(order_id)\u001b[0m\n\u001b[0m                                         ^\u001b[0m\n\u001b[0;31mSyntaxError\u001b[0m\u001b[0;31m:\u001b[0m invalid syntax\n"
     ]
    }
   ],
   "source": [
    "def order_department_visits(order_id)\n",
    "    '''\n",
    "    \n",
    "    Given an order_id, look up the order,\n",
    "    and calculate the total number of visits to each department.\n",
    "    Return a vector the length of the number of departments.\n",
    "    \n",
    "    '''\n",
    "    \n",
    "    product_list"
   ]
  },
  {
   "cell_type": "code",
   "execution_count": 31,
   "metadata": {
    "ExecuteTime": {
     "end_time": "2019-10-18T19:16:09.887933Z",
     "start_time": "2019-10-18T19:16:09.881057Z"
    }
   },
   "outputs": [
    {
     "ename": "IndentationError",
     "evalue": "expected an indented block (<ipython-input-31-22e956197d1d>, line 21)",
     "output_type": "error",
     "traceback": [
      "\u001b[0;36m  File \u001b[0;32m\"<ipython-input-31-22e956197d1d>\"\u001b[0;36m, line \u001b[0;32m21\u001b[0m\n\u001b[0;31m    return order_sizes\u001b[0m\n\u001b[0m         ^\u001b[0m\n\u001b[0;31mIndentationError\u001b[0m\u001b[0;31m:\u001b[0m expected an indented block\n"
     ]
    }
   ],
   "source": [
    "# Create a dictionary with department IDs as keys\n",
    "# each value is the number of unique department check-ins.\n",
    "# i.e. An order with two products from the same department\n",
    "# should count as 1 unique check-in.\n",
    "\n",
    "user_hist['dept_dict'] = dict(zip(depts.department_id.values,0*depts.department_id.values))\n",
    "\n",
    "def department(user_id, orders, order_prods, subset='prior'):\n",
    "    \n",
    "    user_orders = orders[(orders.user_id == user_id) & (orders.eval_set == subset)]\n",
    "    \n",
    "    gb_order = user_orders.groupby('order_id')\n",
    "    \n",
    "    \n",
    "    \n",
    "    for group in gb_order:\n",
    "        \n",
    "        \n",
    "    \n",
    "    \n",
    "    return order_sizes\n",
    "\n",
    "\n",
    "user_hist['prior_order_sizes'] = pd.Series(user_hist.index.values).apply(\n",
    "    order_sizes,\n",
    "    orders=orders,\n",
    "    order_prods=all_order_prods\n",
    ")"
   ]
  },
  {
   "cell_type": "markdown",
   "metadata": {},
   "source": [
    "# Department Profiles"
   ]
  },
  {
   "cell_type": "code",
   "execution_count": 455,
   "metadata": {
    "ExecuteTime": {
     "end_time": "2019-10-18T02:08:13.369638Z",
     "start_time": "2019-10-18T02:08:13.365362Z"
    }
   },
   "outputs": [],
   "source": [
    "# Create a department profile dataframe\n",
    "\n",
    "df_dept_profs = pd.DataFrame()\n",
    "df_dept_profs['department_id'] = df_dept_index.department_id"
   ]
  },
  {
   "cell_type": "code",
   "execution_count": 456,
   "metadata": {
    "ExecuteTime": {
     "end_time": "2019-10-18T02:08:14.060312Z",
     "start_time": "2019-10-18T02:08:14.054152Z"
    }
   },
   "outputs": [
    {
     "data": {
      "text/html": [
       "<div>\n",
       "<style scoped>\n",
       "    .dataframe tbody tr th:only-of-type {\n",
       "        vertical-align: middle;\n",
       "    }\n",
       "\n",
       "    .dataframe tbody tr th {\n",
       "        vertical-align: top;\n",
       "    }\n",
       "\n",
       "    .dataframe thead th {\n",
       "        text-align: right;\n",
       "    }\n",
       "</style>\n",
       "<table border=\"1\" class=\"dataframe\">\n",
       "  <thead>\n",
       "    <tr style=\"text-align: right;\">\n",
       "      <th></th>\n",
       "      <th>department_id</th>\n",
       "    </tr>\n",
       "  </thead>\n",
       "  <tbody>\n",
       "    <tr>\n",
       "      <td>0</td>\n",
       "      <td>1</td>\n",
       "    </tr>\n",
       "    <tr>\n",
       "      <td>1</td>\n",
       "      <td>2</td>\n",
       "    </tr>\n",
       "  </tbody>\n",
       "</table>\n",
       "</div>"
      ],
      "text/plain": [
       "   department_id\n",
       "0              1\n",
       "1              2"
      ]
     },
     "execution_count": 456,
     "metadata": {},
     "output_type": "execute_result"
    }
   ],
   "source": [
    "df_dept_profs.head(2)"
   ]
  },
  {
   "cell_type": "markdown",
   "metadata": {
    "heading_collapsed": true
   },
   "source": [
    "### Orders / Department"
   ]
  },
  {
   "cell_type": "code",
   "execution_count": 458,
   "metadata": {
    "ExecuteTime": {
     "end_time": "2019-10-18T02:09:06.172883Z",
     "start_time": "2019-10-18T02:09:06.123415Z"
    },
    "hidden": true
   },
   "outputs": [
    {
     "data": {
      "text/html": [
       "<div>\n",
       "<style scoped>\n",
       "    .dataframe tbody tr th:only-of-type {\n",
       "        vertical-align: middle;\n",
       "    }\n",
       "\n",
       "    .dataframe tbody tr th {\n",
       "        vertical-align: top;\n",
       "    }\n",
       "\n",
       "    .dataframe thead th {\n",
       "        text-align: right;\n",
       "    }\n",
       "</style>\n",
       "<table border=\"1\" class=\"dataframe\">\n",
       "  <thead>\n",
       "    <tr style=\"text-align: right;\">\n",
       "      <th></th>\n",
       "      <th>department_id</th>\n",
       "      <th>num_orders_x</th>\n",
       "      <th>num_orders_y</th>\n",
       "    </tr>\n",
       "  </thead>\n",
       "  <tbody>\n",
       "    <tr>\n",
       "      <td>0</td>\n",
       "      <td>1</td>\n",
       "      <td>2779</td>\n",
       "      <td>2779</td>\n",
       "    </tr>\n",
       "    <tr>\n",
       "      <td>1</td>\n",
       "      <td>2</td>\n",
       "      <td>86</td>\n",
       "      <td>86</td>\n",
       "    </tr>\n",
       "    <tr>\n",
       "      <td>2</td>\n",
       "      <td>3</td>\n",
       "      <td>1996</td>\n",
       "      <td>1996</td>\n",
       "    </tr>\n",
       "  </tbody>\n",
       "</table>\n",
       "</div>"
      ],
      "text/plain": [
       "   department_id  num_orders_x  num_orders_y\n",
       "0              1          2779          2779\n",
       "1              2            86            86\n",
       "2              3          1996          1996"
      ]
     },
     "execution_count": 458,
     "metadata": {},
     "output_type": "execute_result"
    }
   ],
   "source": [
    "# Calculate number of orders in each department.\n",
    "dept_nunique = df_order_prods.groupby('department_id').nunique()['order_id'].reset_index()\n",
    "dept_nunique.rename(columns={'order_id':'num_orders'}, inplace=True)\n",
    "\n",
    "df_dept_profs = pd.merge(df_dept_profs, dept_nunique, on='department_id')\n",
    "df_dept_profs.head(3)\n",
    "# df_user_profs.set_index('user_id', inplace=True)"
   ]
  }
 ],
 "metadata": {
  "kernelspec": {
   "display_name": "Python 3",
   "language": "python",
   "name": "python3"
  },
  "language_info": {
   "codemirror_mode": {
    "name": "ipython",
    "version": 3
   },
   "file_extension": ".py",
   "mimetype": "text/x-python",
   "name": "python",
   "nbconvert_exporter": "python",
   "pygments_lexer": "ipython3",
   "version": "3.7.4"
  },
  "notify_time": "5",
  "toc": {
   "base_numbering": 1,
   "nav_menu": {
    "height": "480px",
    "width": "542.986px"
   },
   "number_sections": false,
   "sideBar": true,
   "skip_h1_title": false,
   "title_cell": "Table of Contents",
   "title_sidebar": "Contents",
   "toc_cell": false,
   "toc_position": {
    "height": "616.667px",
    "left": "1280px",
    "top": "109.723px",
    "width": "290.764px"
   },
   "toc_section_display": true,
   "toc_window_display": true
  },
  "varInspector": {
   "cols": {
    "lenName": 16,
    "lenType": 16,
    "lenVar": 40
   },
   "kernels_config": {
    "python": {
     "delete_cmd_postfix": "",
     "delete_cmd_prefix": "del ",
     "library": "var_list.py",
     "varRefreshCmd": "print(var_dic_list())"
    },
    "r": {
     "delete_cmd_postfix": ") ",
     "delete_cmd_prefix": "rm(",
     "library": "var_list.r",
     "varRefreshCmd": "cat(var_dic_list()) "
    }
   },
   "position": {
    "height": "415.99px",
    "left": "762.455px",
    "right": "20px",
    "top": "121.997px",
    "width": "670.538px"
   },
   "types_to_exclude": [
    "module",
    "function",
    "builtin_function_or_method",
    "instance",
    "_Feature"
   ],
   "window_display": false
  }
 },
 "nbformat": 4,
 "nbformat_minor": 2
}
